{
  "cells": [
    {
      "cell_type": "code",
      "execution_count": 1,
      "metadata": {
        "id": "f0lXaUUVrR5f"
      },
      "outputs": [],
      "source": [
        "import tensorflow as tf\n",
        "from tensorflow.keras import layers, models\n",
        "from tensorflow.keras.preprocessing.image import ImageDataGenerator\n",
        "import matplotlib.pyplot as plt\n",
        "import numpy as np\n",
        "import os"
      ]
    },
    {
      "cell_type": "markdown",
      "metadata": {
        "id": "B6pLFHxjrR5g"
      },
      "source": [
        "### CIFAR-10 데이터셋 불러오기"
      ]
    },
    {
      "cell_type": "code",
      "execution_count": 2,
      "metadata": {
        "id": "QrkOsVWrrR5g"
      },
      "outputs": [],
      "source": [
        "import ssl\n",
        "ssl._create_default_https_context = ssl._create_unverified_context"
      ]
    },
    {
      "cell_type": "code",
      "execution_count": null,
      "metadata": {
        "collapsed": true,
        "id": "Ob2z4Zw3rR5h"
      },
      "outputs": [],
      "source": [
        "(x_train, y_train), (x_test, y_test) = tf.keras.datasets.cifar10.load_data()\n",
        "x_train, x_test = x_train / 255.0, x_test / 255.0\n",
        "y_train, y_test = tf.keras.utils.to_categorical(y_train, 10), tf.keras.utils.to_categorical(y_test, 10)"
      ]
    },
    {
      "cell_type": "code",
      "source": [
        "gen = ImageDataGenerator(\n",
        "    rotation_range=20,\n",
        "    width_shift_range=0.2,\n",
        "    height_shift_range=0.2,\n",
        "    horizontal_flip=True\n",
        ")\n",
        "\n",
        "augment_ratio = 1.5\n",
        "augment_size = int(augment_ratio * x_train.shape[0])\n",
        "\n",
        "randidx = np.random.randint(x_train.shape[0], size=augment_size)\n",
        "\n",
        "x_augmented = x_train[randidx].copy()\n",
        "y_augmented = y_train[randidx].copy()\n",
        "\n",
        "x_augmented, y_augmented = next(gen.flow(x_augmented, y_augmented, batch_size=augment_size, shuffle=False))\n",
        "\n",
        "x_train = np.concatenate((x_train, x_augmented))\n",
        "y_train = np.concatenate((y_train, y_augmented))\n",
        "\n",
        "s = np.arange(x_train.shape[0])\n",
        "np.random.shuffle(s)\n",
        "\n",
        "x_train = x_train[s]\n",
        "y_train = y_train[s]"
      ],
      "metadata": {
        "id": "jx-jShspJnn5"
      },
      "execution_count": 4,
      "outputs": []
    },
    {
      "cell_type": "markdown",
      "metadata": {
        "id": "9iqNMB-rrR5h"
      },
      "source": [
        "### 클래스 이름 특정 지정"
      ]
    },
    {
      "cell_type": "code",
      "execution_count": 5,
      "metadata": {
        "id": "4bUu2bENrR5h"
      },
      "outputs": [],
      "source": [
        "class_names = ['Airplane', 'Automobile', 'Bird', 'Cat', 'Deer',\n",
        "               'Dog', 'Frog', 'Horse', 'Ship', 'Truck']"
      ]
    },
    {
      "cell_type": "markdown",
      "metadata": {
        "id": "Hv-M3-RNrR5h"
      },
      "source": [
        "### 이미 모델이 있는 경우 모델을 불러오기"
      ]
    },
    {
      "cell_type": "code",
      "execution_count": 6,
      "metadata": {
        "id": "7JwTnYXZrR5h"
      },
      "outputs": [],
      "source": [
        "model_path = \"cnn_model.h5\""
      ]
    },
    {
      "cell_type": "markdown",
      "metadata": {
        "id": "v2rqf1EorR5h"
      },
      "source": [
        "### CNN 모델링"
      ]
    },
    {
      "cell_type": "code",
      "execution_count": 14,
      "metadata": {
        "id": "rNynt2aHrR5h"
      },
      "outputs": [],
      "source": [
        "model = models.Sequential([\n",
        "    layers.Conv2D(32, (3, 3), activation='relu', padding='same', input_shape=(32, 32, 3)),\n",
        "    layers.Conv2D(32, (3, 3), activation='relu', padding='same'),\n",
        "    layers.MaxPooling2D((2, 2)),\n",
        "    layers.Dropout(0.25),\n",
        "\n",
        "    layers.Conv2D(64, (3, 3), activation='relu', padding='same'),\n",
        "    layers.Conv2D(64, (3, 3), activation='relu', padding='same'),\n",
        "    layers.MaxPooling2D((2, 2)),\n",
        "    layers.Dropout(0.25),\n",
        "\n",
        "    layers.Conv2D(128, (3, 3), activation='relu', padding='same'),\n",
        "    layers.MaxPooling2D((2, 2)),\n",
        "    layers.Dropout(0.25),\n",
        "    layers.Conv2D(128, (3, 3), activation='relu', padding='same'),\n",
        "    layers.MaxPooling2D((2, 2)),\n",
        "    layers.Dropout(0.25),\n",
        "    layers.Conv2D(256, (3, 3), activation='relu', padding='same', name='last_conv'),\n",
        "    layers.MaxPooling2D((2, 2)),\n",
        "    layers.Dropout(0.25),\n",
        "\n",
        "    layers.Flatten(),\n",
        "\n",
        "    layers.Dense(128, activation='relu'),\n",
        "    layers.Dropout(0.5),\n",
        "    layers.Dense(10, activation='softmax')\n",
        "])"
      ]
    },
    {
      "cell_type": "markdown",
      "metadata": {
        "id": "0XUsEuH7rR5i"
      },
      "source": [
        "### 모델 학습"
      ]
    },
    {
      "cell_type": "code",
      "execution_count": null,
      "metadata": {
        "id": "D-GdPV9RrR5i"
      },
      "outputs": [],
      "source": [
        "model.compile(optimizer='adam', loss='categorical_crossentropy', metrics=['accuracy'])\n",
        "model.fit(x_train, y_train, epochs=50, validation_data=(x_test, y_test), batch_size=256)\n",
        "model.save(model_path)\n",
        "print(f\"Model Save : {model_path}\")"
      ]
    },
    {
      "cell_type": "markdown",
      "metadata": {
        "id": "cEZRVt5trR5i"
      },
      "source": [
        "### CAM 구현"
      ]
    },
    {
      "cell_type": "code",
      "execution_count": 16,
      "metadata": {
        "id": "NNv5MjTZrR5i"
      },
      "outputs": [],
      "source": [
        "def generate_cam(image, model, class_idx):\n",
        "    grad_model = tf.keras.models.Model(\n",
        "        inputs=[model.input],\n",
        "        outputs=[model.get_layer(\"last_conv\").output, model.output]\n",
        "    )\n",
        "    with tf.GradientTape() as tape:\n",
        "        conv_outputs, predictions = grad_model(np.expand_dims(image, axis=0))\n",
        "        loss = predictions[:, class_idx]\n",
        "\n",
        "    grads = tape.gradient(loss, conv_outputs)[0]\n",
        "    weights = tf.reduce_mean(grads, axis=(0, 1))\n",
        "    cam = tf.reduce_sum(weights * conv_outputs[0], axis=-1)\n",
        "    cam = np.maximum(cam, 0)\n",
        "    cam = cam / cam.max()\n",
        "    return cam"
      ]
    },
    {
      "cell_type": "markdown",
      "metadata": {
        "id": "4srxnmGLrR5i"
      },
      "source": [
        "### CAM 시각화"
      ]
    },
    {
      "cell_type": "code",
      "execution_count": null,
      "metadata": {
        "id": "TmluR01erR5i"
      },
      "outputs": [],
      "source": [
        "import random\n",
        "num_images = 10\n",
        "random_indices = random.sample(range(len(x_test)), num_images)\n",
        "test_images = x_test[random_indices]\n",
        "true_labels = y_test[random_indices]\n",
        "\n",
        "plt.figure(figsize=(20, 30))\n",
        "\n",
        "for i in range(num_images):\n",
        "    test_img = test_images[i]\n",
        "    class_idx = np.argmax(model.predict(np.expand_dims(test_img, axis=0)))\n",
        "    predicted_class = class_names[class_idx]\n",
        "    true_class = class_names[np.argmax(true_labels[i])]\n",
        "    cam = generate_cam(test_img, model, class_idx)\n",
        "    plt.subplot(num_images, 2, 2 * i + 1)\n",
        "    plt.title(f\"Original: {true_class}\\nPredict: {predicted_class}\")\n",
        "    plt.imshow(test_img)\n",
        "    plt.axis('off')\n",
        "\n",
        "    plt.subplot(num_images, 2, 2 * i + 2)\n",
        "    plt.title(\"Overlay CAM\")\n",
        "    plt.imshow(test_img)\n",
        "    plt.imshow(cam, alpha=0.5, cmap='jet')\n",
        "    plt.axis('off')\n",
        "\n",
        "plt.tight_layout()\n",
        "plt.show()"
      ]
    }
  ],
  "metadata": {
    "kernelspec": {
      "display_name": "Python 3",
      "name": "python3"
    },
    "language_info": {
      "codemirror_mode": {
        "name": "ipython",
        "version": 3
      },
      "file_extension": ".py",
      "mimetype": "text/x-python",
      "name": "python",
      "nbconvert_exporter": "python",
      "pygments_lexer": "ipython3",
      "version": "3.9.13"
    },
    "colab": {
      "provenance": [],
      "gpuType": "T4"
    },
    "accelerator": "GPU"
  },
  "nbformat": 4,
  "nbformat_minor": 0
}
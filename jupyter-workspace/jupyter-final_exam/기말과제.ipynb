{
  "nbformat": 4,
  "nbformat_minor": 0,
  "metadata": {
    "colab": {
      "provenance": []
    },
    "kernelspec": {
      "name": "python3",
      "display_name": "Python 3"
    },
    "language_info": {
      "name": "python"
    }
  },
  "cells": [
    {
      "cell_type": "markdown",
      "source": [
        "과제에서 작성한 각 함수에 대해서는 함수가 올바르게 동작한다는 것을 보여주는 적절한 개수의 테스트 실행을 반드시 같이 작성해서 제출해야 한다. 테스트가 적절하지 않거나 부족하면 올바른 코드라도 감점되거나 전혀 점수를 받지 못할 수도 있음을 유의! \n",
        "\n",
        "코드를 작성하다가 추가 보조 함수를 작성하는 것이 코드를 정리하기 좋다고 생각되면 추가로 보조 함수를 작성해도 좋다. 문제에서 요구하는 함수가 아닌 보조함수들에 대해서는 테스트 실행을 포함하는 것이 의무(채점사항)는 아니지만 그래도 있으면 더 좋다."
      ],
      "metadata": {
        "id": "sI_ZXKP_kHut"
      }
    },
    {
      "cell_type": "code",
      "source": [
        "import sys\n",
        "sys.setrecursionlimit(100000)"
      ],
      "metadata": {
        "id": "Bz3KsTM8m5Hd"
      },
      "execution_count": 1,
      "outputs": []
    },
    {
      "cell_type": "markdown",
      "source": [
        "----\n",
        "## 문제 1. (10점) 교재 연습문제 7.2를 임의의 화폐시스템에 적용할 수 있도록 일반화하라\n",
        "\n",
        "수업시간에 작성했던 동전 액면가가 7,5,2,1로 고정된 `mincoins`를 일반화한\n",
        "`coins1` 함수는 지불할 액수와 함께 동전 액면가의 집합도 파라메터로 받도록 작성하다.\n",
        "예를 들어, 수업시간에 작성했던 최소 동전 개수를 구하는 함수 `mincoins( 10 )`을\n",
        "실행하는 대신 `conis1( 10, {7,5,2,1} )`을 실행하면 같은 의미가 된다는 말이다.\n",
        "\n",
        "모든 지불 액수가 가능하도록 문제를 단순화하기 위해\n",
        "동전 액면가의 집합에는 액면가 1이 반드시 포함되어 있어야만 한다고 가정한다.\n",
        "만일 동전 액면가의 집합에 액면가 1이 포함되어 있지 않다면 적절한 메시지의 `ValueError`를 `raise`하라.\n",
        "\n",
        "재귀함수로 작성하는 top-down 방식의 메모해두기 알고리즘으로 작성하라."
      ],
      "metadata": {
        "id": "eHDWuyzjsmSK"
      }
    },
    {
      "cell_type": "code",
      "source": [
        "def coins1(v, cset):  # v는 지불할 액수, cset은 사용 가능한 동전 액면가의 집합\n",
        "    dp = [-1] * (v + 1)\n",
        "\n",
        "    if v == 0:\n",
        "        return 0\n",
        "\n",
        "    if dp[v] != -1:\n",
        "        return dp[v]\n",
        "\n",
        "    res = 1000000\n",
        "\n",
        "    for i in range(len(cset)):\n",
        "        if list(cset)[i] <= v:\n",
        "            sub_res = coins1(v - list(cset)[i], list(cset)[1:])\n",
        "            if sub_res != 1000000 and sub_res + 1 < res:\n",
        "                res = sub_res + 1\n",
        "    dp[v] = res\n",
        "    return res"
      ],
      "metadata": {
        "id": "o_6jnT2_dLao"
      },
      "execution_count": 2,
      "outputs": []
    },
    {
      "cell_type": "code",
      "source": [
        "# 적절한 테스트 작성\n",
        "print(coins1(10, {7, 5, 2, 1}) == 2)"
      ],
      "metadata": {
        "id": "5GTIEMcNxcar",
        "colab": {
          "base_uri": "https://localhost:8080/"
        },
        "outputId": "b46c2ce0-5064-4eed-86be-119555e636d1"
      },
      "execution_count": 6,
      "outputs": [
        {
          "output_type": "stream",
          "name": "stdout",
          "text": [
            "True\n"
          ]
        }
      ]
    },
    {
      "cell_type": "markdown",
      "source": [
        "----\n",
        "## 문제 2. (10점) 앞 문제와 같은 함수를 bottom-up 방식의 반복문으로 작성하라.\n"
      ],
      "metadata": {
        "id": "jXT_OU4pfWPt"
      }
    },
    {
      "cell_type": "code",
      "source": [
        "def coins2(v, cset):\n",
        "    dp = [10001] * (v + 1)\n",
        "    dp[0] = 0\n",
        "\n",
        "    mincoins = 10000\n",
        "    for coin in cset:\n",
        "        for i in range(coin, v + 1):\n",
        "            dp[i] = min(dp[i], dp[i - coin] + 1)\n",
        "        if dp[v] == 10001:\n",
        "            mincoins = -1\n",
        "        else:\n",
        "            mincoins = dp[v]\n",
        "\n",
        "    return mincoins"
      ],
      "metadata": {
        "id": "JcIK8RrKfI-0"
      },
      "execution_count": 4,
      "outputs": []
    },
    {
      "cell_type": "code",
      "source": [
        "# 적절한 테스트 작성\n",
        "print(coins2(10, {7, 5, 2, 1}) == 2)"
      ],
      "metadata": {
        "id": "mJPSoIsdfU7l",
        "colab": {
          "base_uri": "https://localhost:8080/"
        },
        "outputId": "ea9a9250-21ea-4ae1-84f4-d2252c967005"
      },
      "execution_count": 5,
      "outputs": [
        {
          "output_type": "stream",
          "name": "stdout",
          "text": [
            "True\n"
          ]
        }
      ]
    },
    {
      "cell_type": "markdown",
      "source": [
        "----\n",
        "## 문제 3. (10점) 어떤 종류의 동전을 몇개씩 써서 지불하는지 정보도 함께 계산하도록 일반화\n",
        "\n",
        "\n",
        "앞서 작성했던 `coins1`이나 `coins2`중 마음에 드는 방식을 골라\n",
        "최소 동전 개수 뿐만 아니라 어떤 액면가 동전을 몇개씩 써서 지불하는지도 함께 계산하도록\n",
        "기능이 추가된 `coins3` 함수를 작성하라.\n",
        "\n",
        "각각의 동전을 몇개씩 써서 지불하는지는 딕셔너리로 표현한다.\n",
        "예를 들어, `{7:2, 5:1, 1:1}`은\n",
        "7원짜리 2개와 5원짜리 1개와 1원짜리 1개를 사용한다는 뜻이다.\n",
        "딕셔너리라는 데이터 구조의 특성상 이들이 나타나는 순서는 관계없다.\n",
        "`{5:1, 7:2, 1:1}`이나 `{5:1, 1:1, 7:2}`등도\n",
        "다 같은 내용을 표현하는 딕셔너리다.\n",
        "\n",
        "그리고 `coins3` 함수의 결과값은 총 동전의 개수를 나타내는 정수와\n",
        "방금 설명한 딕셔너리의 순서쌍으로 계산된다.\n",
        "\n",
        "예를 들자면, `coins3(15, {7,5,2,1}) == (3, {7:2, 1:1})`라는 말이다.\n",
        "\n",
        "만일 같은 액수를 같은 최소 개수로 지급하는 방법이 두 가지 이상 있는 경우라면,\n",
        "그 중 아무 것이나 하나만 딕셔너리로 표현하여 순서쌍의 두번째 요소로 리턴하면 된다.\n"
      ],
      "metadata": {
        "id": "qawTELkgcJ7J"
      }
    },
    {
      "cell_type": "code",
      "source": [
        "def coins3(v, cset):\n",
        "    cset = list(cset)\n",
        "    coin_type = {}\n",
        "    count = 0\n",
        "\n",
        "    for coin in cset:\n",
        "        coin_type[coin] = 0\n",
        "\n",
        "    cset.reverse()\n",
        "    for coin in cset:\n",
        "        while coin <= v:\n",
        "            v -= coin\n",
        "            coin_type[coin] += 1\n",
        "            count += 1\n",
        "\n",
        "    coin_type = {key: value for key, value in coin_type.items() if value != 0}\n",
        "    return (count, coin_type)"
      ],
      "metadata": {
        "id": "i5wjqluCcGeJ"
      },
      "execution_count": 7,
      "outputs": []
    },
    {
      "cell_type": "code",
      "source": [
        "# 적절한 테스트 작성\n",
        "print(coins3(15, {7, 5, 2, 1}) == (3, {7: 2, 1: 1}))"
      ],
      "metadata": {
        "id": "2-fMGG1-cIrL",
        "colab": {
          "base_uri": "https://localhost:8080/"
        },
        "outputId": "f2db625a-8950-4dd3-e4f4-9c37cfb86448"
      },
      "execution_count": 8,
      "outputs": [
        {
          "output_type": "stream",
          "name": "stdout",
          "text": [
            "True\n"
          ]
        }
      ]
    },
    {
      "cell_type": "markdown",
      "source": [
        "----\n",
        "## 문제4. (10점) 같은 액수를 같은 최소 개수로 지불하는 방법이 여러개인 경우 모든 방법을 제공하도록 일반화\n",
        "순서쌍의 두번째 요소로 딕셔너리 하나만 제공하는 것이 아니라\n",
        "아래와 같이 딕셔너리의 리스트를 제공하여 하나 이상의 모든 가능한 지불 방법을 같이 제공하는\n",
        "`coins3`을 더욱 일반화한 `coins4` 함수를 작성하라.\n",
        " \n",
        "`coins4(10, {7,5,3,1}) == ( 2, [ {7:1, 3:1}, {5:2} ] )`\n",
        "\n"
      ],
      "metadata": {
        "id": "yERD0CFIlwpS"
      }
    },
    {
      "cell_type": "code",
      "source": [
        "def coins4(v, cset):\n",
        "    cset = list(cset)\n",
        "    minimum = -1\n",
        "\n",
        "    result = []\n",
        "\n",
        "    cset.reverse()\n",
        "    for i in range(len(cset)):\n",
        "        V = v\n",
        "        count = 0\n",
        "        subset = cset[i:]\n",
        "        coin_type = {}\n",
        "        for coin in cset:\n",
        "            coin_type[coin] = 0\n",
        "        for coin in subset:\n",
        "            while coin <= V:\n",
        "                V -= coin\n",
        "                coin_type[coin] += 1\n",
        "                count += 1\n",
        "        if V != 0:\n",
        "            continue\n",
        "        if minimum < 0:\n",
        "            minimum = count\n",
        "        if minimum == count:\n",
        "            result.append({key: value for key, value in coin_type.items() if value != 0})\n",
        "    return len(result), result"
      ],
      "metadata": {
        "id": "b_F_G6tpjnJD"
      },
      "execution_count": null,
      "outputs": []
    },
    {
      "cell_type": "code",
      "source": [
        "# 여기에 테스트 작성\n",
        "print(coins3(15, {7, 5, 2, 1}) == (2, [{7: 2, 1: 1}, {5: 3}]))"
      ],
      "metadata": {
        "id": "iRlKxvr3j7vP"
      },
      "execution_count": null,
      "outputs": []
    },
    {
      "cell_type": "markdown",
      "source": [
        "----\n",
        "## 문제5. (20점) 라이브니츠 공식을 활용한 원주율 계산\n",
        "\n",
        "\n",
        "다음 라이브니츠 공식(Leibniz formula)을 이용하여 \n",
        "원주율($\\pi$)를 소수점 이하 $k$번째 자리까지 구하는 함수 `calcPi(k)`를 작성하라. \n",
        "단, 이 함수는 아래 라이브니츠 공식에 대한 제너레이터를 활용해야 한다.\n",
        "$$\n",
        "\\pi = 4 \\sum_{i=1}^{\\infty} \\frac{(-1)^{i+1}}{2i-1}\n",
        "$$\n",
        "\n",
        "주어진 $k$에 대해 위의 공식에서 $i$를 1부터 몇째까지 전개해야 하는지 그 최소값을 알아내야 한다. 예를 들어, 소수점 5째 자리까지 구한다고 해서 $i$를 1부터 5까지만 돌려야 한다는 보장은 없다!\n",
        "\n",
        "테스트로 `calcPi`를 이용해 소수점 5째 자리까지와 소수점 6째자리까지 $\\pi$의 값을 계산해 보라.\n",
        "\n"
      ],
      "metadata": {
        "id": "dQlNVTKcniAg"
      }
    },
    {
      "cell_type": "code",
      "source": [
        "# 라이브니츠 공식에 대한 (원하는 만큼 무한히 확장 가능한) 제너레이터를 먼저 정의\n",
        "import math\n",
        "PI = math.pi\n",
        "\n",
        "def calcPi(k):\n",
        "    sum = 0\n",
        "\n",
        "    i = 1\n",
        "    while abs(PI - (4 * sum)) > 10 ** (-(k+1)):\n",
        "        sum += ((-1) ** (i + 1)) / (2 * i - 1)\n",
        "        i += 1\n",
        "\n",
        "    yield str(4 * sum)[:k+2]"
      ],
      "metadata": {
        "id": "AvUXf_V2nhWB"
      },
      "execution_count": 9,
      "outputs": []
    },
    {
      "cell_type": "code",
      "source": [
        "# 테스트\n",
        "# calcPi(5) # 소수점 5째 자리까지의 원주율 계산\n",
        "# calcPi(6) # 소수점 6째 자리까지의 원주율 계산\n",
        "\n",
        "generator = calcPi(5)\n",
        "print(next(generator))\n",
        "\n",
        "generator = calcPi(6)\n",
        "print(next(generator))\n"
      ],
      "metadata": {
        "id": "rHaybBgQjCGW",
        "colab": {
          "base_uri": "https://localhost:8080/"
        },
        "outputId": "5d4b330d-afb6-41e1-d3b5-1ca27ebf446a"
      },
      "execution_count": 10,
      "outputs": [
        {
          "output_type": "stream",
          "name": "stdout",
          "text": [
            "3.14159\n",
            "3.141592\n"
          ]
        }
      ]
    },
    {
      "cell_type": "markdown",
      "source": [
        "## 문제 6. (10점) 계수를 제너레이터로 표현한 무한 다항식의 곱셈 작성\n",
        "\n"
      ],
      "metadata": {
        "id": "3LedyqL0Y7Lb"
      }
    },
    {
      "cell_type": "code",
      "source": [
        "def mul(g1, g2):\n",
        "    for x, y in zip(g1, g2):\n",
        "        yield x * y"
      ],
      "metadata": {
        "id": "3cz5gZ0Fi_pm"
      },
      "execution_count": 28,
      "outputs": []
    },
    {
      "cell_type": "code",
      "source": [
        "# 테스트 작성\n",
        "for x in mul([1, 2, 3, 4, 5, 6, 7, 8, 9], [7, 7, 7, 7, 7, 7, 7, 7, 7]):\n",
        "    print(x)"
      ],
      "metadata": {
        "id": "IEl1UJiTY6Hc",
        "colab": {
          "base_uri": "https://localhost:8080/"
        },
        "outputId": "72e56973-360d-416d-f1e1-4a9937768f13"
      },
      "execution_count": 29,
      "outputs": [
        {
          "output_type": "stream",
          "name": "stdout",
          "text": [
            "7\n",
            "14\n",
            "21\n",
            "28\n",
            "35\n",
            "42\n",
            "49\n",
            "56\n",
            "63\n"
          ]
        }
      ]
    },
    {
      "cell_type": "markdown",
      "source": [
        "## 문제 7. (20점) 제너레이터로 표현한 무한 다항식의 나눗셈 작성\n"
      ],
      "metadata": {
        "id": "VopXhixoZCOw"
      }
    },
    {
      "cell_type": "code",
      "source": [
        "def div(g1, g2):\n",
        "    for x, y in zip(g1, g2):\n",
        "        yield x / y"
      ],
      "metadata": {
        "id": "MNoi0Gf1ZLuu"
      },
      "execution_count": 30,
      "outputs": []
    },
    {
      "cell_type": "code",
      "source": [
        "# 테스트 작성\n",
        "for x in div([1, 2, 3, 4, 5, 6, 7, 8, 9], [7, 7, 7, 7, 7, 7, 7, 7, 7]):\n",
        "    print(x)"
      ],
      "metadata": {
        "id": "EsppbUsikMed",
        "colab": {
          "base_uri": "https://localhost:8080/"
        },
        "outputId": "70551595-c16f-42cf-a34d-ddc6603f035c"
      },
      "execution_count": 32,
      "outputs": [
        {
          "output_type": "stream",
          "name": "stdout",
          "text": [
            "0.14285714285714285\n",
            "0.2857142857142857\n",
            "0.42857142857142855\n",
            "0.5714285714285714\n",
            "0.7142857142857143\n",
            "0.8571428571428571\n",
            "1.0\n",
            "1.1428571428571428\n",
            "1.2857142857142858\n"
          ]
        }
      ]
    },
    {
      "cell_type": "markdown",
      "source": [
        "## 문제 8. (10점) 교재 5장 퀵정렬에 옵셔널 파라메터 key 추가\n"
      ],
      "metadata": {
        "id": "QWlVJ2pzkov9"
      }
    },
    {
      "cell_type": "code",
      "source": [
        "def part1(pivot, xs, key):  # partition에 key기능을 추가한 버전\n",
        "    ls, rs = [], []\n",
        "    ls = list(filter(lambda key: key < pivot, xs))\n",
        "    rs = list(filter(lambda key: key > pivot, xs))\n",
        "    return ls, rs\n",
        "\n",
        "\n",
        "def qsort1(xs, key=lambda x: x):  # quicksort에 key 기능을 추가한 버전\n",
        "    if len(xs) > 1:\n",
        "        pivot = xs[0]\n",
        "        left, right = part1(pivot, xs[1:], key)\n",
        "        return qsort1(left) + [pivot] + qsort1(right)\n",
        "    else:  # len(xs) <= 1\n",
        "        return xs"
      ],
      "metadata": {
        "id": "CTkrKobfknwd"
      },
      "execution_count": null,
      "outputs": []
    },
    {
      "cell_type": "markdown",
      "source": [
        "## 문제 9. (10점) 문제 8에 옵셔널 파라메터 reverse 추가\n",
        "\n",
        "\n"
      ],
      "metadata": {
        "id": "jIzQUIrkisOt"
      }
    },
    {
      "cell_type": "code",
      "source": [
        "def part2(pivot, xs, key, reverse):  # partition에 key기능을 추가한 버전\n",
        "    ls, rs = [], []\n",
        "\n",
        "    ls = list(filter(lambda key: key < pivot, xs))\n",
        "    rs = list(filter(lambda key: key > pivot, xs))\n",
        "\n",
        "    if reverse:\n",
        "        return rs, ls\n",
        "    return ls, rs\n",
        "\n",
        "\n",
        "def qsort2(xs, key=lambda x: x, reverse=False):  # quicksort에 key 기능을 추가한 버전\n",
        "    if len(xs) > 1:\n",
        "        pivot = xs[0]\n",
        "        left, right = part2(pivot, xs[1:], key, reverse)\n",
        "        return qsort2(left, key, reverse) + [pivot] + qsort2(right, key, reverse)\n",
        "    else:  # len(xs) <= 1\n",
        "        return xs"
      ],
      "metadata": {
        "id": "rSODn2lxiq87"
      },
      "execution_count": null,
      "outputs": []
    },
    {
      "cell_type": "markdown",
      "source": [
        "## 문제 10. (20점) 하노이 탑 옮기는 방법을 출력하는 재귀함수를 반복문으로 재작성\n",
        "\n",
        "\n",
        "```python\n",
        "def hanoi1(n, src, tmp, dst):\n",
        "    if n > 1:\n",
        "        hanoi1(n-1, src, dst, tmp)\n",
        "        print(src, \"==>\", dst)\n",
        "        hanoi1(n-1, tmp, src, dst)\n",
        "    else: # n==1\n",
        "        print(src, \"==>\", dst)\n",
        "```\n",
        "\n",
        "```\n",
        ">>> hanoi1(3, 'A', 'B', 'C') # 테스트 예시\n",
        "A ==> C\n",
        "A ==> B\n",
        "C ==> B\n",
        "A ==> C\n",
        "B ==> A\n",
        "B ==> C\n",
        "A ==> C\n",
        "```\n",
        "\n",
        "위의 재귀함수를, 수업시간에 퀵소트를 반복문으로 바꿔본 것과 비슷한 방식으로, `stack`을 활용해 재귀함수가 아닌 반복문 형태의 함수로 재작성하라.\n",
        "\n"
      ],
      "metadata": {
        "id": "O5Twc5WCwJ-x"
      }
    },
    {
      "cell_type": "code",
      "source": [
        "def hanoi1(n, src, tmp, dst):\n",
        "    count = 0\n",
        "    signal = 1\n",
        "\n",
        "    stack = [('hanoi1', n, src, tmp, dst)]\n",
        "    while len(stack) > 0:\n",
        "        task = stack.pop()\n",
        "\n",
        "        if task[1] == 1:\n",
        "            print(task[2], '==>', task[4])\n",
        "            count += 1\n",
        "            signal = 0\n",
        "            continue\n",
        "\n",
        "        if signal == 0:\n",
        "            print(task[2], '==>', task[4])\n",
        "            count += 1\n",
        "            signal = 1\n",
        "            stack.append(('hanoi1', task[1] - 1, task[3], task[2], task[4]))\n",
        "            continue\n",
        "\n",
        "        stack.append(('hanoi1', task[1], task[2], task[3], task[4]))\n",
        "        if signal != 0:\n",
        "            stack.append(('hanoi1', task[1] - 1, task[2], task[4], task[3]))"
      ],
      "metadata": {
        "id": "Q6uaG57Pxr4C"
      },
      "execution_count": null,
      "outputs": []
    },
    {
      "cell_type": "code",
      "source": [
        "hanoi1(3, 'A', 'B', 'C')"
      ],
      "metadata": {
        "id": "zbRjJxajpb5P"
      },
      "execution_count": null,
      "outputs": []
    },
    {
      "cell_type": "markdown",
      "source": [
        "## 문제 11. (20점) 하노이 탑 옮기는 방법을 리스트로 계산하는 재귀함수를 반복문으로 재작성\n",
        "\n",
        "\n",
        "```python\n",
        "def hanoi2(n, src, tmp, dst):\n",
        "    if n > 1:\n",
        "        return hanoi2(n-1, src, dst, tmp) + [(src,dst)] + hanoi2(n-1, tmp, src, dst)\n",
        "    else: # n==1\n",
        "        return [(src,dst)]\n",
        "```\n",
        "\n",
        "```\n",
        ">>> hanoi2(3, 'A', 'B', 'C') # 테스트 예시\n",
        "[('A', 'C'),\n",
        " ('A', 'B'),\n",
        " ('C', 'B'),\n",
        " ('A', 'C'),\n",
        " ('B', 'A'),\n",
        " ('B', 'C'),\n",
        " ('A', 'C')]\n",
        "```\n",
        "\n",
        "위의 재귀함수를, 수업시간에 퀵소트를 반복문으로 바꿔본 것과 같은 방식으로, `rs`와 `stack`을 활용해 재귀함수가 아닌 반복문 형태의 함수로 재작성하라.\n",
        "\n"
      ],
      "metadata": {
        "id": "FYYT0aE5xs6v"
      }
    },
    {
      "cell_type": "code",
      "source": [
        "def hanoi2(n, src, tmp, dst):\n",
        "    rs = []\n",
        "    count = 0\n",
        "    signal = 1\n",
        "\n",
        "    stack = [('hanoi1', n, src, tmp, dst)]\n",
        "    while len(stack) > 0:\n",
        "        task = stack.pop()\n",
        "\n",
        "        if task[1] == 1:\n",
        "            rs.append((task[2], task[4]))\n",
        "            count += 1\n",
        "            signal = 0\n",
        "            continue\n",
        "\n",
        "        if signal == 0:\n",
        "            rs.append((task[2], task[4]))\n",
        "            count += 1\n",
        "            signal = 1\n",
        "            stack.append(('hanoi1', task[1] - 1, task[3], task[2], task[4]))\n",
        "            continue\n",
        "\n",
        "        stack.append(('hanoi1', task[1], task[2], task[3], task[4]))\n",
        "        if signal != 0:\n",
        "            stack.append(('hanoi1', task[1] - 1, task[2], task[4], task[3]))\n",
        "\n",
        "    return rs"
      ],
      "metadata": {
        "id": "Ly1Rzm1nxsmT"
      },
      "execution_count": null,
      "outputs": []
    },
    {
      "cell_type": "code",
      "source": [
        "# 테스트를 적절히 작성\n",
        "print(hanoi2(3, 'A', 'B', 'C'))"
      ],
      "metadata": {
        "id": "DWSCY5_exsdB"
      },
      "execution_count": null,
      "outputs": []
    },
    {
      "cell_type": "markdown",
      "source": [
        "## 문제 15. (10점) 터틀 그림 그리기 기초\n",
        "\n",
        "[ColabTrutlePlus](https://pypi.org/project/ColabTurtlePlus/)를 활용해 그림을 그려보는 문제\n",
        "\n",
        "참고로 [예제 코랩 노트북](https://colab.research.google.com/github/mathriddle/ColabTurtlePlus/blob/main/examples_version2/files/IFSTurtleGraphics.ipynb)\n"
      ],
      "metadata": {
        "id": "kmZUrnPsIHJ6"
      }
    },
    {
      "cell_type": "code",
      "source": [
        "!pip install ColabTurtlePlus"
      ],
      "metadata": {
        "id": "V-HppPi8IC03",
        "colab": {
          "base_uri": "https://localhost:8080/"
        },
        "outputId": "0405c550-7b9a-4bbe-dc3d-f2057c908dab"
      },
      "execution_count": 7,
      "outputs": [
        {
          "output_type": "stream",
          "name": "stdout",
          "text": [
            "Looking in indexes: https://pypi.org/simple, https://us-python.pkg.dev/colab-wheels/public/simple/\n",
            "Requirement already satisfied: ColabTurtlePlus in /usr/local/lib/python3.10/dist-packages (2.0.1)\n"
          ]
        }
      ]
    },
    {
      "cell_type": "code",
      "source": [
        "from ColabTurtlePlus.Turtle import *\n",
        "clearscreen()\n",
        "setup(400,400) # 400x400 그림을 그릴 공간\n",
        "showborder() # 그림 그릴 공간에 테두리를 보이게\n",
        "\n",
        "t = Turtle()\n",
        "\n",
        "# https://codingalzi.github.io/pybook/recursion.html#id11\n",
        "def draw_spiral(my_turtle, line_len):\n",
        "    if line_len > 0:\n",
        "        my_turtle.forward(line_len)\n",
        "        my_turtle.left(90)\n",
        "        draw_spiral(my_turtle, line_len - 10)\n",
        "\n",
        "t.up()\n",
        "t.goto(-100, -100)\n",
        "t.down()\n",
        "t.pencolor(\"blue\")\n",
        "draw_spiral(t,200)\n",
        "\n",
        "t.up()\n",
        "t.goto(-110, -110)\n",
        "t.down()\n",
        "t.pencolor(\"orange\")\n",
        "draw_spiral(t,220)"
      ],
      "metadata": {
        "id": "Yl5qP4iK1RXN",
        "colab": {
          "base_uri": "https://localhost:8080/",
          "height": 421
        },
        "outputId": "4d7532b9-cdb9-4b91-c140-be18a7ea9fd8"
      },
      "execution_count": 20,
      "outputs": [
        {
          "output_type": "display_data",
          "data": {
            "text/plain": [
              "<IPython.core.display.HTML object>"
            ],
            "text/html": [
              "\n",
              "      <svg width=\"400\" height=\"400\">  \n",
              "        <rect width=\"100%\" height=\"100%\" style=\"fill:white;stroke:gray;stroke-width:1\"/>\n",
              "        \n",
              "        \n",
              "        <line x1=\"100.0\" y1=\"300.0\" x2=\"300.0\" y2=\"300.0\" stroke-linecap=\"round\" style=\"stroke:blue;stroke-width:1\" /><line x1=\"300.0\" y1=\"300.0\" x2=\"300.0\" y2=\"110.0\" stroke-linecap=\"round\" style=\"stroke:blue;stroke-width:1\" /><line x1=\"300.0\" y1=\"110.0\" x2=\"120.0\" y2=\"110.0\" stroke-linecap=\"round\" style=\"stroke:blue;stroke-width:1\" /><line x1=\"120.0\" y1=\"110.0\" x2=\"120.0\" y2=\"280.0\" stroke-linecap=\"round\" style=\"stroke:blue;stroke-width:1\" /><line x1=\"120.0\" y1=\"280.0\" x2=\"280.0\" y2=\"280.0\" stroke-linecap=\"round\" style=\"stroke:blue;stroke-width:1\" /><line x1=\"280.0\" y1=\"280.0\" x2=\"280.0\" y2=\"130.0\" stroke-linecap=\"round\" style=\"stroke:blue;stroke-width:1\" /><line x1=\"280.0\" y1=\"130.0\" x2=\"140.0\" y2=\"130.0\" stroke-linecap=\"round\" style=\"stroke:blue;stroke-width:1\" /><line x1=\"140.0\" y1=\"130.0\" x2=\"140.0\" y2=\"260.0\" stroke-linecap=\"round\" style=\"stroke:blue;stroke-width:1\" /><line x1=\"140.0\" y1=\"260.0\" x2=\"260.0\" y2=\"260.0\" stroke-linecap=\"round\" style=\"stroke:blue;stroke-width:1\" /><line x1=\"260.0\" y1=\"260.0\" x2=\"260.0\" y2=\"150.0\" stroke-linecap=\"round\" style=\"stroke:blue;stroke-width:1\" /><line x1=\"260.0\" y1=\"150.0\" x2=\"160.0\" y2=\"150.0\" stroke-linecap=\"round\" style=\"stroke:blue;stroke-width:1\" /><line x1=\"160.0\" y1=\"150.0\" x2=\"160.0\" y2=\"240.0\" stroke-linecap=\"round\" style=\"stroke:blue;stroke-width:1\" /><line x1=\"160.0\" y1=\"240.0\" x2=\"240.0\" y2=\"240.0\" stroke-linecap=\"round\" style=\"stroke:blue;stroke-width:1\" /><line x1=\"240.0\" y1=\"240.0\" x2=\"240.0\" y2=\"170.0\" stroke-linecap=\"round\" style=\"stroke:blue;stroke-width:1\" /><line x1=\"240.0\" y1=\"170.0\" x2=\"180.0\" y2=\"170.0\" stroke-linecap=\"round\" style=\"stroke:blue;stroke-width:1\" /><line x1=\"180.0\" y1=\"170.0\" x2=\"180.0\" y2=\"220.0\" stroke-linecap=\"round\" style=\"stroke:blue;stroke-width:1\" /><line x1=\"180.0\" y1=\"220.0\" x2=\"220.0\" y2=\"220.0\" stroke-linecap=\"round\" style=\"stroke:blue;stroke-width:1\" /><line x1=\"220.0\" y1=\"220.0\" x2=\"220.0\" y2=\"190.0\" stroke-linecap=\"round\" style=\"stroke:blue;stroke-width:1\" /><line x1=\"220.0\" y1=\"190.0\" x2=\"200.0\" y2=\"190.0\" stroke-linecap=\"round\" style=\"stroke:blue;stroke-width:1\" /><line x1=\"200.0\" y1=\"190.0\" x2=\"200.0\" y2=\"200.0\" stroke-linecap=\"round\" style=\"stroke:blue;stroke-width:1\" /><line x1=\"90.0\" y1=\"310.0\" x2=\"310.0\" y2=\"310.0\" stroke-linecap=\"round\" style=\"stroke:orange;stroke-width:1\" /><line x1=\"310.0\" y1=\"310.0\" x2=\"310.0\" y2=\"100.0\" stroke-linecap=\"round\" style=\"stroke:orange;stroke-width:1\" /><line x1=\"310.0\" y1=\"100.0\" x2=\"110.0\" y2=\"100.0\" stroke-linecap=\"round\" style=\"stroke:orange;stroke-width:1\" /><line x1=\"110.0\" y1=\"100.0\" x2=\"110.0\" y2=\"290.0\" stroke-linecap=\"round\" style=\"stroke:orange;stroke-width:1\" /><line x1=\"110.0\" y1=\"290.0\" x2=\"290.0\" y2=\"290.0\" stroke-linecap=\"round\" style=\"stroke:orange;stroke-width:1\" /><line x1=\"290.0\" y1=\"290.0\" x2=\"290.0\" y2=\"120.0\" stroke-linecap=\"round\" style=\"stroke:orange;stroke-width:1\" /><line x1=\"290.0\" y1=\"120.0\" x2=\"130.0\" y2=\"120.0\" stroke-linecap=\"round\" style=\"stroke:orange;stroke-width:1\" /><line x1=\"130.0\" y1=\"120.0\" x2=\"130.0\" y2=\"270.0\" stroke-linecap=\"round\" style=\"stroke:orange;stroke-width:1\" /><line x1=\"130.0\" y1=\"270.0\" x2=\"270.0\" y2=\"270.0\" stroke-linecap=\"round\" style=\"stroke:orange;stroke-width:1\" /><line x1=\"270.0\" y1=\"270.0\" x2=\"270.0\" y2=\"140.0\" stroke-linecap=\"round\" style=\"stroke:orange;stroke-width:1\" /><line x1=\"270.0\" y1=\"140.0\" x2=\"150.0\" y2=\"140.0\" stroke-linecap=\"round\" style=\"stroke:orange;stroke-width:1\" /><line x1=\"150.0\" y1=\"140.0\" x2=\"150.0\" y2=\"250.0\" stroke-linecap=\"round\" style=\"stroke:orange;stroke-width:1\" /><line x1=\"150.0\" y1=\"250.0\" x2=\"250.0\" y2=\"250.0\" stroke-linecap=\"round\" style=\"stroke:orange;stroke-width:1\" /><line x1=\"250.0\" y1=\"250.0\" x2=\"250.0\" y2=\"160.0\" stroke-linecap=\"round\" style=\"stroke:orange;stroke-width:1\" /><line x1=\"250.0\" y1=\"160.0\" x2=\"170.0\" y2=\"160.0\" stroke-linecap=\"round\" style=\"stroke:orange;stroke-width:1\" /><line x1=\"170.0\" y1=\"160.0\" x2=\"170.0\" y2=\"230.0\" stroke-linecap=\"round\" style=\"stroke:orange;stroke-width:1\" /><line x1=\"170.0\" y1=\"230.0\" x2=\"230.0\" y2=\"230.0\" stroke-linecap=\"round\" style=\"stroke:orange;stroke-width:1\" /><line x1=\"230.0\" y1=\"230.0\" x2=\"230.0\" y2=\"180.0\" stroke-linecap=\"round\" style=\"stroke:orange;stroke-width:1\" /><line x1=\"230.0\" y1=\"180.0\" x2=\"190.0\" y2=\"180.0\" stroke-linecap=\"round\" style=\"stroke:orange;stroke-width:1\" /><line x1=\"190.0\" y1=\"180.0\" x2=\"190.0\" y2=\"210.0\" stroke-linecap=\"round\" style=\"stroke:orange;stroke-width:1\" /><line x1=\"190.0\" y1=\"210.0\" x2=\"210.0\" y2=\"210.0\" stroke-linecap=\"round\" style=\"stroke:orange;stroke-width:1\" /><line x1=\"210.0\" y1=\"210.0\" x2=\"210.0\" y2=\"200.0\" stroke-linecap=\"round\" style=\"stroke:orange;stroke-width:1\" />\n",
              "        \n",
              "        \n",
              "        <g id=\"classic\" visibility=\"visible\" transform=\"rotate(180,210.0,200.0) translate(210.0, 200.0)\">\n",
              "<polygon points=\"-5,-4.5 0,-2.5 5,-4.5 0,4.5\" transform=\"skewX(0) scale(1,1)\" style=\"stroke:orange;fill:black;stroke-width:1\" />\n",
              "<animateTransform id = \"one\" attributeName=\"transform\" \n",
              "                      type=\"scale\"\n",
              "                      from=\"1 1\" to=\"1 1\"\n",
              "                      begin=\"0s\" dur=\"0.01s\"\n",
              "                      repeatCount=\"1\"\n",
              "                      additive=\"sum\"\n",
              "                      fill=\"freeze\"\n",
              "                /><animateTransform attributeName=\"transform\"\n",
              "                    type=\"rotate\"\n",
              "                    from=\"0 0 0\" to =\"-90 0 0\"\n",
              "                    begin=\"one.end\" dur=\"0.25s\"\n",
              "                    repeatCount=\"1\"\n",
              "                    additive=\"sum\"\n",
              "                    fill=\"freeze\"\n",
              "                /></g>\n",
              "      </svg>\n",
              "    "
            ]
          },
          "metadata": {}
        }
      ]
    },
    {
      "cell_type": "markdown",
      "source": [
        "위의 `draw_spiral` 함수와 ColabTurtlePlus의 메소드들을 활용하여 아래와 같은 그림을 그리는 코드를 작성하라.\n",
        "\n",
        "참고로 아래와 같은 그림의 결과가 그림 그리는 영역 전체를 차지하거나 중앙에 위치해야 할 필요는 없다.\n"
      ],
      "metadata": {
        "id": "NqmlUACn9xKT"
      }
    },
    {
      "cell_type": "markdown",
      "source": [
        "<a href=\"https://imgbb.com/\"><img src=\"https://i.ibb.co/g67L6Yn/spiral2.png\" alt=\"spiral2\" border=\"0\"></a>\n"
      ],
      "metadata": {
        "id": "ihMddIiSxJpo"
      }
    },
    {
      "cell_type": "markdown",
      "source": [
        "## 문제 16. (20점)\n",
        "온라인 교재의 [프랙탈 트리를 그리는 tree 함수](https://codingalzi.github.io/pybook/recursion.html#id11)를 가지의 길이(`branch_len`)가 일정 크기만큼 등차수열처럼 줄어드는 것이 아니라 일정 비율(`branch_ratio`)로 줄어들도록 설정할 수 있으며, 가지가 벌어지는 각도(`angle`) 또한 가지를 칠때마다 일정 비율(`angle_ratio`)로 각도가 줄어드는 프랙탈 트리도 그려낼 수 있는 함수로 일반화해 보라.\n",
        "\n",
        "참고로 아래 테스트1, 테스트2 코드의 실행 결과는 다음 그림과 같다.\n",
        "\n"
      ],
      "metadata": {
        "id": "bIRByWqoRNiQ"
      }
    },
    {
      "cell_type": "code",
      "source": [
        "!pip install ColabTurtlePlus"
      ],
      "metadata": {
        "colab": {
          "base_uri": "https://localhost:8080/"
        },
        "id": "knLX2syIRjL6",
        "outputId": "fee01a74-ae96-4dad-917f-5788777b707a"
      },
      "execution_count": 1,
      "outputs": [
        {
          "output_type": "stream",
          "name": "stdout",
          "text": [
            "Looking in indexes: https://pypi.org/simple, https://us-python.pkg.dev/colab-wheels/public/simple/\n",
            "Requirement already satisfied: ColabTurtlePlus in /usr/local/lib/python3.10/dist-packages (2.0.1)\n"
          ]
        }
      ]
    },
    {
      "cell_type": "code",
      "source": [
        "from ColabTurtlePlus.Turtle import *\n",
        "\n",
        "def tree(t, branch_len, branch_ratio=2/3, angle=45.0, angle_ratio=5/6):\n",
        "    if branch_len >= 10:\n",
        "        t.width( max(1, branch_len/10) )\n",
        "        t.forward(branch_len)\n",
        "\t\n",
        "        new_angle = angle * angle_ratio\n",
        "        t.right(new_angle)\n",
        "        tree(t, max(1, branch_len * branch_ratio), angle=new_angle)\n",
        "        t.left(new_angle * 2)\n",
        "        tree(t, max(1, branch_len * branch_ratio), angle=new_angle)\n",
        "        t.right(new_angle)\n",
        "\n",
        "        t.backward(branch_len)"
      ],
      "metadata": {
        "id": "3z2urIAt0EpO",
        "colab": {
          "base_uri": "https://localhost:8080/"
        },
        "outputId": "c12fda05-f4ee-4a48-c774-d18d42d3461e"
      },
      "execution_count": 2,
      "outputs": [
        {
          "output_type": "stream",
          "name": "stdout",
          "text": [
            "Put clearscreen() as the first line in a cell (after the import command) to re-run turtle commands in the cell\n"
          ]
        }
      ]
    },
    {
      "cell_type": "markdown",
      "source": [
        "<a href=\"https://ibb.co/tDFYcFZ\"><img src=\"https://i.ibb.co/Pg0140T/Screenshot-20230529-134810-1.png\" alt=\"Screenshot-20230529-134810-1\" border=\"0\"></a><br /><a target='_blank' href='https://imgbb.com/'>imagebb.com</a><br />"
      ],
      "metadata": {
        "id": "Z-62su6j2Ubw"
      }
    },
    {
      "cell_type": "code",
      "source": [
        "## 테스트1\n",
        "clearscreen()\n",
        "setup(400,400)\n",
        "showborder()\n",
        "\n",
        "t = Turtle()\n",
        "t.speed(1000) # 빠르게 그리게 하기 위해서 큰 숫자로 설정\n",
        "t.left(90)\n",
        "t.up()\n",
        "t.backward(150)\n",
        "t.down()\n",
        "t.color(\"green\")\n",
        "tree(t, 120) # 아래쪽 가지의 길이가 120이고 나머지 옵셔널 인자는 기본값으로"
      ],
      "metadata": {
        "id": "rOK6K-e0xIxT",
        "colab": {
          "base_uri": "https://localhost:8080/",
          "height": 421
        },
        "outputId": "711c6201-c2b4-4600-a2f2-b96672ccdae5"
      },
      "execution_count": 47,
      "outputs": [
        {
          "output_type": "display_data",
          "data": {
            "text/plain": [
              "<IPython.core.display.HTML object>"
            ],
            "text/html": [
              "\n",
              "      <svg width=\"400\" height=\"400\">  \n",
              "        <rect width=\"100%\" height=\"100%\" style=\"fill:white;stroke:gray;stroke-width:1\"/>\n",
              "        \n",
              "        \n",
              "        <line x1=\"200.0\" y1=\"350.0\" x2=\"200.0\" y2=\"230.0\" stroke-linecap=\"round\" style=\"stroke:green;stroke-width:12.0\" /><line x1=\"200.0\" y1=\"230.0\" x2=\"248.701\" y2=\"166.532\" stroke-linecap=\"round\" style=\"stroke:green;stroke-width:8.0\" /><line x1=\"248.701\" y1=\"166.532\" x2=\"298.408\" y2=\"147.202\" stroke-linecap=\"round\" style=\"stroke:green;stroke-width:5.333333333333333\" /><line x1=\"298.408\" y1=\"147.202\" x2=\"333.839\" y2=\"150.172\" stroke-linecap=\"round\" style=\"stroke:green;stroke-width:3.555555555555555\" /><line x1=\"333.839\" y1=\"150.172\" x2=\"355.054\" y2=\"160.746\" stroke-linecap=\"round\" style=\"stroke:green;stroke-width:2.37037037037037\" /><line x1=\"355.054\" y1=\"160.746\" x2=\"366.31\" y2=\"171.837\" stroke-linecap=\"round\" style=\"stroke:green;stroke-width:1.5802469135802464\" /><line x1=\"366.31\" y1=\"171.837\" x2=\"371.633\" y2=\"180.928\" stroke-linecap=\"round\" style=\"stroke:green;stroke-width:1.053497942386831\" /><line x1=\"371.633\" y1=\"180.928\" x2=\"366.31\" y2=\"171.837\" stroke-linecap=\"round\" style=\"stroke:green;stroke-width:1.053497942386831\" /><line x1=\"366.31\" y1=\"171.837\" x2=\"375.479\" y2=\"177.026\" stroke-linecap=\"round\" style=\"stroke:green;stroke-width:1.053497942386831\" /><line x1=\"375.479\" y1=\"177.026\" x2=\"366.31\" y2=\"171.837\" stroke-linecap=\"round\" style=\"stroke:green;stroke-width:1.053497942386831\" /><line x1=\"366.31\" y1=\"171.837\" x2=\"355.054\" y2=\"160.746\" stroke-linecap=\"round\" style=\"stroke:green;stroke-width:1.053497942386831\" /><line x1=\"355.054\" y1=\"160.746\" x2=\"370.687\" y2=\"163.057\" stroke-linecap=\"round\" style=\"stroke:green;stroke-width:1.5802469135802464\" /><line x1=\"370.687\" y1=\"163.057\" x2=\"380.35\" y2=\"167.254\" stroke-linecap=\"round\" style=\"stroke:green;stroke-width:1.053497942386831\" /><line x1=\"380.35\" y1=\"167.254\" x2=\"370.687\" y2=\"163.057\" stroke-linecap=\"round\" style=\"stroke:green;stroke-width:1.053497942386831\" /><line x1=\"370.687\" y1=\"163.057\" x2=\"381.151\" y2=\"161.835\" stroke-linecap=\"round\" style=\"stroke:green;stroke-width:1.053497942386831\" /><line x1=\"381.151\" y1=\"161.835\" x2=\"370.687\" y2=\"163.057\" stroke-linecap=\"round\" style=\"stroke:green;stroke-width:1.053497942386831\" /><line x1=\"370.687\" y1=\"163.057\" x2=\"355.054\" y2=\"160.746\" stroke-linecap=\"round\" style=\"stroke:green;stroke-width:1.053497942386831\" /><line x1=\"355.054\" y1=\"160.746\" x2=\"333.839\" y2=\"150.172\" stroke-linecap=\"round\" style=\"stroke:green;stroke-width:1.053497942386831\" /><line x1=\"333.839\" y1=\"150.172\" x2=\"356.518\" y2=\"143.277\" stroke-linecap=\"round\" style=\"stroke:green;stroke-width:2.37037037037037\" /><line x1=\"356.518\" y1=\"143.277\" x2=\"372.317\" y2=\"143.601\" stroke-linecap=\"round\" style=\"stroke:green;stroke-width:1.5802469135802464\" /><line x1=\"372.317\" y1=\"143.601\" x2=\"382.431\" y2=\"146.548\" stroke-linecap=\"round\" style=\"stroke:green;stroke-width:1.053497942386831\" /><line x1=\"382.431\" y1=\"146.548\" x2=\"372.317\" y2=\"143.601\" stroke-linecap=\"round\" style=\"stroke:green;stroke-width:1.053497942386831\" /><line x1=\"372.317\" y1=\"143.601\" x2=\"382.544\" y2=\"141.071\" stroke-linecap=\"round\" style=\"stroke:green;stroke-width:1.053497942386831\" /><line x1=\"382.544\" y1=\"141.071\" x2=\"372.317\" y2=\"143.601\" stroke-linecap=\"round\" style=\"stroke:green;stroke-width:1.053497942386831\" /><line x1=\"372.317\" y1=\"143.601\" x2=\"356.518\" y2=\"143.277\" stroke-linecap=\"round\" style=\"stroke:green;stroke-width:1.053497942386831\" /><line x1=\"356.518\" y1=\"143.277\" x2=\"369.464\" y2=\"134.214\" stroke-linecap=\"round\" style=\"stroke:green;stroke-width:1.5802469135802464\" /><line x1=\"369.464\" y1=\"134.214\" x2=\"379.368\" y2=\"130.624\" stroke-linecap=\"round\" style=\"stroke:green;stroke-width:1.053497942386831\" /><line x1=\"379.368\" y1=\"130.624\" x2=\"369.464\" y2=\"134.214\" stroke-linecap=\"round\" style=\"stroke:green;stroke-width:1.053497942386831\" /><line x1=\"369.464\" y1=\"134.214\" x2=\"376.227\" y2=\"126.136\" stroke-linecap=\"round\" style=\"stroke:green;stroke-width:1.053497942386831\" /><line x1=\"376.227\" y1=\"126.136\" x2=\"369.464\" y2=\"134.214\" stroke-linecap=\"round\" style=\"stroke:green;stroke-width:1.053497942386831\" /><line x1=\"369.464\" y1=\"134.214\" x2=\"356.518\" y2=\"143.277\" stroke-linecap=\"round\" style=\"stroke:green;stroke-width:1.053497942386831\" /><line x1=\"356.518\" y1=\"143.277\" x2=\"333.839\" y2=\"150.172\" stroke-linecap=\"round\" style=\"stroke:green;stroke-width:1.053497942386831\" /><line x1=\"333.839\" y1=\"150.172\" x2=\"298.408\" y2=\"147.202\" stroke-linecap=\"round\" style=\"stroke:green;stroke-width:1.053497942386831\" /><line x1=\"298.408\" y1=\"147.202\" x2=\"322.524\" y2=\"121.075\" stroke-linecap=\"round\" style=\"stroke:green;stroke-width:3.555555555555555\" /><line x1=\"322.524\" y1=\"121.075\" x2=\"343.903\" y2=\"110.837\" stroke-linecap=\"round\" style=\"stroke:green;stroke-width:2.37037037037037\" /><line x1=\"343.903\" y1=\"110.837\" x2=\"359.57\" y2=\"108.773\" stroke-linecap=\"round\" style=\"stroke:green;stroke-width:1.5802469135802464\" /><line x1=\"359.57\" y1=\"108.773\" x2=\"370.013\" y2=\"110.16\" stroke-linecap=\"round\" style=\"stroke:green;stroke-width:1.053497942386831\" /><line x1=\"370.013\" y1=\"110.16\" x2=\"359.57\" y2=\"108.773\" stroke-linecap=\"round\" style=\"stroke:green;stroke-width:1.053497942386831\" /><line x1=\"359.57\" y1=\"108.773\" x2=\"369.298\" y2=\"104.728\" stroke-linecap=\"round\" style=\"stroke:green;stroke-width:1.053497942386831\" /><line x1=\"369.298\" y1=\"104.728\" x2=\"359.57\" y2=\"108.773\" stroke-linecap=\"round\" style=\"stroke:green;stroke-width:1.053497942386831\" /><line x1=\"359.57\" y1=\"108.773\" x2=\"343.903\" y2=\"110.837\" stroke-linecap=\"round\" style=\"stroke:green;stroke-width:1.053497942386831\" /><line x1=\"343.903\" y1=\"110.837\" x2=\"355.332\" y2=\"99.924\" stroke-linecap=\"round\" style=\"stroke:green;stroke-width:1.5802469135802464\" /><line x1=\"355.332\" y1=\"99.924\" x2=\"364.581\" y2=\"94.88\" stroke-linecap=\"round\" style=\"stroke:green;stroke-width:1.053497942386831\" /><line x1=\"364.581\" y1=\"94.88\" x2=\"355.332\" y2=\"99.924\" stroke-linecap=\"round\" style=\"stroke:green;stroke-width:1.053497942386831\" /><line x1=\"355.332\" y1=\"99.924\" x2=\"360.798\" y2=\"90.918\" stroke-linecap=\"round\" style=\"stroke:green;stroke-width:1.053497942386831\" /><line x1=\"360.798\" y1=\"90.918\" x2=\"355.332\" y2=\"99.924\" stroke-linecap=\"round\" style=\"stroke:green;stroke-width:1.053497942386831\" /><line x1=\"355.332\" y1=\"99.924\" x2=\"343.903\" y2=\"110.837\" stroke-linecap=\"round\" style=\"stroke:green;stroke-width:1.053497942386831\" /><line x1=\"343.903\" y1=\"110.837\" x2=\"322.524\" y2=\"121.075\" stroke-linecap=\"round\" style=\"stroke:green;stroke-width:1.053497942386831\" /><line x1=\"322.524\" y1=\"121.075\" x2=\"331.021\" y2=\"98.947\" stroke-linecap=\"round\" style=\"stroke:green;stroke-width:2.37037037037037\" /><line x1=\"331.021\" y1=\"98.947\" x2=\"340.985\" y2=\"86.682\" stroke-linecap=\"round\" style=\"stroke:green;stroke-width:1.5802469135802464\" /><line x1=\"340.985\" y1=\"86.682\" x2=\"349.525\" y2=\"80.514\" stroke-linecap=\"round\" style=\"stroke:green;stroke-width:1.053497942386831\" /><line x1=\"349.525\" y1=\"80.514\" x2=\"340.985\" y2=\"86.682\" stroke-linecap=\"round\" style=\"stroke:green;stroke-width:1.053497942386831\" /><line x1=\"340.985\" y1=\"86.682\" x2=\"345.273\" y2=\"77.059\" stroke-linecap=\"round\" style=\"stroke:green;stroke-width:1.053497942386831\" /><line x1=\"345.273\" y1=\"77.059\" x2=\"340.985\" y2=\"86.682\" stroke-linecap=\"round\" style=\"stroke:green;stroke-width:1.053497942386831\" /><line x1=\"340.985\" y1=\"86.682\" x2=\"331.021\" y2=\"98.947\" stroke-linecap=\"round\" style=\"stroke:green;stroke-width:1.053497942386831\" /><line x1=\"331.021\" y1=\"98.947\" x2=\"331.827\" y2=\"83.165\" stroke-linecap=\"round\" style=\"stroke:green;stroke-width:1.5802469135802464\" /><line x1=\"331.827\" y1=\"83.165\" x2=\"335.081\" y2=\"73.145\" stroke-linecap=\"round\" style=\"stroke:green;stroke-width:1.053497942386831\" /><line x1=\"335.081\" y1=\"73.145\" x2=\"331.827\" y2=\"83.165\" stroke-linecap=\"round\" style=\"stroke:green;stroke-width:1.053497942386831\" /><line x1=\"331.827\" y1=\"83.165\" x2=\"329.61\" y2=\"72.866\" stroke-linecap=\"round\" style=\"stroke:green;stroke-width:1.053497942386831\" /><line x1=\"329.61\" y1=\"72.866\" x2=\"331.827\" y2=\"83.165\" stroke-linecap=\"round\" style=\"stroke:green;stroke-width:1.053497942386831\" /><line x1=\"331.827\" y1=\"83.165\" x2=\"331.021\" y2=\"98.947\" stroke-linecap=\"round\" style=\"stroke:green;stroke-width:1.053497942386831\" /><line x1=\"331.021\" y1=\"98.947\" x2=\"322.524\" y2=\"121.075\" stroke-linecap=\"round\" style=\"stroke:green;stroke-width:1.053497942386831\" /><line x1=\"322.524\" y1=\"121.075\" x2=\"298.408\" y2=\"147.202\" stroke-linecap=\"round\" style=\"stroke:green;stroke-width:1.053497942386831\" /><line x1=\"298.408\" y1=\"147.202\" x2=\"248.701\" y2=\"166.532\" stroke-linecap=\"round\" style=\"stroke:green;stroke-width:1.053497942386831\" /><line x1=\"248.701\" y1=\"166.532\" x2=\"254.507\" y2=\"113.516\" stroke-linecap=\"round\" style=\"stroke:green;stroke-width:5.333333333333333\" /><line x1=\"254.507\" y1=\"113.516\" x2=\"273.502\" y2=\"83.459\" stroke-linecap=\"round\" style=\"stroke:green;stroke-width:3.555555555555555\" /><line x1=\"273.502\" y1=\"83.459\" x2=\"292.677\" y2=\"69.524\" stroke-linecap=\"round\" style=\"stroke:green;stroke-width:2.37037037037037\" /><line x1=\"292.677\" y1=\"69.524\" x2=\"307.713\" y2=\"64.661\" stroke-linecap=\"round\" style=\"stroke:green;stroke-width:1.5802469135802464\" /><line x1=\"307.713\" y1=\"64.661\" x2=\"318.235\" y2=\"64.137\" stroke-linecap=\"round\" style=\"stroke:green;stroke-width:1.053497942386831\" /><line x1=\"318.235\" y1=\"64.137\" x2=\"307.713\" y2=\"64.661\" stroke-linecap=\"round\" style=\"stroke:green;stroke-width:1.053497942386831\" /><line x1=\"307.713\" y1=\"64.661\" x2=\"316.549\" y2=\"58.924\" stroke-linecap=\"round\" style=\"stroke:green;stroke-width:1.053497942386831\" /><line x1=\"316.549\" y1=\"58.924\" x2=\"307.713\" y2=\"64.661\" stroke-linecap=\"round\" style=\"stroke:green;stroke-width:1.053497942386831\" /><line x1=\"307.713\" y1=\"64.661\" x2=\"292.677\" y2=\"69.524\" stroke-linecap=\"round\" style=\"stroke:green;stroke-width:1.053497942386831\" /><line x1=\"292.677\" y1=\"69.524\" x2=\"301.945\" y2=\"56.725\" stroke-linecap=\"round\" style=\"stroke:green;stroke-width:1.5802469135802464\" /><line x1=\"301.945\" y1=\"56.725\" x2=\"310.13\" y2=\"50.092\" stroke-linecap=\"round\" style=\"stroke:green;stroke-width:1.053497942386831\" /><line x1=\"310.13\" y1=\"50.092\" x2=\"301.945\" y2=\"56.725\" stroke-linecap=\"round\" style=\"stroke:green;stroke-width:1.053497942386831\" /><line x1=\"301.945\" y1=\"56.725\" x2=\"305.693\" y2=\"46.879\" stroke-linecap=\"round\" style=\"stroke:green;stroke-width:1.053497942386831\" /><line x1=\"305.693\" y1=\"46.879\" x2=\"301.945\" y2=\"56.725\" stroke-linecap=\"round\" style=\"stroke:green;stroke-width:1.053497942386831\" /><line x1=\"301.945\" y1=\"56.725\" x2=\"292.677\" y2=\"69.524\" stroke-linecap=\"round\" style=\"stroke:green;stroke-width:1.053497942386831\" /><line x1=\"292.677\" y1=\"69.524\" x2=\"273.502\" y2=\"83.459\" stroke-linecap=\"round\" style=\"stroke:green;stroke-width:1.053497942386831\" /><line x1=\"273.502\" y1=\"83.459\" x2=\"277.858\" y2=\"60.159\" stroke-linecap=\"round\" style=\"stroke:green;stroke-width:2.37037037037037\" /><line x1=\"277.858\" y1=\"60.159\" x2=\"285.441\" y2=\"46.295\" stroke-linecap=\"round\" style=\"stroke:green;stroke-width:1.5802469135802464\" /><line x1=\"285.441\" y1=\"46.295\" x2=\"292.725\" y2=\"38.684\" stroke-linecap=\"round\" style=\"stroke:green;stroke-width:1.053497942386831\" /><line x1=\"292.725\" y1=\"38.684\" x2=\"285.441\" y2=\"46.295\" stroke-linecap=\"round\" style=\"stroke:green;stroke-width:1.053497942386831\" /><line x1=\"285.441\" y1=\"46.295\" x2=\"287.919\" y2=\"36.056\" stroke-linecap=\"round\" style=\"stroke:green;stroke-width:1.053497942386831\" /><line x1=\"287.919\" y1=\"36.056\" x2=\"285.441\" y2=\"46.295\" stroke-linecap=\"round\" style=\"stroke:green;stroke-width:1.053497942386831\" /><line x1=\"285.441\" y1=\"46.295\" x2=\"277.858\" y2=\"60.159\" stroke-linecap=\"round\" style=\"stroke:green;stroke-width:1.053497942386831\" /><line x1=\"277.858\" y1=\"60.159\" x2=\"275.797\" y2=\"44.492\" stroke-linecap=\"round\" style=\"stroke:green;stroke-width:1.5802469135802464\" /><line x1=\"275.797\" y1=\"44.492\" x2=\"277.186\" y2=\"34.049\" stroke-linecap=\"round\" style=\"stroke:green;stroke-width:1.053497942386831\" /><line x1=\"277.186\" y1=\"34.049\" x2=\"275.797\" y2=\"44.492\" stroke-linecap=\"round\" style=\"stroke:green;stroke-width:1.053497942386831\" /><line x1=\"275.797\" y1=\"44.492\" x2=\"271.754\" y2=\"34.764\" stroke-linecap=\"round\" style=\"stroke:green;stroke-width:1.053497942386831\" /><line x1=\"271.754\" y1=\"34.764\" x2=\"275.797\" y2=\"44.492\" stroke-linecap=\"round\" style=\"stroke:green;stroke-width:1.053497942386831\" /><line x1=\"275.797\" y1=\"44.492\" x2=\"277.858\" y2=\"60.159\" stroke-linecap=\"round\" style=\"stroke:green;stroke-width:1.053497942386831\" /><line x1=\"277.858\" y1=\"60.159\" x2=\"273.502\" y2=\"83.459\" stroke-linecap=\"round\" style=\"stroke:green;stroke-width:1.053497942386831\" /><line x1=\"273.502\" y1=\"83.459\" x2=\"254.507\" y2=\"113.516\" stroke-linecap=\"round\" style=\"stroke:green;stroke-width:1.053497942386831\" /><line x1=\"254.507\" y1=\"113.516\" x2=\"242.468\" y2=\"80.061\" stroke-linecap=\"round\" style=\"stroke:green;stroke-width:3.555555555555555\" /><line x1=\"242.468\" y1=\"80.061\" x2=\"243.258\" y2=\"56.37\" stroke-linecap=\"round\" style=\"stroke:green;stroke-width:2.37037037037037\" /><line x1=\"243.258\" y1=\"56.37\" x2=\"248.661\" y2=\"41.52\" stroke-linecap=\"round\" style=\"stroke:green;stroke-width:1.5802469135802464\" /><line x1=\"248.661\" y1=\"41.52\" x2=\"254.713\" y2=\"32.897\" stroke-linecap=\"round\" style=\"stroke:green;stroke-width:1.053497942386831\" /><line x1=\"254.713\" y1=\"32.897\" x2=\"248.661\" y2=\"41.52\" stroke-linecap=\"round\" style=\"stroke:green;stroke-width:1.053497942386831\" /><line x1=\"248.661\" y1=\"41.52\" x2=\"249.565\" y2=\"31.024\" stroke-linecap=\"round\" style=\"stroke:green;stroke-width:1.053497942386831\" /><line x1=\"249.565\" y1=\"31.024\" x2=\"248.661\" y2=\"41.52\" stroke-linecap=\"round\" style=\"stroke:green;stroke-width:1.053497942386831\" /><line x1=\"248.661\" y1=\"41.52\" x2=\"243.258\" y2=\"56.37\" stroke-linecap=\"round\" style=\"stroke:green;stroke-width:1.053497942386831\" /><line x1=\"243.258\" y1=\"56.37\" x2=\"238.856\" y2=\"41.193\" stroke-linecap=\"round\" style=\"stroke:green;stroke-width:1.5802469135802464\" /><line x1=\"238.856\" y1=\"41.193\" x2=\"238.653\" y2=\"30.66\" stroke-linecap=\"round\" style=\"stroke:green;stroke-width:1.053497942386831\" /><line x1=\"238.653\" y1=\"30.66\" x2=\"238.856\" y2=\"41.193\" stroke-linecap=\"round\" style=\"stroke:green;stroke-width:1.053497942386831\" /><line x1=\"238.856\" y1=\"41.193\" x2=\"233.391\" y2=\"32.186\" stroke-linecap=\"round\" style=\"stroke:green;stroke-width:1.053497942386831\" /><line x1=\"233.391\" y1=\"32.186\" x2=\"238.856\" y2=\"41.193\" stroke-linecap=\"round\" style=\"stroke:green;stroke-width:1.053497942386831\" /><line x1=\"238.856\" y1=\"41.193\" x2=\"243.258\" y2=\"56.37\" stroke-linecap=\"round\" style=\"stroke:green;stroke-width:1.053497942386831\" /><line x1=\"243.258\" y1=\"56.37\" x2=\"242.468\" y2=\"80.061\" stroke-linecap=\"round\" style=\"stroke:green;stroke-width:1.053497942386831\" /><line x1=\"242.468\" y1=\"80.061\" x2=\"226.764\" y2=\"62.306\" stroke-linecap=\"round\" style=\"stroke:green;stroke-width:2.37037037037037\" /><line x1=\"226.764\" y1=\"62.306\" x2=\"220.486\" y2=\"47.804\" stroke-linecap=\"round\" style=\"stroke:green;stroke-width:1.5802469135802464\" /><line x1=\"220.486\" y1=\"47.804\" x2=\"218.958\" y2=\"37.38\" stroke-linecap=\"round\" style=\"stroke:green;stroke-width:1.053497942386831\" /><line x1=\"218.958\" y1=\"37.38\" x2=\"220.486\" y2=\"47.804\" stroke-linecap=\"round\" style=\"stroke:green;stroke-width:1.053497942386831\" /><line x1=\"220.486\" y1=\"47.804\" x2=\"213.931\" y2=\"39.557\" stroke-linecap=\"round\" style=\"stroke:green;stroke-width:1.053497942386831\" /><line x1=\"213.931\" y1=\"39.557\" x2=\"220.486\" y2=\"47.804\" stroke-linecap=\"round\" style=\"stroke:green;stroke-width:1.053497942386831\" /><line x1=\"220.486\" y1=\"47.804\" x2=\"226.764\" y2=\"62.306\" stroke-linecap=\"round\" style=\"stroke:green;stroke-width:1.053497942386831\" /><line x1=\"226.764\" y1=\"62.306\" x2=\"213.137\" y2=\"54.304\" stroke-linecap=\"round\" style=\"stroke:green;stroke-width:1.5802469135802464\" /><line x1=\"213.137\" y1=\"54.304\" x2=\"205.752\" y2=\"46.791\" stroke-linecap=\"round\" style=\"stroke:green;stroke-width:1.053497942386831\" /><line x1=\"205.752\" y1=\"46.791\" x2=\"213.137\" y2=\"54.304\" stroke-linecap=\"round\" style=\"stroke:green;stroke-width:1.053497942386831\" /><line x1=\"213.137\" y1=\"54.304\" x2=\"202.978\" y2=\"51.515\" stroke-linecap=\"round\" style=\"stroke:green;stroke-width:1.053497942386831\" /><line x1=\"202.978\" y1=\"51.515\" x2=\"213.137\" y2=\"54.304\" stroke-linecap=\"round\" style=\"stroke:green;stroke-width:1.053497942386831\" /><line x1=\"213.137\" y1=\"54.304\" x2=\"226.764\" y2=\"62.306\" stroke-linecap=\"round\" style=\"stroke:green;stroke-width:1.053497942386831\" /><line x1=\"226.764\" y1=\"62.306\" x2=\"242.468\" y2=\"80.061\" stroke-linecap=\"round\" style=\"stroke:green;stroke-width:1.053497942386831\" /><line x1=\"242.468\" y1=\"80.061\" x2=\"254.507\" y2=\"113.516\" stroke-linecap=\"round\" style=\"stroke:green;stroke-width:1.053497942386831\" /><line x1=\"254.507\" y1=\"113.516\" x2=\"248.701\" y2=\"166.532\" stroke-linecap=\"round\" style=\"stroke:green;stroke-width:1.053497942386831\" /><line x1=\"248.701\" y1=\"166.532\" x2=\"200.0\" y2=\"230.0\" stroke-linecap=\"round\" style=\"stroke:green;stroke-width:1.053497942386831\" /><line x1=\"200.0\" y1=\"230.0\" x2=\"151.299\" y2=\"166.532\" stroke-linecap=\"round\" style=\"stroke:green;stroke-width:8.0\" /><line x1=\"151.299\" y1=\"166.532\" x2=\"145.493\" y2=\"113.516\" stroke-linecap=\"round\" style=\"stroke:green;stroke-width:5.333333333333333\" /><line x1=\"145.493\" y1=\"113.516\" x2=\"157.532\" y2=\"80.061\" stroke-linecap=\"round\" style=\"stroke:green;stroke-width:3.555555555555555\" /><line x1=\"157.532\" y1=\"80.061\" x2=\"173.236\" y2=\"62.306\" stroke-linecap=\"round\" style=\"stroke:green;stroke-width:2.37037037037037\" /><line x1=\"173.236\" y1=\"62.306\" x2=\"186.863\" y2=\"54.304\" stroke-linecap=\"round\" style=\"stroke:green;stroke-width:1.5802469135802464\" /><line x1=\"186.863\" y1=\"54.304\" x2=\"197.022\" y2=\"51.515\" stroke-linecap=\"round\" style=\"stroke:green;stroke-width:1.053497942386831\" /><line x1=\"197.022\" y1=\"51.515\" x2=\"186.863\" y2=\"54.304\" stroke-linecap=\"round\" style=\"stroke:green;stroke-width:1.053497942386831\" /><line x1=\"186.863\" y1=\"54.304\" x2=\"194.248\" y2=\"46.791\" stroke-linecap=\"round\" style=\"stroke:green;stroke-width:1.053497942386831\" /><line x1=\"194.248\" y1=\"46.791\" x2=\"186.863\" y2=\"54.304\" stroke-linecap=\"round\" style=\"stroke:green;stroke-width:1.053497942386831\" /><line x1=\"186.863\" y1=\"54.304\" x2=\"173.236\" y2=\"62.306\" stroke-linecap=\"round\" style=\"stroke:green;stroke-width:1.053497942386831\" /><line x1=\"173.236\" y1=\"62.306\" x2=\"179.514\" y2=\"47.804\" stroke-linecap=\"round\" style=\"stroke:green;stroke-width:1.5802469135802464\" /><line x1=\"179.514\" y1=\"47.804\" x2=\"186.069\" y2=\"39.557\" stroke-linecap=\"round\" style=\"stroke:green;stroke-width:1.053497942386831\" /><line x1=\"186.069\" y1=\"39.557\" x2=\"179.514\" y2=\"47.804\" stroke-linecap=\"round\" style=\"stroke:green;stroke-width:1.053497942386831\" /><line x1=\"179.514\" y1=\"47.804\" x2=\"181.042\" y2=\"37.38\" stroke-linecap=\"round\" style=\"stroke:green;stroke-width:1.053497942386831\" /><line x1=\"181.042\" y1=\"37.38\" x2=\"179.514\" y2=\"47.804\" stroke-linecap=\"round\" style=\"stroke:green;stroke-width:1.053497942386831\" /><line x1=\"179.514\" y1=\"47.804\" x2=\"173.236\" y2=\"62.306\" stroke-linecap=\"round\" style=\"stroke:green;stroke-width:1.053497942386831\" /><line x1=\"173.236\" y1=\"62.306\" x2=\"157.532\" y2=\"80.061\" stroke-linecap=\"round\" style=\"stroke:green;stroke-width:1.053497942386831\" /><line x1=\"157.532\" y1=\"80.061\" x2=\"156.742\" y2=\"56.37\" stroke-linecap=\"round\" style=\"stroke:green;stroke-width:2.37037037037037\" /><line x1=\"156.742\" y1=\"56.37\" x2=\"161.144\" y2=\"41.193\" stroke-linecap=\"round\" style=\"stroke:green;stroke-width:1.5802469135802464\" /><line x1=\"161.144\" y1=\"41.193\" x2=\"166.609\" y2=\"32.186\" stroke-linecap=\"round\" style=\"stroke:green;stroke-width:1.053497942386831\" /><line x1=\"166.609\" y1=\"32.186\" x2=\"161.144\" y2=\"41.193\" stroke-linecap=\"round\" style=\"stroke:green;stroke-width:1.053497942386831\" /><line x1=\"161.144\" y1=\"41.193\" x2=\"161.347\" y2=\"30.66\" stroke-linecap=\"round\" style=\"stroke:green;stroke-width:1.053497942386831\" /><line x1=\"161.347\" y1=\"30.66\" x2=\"161.144\" y2=\"41.193\" stroke-linecap=\"round\" style=\"stroke:green;stroke-width:1.053497942386831\" /><line x1=\"161.144\" y1=\"41.193\" x2=\"156.742\" y2=\"56.37\" stroke-linecap=\"round\" style=\"stroke:green;stroke-width:1.053497942386831\" /><line x1=\"156.742\" y1=\"56.37\" x2=\"151.339\" y2=\"41.52\" stroke-linecap=\"round\" style=\"stroke:green;stroke-width:1.5802469135802464\" /><line x1=\"151.339\" y1=\"41.52\" x2=\"150.435\" y2=\"31.024\" stroke-linecap=\"round\" style=\"stroke:green;stroke-width:1.053497942386831\" /><line x1=\"150.435\" y1=\"31.024\" x2=\"151.339\" y2=\"41.52\" stroke-linecap=\"round\" style=\"stroke:green;stroke-width:1.053497942386831\" /><line x1=\"151.339\" y1=\"41.52\" x2=\"145.287\" y2=\"32.897\" stroke-linecap=\"round\" style=\"stroke:green;stroke-width:1.053497942386831\" /><line x1=\"145.287\" y1=\"32.897\" x2=\"151.339\" y2=\"41.52\" stroke-linecap=\"round\" style=\"stroke:green;stroke-width:1.053497942386831\" /><line x1=\"151.339\" y1=\"41.52\" x2=\"156.742\" y2=\"56.37\" stroke-linecap=\"round\" style=\"stroke:green;stroke-width:1.053497942386831\" /><line x1=\"156.742\" y1=\"56.37\" x2=\"157.532\" y2=\"80.061\" stroke-linecap=\"round\" style=\"stroke:green;stroke-width:1.053497942386831\" /><line x1=\"157.532\" y1=\"80.061\" x2=\"145.493\" y2=\"113.516\" stroke-linecap=\"round\" style=\"stroke:green;stroke-width:1.053497942386831\" /><line x1=\"145.493\" y1=\"113.516\" x2=\"126.498\" y2=\"83.459\" stroke-linecap=\"round\" style=\"stroke:green;stroke-width:3.555555555555555\" /><line x1=\"126.498\" y1=\"83.459\" x2=\"122.142\" y2=\"60.159\" stroke-linecap=\"round\" style=\"stroke:green;stroke-width:2.37037037037037\" /><line x1=\"122.142\" y1=\"60.159\" x2=\"124.203\" y2=\"44.492\" stroke-linecap=\"round\" style=\"stroke:green;stroke-width:1.5802469135802464\" /><line x1=\"124.203\" y1=\"44.492\" x2=\"128.246\" y2=\"34.764\" stroke-linecap=\"round\" style=\"stroke:green;stroke-width:1.053497942386831\" /><line x1=\"128.246\" y1=\"34.764\" x2=\"124.203\" y2=\"44.492\" stroke-linecap=\"round\" style=\"stroke:green;stroke-width:1.053497942386831\" /><line x1=\"124.203\" y1=\"44.492\" x2=\"122.814\" y2=\"34.049\" stroke-linecap=\"round\" style=\"stroke:green;stroke-width:1.053497942386831\" /><line x1=\"122.814\" y1=\"34.049\" x2=\"124.203\" y2=\"44.492\" stroke-linecap=\"round\" style=\"stroke:green;stroke-width:1.053497942386831\" /><line x1=\"124.203\" y1=\"44.492\" x2=\"122.142\" y2=\"60.159\" stroke-linecap=\"round\" style=\"stroke:green;stroke-width:1.053497942386831\" /><line x1=\"122.142\" y1=\"60.159\" x2=\"114.559\" y2=\"46.295\" stroke-linecap=\"round\" style=\"stroke:green;stroke-width:1.5802469135802464\" /><line x1=\"114.559\" y1=\"46.295\" x2=\"112.081\" y2=\"36.056\" stroke-linecap=\"round\" style=\"stroke:green;stroke-width:1.053497942386831\" /><line x1=\"112.081\" y1=\"36.056\" x2=\"114.559\" y2=\"46.295\" stroke-linecap=\"round\" style=\"stroke:green;stroke-width:1.053497942386831\" /><line x1=\"114.559\" y1=\"46.295\" x2=\"107.275\" y2=\"38.684\" stroke-linecap=\"round\" style=\"stroke:green;stroke-width:1.053497942386831\" /><line x1=\"107.275\" y1=\"38.684\" x2=\"114.559\" y2=\"46.295\" stroke-linecap=\"round\" style=\"stroke:green;stroke-width:1.053497942386831\" /><line x1=\"114.559\" y1=\"46.295\" x2=\"122.142\" y2=\"60.159\" stroke-linecap=\"round\" style=\"stroke:green;stroke-width:1.053497942386831\" /><line x1=\"122.142\" y1=\"60.159\" x2=\"126.498\" y2=\"83.459\" stroke-linecap=\"round\" style=\"stroke:green;stroke-width:1.053497942386831\" /><line x1=\"126.498\" y1=\"83.459\" x2=\"107.323\" y2=\"69.524\" stroke-linecap=\"round\" style=\"stroke:green;stroke-width:2.37037037037037\" /><line x1=\"107.323\" y1=\"69.524\" x2=\"98.055\" y2=\"56.725\" stroke-linecap=\"round\" style=\"stroke:green;stroke-width:1.5802469135802464\" /><line x1=\"98.055\" y1=\"56.725\" x2=\"94.307\" y2=\"46.879\" stroke-linecap=\"round\" style=\"stroke:green;stroke-width:1.053497942386831\" /><line x1=\"94.307\" y1=\"46.879\" x2=\"98.055\" y2=\"56.725\" stroke-linecap=\"round\" style=\"stroke:green;stroke-width:1.053497942386831\" /><line x1=\"98.055\" y1=\"56.725\" x2=\"89.87\" y2=\"50.092\" stroke-linecap=\"round\" style=\"stroke:green;stroke-width:1.053497942386831\" /><line x1=\"89.87\" y1=\"50.092\" x2=\"98.055\" y2=\"56.725\" stroke-linecap=\"round\" style=\"stroke:green;stroke-width:1.053497942386831\" /><line x1=\"98.055\" y1=\"56.725\" x2=\"107.323\" y2=\"69.524\" stroke-linecap=\"round\" style=\"stroke:green;stroke-width:1.053497942386831\" /><line x1=\"107.323\" y1=\"69.524\" x2=\"92.287\" y2=\"64.661\" stroke-linecap=\"round\" style=\"stroke:green;stroke-width:1.5802469135802464\" /><line x1=\"92.287\" y1=\"64.661\" x2=\"83.451\" y2=\"58.924\" stroke-linecap=\"round\" style=\"stroke:green;stroke-width:1.053497942386831\" /><line x1=\"83.451\" y1=\"58.924\" x2=\"92.287\" y2=\"64.661\" stroke-linecap=\"round\" style=\"stroke:green;stroke-width:1.053497942386831\" /><line x1=\"92.287\" y1=\"64.661\" x2=\"81.765\" y2=\"64.137\" stroke-linecap=\"round\" style=\"stroke:green;stroke-width:1.053497942386831\" /><line x1=\"81.765\" y1=\"64.137\" x2=\"92.287\" y2=\"64.661\" stroke-linecap=\"round\" style=\"stroke:green;stroke-width:1.053497942386831\" /><line x1=\"92.287\" y1=\"64.661\" x2=\"107.323\" y2=\"69.524\" stroke-linecap=\"round\" style=\"stroke:green;stroke-width:1.053497942386831\" /><line x1=\"107.323\" y1=\"69.524\" x2=\"126.498\" y2=\"83.459\" stroke-linecap=\"round\" style=\"stroke:green;stroke-width:1.053497942386831\" /><line x1=\"126.498\" y1=\"83.459\" x2=\"145.493\" y2=\"113.516\" stroke-linecap=\"round\" style=\"stroke:green;stroke-width:1.053497942386831\" /><line x1=\"145.493\" y1=\"113.516\" x2=\"151.299\" y2=\"166.532\" stroke-linecap=\"round\" style=\"stroke:green;stroke-width:1.053497942386831\" /><line x1=\"151.299\" y1=\"166.532\" x2=\"101.592\" y2=\"147.202\" stroke-linecap=\"round\" style=\"stroke:green;stroke-width:5.333333333333333\" /><line x1=\"101.592\" y1=\"147.202\" x2=\"77.476\" y2=\"121.075\" stroke-linecap=\"round\" style=\"stroke:green;stroke-width:3.555555555555555\" /><line x1=\"77.476\" y1=\"121.075\" x2=\"68.979\" y2=\"98.947\" stroke-linecap=\"round\" style=\"stroke:green;stroke-width:2.37037037037037\" /><line x1=\"68.979\" y1=\"98.947\" x2=\"68.173\" y2=\"83.165\" stroke-linecap=\"round\" style=\"stroke:green;stroke-width:1.5802469135802464\" /><line x1=\"68.173\" y1=\"83.165\" x2=\"70.39\" y2=\"72.866\" stroke-linecap=\"round\" style=\"stroke:green;stroke-width:1.053497942386831\" /><line x1=\"70.39\" y1=\"72.866\" x2=\"68.173\" y2=\"83.165\" stroke-linecap=\"round\" style=\"stroke:green;stroke-width:1.053497942386831\" /><line x1=\"68.173\" y1=\"83.165\" x2=\"64.919\" y2=\"73.145\" stroke-linecap=\"round\" style=\"stroke:green;stroke-width:1.053497942386831\" /><line x1=\"64.919\" y1=\"73.145\" x2=\"68.173\" y2=\"83.165\" stroke-linecap=\"round\" style=\"stroke:green;stroke-width:1.053497942386831\" /><line x1=\"68.173\" y1=\"83.165\" x2=\"68.979\" y2=\"98.947\" stroke-linecap=\"round\" style=\"stroke:green;stroke-width:1.053497942386831\" /><line x1=\"68.979\" y1=\"98.947\" x2=\"59.015\" y2=\"86.682\" stroke-linecap=\"round\" style=\"stroke:green;stroke-width:1.5802469135802464\" /><line x1=\"59.015\" y1=\"86.682\" x2=\"54.727\" y2=\"77.059\" stroke-linecap=\"round\" style=\"stroke:green;stroke-width:1.053497942386831\" /><line x1=\"54.727\" y1=\"77.059\" x2=\"59.015\" y2=\"86.682\" stroke-linecap=\"round\" style=\"stroke:green;stroke-width:1.053497942386831\" /><line x1=\"59.015\" y1=\"86.682\" x2=\"50.475\" y2=\"80.514\" stroke-linecap=\"round\" style=\"stroke:green;stroke-width:1.053497942386831\" /><line x1=\"50.475\" y1=\"80.514\" x2=\"59.015\" y2=\"86.682\" stroke-linecap=\"round\" style=\"stroke:green;stroke-width:1.053497942386831\" /><line x1=\"59.015\" y1=\"86.682\" x2=\"68.979\" y2=\"98.947\" stroke-linecap=\"round\" style=\"stroke:green;stroke-width:1.053497942386831\" /><line x1=\"68.979\" y1=\"98.947\" x2=\"77.476\" y2=\"121.075\" stroke-linecap=\"round\" style=\"stroke:green;stroke-width:1.053497942386831\" /><line x1=\"77.476\" y1=\"121.075\" x2=\"56.097\" y2=\"110.837\" stroke-linecap=\"round\" style=\"stroke:green;stroke-width:2.37037037037037\" /><line x1=\"56.097\" y1=\"110.837\" x2=\"44.668\" y2=\"99.924\" stroke-linecap=\"round\" style=\"stroke:green;stroke-width:1.5802469135802464\" /><line x1=\"44.668\" y1=\"99.924\" x2=\"39.202\" y2=\"90.918\" stroke-linecap=\"round\" style=\"stroke:green;stroke-width:1.053497942386831\" /><line x1=\"39.202\" y1=\"90.918\" x2=\"44.668\" y2=\"99.924\" stroke-linecap=\"round\" style=\"stroke:green;stroke-width:1.053497942386831\" /><line x1=\"44.668\" y1=\"99.924\" x2=\"35.419\" y2=\"94.88\" stroke-linecap=\"round\" style=\"stroke:green;stroke-width:1.053497942386831\" /><line x1=\"35.419\" y1=\"94.88\" x2=\"44.668\" y2=\"99.924\" stroke-linecap=\"round\" style=\"stroke:green;stroke-width:1.053497942386831\" /><line x1=\"44.668\" y1=\"99.924\" x2=\"56.097\" y2=\"110.837\" stroke-linecap=\"round\" style=\"stroke:green;stroke-width:1.053497942386831\" /><line x1=\"56.097\" y1=\"110.837\" x2=\"40.43\" y2=\"108.773\" stroke-linecap=\"round\" style=\"stroke:green;stroke-width:1.5802469135802464\" /><line x1=\"40.43\" y1=\"108.773\" x2=\"30.702\" y2=\"104.728\" stroke-linecap=\"round\" style=\"stroke:green;stroke-width:1.053497942386831\" /><line x1=\"30.702\" y1=\"104.728\" x2=\"40.43\" y2=\"108.773\" stroke-linecap=\"round\" style=\"stroke:green;stroke-width:1.053497942386831\" /><line x1=\"40.43\" y1=\"108.773\" x2=\"29.987\" y2=\"110.16\" stroke-linecap=\"round\" style=\"stroke:green;stroke-width:1.053497942386831\" /><line x1=\"29.987\" y1=\"110.16\" x2=\"40.43\" y2=\"108.773\" stroke-linecap=\"round\" style=\"stroke:green;stroke-width:1.053497942386831\" /><line x1=\"40.43\" y1=\"108.773\" x2=\"56.097\" y2=\"110.837\" stroke-linecap=\"round\" style=\"stroke:green;stroke-width:1.053497942386831\" /><line x1=\"56.097\" y1=\"110.837\" x2=\"77.476\" y2=\"121.075\" stroke-linecap=\"round\" style=\"stroke:green;stroke-width:1.053497942386831\" /><line x1=\"77.476\" y1=\"121.075\" x2=\"101.592\" y2=\"147.202\" stroke-linecap=\"round\" style=\"stroke:green;stroke-width:1.053497942386831\" /><line x1=\"101.592\" y1=\"147.202\" x2=\"66.161\" y2=\"150.172\" stroke-linecap=\"round\" style=\"stroke:green;stroke-width:3.555555555555555\" /><line x1=\"66.161\" y1=\"150.172\" x2=\"43.482\" y2=\"143.277\" stroke-linecap=\"round\" style=\"stroke:green;stroke-width:2.37037037037037\" /><line x1=\"43.482\" y1=\"143.277\" x2=\"30.536\" y2=\"134.214\" stroke-linecap=\"round\" style=\"stroke:green;stroke-width:1.5802469135802464\" /><line x1=\"30.536\" y1=\"134.214\" x2=\"23.773\" y2=\"126.136\" stroke-linecap=\"round\" style=\"stroke:green;stroke-width:1.053497942386831\" /><line x1=\"23.773\" y1=\"126.136\" x2=\"30.536\" y2=\"134.214\" stroke-linecap=\"round\" style=\"stroke:green;stroke-width:1.053497942386831\" /><line x1=\"30.536\" y1=\"134.214\" x2=\"20.632\" y2=\"130.624\" stroke-linecap=\"round\" style=\"stroke:green;stroke-width:1.053497942386831\" /><line x1=\"20.632\" y1=\"130.624\" x2=\"30.536\" y2=\"134.214\" stroke-linecap=\"round\" style=\"stroke:green;stroke-width:1.053497942386831\" /><line x1=\"30.536\" y1=\"134.214\" x2=\"43.482\" y2=\"143.277\" stroke-linecap=\"round\" style=\"stroke:green;stroke-width:1.053497942386831\" /><line x1=\"43.482\" y1=\"143.277\" x2=\"27.683\" y2=\"143.601\" stroke-linecap=\"round\" style=\"stroke:green;stroke-width:1.5802469135802464\" /><line x1=\"27.683\" y1=\"143.601\" x2=\"17.456\" y2=\"141.071\" stroke-linecap=\"round\" style=\"stroke:green;stroke-width:1.053497942386831\" /><line x1=\"17.456\" y1=\"141.071\" x2=\"27.683\" y2=\"143.601\" stroke-linecap=\"round\" style=\"stroke:green;stroke-width:1.053497942386831\" /><line x1=\"27.683\" y1=\"143.601\" x2=\"17.569\" y2=\"146.548\" stroke-linecap=\"round\" style=\"stroke:green;stroke-width:1.053497942386831\" /><line x1=\"17.569\" y1=\"146.548\" x2=\"27.683\" y2=\"143.601\" stroke-linecap=\"round\" style=\"stroke:green;stroke-width:1.053497942386831\" /><line x1=\"27.683\" y1=\"143.601\" x2=\"43.482\" y2=\"143.277\" stroke-linecap=\"round\" style=\"stroke:green;stroke-width:1.053497942386831\" /><line x1=\"43.482\" y1=\"143.277\" x2=\"66.161\" y2=\"150.172\" stroke-linecap=\"round\" style=\"stroke:green;stroke-width:1.053497942386831\" /><line x1=\"66.161\" y1=\"150.172\" x2=\"44.946\" y2=\"160.746\" stroke-linecap=\"round\" style=\"stroke:green;stroke-width:2.37037037037037\" /><line x1=\"44.946\" y1=\"160.746\" x2=\"29.313\" y2=\"163.057\" stroke-linecap=\"round\" style=\"stroke:green;stroke-width:1.5802469135802464\" /><line x1=\"29.313\" y1=\"163.057\" x2=\"18.849\" y2=\"161.835\" stroke-linecap=\"round\" style=\"stroke:green;stroke-width:1.053497942386831\" /><line x1=\"18.849\" y1=\"161.835\" x2=\"29.313\" y2=\"163.057\" stroke-linecap=\"round\" style=\"stroke:green;stroke-width:1.053497942386831\" /><line x1=\"29.313\" y1=\"163.057\" x2=\"19.65\" y2=\"167.254\" stroke-linecap=\"round\" style=\"stroke:green;stroke-width:1.053497942386831\" /><line x1=\"19.65\" y1=\"167.254\" x2=\"29.313\" y2=\"163.057\" stroke-linecap=\"round\" style=\"stroke:green;stroke-width:1.053497942386831\" /><line x1=\"29.313\" y1=\"163.057\" x2=\"44.946\" y2=\"160.746\" stroke-linecap=\"round\" style=\"stroke:green;stroke-width:1.053497942386831\" /><line x1=\"44.946\" y1=\"160.746\" x2=\"33.69\" y2=\"171.837\" stroke-linecap=\"round\" style=\"stroke:green;stroke-width:1.5802469135802464\" /><line x1=\"33.69\" y1=\"171.837\" x2=\"24.521\" y2=\"177.026\" stroke-linecap=\"round\" style=\"stroke:green;stroke-width:1.053497942386831\" /><line x1=\"24.521\" y1=\"177.026\" x2=\"33.69\" y2=\"171.837\" stroke-linecap=\"round\" style=\"stroke:green;stroke-width:1.053497942386831\" /><line x1=\"33.69\" y1=\"171.837\" x2=\"28.367\" y2=\"180.928\" stroke-linecap=\"round\" style=\"stroke:green;stroke-width:1.053497942386831\" /><line x1=\"28.367\" y1=\"180.928\" x2=\"33.69\" y2=\"171.837\" stroke-linecap=\"round\" style=\"stroke:green;stroke-width:1.053497942386831\" /><line x1=\"33.69\" y1=\"171.837\" x2=\"44.946\" y2=\"160.746\" stroke-linecap=\"round\" style=\"stroke:green;stroke-width:1.053497942386831\" /><line x1=\"44.946\" y1=\"160.746\" x2=\"66.161\" y2=\"150.172\" stroke-linecap=\"round\" style=\"stroke:green;stroke-width:1.053497942386831\" /><line x1=\"66.161\" y1=\"150.172\" x2=\"101.592\" y2=\"147.202\" stroke-linecap=\"round\" style=\"stroke:green;stroke-width:1.053497942386831\" /><line x1=\"101.592\" y1=\"147.202\" x2=\"151.299\" y2=\"166.532\" stroke-linecap=\"round\" style=\"stroke:green;stroke-width:1.053497942386831\" /><line x1=\"151.299\" y1=\"166.532\" x2=\"200.0\" y2=\"230.0\" stroke-linecap=\"round\" style=\"stroke:green;stroke-width:1.053497942386831\" /><line x1=\"200.0\" y1=\"230.0\" x2=\"199.99999999999986\" y2=\"240.0\" stroke-linecap=\"round\" style=\"stroke:green;stroke-width:1.053497942386831\" /><line x1=\"199.99999999999986\" y1=\"240.0\" x2=\"199.99999999999972\" y2=\"250.0\" stroke-linecap=\"round\" style=\"stroke:green;stroke-width:1.053497942386831\" /><line x1=\"199.99999999999972\" y1=\"250.0\" x2=\"199.99999999999957\" y2=\"260.0\" stroke-linecap=\"round\" style=\"stroke:green;stroke-width:1.053497942386831\" /><line x1=\"199.99999999999957\" y1=\"260.0\" x2=\"199.99999999999943\" y2=\"270.0\" stroke-linecap=\"round\" style=\"stroke:green;stroke-width:1.053497942386831\" /><line x1=\"199.99999999999943\" y1=\"270.0\" x2=\"199.9999999999993\" y2=\"280.0\" stroke-linecap=\"round\" style=\"stroke:green;stroke-width:1.053497942386831\" /><line x1=\"199.9999999999993\" y1=\"280.0\" x2=\"199.99999999999915\" y2=\"290.0\" stroke-linecap=\"round\" style=\"stroke:green;stroke-width:1.053497942386831\" /><line x1=\"199.99999999999915\" y1=\"290.0\" x2=\"199.999999999999\" y2=\"300.0\" stroke-linecap=\"round\" style=\"stroke:green;stroke-width:1.053497942386831\" /><line x1=\"199.999999999999\" y1=\"300.0\" x2=\"199.99999999999886\" y2=\"310.0\" stroke-linecap=\"round\" style=\"stroke:green;stroke-width:1.053497942386831\" /><line x1=\"199.99999999999886\" y1=\"310.0\" x2=\"199.99999999999872\" y2=\"320.0\" stroke-linecap=\"round\" style=\"stroke:green;stroke-width:1.053497942386831\" /><line x1=\"199.99999999999872\" y1=\"320.0\" x2=\"199.99999999999858\" y2=\"330.0\" stroke-linecap=\"round\" style=\"stroke:green;stroke-width:1.053497942386831\" /><line x1=\"199.99999999999858\" y1=\"330.0\" x2=\"199.99999999999844\" y2=\"340.0\" stroke-linecap=\"round\" style=\"stroke:green;stroke-width:1.053497942386831\" /><line x1=\"199.99999999999844\" y1=\"340.0\" x2=\"199.9999999999983\" y2=\"350.0\" stroke-linecap=\"round\" style=\"stroke:green;stroke-width:1.053497942386831\" />\n",
              "        \n",
              "        \n",
              "        <g id=\"classic\" visibility=\"visible\" transform=\"rotate(180.00000000000074,199.9999999999983,350.0) translate(199.9999999999983, 350.0)\">\n",
              "<polygon points=\"-5,-4.5 0,-2.5 5,-4.5 0,4.5\" transform=\"skewX(0) scale(1,1)\" style=\"stroke:green;fill:green;stroke-width:1\" />\n",
              "</g>\n",
              "      </svg>\n",
              "    "
            ]
          },
          "metadata": {}
        }
      ]
    },
    {
      "cell_type": "code",
      "source": [
        "# 테스트2\n",
        "clearscreen()\n",
        "setup(400,400)\n",
        "showborder()\n",
        "\n",
        "t = Turtle()\n",
        "t.speed(1000)\n",
        "t.left(90)\n",
        "t.up()\n",
        "t.backward(150)\n",
        "t.down()\n",
        "t.color(\"green\")\n",
        "tree(t, 100, branch_ratio=5/7, angle=30.0, angle_ratio=3/4)"
      ],
      "metadata": {
        "id": "oS3oy-2m1Jpr",
        "colab": {
          "base_uri": "https://localhost:8080/",
          "height": 421
        },
        "outputId": "0ca4f7b6-c93e-4af5-ffbb-e9c493a8ab83"
      },
      "execution_count": 48,
      "outputs": [
        {
          "output_type": "display_data",
          "data": {
            "text/plain": [
              "<IPython.core.display.HTML object>"
            ],
            "text/html": [
              "\n",
              "      <svg width=\"400\" height=\"400\">  \n",
              "        <rect width=\"100%\" height=\"100%\" style=\"fill:white;stroke:gray;stroke-width:1\"/>\n",
              "        \n",
              "        \n",
              "        <line x1=\"200.0\" y1=\"350.0\" x2=\"200.0\" y2=\"250.0\" stroke-linecap=\"round\" style=\"stroke:green;stroke-width:10.0\" /><line x1=\"200.0\" y1=\"250.0\" x2=\"227.335\" y2=\"184.009\" stroke-linecap=\"round\" style=\"stroke:green;stroke-width:7.142857142857143\" /><line x1=\"227.335\" y1=\"184.009\" x2=\"258.732\" y2=\"148.207\" stroke-linecap=\"round\" style=\"stroke:green;stroke-width:4.761904761904762\" /><line x1=\"258.732\" y1=\"148.207\" x2=\"285.319\" y2=\"130.859\" stroke-linecap=\"round\" style=\"stroke:green;stroke-width:3.174603174603175\" /><line x1=\"285.319\" y1=\"130.859\" x2=\"305.193\" y2=\"123.584\" stroke-linecap=\"round\" style=\"stroke:green;stroke-width:2.1164021164021163\" /><line x1=\"305.193\" y1=\"123.584\" x2=\"319.119\" y2=\"121.315\" stroke-linecap=\"round\" style=\"stroke:green;stroke-width:1.4109347442680775\" /><line x1=\"319.119\" y1=\"121.315\" x2=\"305.193\" y2=\"123.584\" stroke-linecap=\"round\" style=\"stroke:green;stroke-width:1.4109347442680775\" /><line x1=\"305.193\" y1=\"123.584\" x2=\"317.293\" y2=\"116.327\" stroke-linecap=\"round\" style=\"stroke:green;stroke-width:1.4109347442680775\" /><line x1=\"317.293\" y1=\"116.327\" x2=\"305.193\" y2=\"123.584\" stroke-linecap=\"round\" style=\"stroke:green;stroke-width:1.4109347442680775\" /><line x1=\"305.193\" y1=\"123.584\" x2=\"285.319\" y2=\"130.859\" stroke-linecap=\"round\" style=\"stroke:green;stroke-width:1.4109347442680775\" /><line x1=\"285.319\" y1=\"130.859\" x2=\"299.982\" y2=\"115.598\" stroke-linecap=\"round\" style=\"stroke:green;stroke-width:2.1164021164021163\" /><line x1=\"299.982\" y1=\"115.598\" x2=\"311.498\" y2=\"107.446\" stroke-linecap=\"round\" style=\"stroke:green;stroke-width:1.4109347442680775\" /><line x1=\"311.498\" y1=\"107.446\" x2=\"299.982\" y2=\"115.598\" stroke-linecap=\"round\" style=\"stroke:green;stroke-width:1.4109347442680775\" /><line x1=\"299.982\" y1=\"115.598\" x2=\"307.667\" y2=\"103.765\" stroke-linecap=\"round\" style=\"stroke:green;stroke-width:1.4109347442680775\" /><line x1=\"307.667\" y1=\"103.765\" x2=\"299.982\" y2=\"115.598\" stroke-linecap=\"round\" style=\"stroke:green;stroke-width:1.4109347442680775\" /><line x1=\"299.982\" y1=\"115.598\" x2=\"285.319\" y2=\"130.859\" stroke-linecap=\"round\" style=\"stroke:green;stroke-width:1.4109347442680775\" /><line x1=\"285.319\" y1=\"130.859\" x2=\"258.732\" y2=\"148.207\" stroke-linecap=\"round\" style=\"stroke:green;stroke-width:1.4109347442680775\" /><line x1=\"258.732\" y1=\"148.207\" x2=\"272.461\" y2=\"119.583\" stroke-linecap=\"round\" style=\"stroke:green;stroke-width:3.174603174603175\" /><line x1=\"272.461\" y1=\"119.583\" x2=\"285.678\" y2=\"103.053\" stroke-linecap=\"round\" style=\"stroke:green;stroke-width:2.1164021164021163\" /><line x1=\"285.678\" y1=\"103.053\" x2=\"296.406\" y2=\"93.889\" stroke-linecap=\"round\" style=\"stroke:green;stroke-width:1.4109347442680775\" /><line x1=\"296.406\" y1=\"93.889\" x2=\"285.678\" y2=\"103.053\" stroke-linecap=\"round\" style=\"stroke:green;stroke-width:1.4109347442680775\" /><line x1=\"285.678\" y1=\"103.053\" x2=\"292.257\" y2=\"90.572\" stroke-linecap=\"round\" style=\"stroke:green;stroke-width:1.4109347442680775\" /><line x1=\"292.257\" y1=\"90.572\" x2=\"285.678\" y2=\"103.053\" stroke-linecap=\"round\" style=\"stroke:green;stroke-width:1.4109347442680775\" /><line x1=\"285.678\" y1=\"103.053\" x2=\"272.461\" y2=\"119.583\" stroke-linecap=\"round\" style=\"stroke:green;stroke-width:1.4109347442680775\" /><line x1=\"272.461\" y1=\"119.583\" x2=\"277.079\" y2=\"98.929\" stroke-linecap=\"round\" style=\"stroke:green;stroke-width:2.1164021164021163\" /><line x1=\"277.079\" y1=\"98.929\" x2=\"282.695\" y2=\"85.985\" stroke-linecap=\"round\" style=\"stroke:green;stroke-width:1.4109347442680775\" /><line x1=\"282.695\" y1=\"85.985\" x2=\"277.079\" y2=\"98.929\" stroke-linecap=\"round\" style=\"stroke:green;stroke-width:1.4109347442680775\" /><line x1=\"277.079\" y1=\"98.929\" x2=\"277.511\" y2=\"84.826\" stroke-linecap=\"round\" style=\"stroke:green;stroke-width:1.4109347442680775\" /><line x1=\"277.511\" y1=\"84.826\" x2=\"277.079\" y2=\"98.929\" stroke-linecap=\"round\" style=\"stroke:green;stroke-width:1.4109347442680775\" /><line x1=\"277.079\" y1=\"98.929\" x2=\"272.461\" y2=\"119.583\" stroke-linecap=\"round\" style=\"stroke:green;stroke-width:1.4109347442680775\" /><line x1=\"272.461\" y1=\"119.583\" x2=\"258.732\" y2=\"148.207\" stroke-linecap=\"round\" style=\"stroke:green;stroke-width:1.4109347442680775\" /><line x1=\"258.732\" y1=\"148.207\" x2=\"227.335\" y2=\"184.009\" stroke-linecap=\"round\" style=\"stroke:green;stroke-width:1.4109347442680775\" /><line x1=\"227.335\" y1=\"184.009\" x2=\"230.449\" y2=\"136.492\" stroke-linecap=\"round\" style=\"stroke:green;stroke-width:4.761904761904762\" /><line x1=\"230.449\" y1=\"136.492\" x2=\"240.981\" y2=\"106.544\" stroke-linecap=\"round\" style=\"stroke:green;stroke-width:3.174603174603175\" /><line x1=\"240.981\" y1=\"106.544\" x2=\"252.32\" y2=\"88.674\" stroke-linecap=\"round\" style=\"stroke:green;stroke-width:2.1164021164021163\" /><line x1=\"252.32\" y1=\"88.674\" x2=\"261.987\" y2=\"78.397\" stroke-linecap=\"round\" style=\"stroke:green;stroke-width:1.4109347442680775\" /><line x1=\"261.987\" y1=\"78.397\" x2=\"252.32\" y2=\"88.674\" stroke-linecap=\"round\" style=\"stroke:green;stroke-width:1.4109347442680775\" /><line x1=\"252.32\" y1=\"88.674\" x2=\"257.501\" y2=\"75.55\" stroke-linecap=\"round\" style=\"stroke:green;stroke-width:1.4109347442680775\" /><line x1=\"257.501\" y1=\"75.55\" x2=\"252.32\" y2=\"88.674\" stroke-linecap=\"round\" style=\"stroke:green;stroke-width:1.4109347442680775\" /><line x1=\"252.32\" y1=\"88.674\" x2=\"240.981\" y2=\"106.544\" stroke-linecap=\"round\" style=\"stroke:green;stroke-width:1.4109347442680775\" /><line x1=\"240.981\" y1=\"106.544\" x2=\"243.323\" y2=\"85.51\" stroke-linecap=\"round\" style=\"stroke:green;stroke-width:2.1164021164021163\" /><line x1=\"243.323\" y1=\"85.51\" x2=\"247.496\" y2=\"72.032\" stroke-linecap=\"round\" style=\"stroke:green;stroke-width:1.4109347442680775\" /><line x1=\"247.496\" y1=\"72.032\" x2=\"243.323\" y2=\"85.51\" stroke-linecap=\"round\" style=\"stroke:green;stroke-width:1.4109347442680775\" /><line x1=\"243.323\" y1=\"85.51\" x2=\"242.217\" y2=\"71.444\" stroke-linecap=\"round\" style=\"stroke:green;stroke-width:1.4109347442680775\" /><line x1=\"242.217\" y1=\"71.444\" x2=\"243.323\" y2=\"85.51\" stroke-linecap=\"round\" style=\"stroke:green;stroke-width:1.4109347442680775\" /><line x1=\"243.323\" y1=\"85.51\" x2=\"240.981\" y2=\"106.544\" stroke-linecap=\"round\" style=\"stroke:green;stroke-width:1.4109347442680775\" /><line x1=\"240.981\" y1=\"106.544\" x2=\"230.449\" y2=\"136.492\" stroke-linecap=\"round\" style=\"stroke:green;stroke-width:1.4109347442680775\" /><line x1=\"230.449\" y1=\"136.492\" x2=\"223.916\" y2=\"105.425\" stroke-linecap=\"round\" style=\"stroke:green;stroke-width:3.174603174603175\" /><line x1=\"223.916\" y1=\"105.425\" x2=\"224.339\" y2=\"84.265\" stroke-linecap=\"round\" style=\"stroke:green;stroke-width:2.1164021164021163\" /><line x1=\"224.339\" y1=\"84.265\" x2=\"227.272\" y2=\"70.464\" stroke-linecap=\"round\" style=\"stroke:green;stroke-width:1.4109347442680775\" /><line x1=\"227.272\" y1=\"70.464\" x2=\"224.339\" y2=\"84.265\" stroke-linecap=\"round\" style=\"stroke:green;stroke-width:1.4109347442680775\" /><line x1=\"224.339\" y1=\"84.265\" x2=\"221.961\" y2=\"70.358\" stroke-linecap=\"round\" style=\"stroke:green;stroke-width:1.4109347442680775\" /><line x1=\"221.961\" y1=\"70.358\" x2=\"224.339\" y2=\"84.265\" stroke-linecap=\"round\" style=\"stroke:green;stroke-width:1.4109347442680775\" /><line x1=\"224.339\" y1=\"84.265\" x2=\"223.916\" y2=\"105.425\" stroke-linecap=\"round\" style=\"stroke:green;stroke-width:1.4109347442680775\" /><line x1=\"223.916\" y1=\"105.425\" x2=\"215.007\" y2=\"86.228\" stroke-linecap=\"round\" style=\"stroke:green;stroke-width:2.1164021164021163\" /><line x1=\"215.007\" y1=\"86.228\" x2=\"211.583\" y2=\"72.54\" stroke-linecap=\"round\" style=\"stroke:green;stroke-width:1.4109347442680775\" /><line x1=\"211.583\" y1=\"72.54\" x2=\"215.007\" y2=\"86.228\" stroke-linecap=\"round\" style=\"stroke:green;stroke-width:1.4109347442680775\" /><line x1=\"215.007\" y1=\"86.228\" x2=\"206.764\" y2=\"74.777\" stroke-linecap=\"round\" style=\"stroke:green;stroke-width:1.4109347442680775\" /><line x1=\"206.764\" y1=\"74.777\" x2=\"215.007\" y2=\"86.228\" stroke-linecap=\"round\" style=\"stroke:green;stroke-width:1.4109347442680775\" /><line x1=\"215.007\" y1=\"86.228\" x2=\"223.916\" y2=\"105.425\" stroke-linecap=\"round\" style=\"stroke:green;stroke-width:1.4109347442680775\" /><line x1=\"223.916\" y1=\"105.425\" x2=\"230.449\" y2=\"136.492\" stroke-linecap=\"round\" style=\"stroke:green;stroke-width:1.4109347442680775\" /><line x1=\"230.449\" y1=\"136.492\" x2=\"227.335\" y2=\"184.009\" stroke-linecap=\"round\" style=\"stroke:green;stroke-width:1.4109347442680775\" /><line x1=\"227.335\" y1=\"184.009\" x2=\"200.0\" y2=\"250.0\" stroke-linecap=\"round\" style=\"stroke:green;stroke-width:1.4109347442680775\" /><line x1=\"200.0\" y1=\"250.0\" x2=\"172.665\" y2=\"184.009\" stroke-linecap=\"round\" style=\"stroke:green;stroke-width:7.142857142857143\" /><line x1=\"172.665\" y1=\"184.009\" x2=\"169.551\" y2=\"136.492\" stroke-linecap=\"round\" style=\"stroke:green;stroke-width:4.761904761904762\" /><line x1=\"169.551\" y1=\"136.492\" x2=\"176.084\" y2=\"105.425\" stroke-linecap=\"round\" style=\"stroke:green;stroke-width:3.174603174603175\" /><line x1=\"176.084\" y1=\"105.425\" x2=\"184.993\" y2=\"86.228\" stroke-linecap=\"round\" style=\"stroke:green;stroke-width:2.1164021164021163\" /><line x1=\"184.993\" y1=\"86.228\" x2=\"193.236\" y2=\"74.777\" stroke-linecap=\"round\" style=\"stroke:green;stroke-width:1.4109347442680775\" /><line x1=\"193.236\" y1=\"74.777\" x2=\"184.993\" y2=\"86.228\" stroke-linecap=\"round\" style=\"stroke:green;stroke-width:1.4109347442680775\" /><line x1=\"184.993\" y1=\"86.228\" x2=\"188.417\" y2=\"72.54\" stroke-linecap=\"round\" style=\"stroke:green;stroke-width:1.4109347442680775\" /><line x1=\"188.417\" y1=\"72.54\" x2=\"184.993\" y2=\"86.228\" stroke-linecap=\"round\" style=\"stroke:green;stroke-width:1.4109347442680775\" /><line x1=\"184.993\" y1=\"86.228\" x2=\"176.084\" y2=\"105.425\" stroke-linecap=\"round\" style=\"stroke:green;stroke-width:1.4109347442680775\" /><line x1=\"176.084\" y1=\"105.425\" x2=\"175.661\" y2=\"84.265\" stroke-linecap=\"round\" style=\"stroke:green;stroke-width:2.1164021164021163\" /><line x1=\"175.661\" y1=\"84.265\" x2=\"178.039\" y2=\"70.358\" stroke-linecap=\"round\" style=\"stroke:green;stroke-width:1.4109347442680775\" /><line x1=\"178.039\" y1=\"70.358\" x2=\"175.661\" y2=\"84.265\" stroke-linecap=\"round\" style=\"stroke:green;stroke-width:1.4109347442680775\" /><line x1=\"175.661\" y1=\"84.265\" x2=\"172.728\" y2=\"70.464\" stroke-linecap=\"round\" style=\"stroke:green;stroke-width:1.4109347442680775\" /><line x1=\"172.728\" y1=\"70.464\" x2=\"175.661\" y2=\"84.265\" stroke-linecap=\"round\" style=\"stroke:green;stroke-width:1.4109347442680775\" /><line x1=\"175.661\" y1=\"84.265\" x2=\"176.084\" y2=\"105.425\" stroke-linecap=\"round\" style=\"stroke:green;stroke-width:1.4109347442680775\" /><line x1=\"176.084\" y1=\"105.425\" x2=\"169.551\" y2=\"136.492\" stroke-linecap=\"round\" style=\"stroke:green;stroke-width:1.4109347442680775\" /><line x1=\"169.551\" y1=\"136.492\" x2=\"159.019\" y2=\"106.544\" stroke-linecap=\"round\" style=\"stroke:green;stroke-width:3.174603174603175\" /><line x1=\"159.019\" y1=\"106.544\" x2=\"156.677\" y2=\"85.51\" stroke-linecap=\"round\" style=\"stroke:green;stroke-width:2.1164021164021163\" /><line x1=\"156.677\" y1=\"85.51\" x2=\"157.783\" y2=\"71.444\" stroke-linecap=\"round\" style=\"stroke:green;stroke-width:1.4109347442680775\" /><line x1=\"157.783\" y1=\"71.444\" x2=\"156.677\" y2=\"85.51\" stroke-linecap=\"round\" style=\"stroke:green;stroke-width:1.4109347442680775\" /><line x1=\"156.677\" y1=\"85.51\" x2=\"152.504\" y2=\"72.032\" stroke-linecap=\"round\" style=\"stroke:green;stroke-width:1.4109347442680775\" /><line x1=\"152.504\" y1=\"72.032\" x2=\"156.677\" y2=\"85.51\" stroke-linecap=\"round\" style=\"stroke:green;stroke-width:1.4109347442680775\" /><line x1=\"156.677\" y1=\"85.51\" x2=\"159.019\" y2=\"106.544\" stroke-linecap=\"round\" style=\"stroke:green;stroke-width:1.4109347442680775\" /><line x1=\"159.019\" y1=\"106.544\" x2=\"147.68\" y2=\"88.674\" stroke-linecap=\"round\" style=\"stroke:green;stroke-width:2.1164021164021163\" /><line x1=\"147.68\" y1=\"88.674\" x2=\"142.499\" y2=\"75.55\" stroke-linecap=\"round\" style=\"stroke:green;stroke-width:1.4109347442680775\" /><line x1=\"142.499\" y1=\"75.55\" x2=\"147.68\" y2=\"88.674\" stroke-linecap=\"round\" style=\"stroke:green;stroke-width:1.4109347442680775\" /><line x1=\"147.68\" y1=\"88.674\" x2=\"138.013\" y2=\"78.397\" stroke-linecap=\"round\" style=\"stroke:green;stroke-width:1.4109347442680775\" /><line x1=\"138.013\" y1=\"78.397\" x2=\"147.68\" y2=\"88.674\" stroke-linecap=\"round\" style=\"stroke:green;stroke-width:1.4109347442680775\" /><line x1=\"147.68\" y1=\"88.674\" x2=\"159.019\" y2=\"106.544\" stroke-linecap=\"round\" style=\"stroke:green;stroke-width:1.4109347442680775\" /><line x1=\"159.019\" y1=\"106.544\" x2=\"169.551\" y2=\"136.492\" stroke-linecap=\"round\" style=\"stroke:green;stroke-width:1.4109347442680775\" /><line x1=\"169.551\" y1=\"136.492\" x2=\"172.665\" y2=\"184.009\" stroke-linecap=\"round\" style=\"stroke:green;stroke-width:1.4109347442680775\" /><line x1=\"172.665\" y1=\"184.009\" x2=\"141.268\" y2=\"148.207\" stroke-linecap=\"round\" style=\"stroke:green;stroke-width:4.761904761904762\" /><line x1=\"141.268\" y1=\"148.207\" x2=\"127.539\" y2=\"119.583\" stroke-linecap=\"round\" style=\"stroke:green;stroke-width:3.174603174603175\" /><line x1=\"127.539\" y1=\"119.583\" x2=\"122.921\" y2=\"98.929\" stroke-linecap=\"round\" style=\"stroke:green;stroke-width:2.1164021164021163\" /><line x1=\"122.921\" y1=\"98.929\" x2=\"122.489\" y2=\"84.826\" stroke-linecap=\"round\" style=\"stroke:green;stroke-width:1.4109347442680775\" /><line x1=\"122.489\" y1=\"84.826\" x2=\"122.921\" y2=\"98.929\" stroke-linecap=\"round\" style=\"stroke:green;stroke-width:1.4109347442680775\" /><line x1=\"122.921\" y1=\"98.929\" x2=\"117.305\" y2=\"85.985\" stroke-linecap=\"round\" style=\"stroke:green;stroke-width:1.4109347442680775\" /><line x1=\"117.305\" y1=\"85.985\" x2=\"122.921\" y2=\"98.929\" stroke-linecap=\"round\" style=\"stroke:green;stroke-width:1.4109347442680775\" /><line x1=\"122.921\" y1=\"98.929\" x2=\"127.539\" y2=\"119.583\" stroke-linecap=\"round\" style=\"stroke:green;stroke-width:1.4109347442680775\" /><line x1=\"127.539\" y1=\"119.583\" x2=\"114.322\" y2=\"103.053\" stroke-linecap=\"round\" style=\"stroke:green;stroke-width:2.1164021164021163\" /><line x1=\"114.322\" y1=\"103.053\" x2=\"107.743\" y2=\"90.572\" stroke-linecap=\"round\" style=\"stroke:green;stroke-width:1.4109347442680775\" /><line x1=\"107.743\" y1=\"90.572\" x2=\"114.322\" y2=\"103.053\" stroke-linecap=\"round\" style=\"stroke:green;stroke-width:1.4109347442680775\" /><line x1=\"114.322\" y1=\"103.053\" x2=\"103.594\" y2=\"93.889\" stroke-linecap=\"round\" style=\"stroke:green;stroke-width:1.4109347442680775\" /><line x1=\"103.594\" y1=\"93.889\" x2=\"114.322\" y2=\"103.053\" stroke-linecap=\"round\" style=\"stroke:green;stroke-width:1.4109347442680775\" /><line x1=\"114.322\" y1=\"103.053\" x2=\"127.539\" y2=\"119.583\" stroke-linecap=\"round\" style=\"stroke:green;stroke-width:1.4109347442680775\" /><line x1=\"127.539\" y1=\"119.583\" x2=\"141.268\" y2=\"148.207\" stroke-linecap=\"round\" style=\"stroke:green;stroke-width:1.4109347442680775\" /><line x1=\"141.268\" y1=\"148.207\" x2=\"114.681\" y2=\"130.859\" stroke-linecap=\"round\" style=\"stroke:green;stroke-width:3.174603174603175\" /><line x1=\"114.681\" y1=\"130.859\" x2=\"100.018\" y2=\"115.598\" stroke-linecap=\"round\" style=\"stroke:green;stroke-width:2.1164021164021163\" /><line x1=\"100.018\" y1=\"115.598\" x2=\"92.333\" y2=\"103.765\" stroke-linecap=\"round\" style=\"stroke:green;stroke-width:1.4109347442680775\" /><line x1=\"92.333\" y1=\"103.765\" x2=\"100.018\" y2=\"115.598\" stroke-linecap=\"round\" style=\"stroke:green;stroke-width:1.4109347442680775\" /><line x1=\"100.018\" y1=\"115.598\" x2=\"88.502\" y2=\"107.446\" stroke-linecap=\"round\" style=\"stroke:green;stroke-width:1.4109347442680775\" /><line x1=\"88.502\" y1=\"107.446\" x2=\"100.018\" y2=\"115.598\" stroke-linecap=\"round\" style=\"stroke:green;stroke-width:1.4109347442680775\" /><line x1=\"100.018\" y1=\"115.598\" x2=\"114.681\" y2=\"130.859\" stroke-linecap=\"round\" style=\"stroke:green;stroke-width:1.4109347442680775\" /><line x1=\"114.681\" y1=\"130.859\" x2=\"94.807\" y2=\"123.584\" stroke-linecap=\"round\" style=\"stroke:green;stroke-width:2.1164021164021163\" /><line x1=\"94.807\" y1=\"123.584\" x2=\"82.707\" y2=\"116.327\" stroke-linecap=\"round\" style=\"stroke:green;stroke-width:1.4109347442680775\" /><line x1=\"82.707\" y1=\"116.327\" x2=\"94.807\" y2=\"123.584\" stroke-linecap=\"round\" style=\"stroke:green;stroke-width:1.4109347442680775\" /><line x1=\"94.807\" y1=\"123.584\" x2=\"80.881\" y2=\"121.315\" stroke-linecap=\"round\" style=\"stroke:green;stroke-width:1.4109347442680775\" /><line x1=\"80.881\" y1=\"121.315\" x2=\"94.807\" y2=\"123.584\" stroke-linecap=\"round\" style=\"stroke:green;stroke-width:1.4109347442680775\" /><line x1=\"94.807\" y1=\"123.584\" x2=\"114.681\" y2=\"130.859\" stroke-linecap=\"round\" style=\"stroke:green;stroke-width:1.4109347442680775\" /><line x1=\"114.681\" y1=\"130.859\" x2=\"141.268\" y2=\"148.207\" stroke-linecap=\"round\" style=\"stroke:green;stroke-width:1.4109347442680775\" /><line x1=\"141.268\" y1=\"148.207\" x2=\"172.665\" y2=\"184.009\" stroke-linecap=\"round\" style=\"stroke:green;stroke-width:1.4109347442680775\" /><line x1=\"172.665\" y1=\"184.009\" x2=\"200.0\" y2=\"250.0\" stroke-linecap=\"round\" style=\"stroke:green;stroke-width:1.4109347442680775\" /><line x1=\"200.0\" y1=\"250.0\" x2=\"199.99999999999997\" y2=\"260.0\" stroke-linecap=\"round\" style=\"stroke:green;stroke-width:1.4109347442680775\" /><line x1=\"199.99999999999997\" y1=\"260.0\" x2=\"199.99999999999994\" y2=\"270.0\" stroke-linecap=\"round\" style=\"stroke:green;stroke-width:1.4109347442680775\" /><line x1=\"199.99999999999994\" y1=\"270.0\" x2=\"199.99999999999991\" y2=\"280.0\" stroke-linecap=\"round\" style=\"stroke:green;stroke-width:1.4109347442680775\" /><line x1=\"199.99999999999991\" y1=\"280.0\" x2=\"199.9999999999999\" y2=\"290.0\" stroke-linecap=\"round\" style=\"stroke:green;stroke-width:1.4109347442680775\" /><line x1=\"199.9999999999999\" y1=\"290.0\" x2=\"199.99999999999986\" y2=\"300.0\" stroke-linecap=\"round\" style=\"stroke:green;stroke-width:1.4109347442680775\" /><line x1=\"199.99999999999986\" y1=\"300.0\" x2=\"199.99999999999983\" y2=\"310.0\" stroke-linecap=\"round\" style=\"stroke:green;stroke-width:1.4109347442680775\" /><line x1=\"199.99999999999983\" y1=\"310.0\" x2=\"199.9999999999998\" y2=\"320.0\" stroke-linecap=\"round\" style=\"stroke:green;stroke-width:1.4109347442680775\" /><line x1=\"199.9999999999998\" y1=\"320.0\" x2=\"199.99999999999977\" y2=\"330.0\" stroke-linecap=\"round\" style=\"stroke:green;stroke-width:1.4109347442680775\" /><line x1=\"199.99999999999977\" y1=\"330.0\" x2=\"199.99999999999974\" y2=\"340.0\" stroke-linecap=\"round\" style=\"stroke:green;stroke-width:1.4109347442680775\" /><line x1=\"199.99999999999974\" y1=\"340.0\" x2=\"199.99999999999972\" y2=\"350.0\" stroke-linecap=\"round\" style=\"stroke:green;stroke-width:1.4109347442680775\" />\n",
              "        \n",
              "        \n",
              "        <g id=\"classic\" visibility=\"visible\" transform=\"rotate(180.00000000000023,199.99999999999972,350.0) translate(199.99999999999972, 350.0)\">\n",
              "<polygon points=\"-5,-4.5 0,-2.5 5,-4.5 0,4.5\" transform=\"skewX(0) scale(1,1)\" style=\"stroke:green;fill:green;stroke-width:1\" />\n",
              "</g>\n",
              "      </svg>\n",
              "    "
            ]
          },
          "metadata": {}
        }
      ]
    },
    {
      "cell_type": "markdown",
      "source": [
        "## 문제 17. (20점) 비대칭적 프랙탈 트리를 그릴 수 있도록 일반화\n",
        "\n",
        "앞 문제의 `tree` 함수에서 `branch_ratio`와 `angle`을 각각 하나의 수가 아닌 두 수의 순서쌍으로 설정하여 왼쪽과 오른쪽 가지에 다르게 적용되도록 변경하여 비대칭적인 프랙탈 트리를 그릴 수 있는 `tree2` 함수로 일반화하라. 순서쌍의 첫번째 요소가 왼쪽, 두번째 요소가 오른쪽에 대응되도록 하라.\n",
        "\n",
        "함수를 작성한 다음에는 6번 이상 가지치는 적절히 아름다운 모양의 비대칭적인 트리를 그리는 두 개 이상의 테스트 실행을 해보라.\n"
      ],
      "metadata": {
        "id": "z3Oum8ma2ldI"
      }
    },
    {
      "cell_type": "code",
      "source": [
        "!pip install ColabTurtlePlus"
      ],
      "metadata": {
        "id": "UyFvpuFF4Hli",
        "colab": {
          "base_uri": "https://localhost:8080/"
        },
        "outputId": "f4d9d0ee-c1d8-446e-a685-8d60ce96069d"
      },
      "execution_count": 3,
      "outputs": [
        {
          "output_type": "stream",
          "name": "stdout",
          "text": [
            "Looking in indexes: https://pypi.org/simple, https://us-python.pkg.dev/colab-wheels/public/simple/\n",
            "Requirement already satisfied: ColabTurtlePlus in /usr/local/lib/python3.10/dist-packages (2.0.1)\n"
          ]
        }
      ]
    },
    {
      "cell_type": "code",
      "source": [
        "def tree2(t, branch_len, branch_ratio=(5/7,5/7), angle=(30.0,30.0), angle_ratio=3/4):\n",
        "    if branch_len >= 5:           # 종료조건: branch_len < 5\n",
        "        t.width( max(1, branch_len/10) )\n",
        "        t.forward(branch_len)\n",
        "\t\n",
        "        new_left_angle = angle[0] * angle_ratio\n",
        "        new_right_angle = angle[1] * angle_ratio\n",
        "        t.right(new_right_angle)\n",
        "        new_left_branch = max(1, branch_len * branch_ratio[0])\n",
        "        new_right_branch = max(1, branch_len * branch_ratio[1])\n",
        "        tree2(t, new_right_branch, branch_ratio, (new_left_angle, new_right_angle), angle_ratio)\n",
        "        t.left(new_right_angle + new_left_angle)\n",
        "        tree2(t, new_left_branch, branch_ratio, (new_left_angle, new_right_angle), angle_ratio)\n",
        "        t.right(new_left_angle)\n",
        "\n",
        "        t.backward(branch_len)"
      ],
      "metadata": {
        "id": "E5_wvUgU4KD2"
      },
      "execution_count": 17,
      "outputs": []
    },
    {
      "cell_type": "code",
      "source": [
        "clearscreen()\n",
        "setup(400,400)\n",
        "showborder()\n",
        "\n",
        "t = Turtle()\n",
        "t.speed(1000)\n",
        "t.left(90)\n",
        "t.up()\n",
        "t.backward(150)\n",
        "t.down()\n",
        "t.color(\"green\")\n",
        "tree2(t, 100, branch_ratio=(3/7, 5/7), angle=(40.0, 50.0), angle_ratio=3/4)"
      ],
      "metadata": {
        "colab": {
          "base_uri": "https://localhost:8080/",
          "height": 421
        },
        "id": "JxDWL0kgj8Oz",
        "outputId": "595dbbe3-7cd7-43cf-ac03-80f0a0cde26a"
      },
      "execution_count": 18,
      "outputs": [
        {
          "output_type": "display_data",
          "data": {
            "text/plain": [
              "<IPython.core.display.HTML object>"
            ],
            "text/html": [
              "\n",
              "      <svg width=\"400\" height=\"400\">  \n",
              "        <rect width=\"100%\" height=\"100%\" style=\"fill:white;stroke:gray;stroke-width:1\"/>\n",
              "        \n",
              "        \n",
              "        <line x1=\"200.0\" y1=\"350.0\" x2=\"200.0\" y2=\"250.0\" stroke-linecap=\"round\" style=\"stroke:green;stroke-width:10.0\" /><line x1=\"200.0\" y1=\"250.0\" x2=\"243.483\" y2=\"193.332\" stroke-linecap=\"round\" style=\"stroke:green;stroke-width:7.142857142857143\" /><line x1=\"243.483\" y1=\"193.332\" x2=\"289.956\" y2=\"172.276\" stroke-linecap=\"round\" style=\"stroke:green;stroke-width:5.1020408163265305\" /><line x1=\"289.956\" y1=\"172.276\" x2=\"326.339\" y2=\"170.19\" stroke-linecap=\"round\" style=\"stroke:green;stroke-width:3.6443148688046647\" /><line x1=\"326.339\" y1=\"170.19\" x2=\"351.749\" y2=\"175.841\" stroke-linecap=\"round\" style=\"stroke:green;stroke-width:2.603082049146189\" /><line x1=\"351.749\" y1=\"175.841\" x2=\"368.681\" y2=\"183.523\" stroke-linecap=\"round\" style=\"stroke:green;stroke-width:1.8593443208187064\" /><line x1=\"368.681\" y1=\"183.523\" x2=\"379.781\" y2=\"190.815\" stroke-linecap=\"round\" style=\"stroke:green;stroke-width:1.3281030862990761\" /><line x1=\"379.781\" y1=\"190.815\" x2=\"387.05\" y2=\"196.91\" stroke-linecap=\"round\" style=\"stroke:green;stroke-width:1\" /><line x1=\"387.05\" y1=\"196.91\" x2=\"391.843\" y2=\"201.7\" stroke-linecap=\"round\" style=\"stroke:green;stroke-width:1\" /><line x1=\"391.843\" y1=\"201.7\" x2=\"387.05\" y2=\"196.91\" stroke-linecap=\"round\" style=\"stroke:green;stroke-width:1\" /><line x1=\"387.05\" y1=\"196.91\" x2=\"379.781\" y2=\"190.815\" stroke-linecap=\"round\" style=\"stroke:green;stroke-width:1\" /><line x1=\"379.781\" y1=\"190.815\" x2=\"384.808\" y2=\"193.484\" stroke-linecap=\"round\" style=\"stroke:green;stroke-width:1\" /><line x1=\"384.808\" y1=\"193.484\" x2=\"379.781\" y2=\"190.815\" stroke-linecap=\"round\" style=\"stroke:green;stroke-width:1\" /><line x1=\"379.781\" y1=\"190.815\" x2=\"368.681\" y2=\"183.523\" stroke-linecap=\"round\" style=\"stroke:green;stroke-width:1\" /><line x1=\"368.681\" y1=\"183.523\" x2=\"376.29\" y2=\"185.891\" stroke-linecap=\"round\" style=\"stroke:green;stroke-width:1\" /><line x1=\"376.29\" y1=\"185.891\" x2=\"381.491\" y2=\"188.202\" stroke-linecap=\"round\" style=\"stroke:green;stroke-width:1\" /><line x1=\"381.491\" y1=\"188.202\" x2=\"376.29\" y2=\"185.891\" stroke-linecap=\"round\" style=\"stroke:green;stroke-width:1\" /><line x1=\"376.29\" y1=\"185.891\" x2=\"368.681\" y2=\"183.523\" stroke-linecap=\"round\" style=\"stroke:green;stroke-width:1\" /><line x1=\"368.681\" y1=\"183.523\" x2=\"351.749\" y2=\"175.841\" stroke-linecap=\"round\" style=\"stroke:green;stroke-width:1\" /><line x1=\"351.749\" y1=\"175.841\" x2=\"362.889\" y2=\"176.434\" stroke-linecap=\"round\" style=\"stroke:green;stroke-width:1.115606592491224\" /><line x1=\"362.889\" y1=\"176.434\" x2=\"370.685\" y2=\"178.083\" stroke-linecap=\"round\" style=\"stroke:green;stroke-width:1\" /><line x1=\"370.685\" y1=\"178.083\" x2=\"376.079\" y2=\"179.9\" stroke-linecap=\"round\" style=\"stroke:green;stroke-width:1\" /><line x1=\"376.079\" y1=\"179.9\" x2=\"370.685\" y2=\"178.083\" stroke-linecap=\"round\" style=\"stroke:green;stroke-width:1\" /><line x1=\"370.685\" y1=\"178.083\" x2=\"362.889\" y2=\"176.434\" stroke-linecap=\"round\" style=\"stroke:green;stroke-width:1\" /><line x1=\"362.889\" y1=\"176.434\" x2=\"351.749\" y2=\"175.841\" stroke-linecap=\"round\" style=\"stroke:green;stroke-width:1\" /><line x1=\"351.749\" y1=\"175.841\" x2=\"326.339\" y2=\"170.19\" stroke-linecap=\"round\" style=\"stroke:green;stroke-width:1\" /><line x1=\"326.339\" y1=\"170.19\" x2=\"341.357\" y2=\"165.901\" stroke-linecap=\"round\" style=\"stroke:green;stroke-width:1.5618492294877133\" /><line x1=\"341.357\" y1=\"165.901\" x2=\"352.485\" y2=\"165.109\" stroke-linecap=\"round\" style=\"stroke:green;stroke-width:1.115606592491224\" /><line x1=\"352.485\" y1=\"165.109\" x2=\"360.425\" y2=\"165.779\" stroke-linecap=\"round\" style=\"stroke:green;stroke-width:1\" /><line x1=\"360.425\" y1=\"165.779\" x2=\"366.003\" y2=\"166.914\" stroke-linecap=\"round\" style=\"stroke:green;stroke-width:1\" /><line x1=\"366.003\" y1=\"166.914\" x2=\"360.425\" y2=\"165.779\" stroke-linecap=\"round\" style=\"stroke:green;stroke-width:1\" /><line x1=\"360.425\" y1=\"165.779\" x2=\"352.485\" y2=\"165.109\" stroke-linecap=\"round\" style=\"stroke:green;stroke-width:1\" /><line x1=\"352.485\" y1=\"165.109\" x2=\"341.357\" y2=\"165.901\" stroke-linecap=\"round\" style=\"stroke:green;stroke-width:1\" /><line x1=\"341.357\" y1=\"165.901\" x2=\"347.402\" y2=\"163.027\" stroke-linecap=\"round\" style=\"stroke:green;stroke-width:1\" /><line x1=\"347.402\" y1=\"163.027\" x2=\"341.357\" y2=\"165.901\" stroke-linecap=\"round\" style=\"stroke:green;stroke-width:1\" /><line x1=\"341.357\" y1=\"165.901\" x2=\"326.339\" y2=\"170.19\" stroke-linecap=\"round\" style=\"stroke:green;stroke-width:1\" /><line x1=\"326.339\" y1=\"170.19\" x2=\"289.956\" y2=\"172.276\" stroke-linecap=\"round\" style=\"stroke:green;stroke-width:1\" /><line x1=\"289.956\" y1=\"172.276\" x2=\"306.396\" y2=\"157.859\" stroke-linecap=\"round\" style=\"stroke:green;stroke-width:2.186588921282799\" /><line x1=\"306.396\" y1=\"157.859\" x2=\"320.501\" y2=\"151.152\" stroke-linecap=\"round\" style=\"stroke:green;stroke-width:1.5618492294877133\" /><line x1=\"320.501\" y1=\"151.152\" x2=\"331.346\" y2=\"148.535\" stroke-linecap=\"round\" style=\"stroke:green;stroke-width:1.115606592491224\" /><line x1=\"331.346\" y1=\"148.535\" x2=\"339.288\" y2=\"147.887\" stroke-linecap=\"round\" style=\"stroke:green;stroke-width:1\" /><line x1=\"339.288\" y1=\"147.887\" x2=\"344.976\" y2=\"148.087\" stroke-linecap=\"round\" style=\"stroke:green;stroke-width:1\" /><line x1=\"344.976\" y1=\"148.087\" x2=\"339.288\" y2=\"147.887\" stroke-linecap=\"round\" style=\"stroke:green;stroke-width:1\" /><line x1=\"339.288\" y1=\"147.887\" x2=\"331.346\" y2=\"148.535\" stroke-linecap=\"round\" style=\"stroke:green;stroke-width:1\" /><line x1=\"331.346\" y1=\"148.535\" x2=\"320.501\" y2=\"151.152\" stroke-linecap=\"round\" style=\"stroke:green;stroke-width:1\" /><line x1=\"320.501\" y1=\"151.152\" x2=\"325.989\" y2=\"147.32\" stroke-linecap=\"round\" style=\"stroke:green;stroke-width:1\" /><line x1=\"325.989\" y1=\"147.32\" x2=\"320.501\" y2=\"151.152\" stroke-linecap=\"round\" style=\"stroke:green;stroke-width:1\" /><line x1=\"320.501\" y1=\"151.152\" x2=\"306.396\" y2=\"157.859\" stroke-linecap=\"round\" style=\"stroke:green;stroke-width:1\" /><line x1=\"306.396\" y1=\"157.859\" x2=\"311.917\" y2=\"150.287\" stroke-linecap=\"round\" style=\"stroke:green;stroke-width:1\" /><line x1=\"311.917\" y1=\"150.287\" x2=\"316.888\" y2=\"145.805\" stroke-linecap=\"round\" style=\"stroke:green;stroke-width:1\" /><line x1=\"316.888\" y1=\"145.805\" x2=\"311.917\" y2=\"150.287\" stroke-linecap=\"round\" style=\"stroke:green;stroke-width:1\" /><line x1=\"311.917\" y1=\"150.287\" x2=\"306.396\" y2=\"157.859\" stroke-linecap=\"round\" style=\"stroke:green;stroke-width:1\" /><line x1=\"306.396\" y1=\"157.859\" x2=\"289.956\" y2=\"172.276\" stroke-linecap=\"round\" style=\"stroke:green;stroke-width:1\" /><line x1=\"289.956\" y1=\"172.276\" x2=\"243.483\" y2=\"193.332\" stroke-linecap=\"round\" style=\"stroke:green;stroke-width:1\" /><line x1=\"243.483\" y1=\"193.332\" x2=\"251.406\" y2=\"163.763\" stroke-linecap=\"round\" style=\"stroke:green;stroke-width:3.061224489795918\" /><line x1=\"251.406\" y1=\"163.763\" x2=\"264.287\" y2=\"146.094\" stroke-linecap=\"round\" style=\"stroke:green;stroke-width:2.186588921282799\" /><line x1=\"264.287\" y1=\"146.094\" x2=\"276.58\" y2=\"136.46\" stroke-linecap=\"round\" style=\"stroke:green;stroke-width:1.5618492294877133\" /><line x1=\"276.58\" y1=\"136.46\" x2=\"286.588\" y2=\"131.531\" stroke-linecap=\"round\" style=\"stroke:green;stroke-width:1.115606592491224\" /><line x1=\"286.588\" y1=\"131.531\" x2=\"294.195\" y2=\"129.158\" stroke-linecap=\"round\" style=\"stroke:green;stroke-width:1\" /><line x1=\"294.195\" y1=\"129.158\" x2=\"299.789\" y2=\"128.106\" stroke-linecap=\"round\" style=\"stroke:green;stroke-width:1\" /><line x1=\"299.789\" y1=\"128.106\" x2=\"294.195\" y2=\"129.158\" stroke-linecap=\"round\" style=\"stroke:green;stroke-width:1\" /><line x1=\"294.195\" y1=\"129.158\" x2=\"286.588\" y2=\"131.531\" stroke-linecap=\"round\" style=\"stroke:green;stroke-width:1\" /><line x1=\"286.588\" y1=\"131.531\" x2=\"276.58\" y2=\"136.46\" stroke-linecap=\"round\" style=\"stroke:green;stroke-width:1\" /><line x1=\"276.58\" y1=\"136.46\" x2=\"281.095\" y2=\"131.519\" stroke-linecap=\"round\" style=\"stroke:green;stroke-width:1\" /><line x1=\"281.095\" y1=\"131.519\" x2=\"276.58\" y2=\"136.46\" stroke-linecap=\"round\" style=\"stroke:green;stroke-width:1\" /><line x1=\"276.58\" y1=\"136.46\" x2=\"264.287\" y2=\"146.094\" stroke-linecap=\"round\" style=\"stroke:green;stroke-width:1\" /><line x1=\"264.287\" y1=\"146.094\" x2=\"268.014\" y2=\"137.496\" stroke-linecap=\"round\" style=\"stroke:green;stroke-width:1\" /><line x1=\"268.014\" y1=\"137.496\" x2=\"271.882\" y2=\"132.033\" stroke-linecap=\"round\" style=\"stroke:green;stroke-width:1\" /><line x1=\"271.882\" y1=\"132.033\" x2=\"268.014\" y2=\"137.496\" stroke-linecap=\"round\" style=\"stroke:green;stroke-width:1\" /><line x1=\"268.014\" y1=\"137.496\" x2=\"264.287\" y2=\"146.094\" stroke-linecap=\"round\" style=\"stroke:green;stroke-width:1\" /><line x1=\"264.287\" y1=\"146.094\" x2=\"251.406\" y2=\"163.763\" stroke-linecap=\"round\" style=\"stroke:green;stroke-width:1\" /><line x1=\"251.406\" y1=\"163.763\" x2=\"250.977\" y2=\"150.65\" stroke-linecap=\"round\" style=\"stroke:green;stroke-width:1.3119533527696792\" /><line x1=\"250.977\" y1=\"150.65\" x2=\"253.235\" y2=\"141.555\" stroke-linecap=\"round\" style=\"stroke:green;stroke-width:1\" /><line x1=\"253.235\" y1=\"141.555\" x2=\"256.149\" y2=\"135.529\" stroke-linecap=\"round\" style=\"stroke:green;stroke-width:1\" /><line x1=\"256.149\" y1=\"135.529\" x2=\"253.235\" y2=\"141.555\" stroke-linecap=\"round\" style=\"stroke:green;stroke-width:1\" /><line x1=\"253.235\" y1=\"141.555\" x2=\"250.977\" y2=\"150.65\" stroke-linecap=\"round\" style=\"stroke:green;stroke-width:1\" /><line x1=\"250.977\" y1=\"150.65\" x2=\"249.566\" y2=\"145.207\" stroke-linecap=\"round\" style=\"stroke:green;stroke-width:1\" /><line x1=\"249.566\" y1=\"145.207\" x2=\"250.977\" y2=\"150.65\" stroke-linecap=\"round\" style=\"stroke:green;stroke-width:1\" /><line x1=\"250.977\" y1=\"150.65\" x2=\"251.406\" y2=\"163.763\" stroke-linecap=\"round\" style=\"stroke:green;stroke-width:1\" /><line x1=\"251.406\" y1=\"163.763\" x2=\"243.483\" y2=\"193.332\" stroke-linecap=\"round\" style=\"stroke:green;stroke-width:1\" /><line x1=\"243.483\" y1=\"193.332\" x2=\"200.0\" y2=\"250.0\" stroke-linecap=\"round\" style=\"stroke:green;stroke-width:1\" /><line x1=\"200.0\" y1=\"250.0\" x2=\"178.571\" y2=\"212.885\" stroke-linecap=\"round\" style=\"stroke:green;stroke-width:4.285714285714286\" /><line x1=\"178.571\" y1=\"212.885\" x2=\"177.569\" y2=\"182.289\" stroke-linecap=\"round\" style=\"stroke:green;stroke-width:3.061224489795918\" /><line x1=\"177.569\" y1=\"182.289\" x2=\"184.767\" y2=\"161.642\" stroke-linecap=\"round\" style=\"stroke:green;stroke-width:2.186588921282799\" /><line x1=\"184.767\" y1=\"161.642\" x2=\"193.734\" y2=\"148.854\" stroke-linecap=\"round\" style=\"stroke:green;stroke-width:1.5618492294877133\" /><line x1=\"193.734\" y1=\"148.854\" x2=\"201.88\" y2=\"141.232\" stroke-linecap=\"round\" style=\"stroke:green;stroke-width:1.115606592491224\" /><line x1=\"201.88\" y1=\"141.232\" x2=\"208.471\" y2=\"136.753\" stroke-linecap=\"round\" style=\"stroke:green;stroke-width:1\" /><line x1=\"208.471\" y1=\"136.753\" x2=\"213.519\" y2=\"134.123\" stroke-linecap=\"round\" style=\"stroke:green;stroke-width:1\" /><line x1=\"213.519\" y1=\"134.123\" x2=\"208.471\" y2=\"136.753\" stroke-linecap=\"round\" style=\"stroke:green;stroke-width:1\" /><line x1=\"208.471\" y1=\"136.753\" x2=\"201.88\" y2=\"141.232\" stroke-linecap=\"round\" style=\"stroke:green;stroke-width:1\" /><line x1=\"201.88\" y1=\"141.232\" x2=\"193.734\" y2=\"148.854\" stroke-linecap=\"round\" style=\"stroke:green;stroke-width:1\" /><line x1=\"193.734\" y1=\"148.854\" x2=\"196.621\" y2=\"142.815\" stroke-linecap=\"round\" style=\"stroke:green;stroke-width:1\" /><line x1=\"196.621\" y1=\"142.815\" x2=\"193.734\" y2=\"148.854\" stroke-linecap=\"round\" style=\"stroke:green;stroke-width:1\" /><line x1=\"193.734\" y1=\"148.854\" x2=\"184.767\" y2=\"161.642\" stroke-linecap=\"round\" style=\"stroke:green;stroke-width:1\" /><line x1=\"184.767\" y1=\"161.642\" x2=\"185.838\" y2=\"152.332\" stroke-linecap=\"round\" style=\"stroke:green;stroke-width:1\" /><line x1=\"185.838\" y1=\"152.332\" x2=\"187.954\" y2=\"145.982\" stroke-linecap=\"round\" style=\"stroke:green;stroke-width:1\" /><line x1=\"187.954\" y1=\"145.982\" x2=\"185.838\" y2=\"152.332\" stroke-linecap=\"round\" style=\"stroke:green;stroke-width:1\" /><line x1=\"185.838\" y1=\"152.332\" x2=\"184.767\" y2=\"161.642\" stroke-linecap=\"round\" style=\"stroke:green;stroke-width:1\" /><line x1=\"184.767\" y1=\"161.642\" x2=\"177.569\" y2=\"182.289\" stroke-linecap=\"round\" style=\"stroke:green;stroke-width:1\" /><line x1=\"177.569\" y1=\"182.289\" x2=\"173.352\" y2=\"169.866\" stroke-linecap=\"round\" style=\"stroke:green;stroke-width:1.3119533527696792\" /><line x1=\"173.352\" y1=\"169.866\" x2=\"172.873\" y2=\"160.507\" stroke-linecap=\"round\" style=\"stroke:green;stroke-width:1\" /><line x1=\"172.873\" y1=\"160.507\" x2=\"173.913\" y2=\"153.895\" stroke-linecap=\"round\" style=\"stroke:green;stroke-width:1\" /><line x1=\"173.913\" y1=\"153.895\" x2=\"172.873\" y2=\"160.507\" stroke-linecap=\"round\" style=\"stroke:green;stroke-width:1\" /><line x1=\"172.873\" y1=\"160.507\" x2=\"173.352\" y2=\"169.866\" stroke-linecap=\"round\" style=\"stroke:green;stroke-width:1\" /><line x1=\"173.352\" y1=\"169.866\" x2=\"170.422\" y2=\"165.067\" stroke-linecap=\"round\" style=\"stroke:green;stroke-width:1\" /><line x1=\"170.422\" y1=\"165.067\" x2=\"173.352\" y2=\"169.866\" stroke-linecap=\"round\" style=\"stroke:green;stroke-width:1\" /><line x1=\"173.352\" y1=\"169.866\" x2=\"177.569\" y2=\"182.289\" stroke-linecap=\"round\" style=\"stroke:green;stroke-width:1\" /><line x1=\"177.569\" y1=\"182.289\" x2=\"178.571\" y2=\"212.885\" stroke-linecap=\"round\" style=\"stroke:green;stroke-width:1\" /><line x1=\"178.571\" y1=\"212.885\" x2=\"163.999\" y2=\"201.704\" stroke-linecap=\"round\" style=\"stroke:green;stroke-width:1.8367346938775508\" /><line x1=\"163.999\" y1=\"201.704\" x2=\"157.162\" y2=\"190.507\" stroke-linecap=\"round\" style=\"stroke:green;stroke-width:1.3119533527696792\" /><line x1=\"157.162\" y1=\"190.507\" x2=\"154.644\" y2=\"181.48\" stroke-linecap=\"round\" style=\"stroke:green;stroke-width:1\" /><line x1=\"154.644\" y1=\"181.48\" x2=\"154.21\" y2=\"174.8\" stroke-linecap=\"round\" style=\"stroke:green;stroke-width:1\" /><line x1=\"154.21\" y1=\"174.8\" x2=\"154.644\" y2=\"181.48\" stroke-linecap=\"round\" style=\"stroke:green;stroke-width:1\" /><line x1=\"154.644\" y1=\"181.48\" x2=\"157.162\" y2=\"190.507\" stroke-linecap=\"round\" style=\"stroke:green;stroke-width:1\" /><line x1=\"157.162\" y1=\"190.507\" x2=\"153.252\" y2=\"186.467\" stroke-linecap=\"round\" style=\"stroke:green;stroke-width:1\" /><line x1=\"153.252\" y1=\"186.467\" x2=\"157.162\" y2=\"190.507\" stroke-linecap=\"round\" style=\"stroke:green;stroke-width:1\" /><line x1=\"157.162\" y1=\"190.507\" x2=\"163.999\" y2=\"201.704\" stroke-linecap=\"round\" style=\"stroke:green;stroke-width:1\" /><line x1=\"163.999\" y1=\"201.704\" x2=\"156.632\" y2=\"198.931\" stroke-linecap=\"round\" style=\"stroke:green;stroke-width:1\" /><line x1=\"156.632\" y1=\"198.931\" x2=\"152.109\" y2=\"195.591\" stroke-linecap=\"round\" style=\"stroke:green;stroke-width:1\" /><line x1=\"152.109\" y1=\"195.591\" x2=\"156.632\" y2=\"198.931\" stroke-linecap=\"round\" style=\"stroke:green;stroke-width:1\" /><line x1=\"156.632\" y1=\"198.931\" x2=\"163.999\" y2=\"201.704\" stroke-linecap=\"round\" style=\"stroke:green;stroke-width:1\" /><line x1=\"163.999\" y1=\"201.704\" x2=\"178.571\" y2=\"212.885\" stroke-linecap=\"round\" style=\"stroke:green;stroke-width:1\" /><line x1=\"178.571\" y1=\"212.885\" x2=\"200.0\" y2=\"250.0\" stroke-linecap=\"round\" style=\"stroke:green;stroke-width:1\" /><line x1=\"200.0\" y1=\"250.0\" x2=\"200.0\" y2=\"260.0\" stroke-linecap=\"round\" style=\"stroke:green;stroke-width:1\" /><line x1=\"200.0\" y1=\"260.0\" x2=\"200.0\" y2=\"270.0\" stroke-linecap=\"round\" style=\"stroke:green;stroke-width:1\" /><line x1=\"200.0\" y1=\"270.0\" x2=\"200.0\" y2=\"280.0\" stroke-linecap=\"round\" style=\"stroke:green;stroke-width:1\" /><line x1=\"200.0\" y1=\"280.0\" x2=\"200.0\" y2=\"290.0\" stroke-linecap=\"round\" style=\"stroke:green;stroke-width:1\" /><line x1=\"200.0\" y1=\"290.0\" x2=\"200.0\" y2=\"300.0\" stroke-linecap=\"round\" style=\"stroke:green;stroke-width:1\" /><line x1=\"200.0\" y1=\"300.0\" x2=\"200.0\" y2=\"310.0\" stroke-linecap=\"round\" style=\"stroke:green;stroke-width:1\" /><line x1=\"200.0\" y1=\"310.0\" x2=\"200.0\" y2=\"320.0\" stroke-linecap=\"round\" style=\"stroke:green;stroke-width:1\" /><line x1=\"200.0\" y1=\"320.0\" x2=\"200.0\" y2=\"330.0\" stroke-linecap=\"round\" style=\"stroke:green;stroke-width:1\" /><line x1=\"200.0\" y1=\"330.0\" x2=\"200.0\" y2=\"340.0\" stroke-linecap=\"round\" style=\"stroke:green;stroke-width:1\" /><line x1=\"200.0\" y1=\"340.0\" x2=\"200.0\" y2=\"350.0\" stroke-linecap=\"round\" style=\"stroke:green;stroke-width:1\" />\n",
              "        \n",
              "        \n",
              "        <g id=\"classic\" visibility=\"visible\" transform=\"rotate(180.0,200.0,350.0) translate(200.0, 350.0)\">\n",
              "<polygon points=\"-5,-4.5 0,-2.5 5,-4.5 0,4.5\" transform=\"skewX(0) scale(1,1)\" style=\"stroke:green;fill:green;stroke-width:1\" />\n",
              "</g>\n",
              "      </svg>\n",
              "    "
            ]
          },
          "metadata": {}
        }
      ]
    }
  ]
}
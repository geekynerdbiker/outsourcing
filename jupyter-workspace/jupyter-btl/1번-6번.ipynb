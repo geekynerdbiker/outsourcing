{
 "cells": [
  {
   "cell_type": "markdown",
   "id": "257fd5ad-61f2-4555-b02f-7b574eb2a927",
   "metadata": {},
   "source": [
    "# 1. The input files and requirement for the output file\n",
    "Attached are the Bottle Summaray files (*.btl) prepared from CTD casts in the Pacific. \n",
    "You may want to open one of them with a text editor(such a notepad(  ) in Windows or TextEdit in macOS) to check out the contents. \n",
    "The task is to collect the average values at the time of bottle firing(the numbers in the lines with (avg)) and write all_btl_data.csv that contains the information from 14 files. \n",
    "For the requirement of the output, consult all_btl_data_head.csv, which contains the information from hi2011_t01.btl and hi2011_t02.btl.                                                                                                                 \n",
    "# 2. Problem 1 (10 points)\n",
    "Write a function which takes a string of file path and returns a string of file name.\n"
   ]
  },
  {
   "cell_type": "code",
   "execution_count": 9,
   "id": "a4c1d55c",
   "metadata": {},
   "outputs": [],
   "source": [
    "def file_name(path):\n",
    "    path = path.strip().split(' = ')\n",
    "    fname = None\n",
    "    if path[0] == '* FileName':\n",
    "        fname = path[1].split('\\\\')[-1]\n",
    "\n",
    "    return fname"
   ]
  },
  {
   "cell_type": "code",
   "execution_count": 65,
   "id": "eae06e6b-8a95-4f63-891e-d671a3a40419",
   "metadata": {},
   "outputs": [
    {
     "name": "stderr",
     "output_type": "stream",
     "text": [
      "<>:2: SyntaxWarning: invalid escape sequence '\\G'\n",
      "<>:2: SyntaxWarning: invalid escape sequence '\\G'\n",
      "/var/folders/d_/5fxqtpjj1598szj7z_6ykcqm0000gn/T/ipykernel_3182/2823671458.py:2: SyntaxWarning: invalid escape sequence '\\G'\n",
      "  line = '* FileName = D: \\G_CTD\\HI-20-22\\raw\\HI2011_T01.hex'\n"
     ]
    },
    {
     "data": {
      "text/plain": [
       "'HI2011_T01.hex'"
      ]
     },
     "execution_count": 65,
     "metadata": {},
     "output_type": "execute_result"
    }
   ],
   "source": [
    "# a line in 'hi2011_t01.btl'\n",
    "line = '* FileName = D: \\G_CTD\\HI-20-22\\raw\\HI2011_T01.hex'\n",
    "\n",
    "file_name(line)"
   ]
  },
  {
   "cell_type": "markdown",
   "id": "c95686f6-8347-4bf1-849a-e32468787758",
   "metadata": {},
   "source": [
    "밑에 답 : 'HI2011_T01.hex'\n",
    "To insert characters that are illegal in a string, use an escape character. An escape character is a backslash\\followed by the character you want to insert, such as \\n,\\', \\t, and\\\\."
   ]
  },
  {
   "cell_type": "markdown",
   "id": "20c19f93-1360-4b11-967e-a23aa77e44d0",
   "metadata": {},
   "source": [
    "# 3. Problem 2 \n",
    "Write a function that takes a string of datetime and returns it in ISO 8601 format. \n"
   ]
  },
  {
   "cell_type": "code",
   "execution_count": 10,
   "id": "118790ce",
   "metadata": {},
   "outputs": [],
   "source": [
    "def time_stamp(line):\n",
    "    from datetime import datetime\n",
    "    line = line.strip().split(' = ')\n",
    "    dt_isoformat = None\n",
    "    if line[0] == '* NMEA UTC (Time)':\n",
    "        dt_isoformat = datetime.strptime(line[1], '%b %d %Y %H:%M:%S')\n",
    "        dt_isoformat = dt_isoformat.strftime('%Y-%m-%dT%H:%M:%S')\n",
    "    return dt_isoformat"
   ]
  },
  {
   "cell_type": "code",
   "execution_count": 84,
   "id": "605d8bba-34f5-4311-942b-2a9a59cf3463",
   "metadata": {},
   "outputs": [
    {
     "data": {
      "text/plain": [
       "'2020-09-11T09:56:57'"
      ]
     },
     "execution_count": 84,
     "metadata": {},
     "output_type": "execute_result"
    }
   ],
   "source": [
    "# a line in 'hi2011_t01.btl'\n",
    "\n",
    "line = '* NMEA UTC (Time) = Sep 11 2020 09:56:57\\n'\n",
    "\n",
    "time_stamp(line)"
   ]
  },
  {
   "cell_type": "markdown",
   "id": "773d6f6f-729d-4b59-bbdd-856f083af3a0",
   "metadata": {},
   "source": [
    "밑에 답: '2020-09-11T09:56:57'\n",
    "\n",
    "Hint : -datetime.strptime(time_string, '%b %d %Y %H:%M:%S') - parsed_time.strftime() - datetime---Basic date and time types"
   ]
  },
  {
   "cell_type": "markdown",
   "id": "ef6b424a-29f4-47c2-978d-bcb533142196",
   "metadata": {},
   "source": [
    "# Problem 3\n",
    "Writhe a function that takes a line of headers and returns a comma separated headers."
   ]
  },
  {
   "cell_type": "code",
   "execution_count": 11,
   "id": "bf3cfe35-74ba-4b7c-8a8c-18689d7fc719",
   "metadata": {},
   "outputs": [],
   "source": [
    "def column_names(line):\n",
    "    line = ' '.join(line.strip().split()).split()\n",
    "    del line[1]\n",
    "    comma_separated_headers = ','.join(line)\n",
    "    return comma_separated_headers\n"
   ]
  },
  {
   "cell_type": "code",
   "execution_count": 129,
   "id": "f869538e-f524-4b81-8fe0-3de41481e349",
   "metadata": {},
   "outputs": [
    {
     "data": {
      "text/plain": [
       "'Bottle,DepSM,PrDM,T090C,T190C,C0S/m,C1S/m,Sal00,Sal11,Sigma-00,Sigma-11,Sigma-t00,Sigma-t11,Sbox0Mm/Kg,Sbeox0ML/L,Sbeox0Mm/L,Sbeox0PS,Sbox1Mm/Kg,Sbeox1ML/L,Sbeox1Mm/L,Sbeox1PS,CStarTr0,Par,SvCM,SvCM1,FlECO-AFL,AltM,Potemp090C,Potemp190C,Latitude,Longitude,Scan'"
      ]
     },
     "execution_count": 129,
     "metadata": {},
     "output_type": "execute_result"
    }
   ],
   "source": [
    "# a line in 'hi2011_t01.btl'\n",
    "line= '\tBottle\tDate\tDepSM\tPrDM\tT090C\tT190C\tC0S/m\tC1S/m\tSal00\tSal11\tSigma-00\tSigma-11\tSigma-t00\tSigma-t11\tSbox0Mm/Kg\tSbeox0ML/L\tSbeox0Mm/L\tSbeox0PS\tSbox1Mm/Kg\tSbeox1ML/L\tSbeox1Mm/L\tSbeox1PS\tCStarTr0\tPar\tSvCM\tSvCM1\tFlECO-AFL\tAltM\tPotemp090C\tPotemp190C\tLatitude\tLongitude\tScan'\n",
    "\n",
    "column_names(line)"
   ]
  },
  {
   "cell_type": "markdown",
   "id": "49e8ece8-4696-44a7-a0fe-08292821f0d3",
   "metadata": {},
   "source": [
    "**답 : 'Bottle,DepSM\tPrDM,T090C,T190C,C0S/m\t.....Longitude,Scan\\n'**\n",
    "Note that there is no Date in the header line. You may use del to delete elements in a list.\n",
    "You may use string methods split() and join() to prepare the comma separated headers. \n",
    "데이트 지우라는 거 같아요"
   ]
  },
  {
   "cell_type": "code",
   "execution_count": null,
   "id": "3484f06b-152e-4846-b525-f573b8b2e88a",
   "metadata": {},
   "outputs": [],
   "source": []
  },
  {
   "cell_type": "markdown",
   "id": "603ab264",
   "metadata": {},
   "source": [
    "## Problem 4\n",
    "Write a function that takes the line with (avg) and returns a line of comma separated values."
   ]
  },
  {
   "cell_type": "code",
   "execution_count": 12,
   "id": "7f3e5521",
   "metadata": {},
   "outputs": [],
   "source": [
    "def get_averages(line):\n",
    "    line = ' '.join(line.strip().split()).split()\n",
    "    comma_separated_values = None\n",
    "    if line[-1] == '(avg)':\n",
    "        del line[1]\n",
    "        del line[1]\n",
    "        del line[1]\n",
    "        comma_separated_values = ','.join(line[:-1])\n",
    "    return comma_separated_values\n"
   ]
  },
  {
   "cell_type": "code",
   "execution_count": 152,
   "id": "7c4ae29a",
   "metadata": {},
   "outputs": [
    {
     "data": {
      "text/plain": [
       "'1,1000.820,1009.448,4.0916,4.0926,3.260817,3.262374,34.4365,34.4537,27.3364,27.3500,27.3284,27.3420,69.016,1.5876,70.902,21.879,67.138,1.5444,68.974,21.287,94.8981,1.0000e-12,1482.89,1482.91,-0.1814,98.71,4.0145,4.0155,20.50290,126.49508,53191'"
      ]
     },
     "execution_count": 152,
     "metadata": {},
     "output_type": "execute_result"
    }
   ],
   "source": [
    "# a line in 'hi2011_t01.btl'\n",
    "line = '\t1\tSep 11 2020\t1000.820\t1009.448\t4.0916\t4.0926\t3.260817\t3.262374\t34.4365\t34.4537\t27.3364\t27.3500\t27.3284\t27.3420\t69.016\t1.5876\t70.902\t21.879\t67.138\t1.5444\t68.974\t21.287\t94.8981\t1.0000e-12\t1482.89\t1482.91\t-0.1814\t98.71\t4.0145\t4.0155\t20.50290\t126.49508\t53191\t(avg)'\n",
    "\n",
    "get_averages(line)"
   ]
  },
  {
   "cell_type": "markdown",
   "metadata": {},
   "source": [
    "**Note that the line does not contain Sep 11 2020. You may use del to delete elements in a list.**"
   ]
  },
  {
   "cell_type": "markdown",
   "id": "28a2c30b",
   "metadata": {},
   "source": [
    "## Problem 5\n",
    "Write a function that takes a file name and returns a list of lines in the required format shown in clean_btl_t01.csv.\n",
    "This function may call file_name, time_stamp, column_names, and get_averages to collect necessary information from the file and to format each line. Each line should be stored as an item in the list to be returned."
   ]
  },
  {
   "cell_type": "code",
   "execution_count": 13,
   "id": "bed26b2d",
   "metadata": {},
   "outputs": [],
   "source": [
    "def btl_data(fname):\n",
    "    lines = []\n",
    "    f = open(fname, errors='ignore')\n",
    "\n",
    "    fname, tstamp, colnames = None, None, None\n",
    "    data = []\n",
    "    for line in f:\n",
    "        if line[0] == '*':\n",
    "            if file_name(line) is not None:\n",
    "                fname = file_name(line)\n",
    "            if time_stamp(line) is not None:\n",
    "                tstamp = time_stamp(line)\n",
    "        elif line[0] != '#':\n",
    "            if colnames == None:\n",
    "                colnames = column_names(line)\n",
    "            else:\n",
    "                if get_averages(line) != None:\n",
    "                    data.append(get_averages(line))\n",
    "    \n",
    "    lines.append('File name,Time,'+colnames+'\\n')\n",
    "    for d in data:\n",
    "        lines.append(fname+','+tstamp+','+d+'\\n')\n",
    "\n",
    "    f.close()\n",
    "    return lines"
   ]
  },
  {
   "cell_type": "code",
   "execution_count": 153,
   "id": "a5e29224",
   "metadata": {},
   "outputs": [],
   "source": [
    "t = btl_data('hi2011_t01.btl')\n",
    "\n",
    "fout = open('a_safe_place.csv', 'w')\n",
    "fout.writelines(t)\n",
    "fout.close()\n",
    "\n",
    "fout = open('a_safe_place.csv', 'w')\n",
    "fout.writelines(t)\n",
    "fout.close()"
   ]
  },
  {
   "cell_type": "markdown",
   "id": "b156ed77",
   "metadata": {},
   "source": [
    "The statements in the above cell should produce a_safe_place.csv, which is identical to clean_btl_t01.csv.\n",
    "Write clean_btl_t11.csv using the function and the script in the above cell."
   ]
  },
  {
   "cell_type": "markdown",
   "id": "96faf357",
   "metadata": {},
   "source": [
    "**교수님 말씀: 그니까 너네가 list로 return 하는 function 을 먼저 만들고 어쩌고..저쩌고\n",
    "clean머라고 내가 적었는데 헷갈리긴 할텐데 자료실에 있으니까 참고해라**"
   ]
  },
  {
   "cell_type": "markdown",
   "id": "85c96499",
   "metadata": {},
   "source": [
    "## Problem 6"
   ]
  },
  {
   "cell_type": "code",
   "execution_count": 14,
   "id": "fced33eb",
   "metadata": {},
   "outputs": [],
   "source": [
    "import glob\n",
    "\n",
    "fout_name = 'all_btl_data2.csv'\n",
    "fout=open(fout_name, 'w')\n",
    "files = glob.glob('*.btl')\n",
    "files.sort()\n",
    "\n",
    "for i in range(len(files)):\n",
    "    data = btl_data(files[i])\n",
    "    if i != 0:\n",
    "        del data[0]\n",
    "    fout.writelines(data)\n",
    "\n",
    "fout.close()"
   ]
  }
 ],
 "metadata": {
  "kernelspec": {
   "display_name": "Python 3 (ipykernel)",
   "language": "python",
   "name": "python3"
  },
  "language_info": {
   "codemirror_mode": {
    "name": "ipython",
    "version": 3
   },
   "file_extension": ".py",
   "mimetype": "text/x-python",
   "name": "python",
   "nbconvert_exporter": "python",
   "pygments_lexer": "ipython3",
   "version": "3.12.0"
  }
 },
 "nbformat": 4,
 "nbformat_minor": 5
}

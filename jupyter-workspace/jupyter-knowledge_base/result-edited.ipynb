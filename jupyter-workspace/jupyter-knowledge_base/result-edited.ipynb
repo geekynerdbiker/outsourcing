{
  "cells": [
    {
      "cell_type": "markdown",
      "metadata": {
        "id": "RMb3X52_Jraq"
      },
      "source": [
        "일차논리 KB 정의와 추론에 관련된 사항들. 코드는 GitHub aima-python의 코드를 기반으로 일부 수정한 것임."
      ]
    },
    {
      "cell_type": "code",
      "execution_count": null,
      "metadata": {
        "id": "9EavAv_PJras",
        "outputId": "d6037225-9bd8-41c4-ad23-f2fe6c433619",
        "colab": {
          "base_uri": "https://localhost:8080/",
          "height": 347
        }
      },
      "outputs": [
        {
          "output_type": "error",
          "ename": "ModuleNotFoundError",
          "evalue": "ignored",
          "traceback": [
            "\u001b[0;31m---------------------------------------------------------------------------\u001b[0m",
            "\u001b[0;31mModuleNotFoundError\u001b[0m                       Traceback (most recent call last)",
            "\u001b[0;32m<ipython-input-1-412b8e57619e>\u001b[0m in \u001b[0;36m<cell line: 2>\u001b[0;34m()\u001b[0m\n\u001b[1;32m      1\u001b[0m \u001b[0;31m# 논리 표현을 위한 기본 코드는 logic.py에 저장되어 있음.\u001b[0m\u001b[0;34m\u001b[0m\u001b[0;34m\u001b[0m\u001b[0m\n\u001b[0;32m----> 2\u001b[0;31m \u001b[0;32mfrom\u001b[0m \u001b[0mlogic\u001b[0m \u001b[0;32mimport\u001b[0m \u001b[0;34m*\u001b[0m\u001b[0;34m\u001b[0m\u001b[0;34m\u001b[0m\u001b[0m\n\u001b[0m\u001b[1;32m      3\u001b[0m \u001b[0;32mimport\u001b[0m \u001b[0mitertools\u001b[0m\u001b[0;34m\u001b[0m\u001b[0;34m\u001b[0m\u001b[0m\n",
            "\u001b[0;31mModuleNotFoundError\u001b[0m: No module named 'logic'",
            "",
            "\u001b[0;31m---------------------------------------------------------------------------\u001b[0;32m\nNOTE: If your import is failing due to a missing package, you can\nmanually install dependencies using either !pip or !apt.\n\nTo view examples of installing some common dependencies, click the\n\"Open Examples\" button below.\n\u001b[0;31m---------------------------------------------------------------------------\u001b[0m\n"
          ],
          "errorDetails": {
            "actions": [
              {
                "action": "open_url",
                "actionText": "Open Examples",
                "url": "/notebooks/snippets/importing_libraries.ipynb"
              }
            ]
          }
        }
      ],
      "source": [
        "# 논리 표현을 위한 기본 코드는 logic.py에 저장되어 있음.\n",
        "from logic import *\n",
        "import itertools"
      ]
    },
    {
      "cell_type": "markdown",
      "metadata": {
        "id": "MihqbwYUJrat"
      },
      "source": [
        "# 지식베이스(Knowledge Base)"
      ]
    },
    {
      "cell_type": "code",
      "execution_count": null,
      "metadata": {
        "id": "uV3rRQ-1Jrat"
      },
      "outputs": [],
      "source": [
        "class KB:\n",
        "    \"\"\"신규 문장을 추가(tell)하거나 알려진 것을 질의(ask)할 수 있는 지식베이스(knowledge base).\n",
        "    지식베이스를 생성하려면 이 클래스의 서브클래스로 정의하고 tell, ask_generator, retract 등을 구현하면 됨.\n",
        "    ask_generator는 문장이 참이 되도록 하는 대입들을 찾고, ask는 이 중 첫번째를 리턴하거나 False 리턴.\"\"\"\n",
        "\n",
        "    def __init__(self, sentence=None):\n",
        "        if sentence:\n",
        "            self.tell(sentence)\n",
        "\n",
        "    def tell(self, sentence):\n",
        "        \"\"\"지식베이스에 문장 추가\"\"\"\n",
        "        raise NotImplementedError\n",
        "\n",
        "    def ask(self, query):\n",
        "        \"\"\"query를 참이 되게 하는 (첫번째) 대입을 리턴함. 없으면 False 리턴.\"\"\"\n",
        "        return first(self.ask_generator(query), default=False)\n",
        "\n",
        "    def ask_generator(self, query):\n",
        "        \"\"\"query가 참이 되는 모든 대입들을 생성\"\"\"\n",
        "        raise NotImplementedError\n",
        "\n",
        "    def retract(self, sentence):\n",
        "        \"\"\"지식베이스에서 문장 삭제\"\"\"\n",
        "        raise NotImplementedError"
      ]
    },
    {
      "cell_type": "code",
      "execution_count": null,
      "metadata": {
        "id": "o-3lD1y2Jrau"
      },
      "outputs": [],
      "source": [
        "class FolKB(KB):\n",
        "    \"\"\"일차논리 한정 절(definite clause)로 구성된 지식베이스.\n",
        "    >>> kb0 = FolKB([expr('Farmer(Mac)'), expr('Rabbit(Pete)'),\n",
        "    ...              expr('(Rabbit(r) & Farmer(f)) ==> Hates(f, r)')])\n",
        "    >>> kb0.tell(expr('Rabbit(Flopsie)'))\n",
        "    >>> kb0.retract(expr('Rabbit(Pete)'))\n",
        "    >>> kb0.ask(expr('Hates(Mac, x)'))[x]\n",
        "    Flopsie\n",
        "    >>> kb0.ask(expr('Wife(Pete, x)'))\n",
        "    False\n",
        "    \"\"\"\n",
        "\n",
        "    def __init__(self, clauses=None):\n",
        "        super().__init__()\n",
        "        self.clauses = []\n",
        "        if clauses:\n",
        "            for clause in clauses:\n",
        "                self.tell(clause)\n",
        "\n",
        "    def tell(self, sentence):\n",
        "        if is_definite_clause(sentence):\n",
        "            self.clauses.append(sentence)\n",
        "        else:\n",
        "            raise Exception(f'Not a definite clause: {sentence}')\n",
        "\n",
        "    def ask_generator(self, query):\n",
        "        return fol_bc_ask(self, query)\n",
        "\n",
        "    def retract(self, sentence):\n",
        "        self.clauses.remove(sentence)\n",
        "\n",
        "    def fetch_rules_for_goal(self, goal):\n",
        "        return self.clauses\n",
        "\n",
        "\n",
        "def is_definite_clause(s):\n",
        "    \"\"\"Expr s가 한정 절이면 True를 리턴함.\n",
        "    A & B & ... & C ==> D  (모두 양 리터럴)\n",
        "    절 형식으로 표현하면,\n",
        "    ~A | ~B | ... | ~C | D   (하나의 양 리터럴을 갖는 절)\n",
        "    >>> is_definite_clause(expr('Farmer(Mac)'))\n",
        "    True\n",
        "    \"\"\"\n",
        "    if is_symbol(s.op):\n",
        "        return True\n",
        "    elif s.op == '==>':\n",
        "        antecedent, consequent = s.args\n",
        "        return is_symbol(consequent.op) and all(is_symbol(arg.op) for arg in conjuncts(antecedent))\n",
        "    else:\n",
        "        return False\n",
        "\n",
        "def parse_definite_clause(s):\n",
        "    \"\"\"한정 절의 전제와 결론을 리턴\"\"\"\n",
        "    assert is_definite_clause(s)\n",
        "    if is_symbol(s.op):\n",
        "        return [], s\n",
        "    else:\n",
        "        antecedent, consequent = s.args\n",
        "        return conjuncts(antecedent), consequent\n",
        "\n",
        "def conjuncts(s):\n",
        "    \"\"\"문장 s를 논리곱으로 해석 했을 때의 구성요소를 리스트로 리턴함.\n",
        "    >>> conjuncts(A & B)\n",
        "    [A, B]\n",
        "    >>> conjuncts(A | B)\n",
        "    [(A | B)]\n",
        "    \"\"\"\n",
        "    return dissociate('&', [s])\n",
        "\n",
        "def disjuncts(s):\n",
        "    \"\"\"문장 s를 논리합으로 해석했을 때의 구성요소를 리스트로 리턴함.\n",
        "    >>> disjuncts(A | B)\n",
        "    [A, B]\n",
        "    >>> disjuncts(A & B)\n",
        "    [(A & B)]\n",
        "    \"\"\"\n",
        "    return dissociate('|', [s])\n",
        "\n",
        "def dissociate(op, args):\n",
        "    \"\"\"op를 기준으로 인자들의 리스트를 리턴.\n",
        "    >>> dissociate('&', [A & B])\n",
        "    [A, B]\n",
        "    \"\"\"\n",
        "    result = []\n",
        "\n",
        "    def collect(subargs):\n",
        "        for arg in subargs:\n",
        "            if arg.op == op:\n",
        "                collect(arg.args)\n",
        "            else:\n",
        "                result.append(arg)\n",
        "\n",
        "    collect(args)\n",
        "    return result"
      ]
    },
    {
      "cell_type": "markdown",
      "metadata": {
        "id": "zlTTHdfBJrax"
      },
      "source": [
        "# 순방향 연쇄(Forward Chaining)"
      ]
    },
    {
      "cell_type": "code",
      "execution_count": null,
      "metadata": {
        "id": "S6abzmlhJrax"
      },
      "outputs": [],
      "source": [
        "def fol_fc_ask(kb, alpha):\n",
        "    \"\"\"순방향 연쇄(forward chaining) 알고리즘\"\"\"\n",
        "    kb_consts = list({c for clause in kb.clauses for c in constant_symbols(clause)})\n",
        "\n",
        "    def enum_subst(p):\n",
        "        query_vars = list({v for clause in p for v in variables(clause)})\n",
        "        for assignment_list in itertools.product(kb_consts, repeat=len(query_vars)):\n",
        "            theta = {x: y for x, y in zip(query_vars, assignment_list)}\n",
        "            yield theta\n",
        "\n",
        "    # 새로운 추론 없이도 답변할 수 있는지 체크\n",
        "    for q in kb.clauses:\n",
        "        phi = unify_mm(q, alpha)\n",
        "        if phi is not None:\n",
        "            yield phi\n",
        "\n",
        "    while True:\n",
        "        new = []\n",
        "        for rule in kb.clauses:\n",
        "            p, q = parse_definite_clause(rule)\n",
        "            for theta in enum_subst(p):\n",
        "                if set(subst(theta, p)).issubset(set(kb.clauses)):\n",
        "                    q_ = subst(theta, q)\n",
        "                    if all([unify_mm(x, q_) is None for x in kb.clauses + new]):\n",
        "                        new.append(q_)\n",
        "                        phi = unify_mm(q_, alpha)\n",
        "                        if phi is not None:\n",
        "                            yield phi\n",
        "        if not new:\n",
        "            break\n",
        "        for clause in new:\n",
        "            kb.tell(clause)\n",
        "    return None\n",
        "\n",
        "\n",
        "def unify_mm(x, y, s={}):\n",
        "    \"\"\"단일화. 규칙 기반으로 효율성을 개선한 알고리즘(Martelli & Montanari).\n",
        "    >>> unify_mm(x, 3, {})\n",
        "    {x: 3}\n",
        "    \"\"\"\n",
        "    set_eq = extend(s, x, y)\n",
        "    s = set_eq.copy()\n",
        "    while True:\n",
        "        trans = 0\n",
        "        for x, y in set_eq.items():\n",
        "            if x == y:\n",
        "                # if x = y this mapping is deleted (rule b)\n",
        "                del s[x]\n",
        "            elif not is_variable(x) and is_variable(y):\n",
        "                # if x is not a variable and y is a variable, rewrite it as y = x in s (rule a)\n",
        "                if s.get(y, None) is None:\n",
        "                    s[y] = x\n",
        "                    del s[x]\n",
        "                else:\n",
        "                    # if a mapping already exist for variable y then apply\n",
        "                    # variable elimination (there is a chance to apply rule d)\n",
        "                    s[x] = vars_elimination(y, s)\n",
        "            elif not is_variable(x) and not is_variable(y):\n",
        "                # in which case x and y are not variables, if the two root function symbols\n",
        "                # are different, stop with failure, else apply term reduction (rule c)\n",
        "                if x.op is y.op and len(x.args) == len(y.args):\n",
        "                    term_reduction(x, y, s)\n",
        "                    del s[x]\n",
        "                else:\n",
        "                    return None\n",
        "            elif isinstance(y, Expr):\n",
        "                # in which case x is a variable and y is a function or a variable (e.g. F(z) or y),\n",
        "                # if y is a function, we must check if x occurs in y, then stop with failure, else\n",
        "                # try to apply variable elimination to y (rule d)\n",
        "                if occur_check(x, y, s):\n",
        "                    return None\n",
        "                s[x] = vars_elimination(y, s)\n",
        "                if y == s.get(x):\n",
        "                    trans += 1\n",
        "            else:\n",
        "                trans += 1\n",
        "        if trans == len(set_eq):\n",
        "            # if no transformation has been applied, stop with success\n",
        "            return s\n",
        "        set_eq = s.copy()\n",
        "\n",
        "def term_reduction(x, y, s):\n",
        "    \"\"\"x, y가 모두 함수이고 함수 기호가 동일한 경우 항 축소(term reduction)를 적용.\n",
        "    예: x = F(x1, x2, ..., xn), y = F(x1', x2', ..., xn')\n",
        "    x: y를 {x1: x1', x2: x2', ..., xn: xn'}로 대체한 새로운 매핑을 리턴.\n",
        "    \"\"\"\n",
        "    for i in range(len(x.args)):\n",
        "        if x.args[i] in s:\n",
        "            s[s.get(x.args[i])] = y.args[i]\n",
        "        else:\n",
        "            s[x.args[i]] = y.args[i]\n",
        "\n",
        "def vars_elimination(x, s):\n",
        "    \"\"\"변수 제거를 x에 적용함.\n",
        "    x가 변수이고 s에 등장하면, x에 매핑된 항을 리턴함.\n",
        "    x가 함수이면 함수의 각 항에 순환적으로 적용함.\"\"\"\n",
        "    if not isinstance(x, Expr):\n",
        "        return x\n",
        "    if is_variable(x):\n",
        "        return s.get(x, x)\n",
        "    return Expr(x.op, *[vars_elimination(arg, s) for arg in x.args])"
      ]
    },
    {
      "cell_type": "markdown",
      "source": [
        "## 혈액형 KB\n"
      ],
      "metadata": {
        "id": "oRs8HC7rXU6C"
      }
    },
    {
      "cell_type": "code",
      "source": [
        "clauses = []\n",
        "clauses.append(expr(\"Disease(Malaria) & After(3) & Transfuse(x, y) ==> Transfuse(x, y)\"))\n",
        "\n",
        "clauses.append(expr(\"Transfuse(A, A)\"))\n",
        "clauses.append(expr(\"Transfuse(A, AB)\"))\n",
        "\n",
        "clauses.append(expr(\"Transfuse(B, B)\"))\n",
        "clauses.append(expr(\"Transfuse(B, AB)\"))\n",
        "\n",
        "clauses.append(expr(\"Transfuse(O, A)\"))\n",
        "clauses.append(expr(\"Transfuse(O, B)\"))\n",
        "clauses.append(expr(\"Transfuse(O, O)\"))\n",
        "clauses.append(expr(\"Transfuse(O, AB)\"))\n",
        "\n",
        "clauses.append(expr(\"Transfuse(AB, AB)\"))\n",
        "\n",
        "bloodtype_kb = FolKB(clauses)"
      ],
      "metadata": {
        "id": "TyKYBLUsXXAZ"
      },
      "execution_count": null,
      "outputs": []
    },
    {
      "cell_type": "code",
      "source": [
        "## 질의"
      ],
      "metadata": {
        "id": "XjiEBe6WXdZg"
      },
      "execution_count": null,
      "outputs": []
    },
    {
      "cell_type": "code",
      "source": [
        "Q1 = expr('Transfuse(B, x)')\n",
        "Q2 = expr('Transfuse(A, x)')\n",
        "\n",
        "A1 = list(fol_fc_ask(bloodtype_kb, Q1))\n",
        "A2 = list(fol_fc_ask(bloodtype_kb, Q2))"
      ],
      "metadata": {
        "id": "cKFwJdzBXfVN"
      },
      "execution_count": null,
      "outputs": []
    },
    {
      "cell_type": "markdown",
      "source": [
        "## 추론"
      ],
      "metadata": {
        "id": "K_d0TZu4Xics"
      }
    },
    {
      "cell_type": "code",
      "source": [
        "found = False\n",
        "for dict in A1:\n",
        "    for v in dict.values():\n",
        "        if 'O' in dict:\n",
        "            print(True)\n",
        "            found = True\n",
        "            break\n",
        "if not found:\n",
        "    print(False)\n",
        "\n",
        "found = False\n",
        "for dict in A2:\n",
        "    for v in dict.values():\n",
        "        if 'AB' == v.op:\n",
        "            print(True)\n",
        "            found = True\n",
        "            break\n",
        "if not found:\n",
        "    print(False)\n"
      ],
      "metadata": {
        "id": "P1eHgr76Xjga"
      },
      "execution_count": null,
      "outputs": []
    }
  ],
  "metadata": {
    "kernelspec": {
      "display_name": "Python 3 (ipykernel)",
      "language": "python",
      "name": "python3"
    },
    "language_info": {
      "codemirror_mode": {
        "name": "ipython",
        "version": 3
      },
      "file_extension": ".py",
      "mimetype": "text/x-python",
      "name": "python",
      "nbconvert_exporter": "python",
      "pygments_lexer": "ipython3",
      "version": "3.10.9"
    },
    "colab": {
      "provenance": []
    }
  },
  "nbformat": 4,
  "nbformat_minor": 0
}
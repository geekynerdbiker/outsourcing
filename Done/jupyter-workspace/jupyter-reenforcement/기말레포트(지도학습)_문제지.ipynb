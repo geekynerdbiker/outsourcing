{
  "nbformat": 4,
  "nbformat_minor": 0,
  "metadata": {
    "colab": {
      "provenance": [],
      "machine_shape": "hm"
    },
    "kernelspec": {
      "name": "python3",
      "display_name": "Python 3"
    },
    "language_info": {
      "name": "python"
    },
    "accelerator": "GPU"
  },
  "cells": [
    {
      "cell_type": "markdown",
      "metadata": {
        "id": "view-in-github"
      },
      "source": [
        "<a href=\"https://colab.research.google.com/github/aettikang/bigdata_analysis_basic/blob/main/%EA%B8%B0%EB%A7%90%EB%A0%88%ED%8F%AC%ED%8A%B8(%EC%A7%80%EB%8F%84%ED%95%99%EC%8A%B5)_%EB%AC%B8%EC%A0%9C%EC%A7%80.ipynb\" target=\"_parent\"><img src=\"https://colab.research.google.com/assets/colab-badge.svg\" alt=\"Open In Colab\"/></a>"
      ]
    },
    {
      "cell_type": "code",
      "metadata": {
        "id": "yBy8A1dS3Slc"
      },
      "source": [
        "from sklearn.datasets import load_breast_cancer\n",
        "cancer=load_breast_cancer()\n",
        "#독립변수\n",
        "X = cancer.data\n",
        "#종속변수\n",
        "y = cancer.target"
      ],
      "execution_count": 1,
      "outputs": []
    },
    {
      "cell_type": "code",
      "metadata": {
        "id": "6E4ODBckRoad"
      },
      "source": [
        "##문제1) 데이터셋을 트레이닝데이터(X_train, y_train)와 테스트데이터(X_test, y_test)로 분리\n",
        "##조건\n",
        "# 1) 종속변수(y) 데이터의 비율을 유지함\n",
        "# 2) 트레이닝데이터와 테스트데이터 분리 비율은 70:30\n",
        "# 2) random_state = 1\n",
        "\n",
        "from sklearn.model_selection import train_test_split\n",
        "X_train, X_test, y_train, y_test = train_test_split(X, y, test_size=0.3, stratify=y, random_state=1)\n"
      ],
      "execution_count": 2,
      "outputs": []
    },
    {
      "cell_type": "code",
      "metadata": {
        "id": "oDhwvbvGUXUw"
      },
      "source": [
        "from sklearn.preprocessing import MinMaxScaler\n",
        "scaler=MinMaxScaler()"
      ],
      "execution_count": 3,
      "outputs": []
    },
    {
      "cell_type": "code",
      "metadata": {
        "id": "gEb6DzIaUY1t"
      },
      "source": [
        "##문제2) 커널의 형태가 rbf, 선형, 다항인 SVM모델을 각각 만들기\n",
        "from sklearn.svm import SVC\n",
        "\n",
        "rbf_model = SVC(kernel='rbf')\n",
        "linear_model = SVC(kernel='linear')\n",
        "poly_model = SVC(kernel='poly')\n"
      ],
      "execution_count": 6,
      "outputs": []
    },
    {
      "cell_type": "code",
      "metadata": {
        "id": "10Kqk3Yy7bbN",
        "colab": {
          "base_uri": "https://localhost:8080/"
        },
        "outputId": "62eea2f8-f61f-4786-d45c-73bb85f2cc12"
      },
      "source": [
        "from sklearn.pipeline import Pipeline\n",
        "from sklearn.model_selection import KFold,GridSearchCV\n",
        "\n",
        "##문제3) 다음 파이프라인에 base_model을 순서대로 추가하여 실행한 결과를 문제지의 표 형태로 정리하시오.\n",
        "### 다음 코드를 base_model만 변경하여 총 3번 실행하시면 됩니다.\n",
        "#### (1) rbf 모델(rbf_model)  (2)선형모델(linear_model)  (3) 다항모델(poly_model)\n",
        "models = [rbf_model, linear_model, poly_model]\n",
        "\n",
        "for model in models:\n",
        "  pipe=Pipeline([('scaler',scaler), ('base_model', model)])\n",
        "\n",
        "  kfold=KFold(n_splits=4, shuffle=True, random_state=1)\n",
        "\n",
        "  param_grid={'base_model__C':[0.0001, 0.001, 0.01, 0.1, 1, 10, 100, 1000],\n",
        "              'base_model__gamma':[0.0001, 0.001, 0.01, 0.1, 1, 10, 100, 1000],\n",
        "              'base_model__degree':[1,2,3,4,5]}\n",
        "\n",
        "  grid_model=GridSearchCV(estimator=pipe, param_grid=param_grid, cv=kfold, n_jobs=-1).fit(X_train, y_train)\n",
        "\n",
        "  print('모델: ', model)\n",
        "  print('교차검증 점수 : ', grid_model.best_score_)\n",
        "  print('최적의 하이퍼 파라메터 조합 :', grid_model.best_params_)\n",
        "  print()"
      ],
      "execution_count": 9,
      "outputs": [
        {
          "output_type": "stream",
          "name": "stdout",
          "text": [
            "모델:  SVC()\n",
            "교차검증 점수 :  0.9823737373737373\n",
            "최적의 하이퍼 파라메터 조합 : {'base_model__C': 10, 'base_model__degree': 1, 'base_model__gamma': 0.1}\n",
            "\n",
            "모델:  SVC(kernel='linear')\n",
            "교차검증 점수 :  0.97739898989899\n",
            "최적의 하이퍼 파라메터 조합 : {'base_model__C': 10, 'base_model__degree': 1, 'base_model__gamma': 0.0001}\n",
            "\n",
            "모델:  SVC(kernel='poly')\n",
            "교차검증 점수 :  0.9849242424242425\n",
            "최적의 하이퍼 파라메터 조합 : {'base_model__C': 0.0001, 'base_model__degree': 2, 'base_model__gamma': 100}\n",
            "\n"
          ]
        }
      ]
    },
    {
      "cell_type": "code",
      "source": [
        "##문제4)각 모델의 하이퍼파라미터를 사용하여 SVM모델을 만들고, 학습시켜 테스트데이터에 대한 예측값을 생성하시오.\n",
        "##      예측값과 테스트데이터셋의 종속변수값(groud truth)를 분류결과레포트(classification_report)에 입력하여 모델을 평가하는 표로 정리하시오.\n",
        "\n",
        "from sklearn.metrics import classification_report\n",
        "\n",
        "seed = 1\n",
        "#파라미터 수정부분(아래 값은 예시임, 문제3에서 입력한 3개 모델의 최적의 파라미터 값을 입력해야 함)\n",
        "svc_params_rbf = {\n",
        "    'C': 10,\n",
        "    'gamma': 0.1,\n",
        "    'random_state': seed\n",
        "}\n",
        "\n",
        "svc_params_poly = {\n",
        "    'C': 1,\n",
        "    'degree': 3,\n",
        "    'gamma': 'scale',\n",
        "    'random_state': seed\n",
        "}\n",
        "\n",
        "svc_params_linear = {\n",
        "    'C': 0.1,\n",
        "    'random_state': seed\n",
        "}\n",
        "\n",
        "kernels_params = {\n",
        "    'rbf': svc_params_rbf,\n",
        "    'poly': svc_params_poly,\n",
        "    'linear': svc_params_linear\n",
        "}\n",
        "\n",
        "###답 추가부분\n",
        "##(1) A부분을 삭제한 후 각 모델의 커널을 입력. 예를 들어 rbf_model의 경우 rbf 입력하면 됨\n",
        "\n",
        "for kernel, params in kernels_params.items():\n",
        "    svm_model = SVC(kernel=kernel, **params)\n",
        "\n",
        "    ##(2)svm_model을 트레이닝 데이터로 학습\n",
        "    svm_model.fit(X_train, y_train)\n",
        "\n",
        "    ##(3)테스트데이터셋으로 예측하여 예측값(svm_prediction) 산출\n",
        "    svm_prediction = svm_model.predict(X_test)\n",
        "\n",
        "    ##(4)classification_report 함수로 테스트셋과 예측값 비교\n",
        "    print('모델: ', kernel)\n",
        "    print(classification_report(y_test, svm_prediction))\n",
        "    print()"
      ],
      "metadata": {
        "id": "qFjyRLE65tHA",
        "colab": {
          "base_uri": "https://localhost:8080/"
        },
        "outputId": "44772b24-bfc2-41ea-fdf8-dd0d66878655"
      },
      "execution_count": 11,
      "outputs": [
        {
          "output_type": "stream",
          "name": "stdout",
          "text": [
            "모델:  rbf\n",
            "              precision    recall  f1-score   support\n",
            "\n",
            "           0       0.00      0.00      0.00        64\n",
            "           1       0.63      1.00      0.77       107\n",
            "\n",
            "    accuracy                           0.63       171\n",
            "   macro avg       0.31      0.50      0.38       171\n",
            "weighted avg       0.39      0.63      0.48       171\n",
            "\n",
            "\n",
            "모델:  poly\n",
            "              precision    recall  f1-score   support\n",
            "\n",
            "           0       0.95      0.83      0.88        64\n",
            "           1       0.90      0.97      0.94       107\n",
            "\n",
            "    accuracy                           0.92       171\n",
            "   macro avg       0.93      0.90      0.91       171\n",
            "weighted avg       0.92      0.92      0.92       171\n",
            "\n",
            "\n"
          ]
        },
        {
          "output_type": "stream",
          "name": "stderr",
          "text": [
            "/usr/local/lib/python3.10/dist-packages/sklearn/metrics/_classification.py:1344: UndefinedMetricWarning: Precision and F-score are ill-defined and being set to 0.0 in labels with no predicted samples. Use `zero_division` parameter to control this behavior.\n",
            "  _warn_prf(average, modifier, msg_start, len(result))\n",
            "/usr/local/lib/python3.10/dist-packages/sklearn/metrics/_classification.py:1344: UndefinedMetricWarning: Precision and F-score are ill-defined and being set to 0.0 in labels with no predicted samples. Use `zero_division` parameter to control this behavior.\n",
            "  _warn_prf(average, modifier, msg_start, len(result))\n",
            "/usr/local/lib/python3.10/dist-packages/sklearn/metrics/_classification.py:1344: UndefinedMetricWarning: Precision and F-score are ill-defined and being set to 0.0 in labels with no predicted samples. Use `zero_division` parameter to control this behavior.\n",
            "  _warn_prf(average, modifier, msg_start, len(result))\n"
          ]
        },
        {
          "output_type": "stream",
          "name": "stdout",
          "text": [
            "모델:  linear\n",
            "              precision    recall  f1-score   support\n",
            "\n",
            "           0       0.94      0.92      0.93        64\n",
            "           1       0.95      0.96      0.96       107\n",
            "\n",
            "    accuracy                           0.95       171\n",
            "   macro avg       0.95      0.94      0.94       171\n",
            "weighted avg       0.95      0.95      0.95       171\n",
            "\n",
            "\n"
          ]
        }
      ]
    }
  ]
}
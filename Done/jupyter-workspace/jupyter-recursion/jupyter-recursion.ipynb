{
  "cells": [
    {
      "cell_type": "markdown",
      "metadata": {
        "id": "sI_ZXKP_kHut"
      },
      "source": [
        "과제에서 작성한 각 함수에 대해서는 함수가 올바르게 동작한다는 것을 보여주는 적절한 개수의 테스트 실행을 반드시 같이 작성해서 제출해야 한다. 테스트가 적절하지 않거나 부족하면 올바른 코드라도 감점되거나 전혀 점수를 받지 못할 수도 있음을 유의! \n",
        "\n",
        "코드를 작성하다가 추가 보조 함수를 작성하는 것이 코드를 정리하기 좋다고 생각되면 추가로 보조 함수를 작성해도 좋다. 문제에서 요구하는 함수가 아닌 보조함수들에 대해서는 테스트 실행을 포함하는 것이 의무(채점사항)는 아니지만 그래도 있으면 더 좋다.\n",
        "\n",
        "2번만 재귀, 꼬리재귀, while 반복문을 세 가지를 다 작성하는 문제이고\n",
        "나머지는 재귀함수만 작성하세요. \n"
      ]
    },
    {
      "cell_type": "markdown",
      "metadata": {
        "id": "eHDWuyzjsmSK"
      },
      "source": [
        "----\n",
        "## 문제 1. 파이썬에서 순서쌍을 활용한 현실적인 연결리스트 표현 (60점)\n",
        "\n",
        "파이썬 리스트 `[1,2,3]`을\n",
        "순서쌍을 활용한 연결리스트(linked list) 표현인 `(1,(2,(3,())))`으로 변환하는 문제다.\n",
        "\n",
        "이번 문제도 그렇고 나머지 문제들도 그렇지만 창의성을 평가하는 문제가 아니므로 창의적인 스타일의 코드를 작성하려 말 것. (점수 없음!!!)\n",
        "\n",
        "이 과제어서는 창의성은 전혀 발휘하지 않고 책의 스타일을 완전히 그대로 따라 코드를 작성하는 능력을 평가하는 문제이다. 그러니까, 우리 교재에 나온 방식 **그대로** 재귀함수, 꼬리재귀함수, while 반복문으로 작성한 함수들을 작성하라.\n",
        "\n",
        "참고로, `assert` 함수로 테스트를 이미 작성해 놓았기 때문에 이번 문제 1번에서는 별도의 테스트 작성은 필요없다."
      ]
    },
    {
      "cell_type": "markdown",
      "metadata": {
        "id": "7OoNDdKQsRnR"
      },
      "source": [
        "### 문제 1-a. 파이썬 리스트를 순서쌍을 겹쳐 만든 형태의 리스트 표현 방식으로 변환하는 재귀함수 작성"
      ]
    },
    {
      "cell_type": "code",
      "execution_count": 17,
      "metadata": {
        "id": "14JJ8upvp_uz"
      },
      "outputs": [],
      "source": [
        "def list2plist_rec(xs): # 재귀함수 작성\n",
        "    if xs != []:\n",
        "      return  (xs[0], list2plist_rec(xs[1:]))  # 이 pass 부분에 작성. 뼈대코드 형태를 바꾸면 점수 없음. 다른 문제들도 마찬가지다.\n",
        "    else:\n",
        "      return () # 이 pass 부분에 작성. 뼈대코드 형태를 바꾸면 점수 없음. 다른 문제들도 마찬가지다."
      ]
    },
    {
      "cell_type": "code",
      "execution_count": 18,
      "metadata": {
        "id": "spgRZMUej1JY"
      },
      "outputs": [],
      "source": [
        "\n",
        "assert( list2plist_rec([]) == () )\n",
        "assert( list2plist_rec([3]) == (3,()) )\n",
        "assert( list2plist_rec([1,2,3]) == (1,(2,(3,()))) )"
      ]
    },
    {
      "cell_type": "markdown",
      "metadata": {
        "id": "DiXDMhBMy2XQ"
      },
      "source": [
        "다음은 순서쌍으로 표현된 정수 리스트의 총합을 구하는 재귀, 꼬리재귀, while 반복문으로 작성된 함수들이다.\n",
        "(문제아닐꺼에요)"
      ]
    },
    {
      "cell_type": "code",
      "execution_count": 19,
      "metadata": {
        "id": "n2yFQBPRy-fE"
      },
      "outputs": [],
      "source": [
        "def sum_plist_rec(xs):\n",
        "    if xs != ():\n",
        "        h, tail = xs\n",
        "        return h + sum_plist_rec(tail)\n",
        "    else: # xs==()\n",
        "        return 0"
      ]
    },
    {
      "cell_type": "code",
      "execution_count": 20,
      "metadata": {
        "colab": {
          "base_uri": "https://localhost:8080/"
        },
        "id": "8kQcVqWk0Az2",
        "outputId": "6aded88d-0fb1-4485-b5a8-881925599f66"
      },
      "outputs": [
        {
          "output_type": "stream",
          "name": "stdout",
          "text": [
            "0\n",
            "10\n"
          ]
        }
      ],
      "source": [
        "print( sum_plist_rec( () ) )\n",
        "print( sum_plist_rec( (1,(2,(3,(4,())))) ) )\n",
        "\n",
        "# print( sum_plist_rec( list2plist([]) ) )\n",
        "# print( sum_plist_rec( list2plist([1,2,3,4]) ) )"
      ]
    },
    {
      "cell_type": "code",
      "execution_count": null,
      "metadata": {
        "id": "EXfhbrRJy-0J"
      },
      "outputs": [],
      "source": [
        "def sum_plist_tail(xs):\n",
        "    def loop(xs, total):\n",
        "        if xs != ():\n",
        "            h, tail = xs\n",
        "            return loop(tail, total + h)\n",
        "        else: # xs==()\n",
        "            return total\n",
        "    #\n",
        "    return loop(xs, 0)"
      ]
    },
    {
      "cell_type": "code",
      "execution_count": null,
      "metadata": {
        "colab": {
          "base_uri": "https://localhost:8080/"
        },
        "id": "z8QSgQ9cy_Ek",
        "outputId": "1ede6981-834f-4946-9f57-3ad4bec1b582"
      },
      "outputs": [
        {
          "name": "stdout",
          "output_type": "stream",
          "text": [
            "0\n",
            "10\n"
          ]
        }
      ],
      "source": [
        "print( sum_plist_tail( () ) )\n",
        "print( sum_plist_tail( (1,(2,(3,(4,())))) ) )\n",
        "\n",
        "# print( sum_plist_tail( list2plist([]) ) )\n",
        "# print( sum_plist_tail( list2plist([1,2,3,4]) ) )"
      ]
    },
    {
      "cell_type": "code",
      "execution_count": null,
      "metadata": {
        "id": "hRh5dqk32BKk"
      },
      "outputs": [],
      "source": [
        "def sum_plist(xs):\n",
        "    total = 0\n",
        "    while xs != ():\n",
        "        h, tail = xs\n",
        "        xs, total = tail, total + h\n",
        "    return total"
      ]
    },
    {
      "cell_type": "code",
      "execution_count": null,
      "metadata": {
        "colab": {
          "base_uri": "https://localhost:8080/"
        },
        "id": "46ax6IKX2TH8",
        "outputId": "cfc1667c-10fb-4fa5-a85d-23b2bf23698e"
      },
      "outputs": [
        {
          "name": "stdout",
          "output_type": "stream",
          "text": [
            "0\n",
            "10\n"
          ]
        }
      ],
      "source": [
        "print( sum_plist( () ) )\n",
        "print( sum_plist( (1,(2,(3,(4,())))) ) )\n",
        "\n",
        "# print( sum_plist( list2plist([]) ) )\n",
        "# print( sum_plist( list2plist([1,2,3,4]) ) )"
      ]
    },
    {
      "cell_type": "markdown",
      "metadata": {
        "id": "ARhqu2MJtO_5"
      },
      "source": [
        "----\n",
        "## 문제 2. 순서쌍으로 나타낸 리스트에서 가장 작은 원소를 골라내는 함수 작성 (90점)\n",
        "\n",
        "빈 리스트를 나타내는 `()`는 함수의 인자로 넘어오지 않는다고 가정한다.\n",
        "\n",
        "적절한 테스트를 작성하라."
      ]
    },
    {
      "cell_type": "markdown",
      "metadata": {
        "id": "ZWLMgF1V20Eg"
      },
      "source": [
        "### 문제 2-a. 재귀함수로 작성\n",
        "빈 리스트가 들어오지 않으므로 원소를 한개만 포함하는 경우가 귀납 기초(base case)가 된다.\n",
        "\n",
        "원소를 한개만 포함하는 리스트란 곧 꼬리(tail) 부분이 빈 리스트인 경우를 말한다."
      ]
    },
    {
      "cell_type": "code",
      "execution_count": 21,
      "metadata": {
        "id": "w13TaurI4V9V"
      },
      "outputs": [],
      "source": [
        "def min_plist_rec(xs):\n",
        "    h, tail = xs  # 빈 리스트가 아니라고 가정하므로 항상 h와 tail로 잘라낼 수 있음\n",
        "    if tail != ():\n",
        "        if h < min_plist_rec(tail):\n",
        "            return h\n",
        "        else:\n",
        "            return min_plist_rec(tail)\n",
        "    else:  # tail == ()\n",
        "        return h"
      ]
    },
    {
      "cell_type": "code",
      "execution_count": 22,
      "metadata": {
        "id": "cGpvMmeq5PRc"
      },
      "outputs": [],
      "source": [
        "# 적절한 테스트 작성\n",
        "assert (min_plist_rec((1, (2, (3, ())))) == 1)"
      ]
    },
    {
      "cell_type": "markdown",
      "metadata": {
        "id": "GK8no0DX20Bc"
      },
      "source": [
        "### 문제 2-b. 꼬리재귀로 작성"
      ]
    },
    {
      "cell_type": "code",
      "execution_count": null,
      "metadata": {
        "id": "2knvn6Qa5OwH"
      },
      "outputs": [],
      "source": [
        "def min_plist_tail(xs):\n",
        "    def loop(xs):\n",
        "        h, tail = xs  # 빈 리스트가 아니라고 가정하므로 항상 h와 tail로 잘라낼 수 있음\n",
        "        if tail != ():\n",
        "            if h < loop(tail):\n",
        "                return h\n",
        "            else:\n",
        "                return loop(tail)\n",
        "        else:  # tail == ()\n",
        "            return h\n",
        "    return loop(xs)"
      ]
    },
    {
      "cell_type": "markdown",
      "metadata": {
        "id": "FDLFD_IT2z-y"
      },
      "source": [
        "### 문제 2-c. while 반복문으로 작성"
      ]
    },
    {
      "cell_type": "code",
      "execution_count": null,
      "metadata": {
        "id": "61E39dh8tRml"
      },
      "outputs": [],
      "source": [
        "def min_plist(xs):\n",
        "    min = 99999 # import sys 후 min = sys.maxint 로 대체가능\n",
        "    while xs != ():\n",
        "        h, tail = xs\n",
        "        xs = tail\n",
        "        if min > h:\n",
        "            min = h\n",
        "    return min"
      ]
    },
    {
      "cell_type": "markdown",
      "metadata": {
        "id": "41YQiy_G7NND"
      },
      "source": [
        "----\n",
        "## 3번. 순서쌍으로 나타낸 리스트에서 원소 하나를 제거한 리스트를 만들어내는 함수 작성 (90점)\n",
        "\n",
        "라스트에서 가장 먼저 나타나는 주어진 원소와 값이 같은 원소 하나를 제거한 리스트를 만들어내는 함수 작성. "
      ]
    },
    {
      "cell_type": "code",
      "execution_count": 29,
      "metadata": {
        "id": "SwncmOZu7xad"
      },
      "outputs": [],
      "source": [
        "def remove_plist_rec(v, xs):  # v라는 값의 원소 하나를 xs에서 제거\n",
        "    if xs != ():\n",
        "        h, tail = xs\n",
        "        if h == v:\n",
        "            return tail\n",
        "        else:\n",
        "            return h, (remove_plist_rec(v, tail))\n",
        "    else:\n",
        "        return xs"
      ]
    },
    {
      "cell_type": "code",
      "execution_count": 27,
      "metadata": {
        "id": "QVQUcxS0v46o"
      },
      "outputs": [],
      "source": [
        "# 적절한 테스트 작성\n",
        "assert (remove_plist_rec(2, ()) == ())\n",
        "assert (remove_plist_rec(2, (1, (2, (3, ())))) == (1, (3, ())))\n"
      ]
    },
    {
      "cell_type": "markdown",
      "metadata": {
        "id": "dFjTAo045jtF"
      },
      "source": [
        "----\n",
        "## 4번. 순서쌍으로 나타낸 리스트에 대한 선택정렬(selection sort) 함수 작성 (90점)\n",
        "\n",
        "`min_plist`와 `remove_plist` 함수를 활용하여 작성하라."
      ]
    },
    {
      "cell_type": "code",
      "execution_count": 30,
      "metadata": {
        "id": "qQVUCOaY6A-X"
      },
      "outputs": [],
      "source": [
        "def selsort_rec(xs):\n",
        "    if xs != ():\n",
        "        h, tail = xs\n",
        "        smallest = min_plist_rec(xs)\n",
        "        tail = remove_plist_rec(smallest, xs)\n",
        "        return smallest, selsort_rec(tail)\n",
        "    else:\n",
        "        return xs"
      ]
    },
    {
      "cell_type": "code",
      "execution_count": 31,
      "metadata": {
        "id": "7SE0vwbh6Qar"
      },
      "outputs": [],
      "source": [
        "# 적절한 테스트 작성\n",
        "assert (selsort_rec((2, (1, ()))) == (1, (2, ())))\n",
        "assert (selsort_rec((3, (2, (1, ())))) == (1, (2, (3, ()))))\n"
      ]
    }
  ],
  "metadata": {
    "colab": {
      "provenance": []
    },
    "kernelspec": {
      "display_name": "Python 3",
      "name": "python3"
    },
    "language_info": {
      "name": "python"
    }
  },
  "nbformat": 4,
  "nbformat_minor": 0
}
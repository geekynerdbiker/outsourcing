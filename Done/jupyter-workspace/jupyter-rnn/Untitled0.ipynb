{
  "nbformat": 4,
  "nbformat_minor": 0,
  "metadata": {
    "colab": {
      "provenance": []
    },
    "kernelspec": {
      "name": "python3",
      "display_name": "Python 3"
    },
    "language_info": {
      "name": "python"
    }
  },
  "cells": [
    {
      "cell_type": "code",
      "source": [
        "from math import sqrt\n",
        "from numpy import concatenate\n",
        "from numpy import array\n",
        "from matplotlib import pyplot\n",
        "from pandas import read_csv\n",
        "from pandas import DataFrame\n",
        "from pandas import concat\n",
        "from sklearn.preprocessing import MinMaxScaler\n",
        "from sklearn.preprocessing import LabelEncoder\n",
        "from sklearn.metrics import mean_squared_error\n",
        "from keras.models import Sequential\n",
        "from keras.layers import Dense\n",
        "from keras.layers import LSTM\n",
        "\n",
        "# convert series to supervised learning\n",
        "def series_to_supervised(data, n_in=1, n_out=1, dropnan=True):\n",
        "\tn_vars = 1 if type(data) is list else data.shape[1]\n",
        "\tdf = DataFrame(data)\n",
        "\tcols, names = list(), list()\n",
        "\t# input sequence (t-n, ... t-1)\n",
        "\tfor i in range(n_in, 0, -1):\n",
        "\t\tcols.append(df.shift(i))\n",
        "\t\tnames += [('var%d(t-%d)' % (j+1, i)) for j in range(n_vars)]\n",
        "\t# forecast sequence (t, t+1, ... t+n)\n",
        "\tfor i in range(0, n_out):\n",
        "\t\tcols.append(df.shift(-i))\n",
        "\t\tif i == 0:\n",
        "\t\t\tnames += [('var%d(t)' % (j+1)) for j in range(n_vars)]\n",
        "\t\telse:\n",
        "\t\t\tnames += [('var%d(t+%d)' % (j+1, i)) for j in range(n_vars)]\n",
        "\t# put it all together\n",
        "\tagg = concat(cols, axis=1)\n",
        "\tagg.columns = names\n",
        "\t# drop rows with NaN values\n",
        "\tif dropnan:\n",
        "\t\tagg.dropna(inplace=True)\n",
        "\treturn agg\n",
        "\n",
        "# load dataset\n",
        "dataset = read_csv('AI_Lec_23_final_stocks.csv', header=None, sep='\\t')\n",
        "values = dataset.values\n",
        "# integer encode direction\n",
        "encoder = LabelEncoder()\n",
        "# values[:,4] = encoder.fit_transform(values[:,4])\n",
        "# ensure all data is float\n",
        "values = values.astype('float32')\n",
        "# normalize features\n",
        "scaler = MinMaxScaler(feature_range=(0, 1))\n",
        "scaled = scaler.fit_transform(values)\n",
        "# specify the number of lag hours\n",
        "n_features = 100\n",
        "# frame as supervised learning\n",
        "reframed = series_to_supervised(scaled, 1, 1)\n",
        "print(reframed.shape)\n",
        "\n",
        "# split into train and test sets\n",
        "values = reframed.values\n",
        "train = values[:int(len(values) * 0.8), :]\n",
        "test = values[int(len(values) * 0.8):, :]\n",
        "# split into input and outputs\n",
        "n_obs = n_features\n",
        "train_X, train_y = train[:, :n_obs], train[:, -n_features]\n",
        "test_X, test_y = test[:, :n_obs], test[:, -n_features]\n",
        "print(train_X.shape, len(train_X), train_y.shape)\n",
        "# reshape input to be 3D [samples, timesteps, features]\n",
        "train_X = train_X.reshape((train_X.shape[0], 1, n_features))\n",
        "test_X = test_X.reshape((test_X.shape[0], 1, n_features))\n",
        "print(train_X.shape, train_y.shape, test_X.shape, test_y.shape)\n",
        "\n",
        "# design network\n",
        "model = Sequential()\n",
        "model.add(LSTM(50, input_shape=(train_X.shape[1], train_X.shape[2])))\n",
        "model.add(Dense(1))\n",
        "model.compile(loss='mae', optimizer='adam')\n",
        "# fit network\n",
        "history = model.fit(train_X, train_y, epochs=50, batch_size=72, validation_data=(test_X, test_y), verbose=2, shuffle=False)\n",
        "\n"
      ],
      "metadata": {
        "colab": {
          "base_uri": "https://localhost:8080/"
        },
        "id": "dZ8sNkR4At01",
        "outputId": "a8f3d53a-4267-4081-bf00-4d46aa1bf105"
      },
      "execution_count": 93,
      "outputs": [
        {
          "output_type": "stream",
          "name": "stdout",
          "text": [
            "(2999, 200)\n",
            "(2399, 100) 2399 (2399,)\n",
            "(2399, 1, 100) (2399,) (600, 1, 100) (600,)\n",
            "Epoch 1/50\n",
            "34/34 - 3s - loss: 0.0434 - val_loss: 0.1855 - 3s/epoch - 96ms/step\n",
            "Epoch 2/50\n",
            "34/34 - 0s - loss: 0.1250 - val_loss: 0.1913 - 152ms/epoch - 4ms/step\n",
            "Epoch 3/50\n",
            "34/34 - 0s - loss: 0.0710 - val_loss: 0.0894 - 134ms/epoch - 4ms/step\n",
            "Epoch 4/50\n",
            "34/34 - 0s - loss: 0.0678 - val_loss: 0.0279 - 143ms/epoch - 4ms/step\n",
            "Epoch 5/50\n",
            "34/34 - 0s - loss: 0.0590 - val_loss: 0.0330 - 143ms/epoch - 4ms/step\n",
            "Epoch 6/50\n",
            "34/34 - 0s - loss: 0.0469 - val_loss: 0.0378 - 149ms/epoch - 4ms/step\n",
            "Epoch 7/50\n",
            "34/34 - 0s - loss: 0.0180 - val_loss: 0.0747 - 195ms/epoch - 6ms/step\n",
            "Epoch 8/50\n",
            "34/34 - 0s - loss: 0.0226 - val_loss: 0.0636 - 203ms/epoch - 6ms/step\n",
            "Epoch 9/50\n",
            "34/34 - 0s - loss: 0.0237 - val_loss: 0.0496 - 224ms/epoch - 7ms/step\n",
            "Epoch 10/50\n",
            "34/34 - 0s - loss: 0.0163 - val_loss: 0.0545 - 224ms/epoch - 7ms/step\n",
            "Epoch 11/50\n",
            "34/34 - 0s - loss: 0.0281 - val_loss: 0.0243 - 245ms/epoch - 7ms/step\n",
            "Epoch 12/50\n",
            "34/34 - 0s - loss: 0.0725 - val_loss: 0.0288 - 243ms/epoch - 7ms/step\n",
            "Epoch 13/50\n",
            "34/34 - 0s - loss: 0.0228 - val_loss: 0.0708 - 231ms/epoch - 7ms/step\n",
            "Epoch 14/50\n",
            "34/34 - 0s - loss: 0.0170 - val_loss: 0.1035 - 242ms/epoch - 7ms/step\n",
            "Epoch 15/50\n",
            "34/34 - 0s - loss: 0.0360 - val_loss: 0.0781 - 261ms/epoch - 8ms/step\n",
            "Epoch 16/50\n",
            "34/34 - 0s - loss: 0.0236 - val_loss: 0.0800 - 253ms/epoch - 7ms/step\n",
            "Epoch 17/50\n",
            "34/34 - 0s - loss: 0.0176 - val_loss: 0.0660 - 236ms/epoch - 7ms/step\n",
            "Epoch 18/50\n",
            "34/34 - 0s - loss: 0.0476 - val_loss: 0.0693 - 186ms/epoch - 5ms/step\n",
            "Epoch 19/50\n",
            "34/34 - 0s - loss: 0.0175 - val_loss: 0.1208 - 239ms/epoch - 7ms/step\n",
            "Epoch 20/50\n",
            "34/34 - 0s - loss: 0.0133 - val_loss: 0.1128 - 253ms/epoch - 7ms/step\n",
            "Epoch 21/50\n",
            "34/34 - 0s - loss: 0.0128 - val_loss: 0.1047 - 252ms/epoch - 7ms/step\n",
            "Epoch 22/50\n",
            "34/34 - 0s - loss: 0.0137 - val_loss: 0.0912 - 217ms/epoch - 6ms/step\n",
            "Epoch 23/50\n",
            "34/34 - 0s - loss: 0.0187 - val_loss: 0.0787 - 192ms/epoch - 6ms/step\n",
            "Epoch 24/50\n",
            "34/34 - 0s - loss: 0.0247 - val_loss: 0.0277 - 244ms/epoch - 7ms/step\n",
            "Epoch 25/50\n",
            "34/34 - 0s - loss: 0.0520 - val_loss: 0.0402 - 207ms/epoch - 6ms/step\n",
            "Epoch 26/50\n",
            "34/34 - 0s - loss: 0.0211 - val_loss: 0.0286 - 219ms/epoch - 6ms/step\n",
            "Epoch 27/50\n",
            "34/34 - 0s - loss: 0.0483 - val_loss: 0.0343 - 267ms/epoch - 8ms/step\n",
            "Epoch 28/50\n",
            "34/34 - 0s - loss: 0.0282 - val_loss: 0.0292 - 219ms/epoch - 6ms/step\n",
            "Epoch 29/50\n",
            "34/34 - 0s - loss: 0.0360 - val_loss: 0.0269 - 210ms/epoch - 6ms/step\n",
            "Epoch 30/50\n",
            "34/34 - 0s - loss: 0.0465 - val_loss: 0.0307 - 220ms/epoch - 6ms/step\n",
            "Epoch 31/50\n",
            "34/34 - 0s - loss: 0.0480 - val_loss: 0.0255 - 234ms/epoch - 7ms/step\n",
            "Epoch 32/50\n",
            "34/34 - 0s - loss: 0.0392 - val_loss: 0.0273 - 264ms/epoch - 8ms/step\n",
            "Epoch 33/50\n",
            "34/34 - 0s - loss: 0.0288 - val_loss: 0.0392 - 292ms/epoch - 9ms/step\n",
            "Epoch 34/50\n",
            "34/34 - 0s - loss: 0.0367 - val_loss: 0.0296 - 262ms/epoch - 8ms/step\n",
            "Epoch 35/50\n",
            "34/34 - 0s - loss: 0.0222 - val_loss: 0.0463 - 259ms/epoch - 8ms/step\n",
            "Epoch 36/50\n",
            "34/34 - 0s - loss: 0.0202 - val_loss: 0.0248 - 256ms/epoch - 8ms/step\n",
            "Epoch 37/50\n",
            "34/34 - 0s - loss: 0.0312 - val_loss: 0.0262 - 208ms/epoch - 6ms/step\n",
            "Epoch 38/50\n",
            "34/34 - 0s - loss: 0.0252 - val_loss: 0.0253 - 207ms/epoch - 6ms/step\n",
            "Epoch 39/50\n",
            "34/34 - 0s - loss: 0.0296 - val_loss: 0.0266 - 228ms/epoch - 7ms/step\n",
            "Epoch 40/50\n",
            "34/34 - 0s - loss: 0.0245 - val_loss: 0.0287 - 278ms/epoch - 8ms/step\n",
            "Epoch 41/50\n",
            "34/34 - 0s - loss: 0.0171 - val_loss: 0.0311 - 251ms/epoch - 7ms/step\n",
            "Epoch 42/50\n",
            "34/34 - 0s - loss: 0.0183 - val_loss: 0.0309 - 468ms/epoch - 14ms/step\n",
            "Epoch 43/50\n",
            "34/34 - 0s - loss: 0.0175 - val_loss: 0.0308 - 195ms/epoch - 6ms/step\n",
            "Epoch 44/50\n",
            "34/34 - 0s - loss: 0.0209 - val_loss: 0.0286 - 128ms/epoch - 4ms/step\n",
            "Epoch 45/50\n",
            "34/34 - 0s - loss: 0.0201 - val_loss: 0.0273 - 135ms/epoch - 4ms/step\n",
            "Epoch 46/50\n",
            "34/34 - 0s - loss: 0.0223 - val_loss: 0.0265 - 134ms/epoch - 4ms/step\n",
            "Epoch 47/50\n",
            "34/34 - 0s - loss: 0.0211 - val_loss: 0.0257 - 136ms/epoch - 4ms/step\n",
            "Epoch 48/50\n",
            "34/34 - 0s - loss: 0.0219 - val_loss: 0.0274 - 156ms/epoch - 5ms/step\n",
            "Epoch 49/50\n",
            "34/34 - 0s - loss: 0.0216 - val_loss: 0.0300 - 139ms/epoch - 4ms/step\n",
            "Epoch 50/50\n",
            "34/34 - 0s - loss: 0.0233 - val_loss: 0.0284 - 142ms/epoch - 4ms/step\n"
          ]
        }
      ]
    },
    {
      "cell_type": "code",
      "source": [
        "res = []\n",
        "pred = test_X\n",
        "\n",
        "ds = dataset.values\n",
        "for i in range(20):\n",
        "  yhat = model.predict(pred)\n",
        "\n",
        "  pred = pred.reshape((pred.shape[0], n_features))\n",
        "  inv_yhat = concatenate((yhat, pred[:, -(n_features-1):]), axis=1)\n",
        "\n",
        "  lst = []\n",
        "  for i in range(100):\n",
        "    lst.append(ds[-1][i] * inv_yhat[-1][i] / scaled[-1][i])\n",
        "  res.append(lst)\n",
        "  lst = array(lst).reshape((1, 100))\n",
        "  ds = concatenate((ds,lst))\n",
        "  # dataset = dataset\n",
        "  pred = pred.reshape((pred.shape[0], 1, n_features))\n",
        "res = DataFrame(array(res))\n",
        "df = DataFrame.from_dict(res)\n",
        "df.to_csv('result.csv')"
      ],
      "metadata": {
        "colab": {
          "base_uri": "https://localhost:8080/"
        },
        "id": "ovkU_QHAH5fq",
        "outputId": "9bce3876-62f0-4df1-fda1-a88af04ab8f9"
      },
      "execution_count": 95,
      "outputs": [
        {
          "output_type": "stream",
          "name": "stdout",
          "text": [
            "19/19 [==============================] - 0s 4ms/step\n",
            "19/19 [==============================] - 0s 2ms/step\n",
            " 1/19 [>.............................] - ETA: 0s"
          ]
        },
        {
          "output_type": "stream",
          "name": "stderr",
          "text": [
            "<ipython-input-95-05d24375cb26>:13: RuntimeWarning: divide by zero encountered in double_scalars\n",
            "  lst.append(ds[-1][i] * inv_yhat[-1][i] / scaled[-1][i])\n"
          ]
        },
        {
          "output_type": "stream",
          "name": "stdout",
          "text": [
            "19/19 [==============================] - 0s 3ms/step\n",
            "19/19 [==============================] - 0s 2ms/step\n",
            "19/19 [==============================] - 0s 2ms/step\n",
            "19/19 [==============================] - 0s 2ms/step\n",
            "19/19 [==============================] - 0s 2ms/step\n",
            "19/19 [==============================] - 0s 2ms/step\n",
            "19/19 [==============================] - 0s 2ms/step\n",
            "19/19 [==============================] - 0s 2ms/step\n",
            "19/19 [==============================] - 0s 2ms/step\n",
            "19/19 [==============================] - 0s 2ms/step\n",
            "19/19 [==============================] - 0s 2ms/step\n",
            "19/19 [==============================] - 0s 2ms/step\n",
            "19/19 [==============================] - 0s 2ms/step\n",
            "19/19 [==============================] - 0s 2ms/step\n",
            "19/19 [==============================] - 0s 2ms/step\n",
            "19/19 [==============================] - 0s 2ms/step\n",
            "19/19 [==============================] - 0s 2ms/step\n",
            "19/19 [==============================] - 0s 2ms/step\n"
          ]
        }
      ]
    },
    {
      "cell_type": "code",
      "source": [
        "test_X = test_X.reshape((test_X.shape[0], n_features))\n",
        "# invert scaling for forecast\n",
        "inv_yhat = concatenate((yhat, test_X[:, -(n_features-1):]), axis=1)\n",
        "inv_yhat = scaler.inverse_transform(inv_yhat)\n",
        "inv_yhat = inv_yhat[:,0]\n",
        "# invert scaling for actual\n",
        "test_y = test_y.reshape((len(test_y), 1))\n",
        "inv_y = concatenate((test_y, test_X[:, -(n_features-1):]), axis=1)\n",
        "inv_y = scaler.inverse_transform(inv_y)\n",
        "inv_y = inv_y[:,0]\n",
        "# calculate RMSE\n",
        "rmse = sqrt(mean_squared_error(inv_y, inv_yhat))\n",
        "print('Test RMSE: %.3f' % rmse)\n",
        "\n",
        "pyplot.figure()\n",
        "pyplot.plot(test_y, label='test')\n",
        "pyplot.plot(yhat, label='predict')\n",
        "pyplot.legend()"
      ],
      "metadata": {
        "colab": {
          "base_uri": "https://localhost:8080/",
          "height": 465
        },
        "id": "Ya6y65LaI2o-",
        "outputId": "cd204a11-c627-4336-eb01-1144b31784ae"
      },
      "execution_count": 96,
      "outputs": [
        {
          "output_type": "stream",
          "name": "stdout",
          "text": [
            "Test RMSE: 3.885\n"
          ]
        },
        {
          "output_type": "execute_result",
          "data": {
            "text/plain": [
              "<matplotlib.legend.Legend at 0x78792b4b9900>"
            ]
          },
          "metadata": {},
          "execution_count": 96
        },
        {
          "output_type": "display_data",
          "data": {
            "text/plain": [
              "<Figure size 640x480 with 1 Axes>"
            ],
            "image/png": "[encoded data removed]"
          },
          "metadata": {}
        }
      ]
    }
  ]
}
{
  "nbformat": 4,
  "nbformat_minor": 0,
  "metadata": {
    "colab": {
      "provenance": [],
      "collapsed_sections": [
        "ifZEOnGA3Lp7",
        "M-yCRz4C3UMS",
        "s3l2EBpO3YUW",
        "JVGo3Bj23b5A",
        "biL2aC9t3ftS",
        "fGmWvM5v3rs-",
        "H_4LylVV3wqs",
        "SW8xf_vV30Kq",
        "s6lIbAo78sNt",
        "N4yG_1pe9noN",
        "PkiEFV9e9zKu",
        "W6wCdFh7-Dfg",
        "_yPh1nV3-MWL",
        "amIFfSMQ_MaH",
        "yUOMlOu0SLt-"
      ]
    },
    "kernelspec": {
      "name": "python3",
      "display_name": "Python 3"
    },
    "language_info": {
      "name": "python"
    }
  },
  "cells": [
    {
      "cell_type": "markdown",
      "source": [
        "**제출 시 파일 제목에 `이름`과 `학번`을 수정하여 제출할 것!**\n",
        "\n",
        "# Assignment 4\n",
        "\n",
        "**범위**\n",
        "\n",
        "- 7.1 Regular Expression\n",
        "- 7.2 Web Crawling Part 1\n",
        "- 8.1 Web Crawling Part 2\n",
        "- 8.2 Web Crawling Part 3"
      ],
      "metadata": {
        "id": "o33-TtrFKs9G"
      }
    },
    {
      "cell_type": "code",
      "source": [
        "!pip install selenium\n",
        "\n",
        "import re\n",
        "import requests\n",
        "\n",
        "from bs4 import BeautifulSoup\n",
        "\n",
        "from selenium import webdriver\n",
        "from selenium.webdriver.common.keys import Keys\n",
        "from selenium.webdriver.support.ui import WebDriverWait\n",
        "from selenium.webdriver.support import expected_conditions as EC\n",
        "from selenium.webdriver.common.by import By\n",
        "from selenium.webdriver.chrome.options import Options\n",
        "\n",
        "options = Options()\n",
        "\n",
        "options.add_argument(\"--headless\")\n",
        "options.add_argument('--no-sandbox')"
      ],
      "metadata": {
        "id": "pb_WwgQrNZ6j",
        "colab": {
          "base_uri": "https://localhost:8080/"
        },
        "outputId": "5280802e-c6b0-4f29-9022-345b355588cb"
      },
      "execution_count": 220,
      "outputs": [
        {
          "output_type": "stream",
          "name": "stdout",
          "text": [
            "Requirement already satisfied: selenium in /usr/local/lib/python3.10/dist-packages (4.16.0)\n",
            "Requirement already satisfied: urllib3[socks]<3,>=1.26 in /usr/local/lib/python3.10/dist-packages (from selenium) (2.0.7)\n",
            "Requirement already satisfied: trio~=0.17 in /usr/local/lib/python3.10/dist-packages (from selenium) (0.23.2)\n",
            "Requirement already satisfied: trio-websocket~=0.9 in /usr/local/lib/python3.10/dist-packages (from selenium) (0.11.1)\n",
            "Requirement already satisfied: certifi>=2021.10.8 in /usr/local/lib/python3.10/dist-packages (from selenium) (2023.11.17)\n",
            "Requirement already satisfied: attrs>=20.1.0 in /usr/local/lib/python3.10/dist-packages (from trio~=0.17->selenium) (23.1.0)\n",
            "Requirement already satisfied: sortedcontainers in /usr/local/lib/python3.10/dist-packages (from trio~=0.17->selenium) (2.4.0)\n",
            "Requirement already satisfied: idna in /usr/local/lib/python3.10/dist-packages (from trio~=0.17->selenium) (3.6)\n",
            "Requirement already satisfied: outcome in /usr/local/lib/python3.10/dist-packages (from trio~=0.17->selenium) (1.3.0.post0)\n",
            "Requirement already satisfied: sniffio>=1.3.0 in /usr/local/lib/python3.10/dist-packages (from trio~=0.17->selenium) (1.3.0)\n",
            "Requirement already satisfied: exceptiongroup in /usr/local/lib/python3.10/dist-packages (from trio~=0.17->selenium) (1.2.0)\n",
            "Requirement already satisfied: wsproto>=0.14 in /usr/local/lib/python3.10/dist-packages (from trio-websocket~=0.9->selenium) (1.2.0)\n",
            "Requirement already satisfied: pysocks!=1.5.7,<2.0,>=1.5.6 in /usr/local/lib/python3.10/dist-packages (from urllib3[socks]<3,>=1.26->selenium) (1.7.1)\n",
            "Requirement already satisfied: h11<1,>=0.9.0 in /usr/local/lib/python3.10/dist-packages (from wsproto>=0.14->trio-websocket~=0.9->selenium) (0.14.0)\n"
          ]
        }
      ]
    },
    {
      "cell_type": "markdown",
      "source": [
        "# Q.1 / 2점\n"
      ],
      "metadata": {
        "id": "OldtDw8baXrM"
      }
    },
    {
      "cell_type": "markdown",
      "source": [
        "### 1. 문자열 \"He has 12 apples and 5 oranges.\" 에서 숫자만 추출하는 정규 표현식을 작성하고, `search`, `findall`, `finditer` 세가지를 모두 사용하여 추출해보고 차이점을 설명하시오. [1점]"
      ],
      "metadata": {
        "id": "mQSX65PoadrX"
      }
    },
    {
      "cell_type": "code",
      "source": [
        "s = 'He has 12 apples and 5 oranges.'\n",
        "p = re.compile(\"([0-9]+)\")\n",
        "\n",
        "\n",
        "# 문자열 전체를 검색\n",
        "print(p.search(s))\n",
        "\n",
        "# 정규식과 매치되는 모든 문자열(substring)을 리스트로 반환\n",
        "print(p.findall(s))\n",
        "\n",
        "# 정규식과 매치되는 모든 문자열들을 반복가능한 객체로 반환\n",
        "print(p.finditer(s))"
      ],
      "metadata": {
        "colab": {
          "base_uri": "https://localhost:8080/"
        },
        "id": "HPItuU7TIqLz",
        "outputId": "85a15f47-c3b3-4199-9a51-b5e8d2847832"
      },
      "execution_count": 221,
      "outputs": [
        {
          "output_type": "stream",
          "name": "stdout",
          "text": [
            "<re.Match object; span=(7, 9), match='12'>\n",
            "['12', '5']\n",
            "<callable_iterator object at 0x78dc44182b00>\n"
          ]
        }
      ]
    },
    {
      "cell_type": "markdown",
      "source": [
        "### 2. 가장 많은 수를 가지고 있는 과일이 무엇인지 출력하시오. (힌트: grouping을 사용할 것) [1점]"
      ],
      "metadata": {
        "id": "BzJKU77h9hbN"
      }
    },
    {
      "cell_type": "code",
      "source": [
        "s = 'He has 12 apples and 5 oranges.'\n",
        "p = re.compile(\"(\\d+) ([\\w]+)\")\n",
        "\n",
        "matches = p.finditer(s)\n",
        "max_count = 0\n",
        "for match in matches:\n",
        "  count = int(match.group(1))\n",
        "  fruit = match.group(2)\n",
        "\n",
        "  if count > max_count:\n",
        "      max_fruit = fruit\n",
        "      max_count = count\n",
        "print(max_fruit)"
      ],
      "metadata": {
        "colab": {
          "base_uri": "https://localhost:8080/"
        },
        "id": "5jlP-2TXJXws",
        "outputId": "7bec90e7-5939-4dbd-b4a9-8e9e4bb5ad39"
      },
      "execution_count": 222,
      "outputs": [
        {
          "output_type": "stream",
          "name": "stdout",
          "text": [
            "apples\n"
          ]
        }
      ]
    },
    {
      "cell_type": "markdown",
      "source": [
        "# Q.2 / 2점"
      ],
      "metadata": {
        "id": "GDsIfYzFLFUX"
      }
    },
    {
      "cell_type": "markdown",
      "source": [
        "### 1. 이메일 주소가 유효한 이메일 형태로 작성되어 있는지 확인하는 함수 `is_valid_email`를 생성하고 유효한 이메일일 경우 이메일 주소를, 아닐 경우 `유효한 이메일 주소가 아닙니다.`를 출력하시오. [1점]\n",
        "\n",
        "**Example**\n",
        "```python\n",
        "def is_valid_email(email):\n",
        "  ...\n",
        "\n",
        "address1 = 'test@gmail.com'\n",
        "address2 = 'test.gmail.com'\n",
        "\n",
        "print(is_valid_email(address1))\n",
        ">> test@gmail.com\n",
        "print(is_valid_email(address2))\n",
        ">> 유효한 이메일 주소가 아닙니다.\n",
        "```"
      ],
      "metadata": {
        "id": "gyVg1Mw6LHEg"
      }
    },
    {
      "cell_type": "code",
      "source": [
        "def is_valid_email(email):\n",
        "    p = re.compile(\"^[a-zA-Z0-9+-_.]+@[a-zA-Z0-9-]+\\.[a-zA-Z]+$\")\n",
        "    if p.match(email):\n",
        "      return email\n",
        "    else:\n",
        "      return '유효한 이메일 주소가 아닙니다.'\n",
        "\n",
        "address1 = 'test@gmail.com'\n",
        "address2 = 'test.gmail.com'\n",
        "\n",
        "print(is_valid_email(address1))\n",
        "# >> test@gmail.com\n",
        "print(is_valid_email(address2))\n",
        "# >> 유효한 이메일 주소가 아닙니다."
      ],
      "metadata": {
        "colab": {
          "base_uri": "https://localhost:8080/"
        },
        "id": "om1xpPBKTEcF",
        "outputId": "8c7c6900-9a16-4054-d61b-e760afa25245"
      },
      "execution_count": 223,
      "outputs": [
        {
          "output_type": "stream",
          "name": "stdout",
          "text": [
            "test@gmail.com\n",
            "유효한 이메일 주소가 아닙니다.\n"
          ]
        }
      ]
    },
    {
      "cell_type": "markdown",
      "source": [
        "### 2. Q2.1번 문제에 이어서 유효한 이메일일 경우, 해당 이메일의 아이디와 도메인을 출력하시오. [1점]:\n",
        "\n",
        "**Example**\n",
        "\n",
        "```python\n",
        "def is_valid_email2(email):\n",
        "  ...\n",
        "\n",
        "address1 = 'test@gmail.com'\n",
        "address2 = 'test.gmail.com'\n",
        "\n",
        "print(is_valid_email2(address1))\n",
        ">> ID: test, Domain: gmail.com\n",
        "print(is_valid_email2(address2))\n",
        ">> 유효한 이메일 주소가 아닙니다.\n",
        "\n",
        "```"
      ],
      "metadata": {
        "id": "PVClER-xNo4z"
      }
    },
    {
      "cell_type": "code",
      "source": [
        "def is_valid_email2(email):\n",
        "    p = re.compile(\"^[a-zA-Z0-9+-_.]+@[a-zA-Z0-9-]+\\.[a-zA-Z]+$\")\n",
        "\n",
        "    if p.match(email) is not None:\n",
        "        id = email.split('@')[0]\n",
        "        domain = email.split('@')[1]\n",
        "        return f\"ID: {id}, Domain: {domain}\"\n",
        "    else:\n",
        "        return \"유효한 이메일 주소가 아닙니다.\"\n",
        "\n",
        "address1 = 'test@gmail.com'\n",
        "address2 = 'test.gmail.com'\n",
        "\n",
        "print(is_valid_email2(address1))\n",
        "# >> ID: test, Domain: gmail.com\n",
        "print(is_valid_email2(address2))\n",
        "# >> 유효한 이메일 주소가 아닙니다."
      ],
      "metadata": {
        "colab": {
          "base_uri": "https://localhost:8080/"
        },
        "id": "YT-I46u6Tn5d",
        "outputId": "d32f0408-ac53-43d8-9557-32ab857825c6"
      },
      "execution_count": 224,
      "outputs": [
        {
          "output_type": "stream",
          "name": "stdout",
          "text": [
            "ID: test, Domain: gmail.com\n",
            "유효한 이메일 주소가 아닙니다.\n"
          ]
        }
      ]
    },
    {
      "cell_type": "markdown",
      "source": [
        "# Q.3 / 2점"
      ],
      "metadata": {
        "id": "qaccA5uwZEBq"
      }
    },
    {
      "cell_type": "markdown",
      "source": [
        "### 정규표현식을 사용해서 html의 문자열을 파싱하는 beautifulsoup의 find()와 get_text() function을 갖는 ParserWithRegex라는 클래스를 구현해보시오. (attribution 검색까지는 구현 안해도됨. 다만, 구현시 가산점) [2점]\n",
        "\n",
        "**Example**\n",
        "```python\n",
        "class ParserWithRegex:\n",
        "    def __init__(self, html):\n",
        "        self.source = html\n",
        "\n",
        "    def find(self, tag):\n",
        "      ...\n",
        "\n",
        "    def get_text(self, html_fragment):\n",
        "      ...\n",
        "\n",
        "\n",
        "html = \"\"\"\n",
        "<html>\n",
        "<body>\n",
        "<div>Hello <b>World</b>!</div>\n",
        "<p>This is a paragraph.</p>\n",
        "<div class=test>Another <i>div</i>.</div>\n",
        "</body>\n",
        "</html>\n",
        "\"\"\"\n",
        "\n",
        "parser = ParserWithRegex(html)\n",
        "\n",
        "div_content = parser.find('div')\n",
        "print(div_content)\n",
        ">> Hello <b>World</b>!\n",
        "\n",
        "text = parser.get_text(div_content)\n",
        "print(text)\n",
        ">> Hello World!\n",
        "```"
      ],
      "metadata": {
        "id": "0V981QskZHMR"
      }
    },
    {
      "cell_type": "code",
      "source": [
        "class ParserWithRegex:\n",
        "    def __init__(self, html):\n",
        "        self.source = html\n",
        "\n",
        "    def find(self, tag):\n",
        "      p = re.compile(\"<{tag}>(.*?)</{tag}>\".format(tag=tag))\n",
        "      match = p.search(self.source)\n",
        "      if match:\n",
        "        return match.group(1)\n",
        "      else:\n",
        "        return None\n",
        "\n",
        "\n",
        "    def get_text(self, html_fragment):\n",
        "      p = re.compile(\"<[^>]*>\")\n",
        "      return p.sub(\"\", html_fragment)\n",
        "\n",
        "\n",
        "html = \"\"\"\n",
        "<html>\n",
        "<body>\n",
        "<div>Hello <b>World</b>!</div>\n",
        "<p>This is a paragraph.</p>\n",
        "<div class=test>Another <i>div</i>.</div>\n",
        "</body>\n",
        "</html>\n",
        "\"\"\"\n",
        "\n",
        "parser = ParserWithRegex(html)\n",
        "\n",
        "div_content = parser.find('div')\n",
        "print(div_content)\n",
        "# >> Hello <b>World</b>!\n",
        "\n",
        "text = parser.get_text(div_content)\n",
        "print(text)\n",
        "# >> Hello World!"
      ],
      "metadata": {
        "colab": {
          "base_uri": "https://localhost:8080/"
        },
        "id": "yxDdZ_1rUGMd",
        "outputId": "016270d4-72bb-4392-cddd-f1cb52679b7a"
      },
      "execution_count": 225,
      "outputs": [
        {
          "output_type": "stream",
          "name": "stdout",
          "text": [
            "Hello <b>World</b>!\n",
            "Hello World!\n"
          ]
        }
      ]
    },
    {
      "cell_type": "markdown",
      "source": [
        "# Q.4 / 3점"
      ],
      "metadata": {
        "id": "ff_rCnzGKnKt"
      }
    },
    {
      "cell_type": "markdown",
      "source": [
        "### 공공데이터 포털에서 [소상공인시장진흥공단_상가(상권)정보_API](https://www.data.go.kr/data/15012005/openapi.do)를 활용하여 다음 질문들에 답하시오.\n",
        "\n",
        "> 서비스키는 각자의 서비스키를 입력하셔야 합니다. 다른 학생과 중복시 카피로 간주합니다.\n",
        ">\n",
        "> **[힌트]**\n",
        ">\n",
        "> 마이페이지>데이터 활용>Open API>활용신청 현황>사용하고자 하는 API>상세설명에 들어가시면 참고문서로 활용가이드를 확인할 수 있습니다. 활용가이드와 업종분류표를 잘 확인하시고 진행하시길 바랍니다.\n",
        "\n"
      ],
      "metadata": {
        "id": "3kBi2lc2N9KZ"
      }
    },
    {
      "cell_type": "markdown",
      "source": [
        "#### 1. 행정구역 조회 오퍼레이션(상세 기능)을 통해 서울특별시 성북구 안암동의 시도, 시군구, 행정동 코드를 구하시오. [1점]"
      ],
      "metadata": {
        "id": "lN_Yih7D3pyD"
      }
    },
    {
      "cell_type": "code",
      "source": [
        "import requests\n",
        "import json\n",
        "\n",
        "baseURL = 'http://apis.data.go.kr/B553077/api/open/sdsc2/baroApi?'\n",
        "serviceKey = 'PxG0jfz578YGLhoqKBROKo%2BpEvzWasqQ8er9MLHPC%2FyO9mmpk72h4RENGqvvYbBtVAqkMjfJO5IcNa2pilhMhg%3D%3D'\n",
        "\n",
        "response = requests.get(baseURL+'resId=dong&catId=mega&type=json&ServiceKey=' + serviceKey)\n",
        "contents = json.loads(response.text)\n",
        "\n",
        "for data in contents['body']['items']:\n",
        "  if data['ctprvnNm'] == '서울특별시':\n",
        "    print('서울특별시 코드:', data['ctprvnCd'])\n",
        "\n",
        "response = requests.get(baseURL+'resId=dong&catId=cty&ctprvnCd=11&type=json&ServiceKey=' + serviceKey)\n",
        "contents = json.loads(response.text)\n",
        "\n",
        "for data in contents['body']['items']:\n",
        "  if data['signguNm'] == '성북구':\n",
        "    print('성북구 코드:', data['signguCd'])\n",
        "\n",
        "response = requests.get(baseURL+'resId=dong&catId=admi&signguNm=11290&type=json&ServiceKey=' + serviceKey)\n",
        "contents = json.loads(response.text)\n",
        "\n",
        "for data in contents['body']['items']:\n",
        "  if data['adongNm'] == '안암동':\n",
        "    print('안암동 코드:', data['adongCd'])"
      ],
      "metadata": {
        "colab": {
          "base_uri": "https://localhost:8080/"
        },
        "id": "DwzaR4yYxyh5",
        "outputId": "dafe59b0-b85e-4996-eea1-55e2968ca5e2"
      },
      "execution_count": 227,
      "outputs": [
        {
          "output_type": "stream",
          "name": "stdout",
          "text": [
            "서울특별시 코드: 11\n",
            "성북구 코드: 11290\n",
            "안암동 코드: 11290600\n"
          ]
        }
      ]
    },
    {
      "cell_type": "markdown",
      "source": [
        "#### 2. 서울특별시 성북구 안암동의 음식점업 총 수를 구하시오. [1점]"
      ],
      "metadata": {
        "id": "cmp-COb33t-S"
      }
    },
    {
      "cell_type": "code",
      "source": [
        "import requests\n",
        "import json\n",
        "\n",
        "baseURL = 'http://apis.data.go.kr/B553077/api/open/sdsc2/storeListInDong?'\n",
        "serviceKey = 'PxG0jfz578YGLhoqKBROKo%2BpEvzWasqQ8er9MLHPC%2FyO9mmpk72h4RENGqvvYbBtVAqkMjfJO5IcNa2pilhMhg%3D%3D'\n",
        "\n",
        "response = requests.get(baseURL+'divId=adongCd&key=11290600&indsLclsCd=I2&type=json&serviceKey=' + serviceKey)\n",
        "contents = json.loads(response.text)\n",
        "\n",
        "print('음식점업 총 수:', len(contents['body']['items']))"
      ],
      "metadata": {
        "colab": {
          "base_uri": "https://localhost:8080/"
        },
        "id": "eeWYqWbf3t-C",
        "outputId": "03a6014b-67e1-4ab5-9dda-167c13bcdc70"
      },
      "execution_count": 228,
      "outputs": [
        {
          "output_type": "stream",
          "name": "stdout",
          "text": [
            "음식점업 총 수: 20\n"
          ]
        }
      ]
    },
    {
      "cell_type": "markdown",
      "source": [
        "#### 3. 자신이 안암에서 가장 좋아하는 맛집을 찾아 상호명, 상권업종중분류명, 상권업종소분류명, 도로명주소를 출력하시오. [1점]"
      ],
      "metadata": {
        "id": "Z09jsXm93yLk"
      }
    },
    {
      "cell_type": "code",
      "source": [
        "import requests\n",
        "import json\n",
        "\n",
        "baseURL = 'http://apis.data.go.kr/B553077/api/open/sdsc2/storeListInDong?'\n",
        "serviceKey = 'PxG0jfz578YGLhoqKBROKo%2BpEvzWasqQ8er9MLHPC%2FyO9mmpk72h4RENGqvvYbBtVAqkMjfJO5IcNa2pilhMhg%3D%3D'\n",
        "\n",
        "response = requests.get(baseURL+'divId=adongCd&key=11290600&indsLclsCd=I2&type=json&serviceKey=' + serviceKey)\n",
        "contents = json.loads(response.text)\n",
        "\n",
        "for data in contents['body']['items']:\n",
        "  if data['bizesNm'] == '제주고깃집':\n",
        "    print('상호명:', data['bizesNm'])\n",
        "    print('상권업종중분류명:', data['indsMclsNm'])\n",
        "    print('상권업종소분류명:', data['indsSclsNm'])\n",
        "    print('도로명주소:', data['rdnmAdr'])"
      ],
      "metadata": {
        "colab": {
          "base_uri": "https://localhost:8080/"
        },
        "id": "zZmZ8WSX5bjK",
        "outputId": "ea5383ec-a33c-4533-8e3b-decddea5e595"
      },
      "execution_count": 242,
      "outputs": [
        {
          "output_type": "stream",
          "name": "stdout",
          "text": [
            "상호명: 제주고깃집\n",
            "상권업종중분류명: 한식\n",
            "상권업종소분류명: 돼지고기 구이/찜\n",
            "도로명주소: 서울특별시 성북구 안암로 69-1\n"
          ]
        }
      ]
    },
    {
      "cell_type": "markdown",
      "source": [
        "# Q.5 / 2점"
      ],
      "metadata": {
        "id": "RJ5sZr8DOBSg"
      }
    },
    {
      "cell_type": "markdown",
      "source": [
        "### 다음 HTML 구조를 가진 웹 페이지가 있다고 가정하자.\n",
        "```\n",
        "<!DOCTYPE html>\n",
        "<html>\n",
        "<head>\n",
        "    <title>Sample Web Page</title>\n",
        "</head>\n",
        "<body>\n",
        "    <h1>Welcome to the Sample Web Page</h1>\n",
        "    <div id=\"author\">\n",
        "        Author: Hyeongwon Kang\n",
        "    </div>\n",
        "    <div id=\"content\">\n",
        "        <p>This is a paragraph in the web page.</p>\n",
        "        <p>This is another paragraph, with a <a href=\"https://www.example.com\">link</a>.</p>\n",
        "    </div>\n",
        "    <ul id=\"items\">\n",
        "        <li class=\"item\">Item 1</li>\n",
        "        <li class=\"item\">Item 2</li>\n",
        "        <li class=\"item\">Item 3</li>\n",
        "    </ul>\n",
        "</body>\n",
        "</html>\n",
        "```\n"
      ],
      "metadata": {
        "id": "JBUXp7DuOq_w"
      }
    },
    {
      "cell_type": "code",
      "source": [
        "html_string = '''\n",
        "<!DOCTYPE html>\n",
        "<html>\n",
        "<head>\n",
        "  <title>Sample Web Page</title>\n",
        "</head>\n",
        "<body>\n",
        "  <h1>Welcome to the Sample Web Page</h1>\n",
        "  <div id=\"author\">\n",
        "    Author: Hyeongwon Kang\n",
        "  </div>\n",
        "  <div id=\"content\">\n",
        "    <p>This is a paragraph in the web page.</p>\n",
        "    <p>This is another paragraph, with a <a href=\"https://www.example.com\">link</a>.</p>\n",
        "</div>\n",
        "  <ul id=\"items\">\n",
        "    <li class=\"item\">Item 1</li>\n",
        "    <li class=\"item\">Item 2</li>\n",
        "    <li class=\"item\">Item 3</li>\n",
        "  </ul>\n",
        "</body>\n",
        "</html>\n",
        "'''\n",
        "\n",
        "html_string = html_string.replace(\"\\n\",\"\").replace(\"\\t\",\"\")"
      ],
      "metadata": {
        "id": "m9kuwZxdVjbv"
      },
      "execution_count": 230,
      "outputs": []
    },
    {
      "cell_type": "markdown",
      "source": [
        "#### 1. 페이지의 제목(`<title>`)을 추출하여라. [0.5점]"
      ],
      "metadata": {
        "id": "qYFUn0BiA2w8"
      }
    },
    {
      "cell_type": "code",
      "source": [
        "p = re.compile(r\"<title>(.*?)</title>\")\n",
        "title = p.search(html_string).group(1)\n",
        "print(title.strip())"
      ],
      "metadata": {
        "colab": {
          "base_uri": "https://localhost:8080/"
        },
        "id": "3xBfmjqNVH4G",
        "outputId": "c598ca35-f0a4-4e98-d714-2f76b5528dd4"
      },
      "execution_count": 231,
      "outputs": [
        {
          "output_type": "stream",
          "name": "stdout",
          "text": [
            "Sample Web Page\n"
          ]
        }
      ]
    },
    {
      "cell_type": "markdown",
      "source": [
        "#### 2. \"content\"라는 ID를 가진 `<div>` 태그의 모든 텍스트를 추출하여라. [0.5점]"
      ],
      "metadata": {
        "id": "aGqFqqdKA6fi"
      }
    },
    {
      "cell_type": "code",
      "source": [
        "p = re.compile(r'<div id=\"content\">(.*?)</div>')\n",
        "content = p.search(html_string).group(1)\n",
        "\n",
        "p = re.compile(\"<[^>]*>\")\n",
        "content = p.sub(\"\", content).strip()\n",
        "print(content.strip())"
      ],
      "metadata": {
        "colab": {
          "base_uri": "https://localhost:8080/"
        },
        "id": "KtehMPSjVIL9",
        "outputId": "1cb2b264-442f-41b0-e550-a7a5073f1e39"
      },
      "execution_count": 232,
      "outputs": [
        {
          "output_type": "stream",
          "name": "stdout",
          "text": [
            "This is a paragraph in the web page.    This is another paragraph, with a link.\n"
          ]
        }
      ]
    },
    {
      "cell_type": "markdown",
      "source": [
        "#### 3. \"items\"라는 ID를 가진 `<ul>` 태그 내에 있는 모든 항목(`<li>`)의 텍스트를 리스트로 만들어 반환하여라. [0.5점]"
      ],
      "metadata": {
        "id": "KcWLc-IrBBoT"
      }
    },
    {
      "cell_type": "code",
      "source": [
        "p = re.compile(r'<li class=\"item\">(.*?)</li>')\n",
        "items = p.findall(html_string)\n",
        "print(items)"
      ],
      "metadata": {
        "colab": {
          "base_uri": "https://localhost:8080/"
        },
        "id": "KtRFwH79VIfl",
        "outputId": "8c4dac22-6e4f-49f9-b6f4-76f277641e1b"
      },
      "execution_count": 233,
      "outputs": [
        {
          "output_type": "stream",
          "name": "stdout",
          "text": [
            "['Item 1', 'Item 2', 'Item 3']\n"
          ]
        }
      ]
    },
    {
      "cell_type": "markdown",
      "source": [
        "#### 4. CSS를 사용해서 link를 추출하여라. [0.5점]"
      ],
      "metadata": {
        "id": "bTN_Aj_cBPU4"
      }
    },
    {
      "cell_type": "code",
      "source": [
        "p = re.compile(r\"<a href=['\\\"]?(.*?)['\\\"]?[^>]*>\")\n",
        "link = p.search(html_string).group(0)\n",
        "print(link.split('\\\"')[1])"
      ],
      "metadata": {
        "colab": {
          "base_uri": "https://localhost:8080/"
        },
        "id": "aSY-2nOqVIyd",
        "outputId": "38156766-e84f-4546-f3cf-7529578d85b0"
      },
      "execution_count": 234,
      "outputs": [
        {
          "output_type": "stream",
          "name": "stdout",
          "text": [
            "https://www.example.com\n"
          ]
        }
      ]
    },
    {
      "cell_type": "markdown",
      "source": [
        "# Q.6 / 3점"
      ],
      "metadata": {
        "id": "EUqA8Nu6SeW2"
      }
    },
    {
      "cell_type": "markdown",
      "source": [
        "### 다음 기사의 본문에서 강필성 교수님이 몇번 언급되는지 구하시오.\n",
        "\n",
        "https://www.seoul.co.kr/news/newsView.php?id=20200108500123&wlog_tag3=naver\n",
        "\n",
        "> 기사 본문을 크롤링하고 정규표현식을 사용합니다.\n",
        ">\n",
        "> '강 교수'도 강필성 교수님 언급으로 카운트 되어야 합니다.\n",
        ">\n",
        "> 패턴은 단 한번만 사용 가능합니다."
      ],
      "metadata": {
        "id": "uFnUAIJJfcFu"
      }
    },
    {
      "cell_type": "code",
      "source": [
        "from selenium import webdriver\n",
        "from bs4 import BeautifulSoup\n",
        "import re\n",
        "\n",
        "driver = webdriver.Chrome(options=options)\n",
        "driver.get(\"https://www.seoul.co.kr/news/newsView.php?id=20200108500123&wlog_tag3=naver\")\n",
        "\n",
        "soup = BeautifulSoup(driver.page_source, \"html.parser\")\n",
        "article_body = soup.find(\"div\", {'class':'S20_v_article'})\n",
        "\n",
        "p = re.compile(r\"강필성|강 교수\")\n",
        "counter = len(p.findall(str(article_body)))\n",
        "\n",
        "print('언급 횟수:', counter)\n",
        "driver.close()"
      ],
      "metadata": {
        "colab": {
          "base_uri": "https://localhost:8080/"
        },
        "id": "FP-KdI_XZ2Mm",
        "outputId": "bda1efb1-7839-4c6f-d149-c5fc5ce3c18e"
      },
      "execution_count": 235,
      "outputs": [
        {
          "output_type": "stream",
          "name": "stdout",
          "text": [
            "언급 횟수: 6\n"
          ]
        }
      ]
    },
    {
      "cell_type": "markdown",
      "source": [
        "# Q.7 / 3점"
      ],
      "metadata": {
        "id": "gGtVrCQGhhMg"
      }
    },
    {
      "cell_type": "markdown",
      "source": [
        "### selenium을 사용해서 [다음](https://www.daum.net/) 사이트에서 고려대학교를 검색하고 이미지 탭에서 첫번째 이미지를 출력해보시오.\n",
        "\n",
        "> 다음 홈에서 시작해야합니다.\n",
        ">\n",
        "> selenium의 send_keys와 click을 사용하여야 합니다.\n",
        ">\n",
        "> 아래 이미지 출력 방법을 사용하여 이미지를 출력하여야 합니다.\n",
        "\n",
        "*** 이미지 출력 방법 ***\n",
        "```python\n",
        "from io import BytesIO\n",
        "from PIL import Image\n",
        "\n",
        "res = requests.get(image_url) # image_url에다가 찾아낸 이미지 주소를 입력하시면 됩니다.\n",
        "Image.open(BytesIO(res.content))\n",
        "```"
      ],
      "metadata": {
        "id": "9ARt4M8Yj9OS"
      }
    },
    {
      "cell_type": "code",
      "source": [
        "from selenium import webdriver\n",
        "import re, time\n",
        "\n",
        "driver = webdriver.Chrome(options=options)\n",
        "driver.get(\"https://daum.net\")\n",
        "\n",
        "elem = driver.find_element(By.XPATH,'//*[@id=\"q\"]')\n",
        "elem.send_keys('고려대학교\\n')\n",
        "\n",
        "elem = driver.find_element(By.XPATH, '//*[@id=\"daumGnb\"]/div/ul/li[5]/a')\n",
        "elem.click()\n",
        "\n",
        "elem = driver.find_element(By.XPATH, '//*[@id=\"imageColl\"]/div[4]/div/div[1]/div[1]/div[1]/a/img')\n",
        "image_url = elem.get_attribute('src')\n",
        "\n",
        "from io import BytesIO\n",
        "from PIL import Image\n",
        "\n",
        "res = requests.get(image_url)\n",
        "Image.open(BytesIO(res.content))\n",
        "\n",
        "driver.close()"
      ],
      "metadata": {
        "id": "OX_jeuqkgPkg"
      },
      "execution_count": 236,
      "outputs": []
    },
    {
      "cell_type": "markdown",
      "source": [
        "# Q.8 / 3점"
      ],
      "metadata": {
        "id": "FfQKUO0vuW_n"
      }
    },
    {
      "cell_type": "markdown",
      "source": [
        "### 다음 기사에서 모든 댓글들을 크롤링하여 리스트 형태로 만들고, 댓글 리스트와 댓글 갯수를 출력하시오.\n",
        "\n",
        "https://n.news.naver.com/article/138/0002161591?ntype=RANKING\n",
        "\n",
        "> 본 기사 페이지에서 시작해야합니다.\n",
        ">\n",
        "> selenium을 활용해서 댓글 더보기 버튼을 눌러 댓글들을 load 합니다.\n",
        ">\n",
        "> **힌트**\n",
        ">\n",
        "> 댓글 더보기 버튼을 클릭하여 모든 댓글들을 불러옵니다.\n",
        ">\n",
        "> 댓글 더보기 버튼이 클릭되지 않으면 모든 댓글들이 load 된 상태입니다.\n",
        ">\n",
        "> **추천 방법 (꼭 이렇게 하지 않으셔도 됩니다.)**\n",
        ">\n",
        "> 1) 전체 댓글 수를 크롤링하고 댓글이 전체 댓글 수 만큼 출력될 때까지만 더보기 클릭하기\n",
        ">\n",
        "> 2) try, except 코드를 사용해서 더보기 버튼이 클릭되지 않는 상황에서 종료하기\n",
        "\n",
        "**try, except 설명**\n",
        "- `try`와 `except`는 파이썬에서 예외 처리를 위해 사용되는 구문이다. 이 구문을 사용하면 코드 실행 중에 발생할 수 있는 오류(예외)를 처리하고, 프로그램이 예외로 인해 갑자기 중단되는 것을 방지할 수 있다. `try` 블록 안의 코드를 실행하다가 오류가 발생하면 즉시 그 블록을 중단하고 `except` 블록으로 이동한다.\n",
        "```python\n",
        "try:\n",
        "    예외가 발생할 수 있는 코드\n",
        "except:\n",
        "    Error가 발생했을 때 실행될 코드\n",
        "```"
      ],
      "metadata": {
        "id": "hdpJiKmmCpNF"
      }
    },
    {
      "cell_type": "code",
      "source": [
        "from selenium import webdriver\n",
        "from selenium.webdriver.common.by import By\n",
        "from selenium.webdriver.chrome.options import Options\n",
        "from bs4 import BeautifulSoup\n",
        "import time\n",
        "\n",
        "driver = webdriver.Chrome(options=options)\n",
        "driver.get(\"https://n.news.naver.com/article/138/0002161591?ntype=RANKING\")\n",
        "\n",
        "driver.implicitly_wait(5)\n",
        "more = driver.find_element(By.CLASS_NAME, 'u_cbox_btn_view_comment')\n",
        "more.click()\n",
        "\n",
        "while True:\n",
        "  try:\n",
        "    more = driver.find_element(By.CLASS_NAME, 'u_cbox_paginate')\n",
        "    more.click()\n",
        "    time.sleep(0.1)\n",
        "  except:\n",
        "    break\n",
        "\n",
        "soup = BeautifulSoup(driver.page_source, \"html.parser\")\n",
        "contents = soup.select('span.u_cbox_contents')\n",
        "replies = [content.text for content in contents]\n",
        "\n",
        "print(len(replies))\n",
        "print(replies)\n",
        "\n",
        "driver.close()\n"
      ],
      "metadata": {
        "colab": {
          "base_uri": "https://localhost:8080/"
        },
        "id": "38bnUH1BoivA",
        "outputId": "b11488e9-5c0a-44b9-f86c-8e4564ff4f1a"
      },
      "execution_count": 237,
      "outputs": [
        {
          "output_type": "stream",
          "name": "stdout",
          "text": [
            "25\n",
            "['제오페구케 5인 로스터가 계속 유지됐으면 좋겠다... 최소한 페이커 은퇴 전까지는.', '티원은 페이커가 계속 남아 있으니 팬들이 떠날 이유가 없었지만 다른 팀들은 정이 잘 안감.... 일이년 반짝 하고 팀 공중분해 그나마 DK 정도만 정이 갈 뿐', '재계약 그저 고맙고ㅠㅠ..오래오래 이 멤버로 봅시다ㅠㅠ', '프렌차이즈 선수단, 이게 T1이라 가능했고 T1 루키즈부터 1군까지 올라온 성골 출신들이 대단합니다.', '사랑입니다♡^^', '생각보다 많이 수익성이 안 좋은건 사실이지 몇 억명 본다고 하지만 단독적으로 돌아가는 리그에 돈 쓸 기업이 많이 없다는게', '이번에 멤버 3명을 재계약하면서 이들의 연봉이 엄청나게 올라갔는데, 이들의 연봉상승만큼 매출이 얼마나 증가할 지가 궁금하다. E스포츠의 문제는 다른 프로스포츠와 다르게 중계권료를 사실상 받지 못하고 있으면서 온전히 스폰서에 의존하고 있는 점이 가장 뼈아프다. 그나마 최근에 떠오르는 것이 굿즈상품인데, 이것이 얼마나 매출에 기여할지는....', '사랑해요 티원 ㅠㅠㅠㅠ', '흑자는 불가능 지금 프로게이머 연봉이 비정상적으로 높음 페이커보다 연봉 높은 한국 사람이 손에 꼽은', 'e-스포츠계의 레알 마드리드 또는 뉴욕 양키스, T1', '샐러리캡 25년도 부터 실행한다는데 내년이 마지막 이조합겠다 너무 아쉽다 ㅠㅜ', '유니폼 좀 대량으로 찍어내줘라...품절 마케팅 할 필요도 없잖아 사고싶어도 살 수가 없다....', '젠지는 국제대회 박탈이 답임', 'ㅋㅋ', '걍 시장 파이가 작은거지. 쥐똥만한 나라에서 손 안대는 컨텐츠가 없는데 어떻게 다 커버하냐. 개인이 돈을 지불하고 즐길 수 있는 장르는 많아봐야 고작 두 세개일텐데.', '중계권료 n빵만안쳐도 흑자일듯', 'T1 쭉 쭉 흥하자 --!!!!!! 페이커 ', '애초에 고정비용이 타스포츠에 비해서 작아야 정상인데 몸값이 말도 안 되게 비싼게 문제였지', '페이커 연봉은 계산 안해서 그런거 아냐? kbo 엘롯기도 적자나는게 이 나라 스포츠산업이다 ㅋㅋㅋㅋㅋ 바랄걸 바라야지', '아무리 쎄빠지게 수익 내봤자 그 수익의 근간은 롤 즉 외국회사 라이엇의 재산임 다시 말해 대부분의 수익이 라이엇으로 돌아간다는 거고 우리는 외국회사(심지어 중국)가 앉아서 돈 버는 거 열심히 도와주고 있는 중일 뿐임', '스타리그 때는 에이스 선수는 되어야 연봉 1억에 그 밑에 설거지들은 최소시급정도나 받았었는데 이제는 선수 연봉이 너무 높아서 탈이네', '160억 적자던데.. 불가능에 가까움. 가장 팬 많기로 유명한 곳인데도 그런데.. 그냥 2-3년안에 lck 증발함', '프로 야구선수랑 게이머는 하는거에 비해 연봉은 매우쌔더라 그러니 적자구단만 수두룩하지 사실 위 두종목은 스포츠라기엔 너무 민망한 활동량을 가지고 있더라', '영업비용이 어떻게 400억이 넘음? 특정 선수 연봉이 높더라도 이정도가 나올 수가 있나?', '혜리미예채파도 아니고 뭔 ㅋㅋ']\n"
          ]
        }
      ]
    }
  ]
}
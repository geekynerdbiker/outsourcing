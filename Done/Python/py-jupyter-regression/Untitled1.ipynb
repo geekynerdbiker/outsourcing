{
  "nbformat": 4,
  "nbformat_minor": 0,
  "metadata": {
    "colab": {
      "name": "Untitled1.ipynb",
      "provenance": [],
      "collapsed_sections": []
    },
    "kernelspec": {
      "name": "python3",
      "display_name": "Python 3"
    },
    "language_info": {
      "name": "python"
    }
  },
  "cells": [
    {
      "cell_type": "code",
      "source": [
        "from sklearn.linear_model import LinearRegression\n",
        "import pandas as pd\n",
        "import numpy as np\n",
        "import matplotlib.pyplot as plt"
      ],
      "metadata": {
        "id": "aztORJ_82ORf"
      },
      "execution_count": 1,
      "outputs": []
    },
    {
      "cell_type": "markdown",
      "source": [
        "1. 회귀란 데이터를 통한 다음 데이터를 예측하기 위해 사용하는 기법입니다. 데이터셋은 통계청에서 사망원인통계 자료를 이용해서 남성의 사망률을 예측합니다.\n",
        "\n",
        "링크\n",
        "https://kosis.kr/statHtml/statHtml.do?orgId=101&tblId=DT_1B34E07&vw_cd=MT_ZTITLE&list_id=F_27&scrId=&seqNo=&lang_mode=ko&obj_var_id=&itm_id=&conn_path=MT_ZTITLE&path=%252FstatisticsList%252FstatisticsListIndex.do\n",
        "\n",
        "여기 입니다.\n"
      ],
      "metadata": {
        "id": "3lH7NGGd6sRw"
      }
    },
    {
      "cell_type": "code",
      "source": [
        "# csv 파일 읽기\n",
        "df = pd.read_csv(\"data.csv\")"
      ],
      "metadata": {
        "id": "vkK0Pl7q2P4G"
      },
      "execution_count": 2,
      "outputs": []
    },
    {
      "cell_type": "code",
      "source": [
        "from sklearn.preprocessing import StandardScaler \n",
        "\n",
        "# 연도와 남성 10만명당 사망률을 numpy array로 생성\n",
        "year = np.array(df[[\"시점\"]]).astype(float)\n",
        "men = np.array(df[[\"남자\"]]).astype(float)\n",
        "\n",
        "# 범위 학습\n",
        "scaler = StandardScaler()\n",
        "scaler.fit(year)\n",
        "\n",
        "# 학습된 범위로 변환\n",
        "trans_year = scaler.transform(year)\n",
        "trans_men = scaler.transform(men)\n",
        "\n",
        "# loss 비교를 위한 배열\n",
        "linear_loss = []\n",
        "deep_loss = []"
      ],
      "metadata": {
        "id": "huO7qs1p82ad"
      },
      "execution_count": 27,
      "outputs": []
    },
    {
      "cell_type": "code",
      "source": [
        "# 통계 자료 그래프로 출력\n",
        "plt.plot(year, men, 'o')\n",
        "plt.title(\"Death Rate of Men per Year\")\n",
        "plt.show()"
      ],
      "metadata": {
        "colab": {
          "base_uri": "https://localhost:8080/",
          "height": 281
        },
        "id": "4a0ScOxL2RKI",
        "outputId": "7ca34df2-3058-4315-b37c-8bfa1192b5f4"
      },
      "execution_count": 4,
      "outputs": [
        {
          "output_type": "display_data",
          "data": {
            "text/plain": [
              "<Figure size 432x288 with 1 Axes>"
            ],
            "image/png": "[encoded data removed]"
          },
          "metadata": {
            "needs_background": "light"
          }
        }
      ]
    },
    {
      "cell_type": "markdown",
      "source": [
        "2. Linear Regression Model"
      ],
      "metadata": {
        "id": "jcNuCqL6FOIL"
      }
    },
    {
      "cell_type": "code",
      "source": [
        "# Linear Regression 실시\n",
        "\n",
        "W = 0.0\n",
        "b = 0.0\n",
        "\n",
        "year_data = len(year)\n",
        "\n",
        "men_data = len(men)\n",
        "\n",
        "# 반복횟수와 학습률 설정\n",
        "epochs = 5000\n",
        "learning_rate = 0.001\n",
        "\n",
        "for i in range(epochs):\n",
        "    hypothesis = trans_year * W + b\n",
        "    # MSE 계산\n",
        "    loss = np.sum((hypothesis - trans_men) ** 2) / year_data\n",
        "    # 목적 함수인 W에 대하여 편미분\n",
        "    gradient_w = np.sum((W * trans_year - trans_men + b) * 2 * trans_year) / year_data\n",
        "    # b에 대하여 편미분\n",
        "    gradient_b = np.sum((W * trans_year - trans_men + b) * 2) / year_data\n",
        "\n",
        "    # W, b 업데이트\n",
        "    W -= learning_rate * gradient_w\n",
        "    b -= learning_rate * gradient_b\n",
        "\n",
        "    # 100번째 반복마다 loss, W, b 출력\n",
        "    if i % 100 == 0:\n",
        "        print('Epoch ({:10d}/{:10d}) loss: {:10f}, W: {:10f}, b:{:10f}'.format(i, epochs, loss, W, b))\n",
        "        linear_loss.append(loss)\n",
        "\n",
        "print('W: {:10f}'.format(W))\n",
        "print('b: {:10f}'.format(b))\n",
        "print('result : ')\n",
        "print(year * W + b)\n"
      ],
      "metadata": {
        "colab": {
          "base_uri": "https://localhost:8080/"
        },
        "id": "rvE6SPiE9XbF",
        "outputId": "9a446fd2-1ffd-4de4-b301-76b905d284de"
      },
      "execution_count": 28,
      "outputs": [
        {
          "output_type": "stream",
          "name": "stdout",
          "text": [
            "Epoch (         0/      5000) loss: 16273.176855, W:  -0.004482, b: -0.255006\n",
            "Epoch (       100/      5000) loss: 10907.548861, W:  -0.410227, b:-23.342006\n",
            "Epoch (       200/      5000) loss: 7312.301165, W:  -0.742356, b:-42.240258\n",
            "Epoch (       300/      5000) loss: 4903.299644, W:  -1.014226, b:-57.709740\n",
            "Epoch (       400/      5000) loss: 3289.144288, W:  -1.236770, b:-70.372544\n",
            "Epoch (       500/      5000) loss: 2207.576886, W:  -1.418937, b:-80.737895\n",
            "Epoch (       600/      5000) loss: 1482.870904, W:  -1.568053, b:-89.222628\n",
            "Epoch (       700/      5000) loss: 997.280490, W:  -1.690114, b:-96.167948\n",
            "Epoch (       800/      5000) loss: 671.909851, W:  -1.790029, b:-101.853157\n",
            "Epoch (       900/      5000) loss: 453.894728, W:  -1.871817, b:-106.506880\n",
            "Epoch (      1000/      5000) loss: 307.813344, W:  -1.938765, b:-110.316263\n",
            "Epoch (      1100/      5000) loss: 209.931276, W:  -1.993567, b:-113.434498\n",
            "Epoch (      1200/      5000) loss: 144.345239, W:  -2.038426, b:-115.986981\n",
            "Epoch (      1300/      5000) loss: 100.399209, W:  -2.075146, b:-118.076359\n",
            "Epoch (      1400/      5000) loss:  70.953100, W:  -2.105203, b:-119.786655\n",
            "Epoch (      1500/      5000) loss:  51.222688, W:  -2.129808, b:-121.186646\n",
            "Epoch (      1600/      5000) loss:  38.002293, W:  -2.149948, b:-122.332632\n",
            "Epoch (      1700/      5000) loss:  29.143946, W:  -2.166434, b:-123.270699\n",
            "Epoch (      1800/      5000) loss:  23.208397, W:  -2.179929, b:-124.038569\n",
            "Epoch (      1900/      5000) loss:  19.231272, W:  -2.190976, b:-124.667121\n",
            "Epoch (      2000/      5000) loss:  16.566394, W:  -2.200018, b:-125.181634\n",
            "Epoch (      2100/      5000) loss:  14.780787, W:  -2.207420, b:-125.602797\n",
            "Epoch (      2200/      5000) loss:  13.584339, W:  -2.213479, b:-125.947547\n",
            "Epoch (      2300/      5000) loss:  12.782657, W:  -2.218438, b:-126.229748\n",
            "Epoch (      2400/      5000) loss:  12.245488, W:  -2.222498, b:-126.460748\n",
            "Epoch (      2500/      5000) loss:  11.885558, W:  -2.225821, b:-126.649837\n",
            "Epoch (      2600/      5000) loss:  11.644386, W:  -2.228541, b:-126.804619\n",
            "Epoch (      2700/      5000) loss:  11.482788, W:  -2.230768, b:-126.931319\n",
            "Epoch (      2800/      5000) loss:  11.374509, W:  -2.232591, b:-127.035031\n",
            "Epoch (      2900/      5000) loss:  11.301957, W:  -2.234083, b:-127.119926\n",
            "Epoch (      3000/      5000) loss:  11.253343, W:  -2.235304, b:-127.189418\n",
            "Epoch (      3100/      5000) loss:  11.220769, W:  -2.236304, b:-127.246302\n",
            "Epoch (      3200/      5000) loss:  11.198943, W:  -2.237122, b:-127.292866\n",
            "Epoch (      3300/      5000) loss:  11.184318, W:  -2.237792, b:-127.330981\n",
            "Epoch (      3400/      5000) loss:  11.174519, W:  -2.238340, b:-127.362181\n",
            "Epoch (      3500/      5000) loss:  11.167953, W:  -2.238789, b:-127.387720\n",
            "Epoch (      3600/      5000) loss:  11.163553, W:  -2.239156, b:-127.408626\n",
            "Epoch (      3700/      5000) loss:  11.160606, W:  -2.239457, b:-127.425739\n",
            "Epoch (      3800/      5000) loss:  11.158630, W:  -2.239703, b:-127.439746\n",
            "Epoch (      3900/      5000) loss:  11.157307, W:  -2.239905, b:-127.451213\n",
            "Epoch (      4000/      5000) loss:  11.156420, W:  -2.240070, b:-127.460599\n",
            "Epoch (      4100/      5000) loss:  11.155826, W:  -2.240205, b:-127.468282\n",
            "Epoch (      4200/      5000) loss:  11.155428, W:  -2.240315, b:-127.474571\n",
            "Epoch (      4300/      5000) loss:  11.155161, W:  -2.240406, b:-127.479719\n",
            "Epoch (      4400/      5000) loss:  11.154982, W:  -2.240480, b:-127.483933\n",
            "Epoch (      4500/      5000) loss:  11.154862, W:  -2.240541, b:-127.487382\n",
            "Epoch (      4600/      5000) loss:  11.154782, W:  -2.240590, b:-127.490206\n",
            "Epoch (      4700/      5000) loss:  11.154728, W:  -2.240631, b:-127.492517\n",
            "Epoch (      4800/      5000) loss:  11.154692, W:  -2.240664, b:-127.494409\n",
            "Epoch (      4900/      5000) loss:  11.154668, W:  -2.240691, b:-127.495958\n",
            "W:  -2.240713\n",
            "b: -127.497214\n",
            "result : \n",
            "[[-4570.8318352 ]\n",
            " [-4573.07254857]\n",
            " [-4575.31326195]\n",
            " [-4577.55397532]\n",
            " [-4579.7946887 ]\n",
            " [-4582.03540207]\n",
            " [-4584.27611544]\n",
            " [-4586.51682882]\n",
            " [-4588.75754219]\n",
            " [-4590.99825557]\n",
            " [-4593.23896894]\n",
            " [-4595.47968232]\n",
            " [-4597.72039569]\n",
            " [-4599.96110906]\n",
            " [-4602.20182244]\n",
            " [-4604.44253581]\n",
            " [-4606.68324919]\n",
            " [-4608.92396256]\n",
            " [-4611.16467594]\n",
            " [-4613.40538931]\n",
            " [-4615.64610268]\n",
            " [-4617.88681606]\n",
            " [-4620.12752943]\n",
            " [-4622.36824281]\n",
            " [-4624.60895618]\n",
            " [-4626.84966956]\n",
            " [-4629.09038293]\n",
            " [-4631.3310963 ]\n",
            " [-4633.57180968]\n",
            " [-4635.81252305]\n",
            " [-4638.05323643]\n",
            " [-4640.2939498 ]\n",
            " [-4642.53466318]\n",
            " [-4644.77537655]\n",
            " [-4647.01608992]\n",
            " [-4649.2568033 ]\n",
            " [-4651.49751667]\n",
            " [-4653.73823005]]\n"
          ]
        }
      ]
    },
    {
      "cell_type": "markdown",
      "source": [
        "3. Deep Learning 기반의 Regression"
      ],
      "metadata": {
        "id": "E-mvnqIVFEGw"
      }
    },
    {
      "cell_type": "code",
      "source": [
        "# Deep Learning Regression 실시\n",
        "\n",
        "import tensorflow as tf\n",
        "from tensorflow import keras\n",
        "from keras import layers\n",
        "\n",
        "# 데이터 셋을 훈련 데이터와 테스트 데이터로 분할\n",
        "dataset = df\n",
        "train_dataset = df.sample(frac=0.8,random_state=0)\n",
        "test_dataset = df.drop(train_dataset.index)"
      ],
      "metadata": {
        "id": "UXXz94y42SXN"
      },
      "execution_count": 7,
      "outputs": []
    },
    {
      "cell_type": "code",
      "source": [
        "# 통계 확인용\n",
        "train_stats_men = train_dataset.describe()\n",
        "train_stats_men.pop(\"남자\")\n",
        "train_stats_men = train_stats_men.transpose()"
      ],
      "metadata": {
        "id": "VhAN98yqKUd8"
      },
      "execution_count": 8,
      "outputs": []
    },
    {
      "cell_type": "code",
      "source": [
        "# 특성에서 레이블 분리\n",
        "train_labels_men = train_dataset.pop('남자')\n",
        "test_labels_men = test_dataset.pop('남자')"
      ],
      "metadata": {
        "id": "3AbVvdYvGfvK"
      },
      "execution_count": 9,
      "outputs": []
    },
    {
      "cell_type": "code",
      "source": [
        "# 데이터 정규화\n",
        "def norm_men(x):\n",
        "  return (x - train_stats_men['mean']) / train_stats_men['std']\n",
        "\n",
        "normed_train_data_men = norm_men(train_dataset)\n",
        "normed_test_data_men = norm_men(test_dataset)"
      ],
      "metadata": {
        "id": "I8YQ0L8wGWij"
      },
      "execution_count": 10,
      "outputs": []
    },
    {
      "cell_type": "code",
      "source": [
        "# 시퀀스 모델 생성 함수\n",
        "def build_model():\n",
        "  model = keras.Sequential([\n",
        "    layers.Dense(64, activation='relu', input_shape=[len(train_dataset.keys())]),\n",
        "    layers.Dense(64, activation='relu'),\n",
        "    layers.Dense(1)\n",
        "  ])\n",
        "\n",
        "  optimizer = tf.keras.optimizers.RMSprop(0.001)\n",
        "\n",
        "  model.compile(loss='mse',\n",
        "                optimizer=optimizer,\n",
        "                metrics=['mae', 'mse'])\n",
        "  return model"
      ],
      "metadata": {
        "id": "o5G2PH_yI9c1"
      },
      "execution_count": 11,
      "outputs": []
    },
    {
      "cell_type": "code",
      "source": [
        "# 모델 생성\n",
        "model = build_model()"
      ],
      "metadata": {
        "id": "JifiGhW-I9_v"
      },
      "execution_count": 12,
      "outputs": []
    },
    {
      "cell_type": "code",
      "source": [
        "# 반복 횟수 설정\n",
        "EPOCHS = 5000\n",
        "\n",
        "# 모델 훈련\n",
        "history_men = model.fit(\n",
        "  normed_train_data_men, train_labels_men,\n",
        "  epochs=EPOCHS, validation_split = 0.2, verbose=0)"
      ],
      "metadata": {
        "id": "SWSsHay0JMdy"
      },
      "execution_count": 13,
      "outputs": []
    },
    {
      "cell_type": "code",
      "source": [
        "# 결과 예측\n",
        "example_batch = normed_train_data_men[:10]\n",
        "example_result = model.predict(example_batch)\n",
        "example_result"
      ],
      "metadata": {
        "colab": {
          "base_uri": "https://localhost:8080/"
        },
        "id": "P1BW2lOdJcIK",
        "outputId": "d608fe44-6d8b-46aa-82ca-bd6a8574f92c"
      },
      "execution_count": 19,
      "outputs": [
        {
          "output_type": "execute_result",
          "data": {
            "text/plain": [
              "array([[553.962  ],\n",
              "       [578.25   ],\n",
              "       [584.71136],\n",
              "       [584.6802 ],\n",
              "       [603.3247 ],\n",
              "       [563.80945],\n",
              "       [557.8717 ],\n",
              "       [597.6959 ],\n",
              "       [554.3234 ],\n",
              "       [685.78174]], dtype=float32)"
            ]
          },
          "metadata": {},
          "execution_count": 19
        }
      ]
    },
    {
      "cell_type": "code",
      "source": [
        "# 모델 훈련과정 시각화\n",
        "h = pd.DataFrame(history_men.history)\n",
        "h['epoch'] = history_men.epoch\n",
        "\n",
        "for i in range(5000):\n",
        "  if i % 100 == 0:\n",
        "    deep_loss.append(h.loc[i]['loss'])"
      ],
      "metadata": {
        "id": "4M8pO4HEMuDu"
      },
      "execution_count": 29,
      "outputs": []
    },
    {
      "cell_type": "markdown",
      "source": [
        "4. linear regression과 deep learning 기반의 regression의 loss 값 비교"
      ],
      "metadata": {
        "id": "r9oRrSs4OKjO"
      }
    },
    {
      "cell_type": "code",
      "source": [
        "for i in range(len(deep_loss)):\n",
        "  print('['+str(i)+']' + ' linear regression loss: ' + str(linear_loss[i]))\n",
        "  print('['+str(i)+']' + ' deep learning regression loss: ' + str(deep_loss[i]))"
      ],
      "metadata": {
        "colab": {
          "base_uri": "https://localhost:8080/"
        },
        "id": "WEJmfFXSOPaa",
        "outputId": "ca44e838-f6dd-4a5b-a41b-f559556ad9db"
      },
      "execution_count": 31,
      "outputs": [
        {
          "output_type": "stream",
          "name": "stdout",
          "text": [
            "[0] linear regression loss: 16273.176855235804\n",
            "[0] deep learning regression loss: 357887.28125\n",
            "[1] linear regression loss: 10907.548861016361\n",
            "[1] deep learning regression loss: 338213.625\n",
            "[2] linear regression loss: 7312.301164772789\n",
            "[2] deep learning regression loss: 286083.21875\n",
            "[3] linear regression loss: 4903.299644117594\n",
            "[3] deep learning regression loss: 202291.921875\n",
            "[4] linear regression loss: 3289.1442877057125\n",
            "[4] deep learning regression loss: 110372.2109375\n",
            "[5] linear regression loss: 2207.576886318382\n",
            "[5] deep learning regression loss: 39780.7109375\n",
            "[6] linear regression loss: 1482.8709036525775\n",
            "[6] deep learning regression loss: 7393.64697265625\n",
            "[7] linear regression loss: 997.2804904819\n",
            "[7] deep learning regression loss: 1362.0521240234375\n",
            "[8] linear regression loss: 671.9098505212721\n",
            "[8] deep learning regression loss: 352.8802185058594\n",
            "[9] linear regression loss: 453.89472815274235\n",
            "[9] deep learning regression loss: 150.68960571289062\n",
            "[10] linear regression loss: 307.8133435904619\n",
            "[10] deep learning regression loss: 77.57792663574219\n",
            "[11] linear regression loss: 209.93127612744834\n",
            "[11] deep learning regression loss: 45.08806228637695\n",
            "[12] linear regression loss: 144.34523886786263\n",
            "[12] deep learning regression loss: 34.089847564697266\n",
            "[13] linear regression loss: 100.39920876340861\n",
            "[13] deep learning regression loss: 29.5821590423584\n",
            "[14] linear regression loss: 70.95310037454712\n",
            "[14] deep learning regression loss: 25.951553344726562\n",
            "[15] linear regression loss: 51.222687930293084\n",
            "[15] deep learning regression loss: 22.849943161010742\n",
            "[16] linear regression loss: 38.002293232307345\n",
            "[16] deep learning regression loss: 19.430652618408203\n",
            "[17] linear regression loss: 29.143946430671242\n",
            "[17] deep learning regression loss: 17.95649528503418\n",
            "[18] linear regression loss: 23.208396861185346\n",
            "[18] deep learning regression loss: 16.37203025817871\n",
            "[19] linear regression loss: 19.231272293730644\n",
            "[19] deep learning regression loss: 15.580917358398438\n",
            "[20] linear regression loss: 16.566393559271333\n",
            "[20] deep learning regression loss: 15.144242286682129\n",
            "[21] linear regression loss: 14.780787262831083\n",
            "[21] deep learning regression loss: 14.734847068786621\n",
            "[22] linear regression loss: 13.584338882400917\n",
            "[22] deep learning regression loss: 14.331833839416504\n",
            "[23] linear regression loss: 12.782656714339694\n",
            "[23] deep learning regression loss: 14.034022331237793\n",
            "[24] linear regression loss: 12.245488283925441\n",
            "[24] deep learning regression loss: 13.624371528625488\n",
            "[25] linear regression loss: 11.885557710277364\n",
            "[25] deep learning regression loss: 13.351333618164062\n",
            "[26] linear regression loss: 11.644385648570998\n",
            "[26] deep learning regression loss: 13.108650207519531\n",
            "[27] linear regression loss: 11.482787919436067\n",
            "[27] deep learning regression loss: 12.852127075195312\n",
            "[28] linear regression loss: 11.374509100252903\n",
            "[28] deep learning regression loss: 12.650813102722168\n",
            "[29] linear regression loss: 11.301956702725532\n",
            "[29] deep learning regression loss: 12.444664001464844\n",
            "[30] linear regression loss: 11.253342851681865\n",
            "[30] deep learning regression loss: 12.241612434387207\n",
            "[31] linear regression loss: 11.220769062340006\n",
            "[31] deep learning regression loss: 12.046332359313965\n",
            "[32] linear regression loss: 11.198942942225958\n",
            "[32] deep learning regression loss: 11.859073638916016\n",
            "[33] linear regression loss: 11.184318315221875\n",
            "[33] deep learning regression loss: 11.671473503112793\n",
            "[34] linear regression loss: 11.174519060297486\n",
            "[34] deep learning regression loss: 11.496541023254395\n",
            "[35] linear regression loss: 11.167953053721954\n",
            "[35] deep learning regression loss: 11.344927787780762\n",
            "[36] linear regression loss: 11.163553490420208\n",
            "[36] deep learning regression loss: 11.181353569030762\n",
            "[37] linear regression loss: 11.160605555930143\n",
            "[37] deep learning regression loss: 11.032017707824707\n",
            "[38] linear regression loss: 11.15863028766786\n",
            "[38] deep learning regression loss: 10.888007164001465\n",
            "[39] linear regression loss: 11.15730675598117\n",
            "[39] deep learning regression loss: 10.738929748535156\n",
            "[40] linear regression loss: 11.156419921438665\n",
            "[40] deep learning regression loss: 10.608992576599121\n",
            "[41] linear regression loss: 11.155825696522342\n",
            "[41] deep learning regression loss: 10.474535942077637\n",
            "[42] linear regression loss: 11.15542753515823\n",
            "[42] deep learning regression loss: 10.356939315795898\n",
            "[43] linear regression loss: 11.155160746493683\n",
            "[43] deep learning regression loss: 10.235762596130371\n",
            "[44] linear regression loss: 11.15498198431849\n",
            "[44] deep learning regression loss: 10.117892265319824\n",
            "[45] linear regression loss: 11.154862204434508\n",
            "[45] deep learning regression loss: 10.000184059143066\n",
            "[46] linear regression loss: 11.154781945729956\n",
            "[46] deep learning regression loss: 9.900008201599121\n",
            "[47] linear regression loss: 11.154728168255462\n",
            "[47] deep learning regression loss: 9.780871391296387\n",
            "[48] linear regression loss: 11.154692134571874\n",
            "[48] deep learning regression loss: 9.684823036193848\n",
            "[49] linear regression loss: 11.15466799014407\n",
            "[49] deep learning regression loss: 9.588845252990723\n"
          ]
        }
      ]
    }
  ]
}
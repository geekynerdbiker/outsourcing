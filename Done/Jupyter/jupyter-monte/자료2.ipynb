{
 "cells": [
  {
   "cell_type": "code",
   "execution_count": 4,
   "id": "10261d89",
   "metadata": {},
   "outputs": [],
   "source": [
    "import numpy as np\n",
    "import matplotlib.pyplot as plt\n",
    "import ipywidgets as wid #package to interact with plots"
   ]
  },
  {
   "cell_type": "markdown",
   "id": "24d400e7",
   "metadata": {},
   "source": [
    "\n",
    "<span style=\"font-family:chalkduster,fantasy;fontsize:90%;color:crimson\">\n",
    "<h1>Randomness and Probabilities</h1>\n"
   ]
  },
  {
   "cell_type": "markdown",
   "id": "a0bc843e",
   "metadata": {},
   "source": [
    "<span style=\"font-family:Trebuchet MS,sans-serif;fontsize:90%\">\n",
    "\n",
    "<h2 style=\"font-family:chalkduster; color:darkviolet\">Introducing the functions</h2>\n",
    "    \n",
    "Numpy has a submodule called `random` that allows us to deal with probabilities and randomeness. There are several functions within this submodule that will be useful to us.\n",
    "    \n",
    "|Function|What it does|\n",
    "|:---:|:---:|\n",
    "|`np.random.rand(nrow,ncol)`|Generates an array of `nrow` rows and `ncol` columns of random floats<br> between 0 and 1 from a uniform distribution|\n",
    "|`np.random.randn(nrow,ncol)`|Generates an array of `nrow` rows and `ncol` columns of random floats<br> between 0 and 1 from a normal distribution|\n",
    "|`np.random.randint(min,max,(nrow,ncol))`|Generates an array of `nrow` rows and `ncol` columns of random integers<br> between `min` (inclusive) and `max` (exclusive) from a uniform distribution|\n",
    "|`np.random.choice(arr,p=p_arr,size=(nrow,ncol),replace=True)`|Generates an array of `nrow` rows and `ncol` columns from the given `arr`|\n",
    "|`np.random.permutation(arr)`|Returns a permuted array of `arr`|\n",
    "    \n",
    "To make things simpler, if you prefer, you can import\n",
    "    \n",
    "`import numpy.random as r`\n",
    "\n",
    "I won't do that however -- I have no idea why, but I just prefer typing out `numpy.random`. And I know it's not sensible. I just prefer it that way."
   ]
  },
  {
   "cell_type": "markdown",
   "id": "f5437dcc",
   "metadata": {},
   "source": [
    "    \n",
    "<span style=\"font-family:Trebuchet MS,sans-serif;fontsize:90%\">\n",
    "\n",
    "<h2 style=\"font-family:chalkduster; color:darkviolet\">Monte Carlo Method I: Simple example</h2>\n",
    "    \n",
    "In this section, we will use the Monte Carlo Method on problems of increasing difficulty. Often times it's hard to appreciate the utility of the method when applying the Monte Carto Method to problems that are very simple. \n",
    "    \n",
    "    \n",
    "    \n",
    "The basic principle behind the Monte Carlo Method is: Instead of doing the computation of difficult mathematics the probabilities through difficult mathematics, just \n",
    "    \n"
   ]
  },
  {
   "cell_type": "markdown",
   "id": "e8e9e35a",
   "metadata": {},
   "source": [
    "<span style=\"font-family:Trebuchet MS,sans-serif;fontsize:90%\">\n",
    "\n",
    "<h3 style=\"font-family:chalkduster; color:steelblue\">Card Game:</h3>\n",
    "    \n",
    "Here we consider two regular deck of 52 cards: Ace to King with four suits. A single-player game is played with this deck according to the following rules:\n",
    "    \n",
    "- 2 cards are dealt in each round of play.\n",
    "- If the player get a consecutive numbers with the same suit, the player win.\n",
    "    \n",
    "Let us first attempt to do a Monte Carlo Simulation of this problem. To simulate this, we need to:\n",
    "    \n",
    "1. First define the sample space \n",
    "    - How do we model the 52 cards? Note that there are many ways to do this!\n",
    "    - There's no reason to model both decks. One deck is sufficient.\n",
    "    - The only reason I'm giving you two decks is so that you don't have to worry about removing the first card from the deck for the second draw (i.e you can leave the `replace=True` in the `np.random.choice` function)\n",
    "2. Next, define a function that deals out 2 cards randomly.\n",
    "3. Define a function that checks if the hand wins or loses (i.e. is a straight with the same suit)\n",
    "4. Define a function that runs the previous two functions 10000 times and collates the results.\n",
    "    - If we denote the losing result as 0 and winning result as 1, the average of the results will give you the probability of winning in a random run!"
   ]
  },
  {
   "cell_type": "markdown",
   "id": "841d31cd",
   "metadata": {},
   "source": [
    "<span style=\"font-family:Trebuchet MS,sans-serif;fontsize:90%\">\n",
    "    \n",
    "<h3 style=\"font-family:chalkduster; color:tan\">In-Class Example #2e: Calculating the probability!</h3>"
   ]
  },
  {
   "cell_type": "code",
   "execution_count": 5,
   "id": "508bba33",
   "metadata": {},
   "outputs": [
    {
     "data": {
      "text/plain": [
       "0.038461538461538464"
      ]
     },
     "execution_count": 5,
     "metadata": {},
     "output_type": "execute_result"
    }
   ],
   "source": [
    "1/4*2/13"
   ]
  },
  {
   "cell_type": "markdown",
   "id": "04867b72",
   "metadata": {},
   "source": [
    "<span style=\"font-family:Trebuchet MS,sans-serif;fontsize:90%\">\n",
    "\n",
    "<h3 style=\"font-family:chalkduster;color:tan\">In-Class Example #2f: Correct solution to Card Game</h3>\n",
    "    \n",
    "The code below is the solution that we coded together in the last class. How do we incorporate the correction to it?"
   ]
  },
  {
   "cell_type": "code",
   "execution_count": 6,
   "id": "11543731",
   "metadata": {},
   "outputs": [],
   "source": [
    "Value=np.linspace(1,13,13)\n",
    "Suit=np.linspace(1,4,4)\n",
    "\n",
    "def RandHand():\n",
    "    Hand=np.zeros((2,2))\n",
    "    for i in range(2):\n",
    "        Hand[i,0]=np.random.choice(Value)\n",
    "        Hand[i,1]=np.random.choice(Suit)\n",
    "    return Hand\n",
    "\n",
    "def Win(Hand):\n",
    "    if len(np.unique(Hand[:,1]))==1  and np.abs(np.diff(Hand[:,0]))==1:\n",
    "        return 1\n",
    "    else:\n",
    "        return 0\n",
    "    \n",
    "def MonteCarlo(N):\n",
    "    out=np.zeros(N)\n",
    "    for i in range(N):\n",
    "        out[i]=Win(RandHand())\n",
    "    return np.mean(out)"
   ]
  },
  {
   "cell_type": "code",
   "execution_count": 7,
   "id": "dfc84e6e",
   "metadata": {},
   "outputs": [
    {
     "data": {
      "text/plain": [
       "0.03484"
      ]
     },
     "execution_count": 7,
     "metadata": {},
     "output_type": "execute_result"
    }
   ],
   "source": [
    "MonteCarlo(50000)"
   ]
  },
  {
   "cell_type": "markdown",
   "id": "f1a15aca",
   "metadata": {},
   "source": [
    "    \n",
    "<span style=\"font-family:Trebuchet MS,sans-serif;fontsize:90%\">\n",
    "\n",
    "<h2 style=\"font-family:chalkduster; color:darkviolet\">Monte Carlo Method II: Monty Hall Problem</h2>"
   ]
  },
  {
   "cell_type": "markdown",
   "id": "8c974c55",
   "metadata": {},
   "source": [
    "<span style=\"font-family:Trebuchet MS,sans-serif;fontsize:90%\">\n",
    "\n",
    "<h3 style=\"font-family:chalkduster; color:steelblue\">Simulation:</h3>\n",
    "    \n",
    "Here we are going to use the Monte Carlo method to simulate playing of the Monte Hall gameshow. We will simulate playing the game $N$ number of times, switching everytime the game host reveals the goat behind one door. Averaging over the result of this simulation will allow us to find the probability of winning if we switch.\n",
    "    \n",
    "As with all our Monte Carlo simulations, we will have four steps: \n",
    "    \n",
    "1. Defining the Sample Space: \n",
    "    - Throughout this simulation, we will call the three doors `1`, `2` and `3`.  \n",
    "2. Initializing a random run:\n",
    "    - The first function `initialize()` will initialize the car randomly behind one of the three doors, as well as simulate a player's random choice of a door.\n",
    "3. Performing the deterministic computation:\n",
    "    - The second function `DC()` will take in the simulate the gameshow host revealing the goat behind one of the other two doors and simulate the player's choice to switch doors, returning the result as a win (player's final choice is the door with the car) or loss (player's final choice is one of the doors with the goat).\n",
    "4. Repeating it N times and averaging:\n",
    "    - The last function `MonteCarlo()` will simulate us doing N runs `initialize()` and `DC()` and averaging the results.\n",
    "    \n",
    "To start us off, let us define the sample space!\n",
    "</span>"
   ]
  },
  {
   "cell_type": "code",
   "execution_count": 11,
   "id": "43c9e513",
   "metadata": {},
   "outputs": [],
   "source": [
    "SampleSpace=np.linspace(1,3,3)"
   ]
  },
  {
   "cell_type": "markdown",
   "id": "54159846",
   "metadata": {},
   "source": [
    "<span style=\"font-family:Trebuchet MS,sans-serif;fontsize:90%\">\n",
    "\n",
    "<h3 style=\"font-family:chalkduster; color:tan\">In-Class Example #3a: Initializing the variables</h3>\n",
    "    \n",
    "Write a function called `initialize()` that does not take in any variable and outputs an array of length 2, both of which are random choices of either `1`, `2` or `3`.\n",
    "    \n",
    "We will interpret the first entry of this array will be the the door behind which the car is located, and the second entry of the array will be the player's choice of door."
   ]
  },
  {
   "cell_type": "code",
   "execution_count": 12,
   "id": "4be21535",
   "metadata": {},
   "outputs": [],
   "source": [
    "# 1st row: car location, 2nd row: player's choice \n",
    "def initialize():\n",
    "    return np.random.choice(SampleSpace,size=2)"
   ]
  },
  {
   "cell_type": "code",
   "execution_count": 14,
   "id": "2ac4b064",
   "metadata": {},
   "outputs": [
    {
     "data": {
      "text/plain": [
       "array([1., 2.])"
      ]
     },
     "execution_count": 14,
     "metadata": {},
     "output_type": "execute_result"
    }
   ],
   "source": [
    "initialize()"
   ]
  },
  {
   "cell_type": "markdown",
   "id": "901dfc00",
   "metadata": {},
   "source": [
    "<span style=\"font-family:Trebuchet MS,sans-serif;fontsize:90%\">\n",
    "\n",
    "<h3 style=\"font-family:chalkduster; color:tan\">In-Class Example #3b: Performing the deterministic computation</h3>\n",
    "    \n",
    "Write a function called `DC()` that takes in the array of length 2 returned by `initialize()` and outputs either 0 (player lost) or 1 (player won). Recall that incoporated in this computation is the fact that the game show host reveals the goat behind one of the other two doors, and the player switches from his original door choice.\n",
    "    \n",
    "Note that we do not actually explicitly include in our code the revealing of the goat by the game show host. What we need is abstraction! Basically, distilling out the essence of what would happen in every scenario! So let's consider the possible cases below. For simplicity, I will call the door behind which the car is located `CarLoc` and the player's initial door choice `DoorChoice`.\n",
    "    \n",
    "1. If the `CarLoc==DoorChoice` (that is the player's initial choice was indeed the winning door!)\n",
    "    1. There are two possible doors that have goats behind them, and the game show host will randomly choose one of them to reveal.\n",
    "    2. Regardless of which door the game show host reveals however, the player will lose when he switches to the third door!\n",
    "2. If the `CarLoc!=DoorChoice` (that is, the player's initial choice was one of the doors with the goat)\n",
    "    1. The game show host will reveal the only other door with the goat. \n",
    "    2. The player will switch to the only other door... which is the winning door!"
   ]
  },
  {
   "cell_type": "code",
   "execution_count": 16,
   "id": "8e571e8b",
   "metadata": {},
   "outputs": [],
   "source": [
    "def DC(arr):\n",
    "    if arr[0]==arr[1]:\n",
    "        return 0 \n",
    "    else: \n",
    "        return 1"
   ]
  },
  {
   "cell_type": "code",
   "execution_count": 22,
   "id": "04d760ce",
   "metadata": {},
   "outputs": [
    {
     "name": "stdout",
     "output_type": "stream",
     "text": [
      "[2. 1.] 1\n"
     ]
    }
   ],
   "source": [
    "x=initialize()\n",
    "print(x,DC(x))\n",
    "# 무조건 바꾼다고 가정했으니까 arr[0]=arr[1]이면 0점인거임"
   ]
  },
  {
   "cell_type": "markdown",
   "id": "a7ab6e36",
   "metadata": {},
   "source": [
    "<span style=\"font-family:Trebuchet MS,sans-serif;fontsize:90%\">\n",
    "\n",
    "<h3 style=\"font-family:chalkduster; color:tan\">In-Class Example #3c: Repetition and averaging over the result</h3>\n",
    "    \n",
    "This last function of the Monte Carlo simulation is always very similar. It takes it a positive integer N and repeats the `DC()` and `initialize()` N times, returning the average of the result."
   ]
  },
  {
   "cell_type": "code",
   "execution_count": 23,
   "id": "01b61f0a",
   "metadata": {},
   "outputs": [],
   "source": [
    "def MonteCarlo(N):\n",
    "    out=np.zeros(N)\n",
    "    for i in range(N):\n",
    "        out[i]=DC(initialize())\n",
    "    return np.mean(out)"
   ]
  },
  {
   "cell_type": "code",
   "execution_count": 24,
   "id": "d3d2523f",
   "metadata": {
    "scrolled": true
   },
   "outputs": [
    {
     "data": {
      "text/plain": [
       "0.8"
      ]
     },
     "execution_count": 24,
     "metadata": {},
     "output_type": "execute_result"
    }
   ],
   "source": [
    "MonteCarlo(10)"
   ]
  },
  {
   "cell_type": "code",
   "execution_count": 27,
   "id": "fee599fb",
   "metadata": {},
   "outputs": [
    {
     "name": "stdout",
     "output_type": "stream",
     "text": [
      "[1. 2.] 1\n",
      "[2. 3.] 1\n",
      "[2. 2.] 0\n",
      "[3. 2.] 1\n",
      "[3. 3.] 0\n",
      "[3. 1.] 1\n",
      "[2. 2.] 0\n",
      "[1. 3.] 1\n",
      "[3. 2.] 1\n",
      "[1. 2.] 1\n",
      "0.7\n"
     ]
    }
   ],
   "source": [
    "# to check your function works\n",
    "N=10\n",
    "out=np.zeros(N)\n",
    "for i in range(N):\n",
    "    x=initialize()\n",
    "    out[i] = DC(x)\n",
    "    print(x,DC(x))\n",
    "print(np.mean(out))"
   ]
  },
  {
   "attachments": {
    "image-3.png": {
     "image/png": "[encoded data removed]"
    }
   },
   "cell_type": "markdown",
   "id": "09bca5ee",
   "metadata": {},
   "source": [
    "<span style=\"font-family:Trebuchet MS,sans-serif;fontsize:90%\">\n",
    "\n",
    "<h3 style=\"font-family:chalkduster; color:steelblue\">Accuracy over many repetitions:</h3>\n",
    "    \n",
    "It ought to be clear that for the Monte Carlo simulation to be accurate, one ought to do the random sampling over a very large number of N. In this section, we will plot a graph to visually appreciate this! Our aim is to produce something like: \n",
    "![image-3.png](attachment:image-3.png)\n",
    "    \n",
    "This graph will help you determine how many runs is sufficiently large that you are able to trust your results.\n",
    "</span>"
   ]
  },
  {
   "cell_type": "markdown",
   "id": "207eccc4",
   "metadata": {},
   "source": [
    "<span style=\"font-family:Trebuchet MS,sans-serif;fontsize:90%\">\n",
    "\n",
    "In order to understand the graph, take note of the following:\n",
    "- The x axis of the graph denotes the number of repetition `N` in each Monte Carlo simulation done. \n",
    "    - In this graph, we will choose 9 different values for N: [10,25,50,100,250,500,1000,2500,5000]\n",
    "- For each `N`, we will do 50 runs of the Monte Carlo simulation.\n",
    "    - That is, for `N=10`, we run `MonteCarlo(10)` 50 times.\n",
    "    - And for `N=25`, we will run `MonteCarlo(25)` another 50 times\n",
    "    - And so on and so forth\n",
    "- For each `N`, we will obtain the average of the 50 runs, as well as the maximum and minimum value over the 50 runs.\n",
    "    - The result of this will be saved in a 9 by 3 array. \n",
    "    - Each row if this array will represent one of the 9 different `N` values.\n",
    "    - The first column of this array will represent the minimum value.\n",
    "    - The second column of this array will represent the average value.\n",
    "    - The third column of this array will represent the maximum value."
   ]
  },
  {
   "cell_type": "markdown",
   "id": "88d9e765",
   "metadata": {},
   "source": [
    "<span style=\"font-family:Trebuchet MS,sans-serif;fontsize:90%\">\n",
    "\n",
    "<h3 style=\"font-family:chalkduster; color:tan\">In-Class Example #4: Statistics</h3>\n",
    "\n",
    "In this example, we will attempt to reproduce the graph above by creating the 9 by 3 output array to store the output above.\n",
    "\n",
    "The array `N`, and the output array to plot the graphs `out` has been defined below. A temporary array of length 50 `temp` has also been predefined in the event that you need it. The code to plot the graph has also been written for you below."
   ]
  },
  {
   "cell_type": "code",
   "execution_count": 29,
   "id": "f9722409",
   "metadata": {},
   "outputs": [],
   "source": [
    "N=np.array([10,25,50,100,250,500,1000,2500,5000])\n",
    "out=np.zeros((len(N),3))\n",
    "temp=np.zeros(50) # temporary array"
   ]
  },
  {
   "cell_type": "markdown",
   "id": "11b3cb1d",
   "metadata": {},
   "source": [
    "<span style=\"font-family:Trebuchet MS,sans-serif;fontsize:90%\">\n",
    "    \n",
    "For those who require some hints:\n",
    "- First, write a for loop that runs the Monte Carlo simulation 50 times for `N=10`.\n",
    "- Store those results in the temporary array.\n",
    "- Obtain the min, average and maximum of those 50 runs for N=10, and store them in the first row of `out`.\n",
    "- Write up a second for loop to run the previous three steps for all the other `N` values."
   ]
  },
  {
   "cell_type": "code",
   "execution_count": 32,
   "id": "00450f50",
   "metadata": {},
   "outputs": [
    {
     "name": "stdout",
     "output_type": "stream",
     "text": [
      "[[0.3   0.698 0.9  ]\n",
      " [0.    0.    0.   ]\n",
      " [0.    0.    0.   ]\n",
      " [0.    0.    0.   ]\n",
      " [0.    0.    0.   ]\n",
      " [0.    0.    0.   ]\n",
      " [0.    0.    0.   ]\n",
      " [0.    0.    0.   ]\n",
      " [0.    0.    0.   ]]\n"
     ]
    }
   ],
   "source": [
    "# to see how it works\n",
    "# N=np.array([10,25,50,100,250,500,1000,2500,5000])\n",
    "N=10\n",
    "\n",
    "for i in range(50):\n",
    "    temp[i]=MonteCarlo(N) # MonteCarlo가 N번 돌렸을때 win할 확률의 평균값이니까\n",
    "    out[0,0]=np.min(temp)\n",
    "    out[0,1]=np.mean(temp)\n",
    "    out[0,2]=np.max(temp)\n",
    "    \n",
    "print(out)"
   ]
  },
  {
   "cell_type": "code",
   "execution_count": 34,
   "id": "7501829b",
   "metadata": {},
   "outputs": [
    {
     "name": "stdout",
     "output_type": "stream",
     "text": [
      "[[0.2    0.652  1.    ]\n",
      " [0.48   0.6776 0.88  ]\n",
      " [0.56   0.6656 0.84  ]\n",
      " [0.     0.     0.    ]\n",
      " [0.     0.     0.    ]\n",
      " [0.     0.     0.    ]\n",
      " [0.     0.     0.    ]\n",
      " [0.     0.     0.    ]\n",
      " [0.     0.     0.    ]]\n"
     ]
    }
   ],
   "source": [
    "# N=np.array([10,25,50,100,250,500,1000,2500,5000])\n",
    "N=10\n",
    "\n",
    "for i in range(50):\n",
    "    temp[i]=MonteCarlo(N) # MonteCarlo가 N번 돌렸을때 win할 확률의 평균값이니까\n",
    "    out[0,0]=np.min(temp)\n",
    "    out[0,1]=np.mean(temp)\n",
    "    out[0,2]=np.max(temp)\n",
    "    \n",
    "N=25\n",
    "for i in range(50):\n",
    "    temp[i]=MonteCarlo(N) # MonteCarlo가 N번 돌렸을때 win할 확률의 평균값이니까\n",
    "    out[1,0]=np.min(temp)\n",
    "    out[1,1]=np.mean(temp)\n",
    "    out[1,2]=np.max(temp)\n",
    "    \n",
    "N=50\n",
    "for i in range(50):\n",
    "    temp[i]=MonteCarlo(N) # MonteCarlo가 N번 돌렸을때 win할 확률의 평균값이니까\n",
    "    out[2,0]=np.min(temp)\n",
    "    out[2,1]=np.mean(temp)\n",
    "    out[2,2]=np.max(temp)\n",
    "    \n",
    "print(out)\n",
    "\n",
    "# 이렇게 채워져나간다는걸 알수있음"
   ]
  },
  {
   "cell_type": "code",
   "execution_count": 35,
   "id": "39638334",
   "metadata": {},
   "outputs": [
    {
     "name": "stdout",
     "output_type": "stream",
     "text": [
      "[[0.4      0.676    0.9     ]\n",
      " [0.4      0.6432   0.8     ]\n",
      " [0.54     0.6836   0.86    ]\n",
      " [0.53     0.6726   0.75    ]\n",
      " [0.592    0.6664   0.732   ]\n",
      " [0.616    0.66864  0.712   ]\n",
      " [0.631    0.66534  0.695   ]\n",
      " [0.6436   0.667376 0.686   ]\n",
      " [0.6532   0.666316 0.6778  ]]\n"
     ]
    }
   ],
   "source": [
    "N=np.array([10,25,50,100,250,500,1000,2500,5000])\n",
    "\n",
    "\n",
    "for j in range(len(N)): #여기에선 len(N)=9. 그래서 first arr에 j가 들어가는거임\n",
    "    for i in range(50):\n",
    "        temp[i]=MonteCarlo(N[j]) \n",
    "        out[j,0]=np.min(temp)\n",
    "        out[j,1]=np.mean(temp)\n",
    "        out[j,2]=np.max(temp)\n",
    "    \n",
    "print(out)"
   ]
  },
  {
   "cell_type": "code",
   "execution_count": 34,
   "id": "7bbcd0a1",
   "metadata": {},
   "outputs": [
    {
     "data": {
      "image/png": "[encoded data removed]",
      "text/plain": [
       "<Figure size 640x480 with 1 Axes>"
      ]
     },
     "metadata": {},
     "output_type": "display_data"
    }
   ],
   "source": [
    "plt.scatter(N,out[:,0],color=\"red\",marker=\"^\");\n",
    "plt.scatter(N,out[:,1],marker=\"x\",color=\"green\");\n",
    "plt.scatter(N,out[:,2],color=\"blue\",marker=\"v\");\n",
    "plt.xscale(\"log\")\n",
    "plt.xticks(N,N);\n",
    "plt.xlabel(\"Value of N\");\n",
    "plt.ylabel(\"Probability\");"
   ]
  }
 ],
 "metadata": {
  "kernelspec": {
   "display_name": "Python 3 (ipykernel)",
   "language": "python",
   "name": "python3"
  },
  "language_info": {
   "codemirror_mode": {
    "name": "ipython",
    "version": 3
   },
   "file_extension": ".py",
   "mimetype": "text/x-python",
   "name": "python",
   "nbconvert_exporter": "python",
   "pygments_lexer": "ipython3",
   "version": "3.9.13"
  }
 },
 "nbformat": 4,
 "nbformat_minor": 5
}

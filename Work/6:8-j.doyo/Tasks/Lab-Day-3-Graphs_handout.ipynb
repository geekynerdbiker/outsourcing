{
 "cells": [
  {
   "cell_type": "markdown",
   "metadata": {},
   "source": [
    "# Day 3\n",
    "\n",
    "This task is about basic graph representation and traversal, demonstrated with the map of London's underground system, \"the Tube\"."
   ]
  },
  {
   "cell_type": "markdown",
   "metadata": {},
   "source": [
    "## London Tube map\n",
    "\n",
    "London's underground has considerable complexity, and navigating it is a challenge.\n",
    "\n",
    "<img src=\"https://media.timeout.com/images/104710384/630/472/image.jpg\" width=45%>\n",
    "Let us download a dataset representing it (in it's 2014 state), and work with it as a graph!\n",
    "\n",
    "But first, we have to define, what a graph is!"
   ]
  },
  {
   "cell_type": "code",
   "execution_count": 1,
   "metadata": {
    "ExecuteTime": {
     "end_time": "2021-04-12T17:24:39.226132Z",
     "start_time": "2021-04-12T17:24:39.222305Z"
    }
   },
   "outputs": [],
   "source": [
    "class GraphNode:\n",
    "    ''' A node for the Graph class \n",
    "        representing the station name, geographical coordinates\n",
    "        and list of immediate neighbors'''\n",
    "    def __init__(self, station_id=None, name=None, x=None, y=None, neighbor_nodes=None):\n",
    "        self.station_id = station_id\n",
    "        self.name = name #as name implies\n",
    "        self.x = x #longitude\n",
    "        self.y = y #latitude\n",
    "        self.neighbor_nodes = [] #the list pointing to the station's direct neighbors\n",
    "\n",
    "    def __repr__(self):\n",
    "        ''' Returns data instead of the GraphNode object's default printable representation\n",
    "            This is just a nice method for a more \"tidy\" printout.'''\n",
    "        return repr(self.name)"
   ]
  },
  {
   "cell_type": "code",
   "execution_count": 2,
   "metadata": {
    "ExecuteTime": {
     "end_time": "2021-04-12T17:24:39.824515Z",
     "start_time": "2021-04-12T17:24:39.227340Z"
    }
   },
   "outputs": [
    {
     "name": "stderr",
     "output_type": "stream",
     "text": [
      "/home/alatus/anaconda3/envs/10_days_AI/lib/python3.7/site-packages/statsmodels/tools/_testing.py:19: FutureWarning: pandas.util.testing is deprecated. Use the functions in the public API at pandas.testing instead.\n",
      "  import pandas.util.testing as tm\n"
     ]
    }
   ],
   "source": [
    "import matplotlib.pyplot as plt\n",
    "import seaborn as sns\n",
    "\n",
    "\n",
    "class Graph:\n",
    "    \"\"\"The main container object for our task\n",
    "       It contains as attributes a list of nodes, which in turn point to ech-other in ther respective\n",
    "       neigbhbors attribute.\n",
    "       Also, it exposes utilities for creating, manipulating and plotting the graph.\"\"\"\n",
    "    \n",
    "    def __init__(self, stations_dataframe=None, edges_dataframe=None):\n",
    "        \"\"\"Runs when the node class is being instantiated.\n",
    "           Optionally takes in two datafranes we have loaded from disc,\n",
    "           For the stations data, it describes the individual graph nodes,\n",
    "           and for the connections their edges.\"\"\"\n",
    "        \n",
    "        self.nodes = []\n",
    "        \n",
    "        if stations_dataframe is not None:   \n",
    "            self.add_nodes_from_dataframe(stations_dataframe)\n",
    "            \n",
    "            if edges_dataframe is not None:\n",
    "                self.add_edges_from_dataframe(edges_dataframe)\n",
    "                \n",
    "        #Just here for pedagogical purposes to make aware, that in OOP, the operations of a method \n",
    "        #can have effect on the object-s state, hence the function return values can often be empty.\n",
    "        return\n",
    "    \n",
    "    def add_nodes_from_dataframe(self, stations_dataframe):\n",
    "        \"\"\"Utility function for iteratin through a stations dataframe,\n",
    "           and creating GraphNodes for each row in the input table.\"\"\"\n",
    "        \n",
    "        for row_counter, row_data in stations_dataframe.iterrows():\n",
    "            node = GraphNode(station_id=row_counter, name=row_data['name'], x=row_data['longitude'], y=row_data['latitude'])\n",
    "            self.nodes.append(node)\n",
    "\n",
    "        return\n",
    "\n",
    "    def get_station_by_id(self, searched_id):\n",
    "        \"\"\"Getter function for retrieval of a node with a given station_id.\"\"\"\n",
    "        \n",
    "        for node in self.nodes:\n",
    "            if searched_id == node.station_id:\n",
    "                return node\n",
    "    # Note: we could potentially use a more efficient way here, if we could assume, that the index position\n",
    "    # of the given node in the self.nodes list is always corresponding to it's station_id. Turns out to be, \n",
    "    # that somehow,\n",
    "    # the station with the id of 189 is missing from London, so if we would implement it that way, \n",
    "    # we would run into nice indexing problems. \n",
    "    # For the time being, we stick with this rather ugly way of lookup\n",
    "    # with O(n) complexity.\n",
    "\n",
    "    def get_station_by_name(self, name):\n",
    "        ''' Find node by name '''\n",
    "\n",
    "        station_node = next(filter(lambda x: x.name == name,  self.nodes))\n",
    "        return station_node\n",
    "    # Note: equivalent of the previous for loops, just written in a more functional programming style.\n",
    "    \n",
    "    def add_edge_between_nodes(self, node1, node2):\n",
    "        \"\"\"Utility for adding a mutual relationship between two nodes\"\"\"\n",
    "        \n",
    "        if node2 not in node1.neighbor_nodes:\n",
    "            node1.neighbor_nodes.append(node2)\n",
    "\n",
    "        if node1 not in node2.neighbor_nodes:\n",
    "            node2.neighbor_nodes.append(node1)        \n",
    "\n",
    "        return\n",
    "    \n",
    "    def add_edges_from_dataframe(self, edges_dataframe):\n",
    "        \"\"\"Utility function for processing the loaded connections dataframe.\n",
    "           It iterates through connections, gets the appropriate nodes by id and connects them.\"\"\"\n",
    "        \n",
    "        # Add neighbour information to nodes\n",
    "        for row_counter, row_data in edges_dataframe.iterrows():\n",
    "            # Get station name from the station ID\n",
    "            station_1_nbr = row_data['station1']\n",
    "            station_2_nbr = row_data['station2']\n",
    "                      \n",
    "            # Get node with the same id\n",
    "            station_node_1 = self.get_station_by_id(station_1_nbr)\n",
    "            station_node_2 = self.get_station_by_id(station_2_nbr)\n",
    "\n",
    "            self.add_edge_between_nodes(station_node_1, station_node_2)\n",
    "\n",
    "        return\n",
    "\n",
    "\n",
    "    def breadth_first_traversal(self):\n",
    "        ''' TASK!!! Implement breadth-first traversal to find all nodes. '''\n",
    "\n",
    "        # Start with an empty list of already visited nodes\n",
    "        visited_nodes =  ...\n",
    "        \n",
    "        # And a list of nodes to be investigated, containing a chosen node, eg. the first.\n",
    "        queue = ...\n",
    "        \n",
    "        # Run a loop until no more node is left to be investigated in the queue\n",
    "        # while...\n",
    "        \n",
    "            # Get first item from queue and call it current\n",
    "            \n",
    "            \n",
    "            # Remove current item from queue\n",
    "            \n",
    "            \n",
    "            # Iterate on the neighbors of the current node\n",
    "            #for ...\n",
    "            \n",
    "                # Put current's neighbors in queue if they were not visited before and not in the queue\n",
    "                #if\n",
    "                    # Node should be inserted at the END of the queue!\n",
    "                    \n",
    "                \n",
    "            # Put current to visited list\n",
    "            \n",
    "        return visited_nodes\n",
    "    \n",
    "    def depth_first_traversal(self):\n",
    "        ''' TASK!!! Implement depth-first traversal to find all nodes '''\n",
    "        # Start with an empty list of already visited nodes\n",
    "        visited_nodes =  ...\n",
    "        \n",
    "        # And a list of nodes to be investigated, containing a chosen node, eg. the first.\n",
    "        queue = ...\n",
    "        \n",
    "        # Run a loop until no more node is left to be investigated in the queue\n",
    "        # while...\n",
    "        \n",
    "            # Get first item from queue and call it current\n",
    "            \n",
    "            \n",
    "            # Remove current item from queue\n",
    "            \n",
    "            \n",
    "            # Iterate on the neighbors of the current node\n",
    "            #for ...\n",
    "            \n",
    "                # Put current's neighbors in queue if they were not visited before and not in the queue\n",
    "                #if\n",
    "                    # Node should be inserted at the BEGINNING of the queue!\n",
    "                    \n",
    "                \n",
    "            # Put current to visited list\n",
    "            \n",
    "        return visited_nodes\n",
    "        \n",
    "\n",
    "    \n",
    "    def plot(self, color='lightblue'):\n",
    "        ''' Utility for the graph to plot stself.\n",
    "            It depends on breadth_first_traversal to be implemented to run,\n",
    "            and uses Seaborn for style and Matplotlib for plotting.'''\n",
    "        \n",
    "        # Plot settings\n",
    "        sns.set(rc={'figure.figsize':(20,10)})\n",
    "        sns.set_style(\"whitegrid\")\n",
    "\n",
    "        # Plot graph\n",
    "        node_x = []\n",
    "        node_y = []\n",
    "        for node in self.breadth_first_traversal():\n",
    "            # Save data for displaying node positions\n",
    "            node_x.append(node.x)\n",
    "            node_y.append(node.y)\n",
    "\n",
    "            # Plot connections\n",
    "            for nn in node.neighbor_nodes:\n",
    "                 plt.plot([node.x, nn.x], [node.y, nn.y], c=color, lw=1)\n",
    "\n",
    "        # Plot nodes\n",
    "        plt.scatter(x=node_x, y=node_y, s=10)"
   ]
  },
  {
   "cell_type": "markdown",
   "metadata": {},
   "source": [
    "# Downloading and checking data"
   ]
  },
  {
   "cell_type": "code",
   "execution_count": 3,
   "metadata": {
    "ExecuteTime": {
     "end_time": "2021-04-12T17:24:39.827167Z",
     "start_time": "2021-04-12T17:24:39.825719Z"
    }
   },
   "outputs": [],
   "source": [
    "#!wget https://raw.githubusercontent.com/nicola/tubemaps/master/datasets/london.lines.csv\n",
    "#!wget https://raw.githubusercontent.com/nicola/tubemaps/master/datasets/london.stations.csv\n",
    "#!wget https://raw.githubusercontent.com/nicola/tubemaps/master/datasets/london.connections.csv"
   ]
  },
  {
   "cell_type": "code",
   "execution_count": 4,
   "metadata": {
    "ExecuteTime": {
     "end_time": "2021-04-12T17:24:39.839638Z",
     "start_time": "2021-04-12T17:24:39.828169Z"
    }
   },
   "outputs": [],
   "source": [
    "# We use Pandas for the loading of the London tube dataset.\n",
    "import pandas as pd\n",
    "\n",
    "# This dataset is from https://github.com/nicola/tubemaps\n",
    "# Last updated in 2014!\n",
    "lines       = pd.read_csv('london.lines.csv', index_col=0)\n",
    "stations    = pd.read_csv('london.stations.csv', index_col=0)\n",
    "connections = pd.read_csv('london.connections.csv')"
   ]
  },
  {
   "cell_type": "markdown",
   "metadata": {},
   "source": [
    "## Let's get a glimpse on the station coordinates!"
   ]
  },
  {
   "cell_type": "code",
   "execution_count": 5,
   "metadata": {
    "ExecuteTime": {
     "end_time": "2021-04-12T17:24:40.041153Z",
     "start_time": "2021-04-12T17:24:39.840696Z"
    }
   },
   "outputs": [
    {
     "name": "stderr",
     "output_type": "stream",
     "text": [
      "*c* argument looks like a single numeric RGB or RGBA sequence, which should be avoided as value-mapping will have precedence in case its length matches with *x* & *y*.  Please use the *color* keyword-argument or provide a 2-D array with a single row if you intend to specify the same RGB or RGBA value for all points.\n"
     ]
    },
    {
     "data": {
      "text/plain": [
       "<AxesSubplot:xlabel='longitude', ylabel='latitude'>"
      ]
     },
     "execution_count": 5,
     "metadata": {},
     "output_type": "execute_result"
    },
    {
     "data": {
      "image/png": "[encoded data removed]",
      "text/plain": [
       "<Figure size 1440x720 with 1 Axes>"
      ]
     },
     "metadata": {},
     "output_type": "display_data"
    }
   ],
   "source": [
    "# Station position in classic map style(up - north, right - east)\n",
    "sns.set(rc={'figure.figsize':(20,10)})\n",
    "sns.set_style(\"whitegrid\")\n",
    "stations.plot.scatter(x='longitude', y='latitude', s=10)"
   ]
  },
  {
   "cell_type": "markdown",
   "metadata": {},
   "source": [
    "## Let's use our Graph class to store the data"
   ]
  },
  {
   "cell_type": "code",
   "execution_count": 6,
   "metadata": {
    "ExecuteTime": {
     "end_time": "2021-04-12T17:24:40.107926Z",
     "start_time": "2021-04-12T17:24:40.042332Z"
    }
   },
   "outputs": [],
   "source": [
    "tube_graph = Graph(stations_dataframe=stations, edges_dataframe=connections)"
   ]
  },
  {
   "cell_type": "code",
   "execution_count": 7,
   "metadata": {
    "ExecuteTime": {
     "end_time": "2021-04-12T17:24:40.112925Z",
     "start_time": "2021-04-12T17:24:40.109906Z"
    }
   },
   "outputs": [
    {
     "data": {
      "text/plain": [
       "'Baker Street'"
      ]
     },
     "execution_count": 7,
     "metadata": {},
     "output_type": "execute_result"
    }
   ],
   "source": [
    "# If you have trouble to see, what is what, just use:\n",
    "tube_graph.get_station_by_id(11)"
   ]
  },
  {
   "cell_type": "code",
   "execution_count": 8,
   "metadata": {
    "ExecuteTime": {
     "end_time": "2021-04-12T17:24:40.116814Z",
     "start_time": "2021-04-12T17:24:40.114186Z"
    }
   },
   "outputs": [
    {
     "data": {
      "text/plain": [
       "['Marylebone',\n",
       " \"Regent's Park\",\n",
       " 'Edgware Road (C)',\n",
       " 'Great Portland Street',\n",
       " 'Bond Street',\n",
       " \"St. John's Wood\",\n",
       " 'Finchley Road']"
      ]
     },
     "execution_count": 8,
     "metadata": {},
     "output_type": "execute_result"
    }
   ],
   "source": [
    "# or\n",
    "tube_graph.get_station_by_name(\"Baker Street\").neighbor_nodes"
   ]
  },
  {
   "cell_type": "code",
   "execution_count": 9,
   "metadata": {
    "ExecuteTime": {
     "end_time": "2021-04-12T17:24:40.119867Z",
     "start_time": "2021-04-12T17:24:40.118121Z"
    }
   },
   "outputs": [],
   "source": [
    "#.... TODO: Scroll up, and implement the breadth_first_traversal and breadth_first_traversal before you go further!\n",
    "# If you are successfull, you will see the tube map below!"
   ]
  },
  {
   "cell_type": "code",
   "execution_count": 10,
   "metadata": {
    "ExecuteTime": {
     "end_time": "2021-04-12T17:24:40.201920Z",
     "start_time": "2021-04-12T17:24:40.121895Z"
    }
   },
   "outputs": [
    {
     "ename": "TypeError",
     "evalue": "'ellipsis' object is not iterable",
     "output_type": "error",
     "traceback": [
      "\u001b[0;31m---------------------------------------------------------------------------\u001b[0m",
      "\u001b[0;31mTypeError\u001b[0m                                 Traceback (most recent call last)",
      "\u001b[0;32m<ipython-input-10-da3ceedf1ed3>\u001b[0m in \u001b[0;36m<module>\u001b[0;34m\u001b[0m\n\u001b[0;32m----> 1\u001b[0;31m \u001b[0mtube_graph\u001b[0m\u001b[0;34m.\u001b[0m\u001b[0mplot\u001b[0m\u001b[0;34m(\u001b[0m\u001b[0;34m)\u001b[0m\u001b[0;34m\u001b[0m\u001b[0;34m\u001b[0m\u001b[0m\n\u001b[0m",
      "\u001b[0;32m<ipython-input-2-daa8d8fba6c3>\u001b[0m in \u001b[0;36mplot\u001b[0;34m(self, color)\u001b[0m\n\u001b[1;32m    161\u001b[0m         \u001b[0mnode_x\u001b[0m \u001b[0;34m=\u001b[0m \u001b[0;34m[\u001b[0m\u001b[0;34m]\u001b[0m\u001b[0;34m\u001b[0m\u001b[0;34m\u001b[0m\u001b[0m\n\u001b[1;32m    162\u001b[0m         \u001b[0mnode_y\u001b[0m \u001b[0;34m=\u001b[0m \u001b[0;34m[\u001b[0m\u001b[0;34m]\u001b[0m\u001b[0;34m\u001b[0m\u001b[0;34m\u001b[0m\u001b[0m\n\u001b[0;32m--> 163\u001b[0;31m         \u001b[0;32mfor\u001b[0m \u001b[0mnode\u001b[0m \u001b[0;32min\u001b[0m \u001b[0mself\u001b[0m\u001b[0;34m.\u001b[0m\u001b[0mbreadth_first_traversal\u001b[0m\u001b[0;34m(\u001b[0m\u001b[0;34m)\u001b[0m\u001b[0;34m:\u001b[0m\u001b[0;34m\u001b[0m\u001b[0;34m\u001b[0m\u001b[0m\n\u001b[0m\u001b[1;32m    164\u001b[0m             \u001b[0;31m# Save data for displaying node positions\u001b[0m\u001b[0;34m\u001b[0m\u001b[0;34m\u001b[0m\u001b[0;34m\u001b[0m\u001b[0m\n\u001b[1;32m    165\u001b[0m             \u001b[0mnode_x\u001b[0m\u001b[0;34m.\u001b[0m\u001b[0mappend\u001b[0m\u001b[0;34m(\u001b[0m\u001b[0mnode\u001b[0m\u001b[0;34m.\u001b[0m\u001b[0mx\u001b[0m\u001b[0;34m)\u001b[0m\u001b[0;34m\u001b[0m\u001b[0;34m\u001b[0m\u001b[0m\n",
      "\u001b[0;31mTypeError\u001b[0m: 'ellipsis' object is not iterable"
     ]
    }
   ],
   "source": [
    "tube_graph.plot()"
   ]
  },
  {
   "cell_type": "markdown",
   "metadata": {},
   "source": [
    "Just in case, manual sanity check, looking at the first connection, and then at the real Tube map of the appropriate line from [Wikipedia](https://upload.wikimedia.org/wikipedia/commons/thumb/7/77/Bakerloo_Line.svg/1100px-Bakerloo_Line.svg.png)."
   ]
  },
  {
   "cell_type": "code",
   "execution_count": null,
   "metadata": {
    "ExecuteTime": {
     "end_time": "2021-04-12T17:24:40.204982Z",
     "start_time": "2021-04-12T17:24:39.406Z"
    }
   },
   "outputs": [],
   "source": [
    "print(connections.head(1))"
   ]
  },
  {
   "cell_type": "code",
   "execution_count": null,
   "metadata": {
    "ExecuteTime": {
     "end_time": "2021-04-12T17:24:40.205432Z",
     "start_time": "2021-04-12T17:24:39.408Z"
    }
   },
   "outputs": [],
   "source": [
    "tube_graph.get_station_by_id(11)"
   ]
  },
  {
   "cell_type": "code",
   "execution_count": null,
   "metadata": {
    "ExecuteTime": {
     "end_time": "2021-04-12T17:24:40.205952Z",
     "start_time": "2021-04-12T17:24:39.410Z"
    }
   },
   "outputs": [],
   "source": [
    "tube_graph.get_station_by_id(163)"
   ]
  },
  {
   "cell_type": "code",
   "execution_count": null,
   "metadata": {
    "ExecuteTime": {
     "end_time": "2021-04-12T17:24:40.206340Z",
     "start_time": "2021-04-12T17:24:39.411Z"
    }
   },
   "outputs": [],
   "source": [
    "print(lines)"
   ]
  },
  {
   "cell_type": "markdown",
   "metadata": {},
   "source": [
    "<img src=\"http://drive.google.com/uc?export=view&id=1VENpIG1bkeEktN_AJNQqyD7Exr9-0Pj6\" width=65%>"
   ]
  },
  {
   "cell_type": "markdown",
   "metadata": {},
   "source": [
    "### Observe runtime of traversals"
   ]
  },
  {
   "cell_type": "markdown",
   "metadata": {},
   "source": [
    "#### Breath first search"
   ]
  },
  {
   "cell_type": "code",
   "execution_count": null,
   "metadata": {
    "ExecuteTime": {
     "end_time": "2021-04-12T17:24:40.206788Z",
     "start_time": "2021-04-12T17:24:39.528Z"
    }
   },
   "outputs": [],
   "source": [
    "%%timeit -n 1000 -r 7\n",
    "tube_graph.breadth_first_traversal()"
   ]
  },
  {
   "cell_type": "markdown",
   "metadata": {},
   "source": [
    "#### Depth first search"
   ]
  },
  {
   "cell_type": "code",
   "execution_count": null,
   "metadata": {
    "ExecuteTime": {
     "end_time": "2021-04-12T17:24:40.207198Z",
     "start_time": "2021-04-12T17:24:39.566Z"
    },
    "scrolled": true
   },
   "outputs": [],
   "source": [
    "%%timeit -n 1000 -r 7\n",
    "tube_graph.depth_first_traversal()"
   ]
  },
  {
   "cell_type": "markdown",
   "metadata": {},
   "source": [
    "# Adjacency matrix representation"
   ]
  },
  {
   "cell_type": "markdown",
   "metadata": {},
   "source": [
    "## Manually creating a dummy graph for testing"
   ]
  },
  {
   "cell_type": "code",
   "execution_count": null,
   "metadata": {
    "ExecuteTime": {
     "end_time": "2021-04-12T17:24:40.207585Z",
     "start_time": "2021-04-12T17:24:39.641Z"
    },
    "scrolled": true
   },
   "outputs": [],
   "source": [
    "# Create empty graph\n",
    "dummy_graph = Graph()\n",
    "\n",
    "# Create nodes without defining neighbour nodes\n",
    "nodes = []\n",
    "for i in range(5):\n",
    "    node = GraphNode(name='dummy node ' + str(i), x=i, y=i*i)\n",
    "    nodes.append(node)\n",
    "\n",
    "# Set edges\n",
    "nodes[0].neighbor_nodes = [nodes[1], nodes[3], nodes[4]]\n",
    "nodes[1].neighbor_nodes = [nodes[0], nodes[4]]\n",
    "nodes[2].neighbor_nodes = [nodes[3]]\n",
    "nodes[3].neighbor_nodes = [nodes[0], nodes[2]]\n",
    "nodes[4].neighbor_nodes = [nodes[0], nodes[1]]\n",
    "\n",
    "dummy_graph.nodes = nodes\n",
    "\n",
    "# Plot graph\n",
    "dummy_graph.plot()"
   ]
  },
  {
   "cell_type": "markdown",
   "metadata": {},
   "source": [
    "## Implement adjacency matrix based graph"
   ]
  },
  {
   "cell_type": "code",
   "execution_count": null,
   "metadata": {
    "ExecuteTime": {
     "end_time": "2021-04-12T17:24:40.208032Z",
     "start_time": "2021-04-12T17:24:39.682Z"
    }
   },
   "outputs": [],
   "source": [
    "import numpy as np\n",
    "\n",
    "class AdjMatGraph:\n",
    "    '''\n",
    "    Implements Graph funcionalities\n",
    "    Adjacency matrix based representation\n",
    "    '''\n",
    "\n",
    "    def __init__(self):\n",
    "        self.adjacency_matrix = None\n",
    "        \n",
    "    def import_graph(self, graph):\n",
    "        ''' TASK!!! Creates adjacency matrix from an existing graph object.'''\n",
    "        \n",
    "        # Get all nodes with your favourite traversal\n",
    "        node_list = ....\n",
    "\n",
    "        # Create an numpy square matrix full of zeroes \n",
    "        # with the size appropriate to store every connection with everyone \n",
    "        self.adjacency_matrix = ....\n",
    "\n",
    "        # Fill in the matrix iteratively by iterating on the nodes in the node_list\n",
    "        #for ....\n",
    "            # And for each node, takint it's edges iteratively\n",
    "            #for\n",
    "                # Using the node's index as one \"coordinate\"\n",
    "                x = ....\n",
    "                # Using the neighbor's index as the other\n",
    "                y = ....\n",
    "                # and setting the relationship between them to 1 in the adjacency matrix\n",
    "                #self.... \n",
    "\n",
    "        # TODO: implement"
   ]
  },
  {
   "cell_type": "code",
   "execution_count": null,
   "metadata": {
    "ExecuteTime": {
     "end_time": "2021-04-12T17:24:40.208411Z",
     "start_time": "2021-04-12T17:24:39.684Z"
    }
   },
   "outputs": [],
   "source": [
    "# Init an adjacency matrix based graph object\n",
    "graph_v2 = AdjMatGraph()"
   ]
  },
  {
   "cell_type": "code",
   "execution_count": null,
   "metadata": {
    "ExecuteTime": {
     "end_time": "2021-04-12T17:24:40.208897Z",
     "start_time": "2021-04-12T17:24:39.686Z"
    }
   },
   "outputs": [],
   "source": [
    "# Check your adjacency matrix generating function with a simple graph\n",
    "graph_v2.import_graph(dummy_graph)\n",
    "\n",
    "print('Adjacency matrix of dummy graph:')\n",
    "print(graph_v2.adjacency_matrix)"
   ]
  },
  {
   "cell_type": "code",
   "execution_count": null,
   "metadata": {
    "ExecuteTime": {
     "end_time": "2021-04-12T17:24:40.209312Z",
     "start_time": "2021-04-12T17:24:39.687Z"
    }
   },
   "outputs": [],
   "source": [
    "# Tube adjacency matrix\n",
    "graph_v2.import_graph(tube_graph)\n",
    "\n",
    "print('Shape of tube adjacency matrix:')\n",
    "print(graph_v2.adjacency_matrix.shape)\n",
    "print('Tube adjacency matrix:')\n",
    "print(graph_v2.adjacency_matrix)"
   ]
  }
 ],
 "metadata": {
  "kernelspec": {
   "display_name": "Python 3",
   "language": "python",
   "name": "python3"
  },
  "language_info": {
   "codemirror_mode": {
    "name": "ipython",
    "version": 3
   },
   "file_extension": ".py",
   "mimetype": "text/x-python",
   "name": "python",
   "nbconvert_exporter": "python",
   "pygments_lexer": "ipython3",
   "version": "3.7.9"
  },
  "toc": {
   "base_numbering": 1,
   "nav_menu": {},
   "number_sections": true,
   "sideBar": true,
   "skip_h1_title": false,
   "title_cell": "Table of Contents",
   "title_sidebar": "Contents",
   "toc_cell": false,
   "toc_position": {},
   "toc_section_display": true,
   "toc_window_display": false
  },
  "varInspector": {
   "cols": {
    "lenName": 16,
    "lenType": 16,
    "lenVar": 40
   },
   "kernels_config": {
    "python": {
     "delete_cmd_postfix": "",
     "delete_cmd_prefix": "del ",
     "library": "var_list.py",
     "varRefreshCmd": "print(var_dic_list())"
    },
    "r": {
     "delete_cmd_postfix": ") ",
     "delete_cmd_prefix": "rm(",
     "library": "var_list.r",
     "varRefreshCmd": "cat(var_dic_list()) "
    }
   },
   "types_to_exclude": [
    "module",
    "function",
    "builtin_function_or_method",
    "instance",
    "_Feature"
   ],
   "window_display": false
  }
 },
 "nbformat": 4,
 "nbformat_minor": 4
}

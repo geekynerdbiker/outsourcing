{
  "nbformat": 4,
  "nbformat_minor": 0,
  "metadata": {
    "colab": {
      "name": "Lab-Day-1-Linked_List_and_Tree_Handout.ipynb",
      "provenance": [],
      "collapsed_sections": []
    },
    "kernelspec": {
      "display_name": "Python 3",
      "language": "python",
      "name": "python3"
    },
    "language_info": {
      "codemirror_mode": {
        "name": "ipython",
        "version": 3
      },
      "file_extension": ".py",
      "mimetype": "text/x-python",
      "name": "python",
      "nbconvert_exporter": "python",
      "pygments_lexer": "ipython3",
      "version": "3.7.7"
    },
    "nbTranslate": {
      "displayLangs": [
        "*"
      ],
      "hotkey": "alt-t",
      "langInMainMenu": true,
      "sourceLang": "en",
      "targetLang": "fr",
      "useGoogleTranslate": true
    },
    "toc": {
      "base_numbering": 1,
      "nav_menu": {},
      "number_sections": true,
      "sideBar": true,
      "skip_h1_title": false,
      "title_cell": "Table of Contents",
      "title_sidebar": "Contents",
      "toc_cell": false,
      "toc_position": {},
      "toc_section_display": true,
      "toc_window_display": false
    },
    "varInspector": {
      "cols": {
        "lenName": 16,
        "lenType": 16,
        "lenVar": 40
      },
      "kernels_config": {
        "python": {
          "delete_cmd_postfix": "",
          "delete_cmd_prefix": "del ",
          "library": "var_list.py",
          "varRefreshCmd": "print(var_dic_list())"
        },
        "r": {
          "delete_cmd_postfix": ") ",
          "delete_cmd_prefix": "rm(",
          "library": "var_list.r",
          "varRefreshCmd": "cat(var_dic_list()) "
        }
      },
      "types_to_exclude": [
        "module",
        "function",
        "builtin_function_or_method",
        "instance",
        "_Feature"
      ],
      "window_display": false
    }
  },
  "cells": [
    {
      "cell_type": "markdown",
      "metadata": {
        "id": "uXnNma-rPmCy"
      },
      "source": [
        "# Day 1"
      ]
    },
    {
      "cell_type": "markdown",
      "metadata": {
        "id": "E4hVKXajR3Vp"
      },
      "source": [
        "## Utilities"
      ]
    },
    {
      "cell_type": "code",
      "metadata": {
        "id": "jZowe8WPPYgQ"
      },
      "source": [
        "import random"
      ],
      "execution_count": 5,
      "outputs": []
    },
    {
      "cell_type": "code",
      "metadata": {
        "id": "PP5XdBS2PrTf"
      },
      "source": [
        "class Wagon:\n",
        "  ''' Describes one train wagon '''\n",
        "\n",
        "  def __init__(self, wagon_id):\n",
        "    self.wagon_id = wagon_id\n",
        "    self.last_maintanance = random.randint(0, 5*365) # Eastern European maintenance schedule :)\n",
        "\n",
        "  def get_last_maintanance(self):\n",
        "    ''' Returns days since last maintanance '''\n",
        "    return self.last_maintanance\n",
        "\n",
        "  def __repr__(self):\n",
        "    ''' Returns parameters when object is printed instead of the default printable representation '''\n",
        "    return 'wagon ' + str(self.wagon_id)"
      ],
      "execution_count": null,
      "outputs": []
    },
    {
      "cell_type": "code",
      "metadata": {
        "colab": {
          "base_uri": "https://localhost:8080/"
        },
        "id": "VxcuwhNcQ6Jm",
        "outputId": "5d4c0ffe-1c03-4dc9-8407-803728c703dc"
      },
      "source": [
        "# How to create and interact with a Wagon object\n",
        "test_wagon = Wagon(wagon_id=0)\n",
        "\n",
        "print('Created object:', repr(test_wagon))\n",
        "print('Wagon ID number:', test_wagon.wagon_id)\n",
        "print('Last maintanace of wagon:', test_wagon.get_last_maintanance())"
      ],
      "execution_count": null,
      "outputs": [
        {
          "output_type": "stream",
          "text": [
            "Created object: wagon 0\n",
            "Wagon ID number: 0\n",
            "Last maintanace of wagon: 53\n"
          ],
          "name": "stdout"
        }
      ]
    },
    {
      "cell_type": "code",
      "metadata": {
        "id": "4AUMLfpQCedz"
      },
      "source": [
        "class Employee:\n",
        "  ''' Describes an employee '''\n",
        "\n",
        "  def __init__(self, employee_id, salary_class=1):\n",
        "    self.employee_id = employee_id\n",
        "    self.salary = int(20000 * salary_class * (1 + random.random()))\n",
        "\n",
        "  def __repr__(self):\n",
        "    ''' Returns parameters when object is printed instead of the default printable representation '''\n",
        "    return 'employee ' + str(self.employee_id)"
      ],
      "execution_count": 3,
      "outputs": []
    },
    {
      "cell_type": "code",
      "metadata": {
        "colab": {
          "base_uri": "https://localhost:8080/"
        },
        "id": "Gq_IW-GzDghT",
        "outputId": "0b53a38c-7b66-44b9-9e82-0b5579ce2191"
      },
      "source": [
        "# How to create and interact with Employee object\n",
        "test_employee = Employee(employee_id=0)\n",
        "\n",
        "print('Created object:', repr(test_employee))\n",
        "print('Employee ID number:', test_employee.employee_id)\n",
        "print('Employee yearly salary:', test_employee.salary)"
      ],
      "execution_count": null,
      "outputs": [
        {
          "output_type": "stream",
          "text": [
            "Created object: employee 0\n",
            "Employee ID number: 0\n",
            "Employee yearly salary: 26459\n"
          ],
          "name": "stdout"
        }
      ]
    },
    {
      "cell_type": "markdown",
      "metadata": {
        "id": "RZ8-L-UFRxr9"
      },
      "source": [
        "## Linked lists"
      ]
    },
    {
      "cell_type": "markdown",
      "metadata": {
        "id": "0qlxj_-NSely"
      },
      "source": [
        "### LinkedList class implementation"
      ]
    },
    {
      "cell_type": "code",
      "metadata": {
        "id": "Ws9BPmqLQ-H-"
      },
      "source": [
        "class Node:\n",
        "  ''' A node for the LinkedList class '''\n",
        "  def __init__(self, data=None):\n",
        "    self.data = data\n",
        "    self.next = None\n",
        "\n",
        "  def __repr__(self):\n",
        "    ''' Returns data point's representation instead of the Node object's default printable representation '''\n",
        "    return repr(self.data)"
      ],
      "execution_count": null,
      "outputs": []
    },
    {
      "cell_type": "code",
      "metadata": {
        "id": "219BvhK7fexS"
      },
      "source": [
        "class LinkedList:\n",
        "  ''' Implements linked list funcionalities '''\n",
        "\n",
        "  def __init__(self):\n",
        "    self.head = None\n",
        "\n",
        "  def push_last(self, data):\n",
        "    '''Add a new data item as the last element of the list.'''\n",
        "    if self.head is None:\n",
        "      # List is empty\n",
        "      # New data will be the head\n",
        "      self.head = Node(data)\n",
        "    else:\n",
        "      # The list is not empty. \n",
        "      # TASK: Write the code which finds the last node, \n",
        "      # and links a new node with the data to it!\n",
        "      ...  \n",
        "        \n",
        "\n",
        "  def pop_last(self):\n",
        "    ''' Remove the last node '''\n",
        "    if self.head is None:\n",
        "      # List is already empty\n",
        "      pass\n",
        "    elif self.head.next is None:\n",
        "      # List has only one node to remove\n",
        "      self.head = None\n",
        "    else:\n",
        "      # List has more than two nodes.\n",
        "      # TASK: Write the code which removes the last node in this case!\n",
        "      ...\n",
        "        \n",
        "\n",
        "  def append(self, new_elements):\n",
        "    ''' Append a linked list to the last node '''\n",
        "    if self.head is None:\n",
        "      # List is empty\n",
        "      self.head = new_elements.head\n",
        "    else:\n",
        "      # List is not empty\n",
        "      # List must be linked to the last node\n",
        "      # TASK: Write the code which links the nodes of the new_elements list\n",
        "      # to the last node!\n",
        "      ...\n",
        "      \n",
        "      \n",
        "  def print(self, prints=True):\n",
        "    ''' Print elements of the linked list '''\n",
        "    if self.head is not None:\n",
        "      if prints:\n",
        "        print(self.head)\n",
        "\n",
        "      next_node = self.head.next\n",
        "\n",
        "      while next_node is not None:\n",
        "        if prints:\n",
        "          print(next_node)\n",
        "        next_node = next_node.next\n",
        "    else:\n",
        "      print('List is empty')"
      ],
      "execution_count": null,
      "outputs": []
    },
    {
      "cell_type": "markdown",
      "metadata": {
        "id": "0ZqJLMvRTLr6"
      },
      "source": [
        "### Demonstration of the push_last function in the LinkedList class\n",
        "Add wagons to a train."
      ]
    },
    {
      "cell_type": "code",
      "metadata": {
        "id": "WIBEHmuZTQt1"
      },
      "source": [
        "# Create a few wagon\n",
        "w0 = Wagon(wagon_id=0)\n",
        "w1 = Wagon(wagon_id=1)\n",
        "w2 = Wagon(wagon_id=2)"
      ],
      "execution_count": null,
      "outputs": []
    },
    {
      "cell_type": "code",
      "metadata": {
        "colab": {
          "base_uri": "https://localhost:8080/"
        },
        "id": "Yc5zVnJRT0nO",
        "outputId": "2a6ef0d0-3c41-46e8-cebb-1b54ec7e89bc"
      },
      "source": [
        "# Task: Create empty linked list called train\n",
        "...\n",
        "\n",
        "# Check elements of the linked list\n",
        "train.print()"
      ],
      "execution_count": null,
      "outputs": [
        {
          "output_type": "stream",
          "text": [
            "List is empty\n"
          ],
          "name": "stdout"
        }
      ]
    },
    {
      "cell_type": "code",
      "metadata": {
        "colab": {
          "base_uri": "https://localhost:8080/"
        },
        "id": "DgDFsCqcZIOJ",
        "outputId": "5d649f5c-ba5c-40f4-bb25-a33d69a9102f"
      },
      "source": [
        "# Task: Add wagon 0 to linked list\n",
        "...\n",
        "\n",
        "# Check elements of the linked list\n",
        "train.print()"
      ],
      "execution_count": null,
      "outputs": [
        {
          "output_type": "stream",
          "text": [
            "wagon 0\n"
          ],
          "name": "stdout"
        }
      ]
    },
    {
      "cell_type": "code",
      "metadata": {
        "colab": {
          "base_uri": "https://localhost:8080/"
        },
        "id": "rN6hZyd-Zweq",
        "outputId": "6ce2fcee-74dc-4281-803f-3a9287b57f84"
      },
      "source": [
        "# Task: Add wagon 1 to linked list\n",
        "...\n",
        "\n",
        "# Check elements of the linked list\n",
        "train.print()"
      ],
      "execution_count": null,
      "outputs": [
        {
          "output_type": "stream",
          "text": [
            "wagon 0\n",
            "wagon 1\n"
          ],
          "name": "stdout"
        }
      ]
    },
    {
      "cell_type": "code",
      "metadata": {
        "colab": {
          "base_uri": "https://localhost:8080/"
        },
        "id": "X6RoxTJ-YTX1",
        "outputId": "ea00cc30-b1b8-46eb-b2c5-23d0ec364866"
      },
      "source": [
        "# Task: Add wagon 2 to linked list\n",
        "...\n",
        "\n",
        "# Check elements of the linked list\n",
        "train.print()"
      ],
      "execution_count": null,
      "outputs": [
        {
          "output_type": "stream",
          "text": [
            "wagon 0\n",
            "wagon 1\n",
            "wagon 2\n"
          ],
          "name": "stdout"
        }
      ]
    },
    {
      "cell_type": "markdown",
      "metadata": {
        "id": "guu7Sylhe9Oj"
      },
      "source": [
        "### Demonstration of the pop_last function in the LinkedList class\n",
        "Remove wagons from a train."
      ]
    },
    {
      "cell_type": "code",
      "metadata": {
        "colab": {
          "base_uri": "https://localhost:8080/"
        },
        "id": "DhghfpMVfjds",
        "outputId": "2038848c-42cf-4224-f304-242d15b6e36d"
      },
      "source": [
        "# You should see 3 wagon in your list!\n",
        "\n",
        "# Check elements of the linked list\n",
        "train.print()"
      ],
      "execution_count": null,
      "outputs": [
        {
          "output_type": "stream",
          "text": [
            "wagon 0\n",
            "wagon 1\n",
            "wagon 2\n"
          ],
          "name": "stdout"
        }
      ]
    },
    {
      "cell_type": "code",
      "metadata": {
        "colab": {
          "base_uri": "https://localhost:8080/"
        },
        "id": "J_Qm_Xkigre0",
        "outputId": "a3b0b7ae-10eb-40ce-f3a3-f4a9b07bb0ed"
      },
      "source": [
        "# Task: Remove last node from linked list\n",
        "...\n",
        "\n",
        "# Check elements of the linked list\n",
        "train.print()"
      ],
      "execution_count": null,
      "outputs": [
        {
          "output_type": "stream",
          "text": [
            "wagon 0\n",
            "wagon 1\n"
          ],
          "name": "stdout"
        }
      ]
    },
    {
      "cell_type": "code",
      "metadata": {
        "colab": {
          "base_uri": "https://localhost:8080/"
        },
        "id": "BOFUs1yHgy_d",
        "outputId": "280e229d-c329-47db-9a52-162b1545f189"
      },
      "source": [
        "# Task: Remove last node from linked list\n",
        "...\n",
        "\n",
        "# Check elements of the linked list\n",
        "train.print()"
      ],
      "execution_count": null,
      "outputs": [
        {
          "output_type": "stream",
          "text": [
            "wagon 0\n"
          ],
          "name": "stdout"
        }
      ]
    },
    {
      "cell_type": "code",
      "metadata": {
        "colab": {
          "base_uri": "https://localhost:8080/"
        },
        "id": "gP5dkeZLg1KU",
        "outputId": "0d814e86-227e-4a99-84e0-0307ae34ada6"
      },
      "source": [
        "# Task: Remove last node from linked list\n",
        "...\n",
        "\n",
        "# Check elements of the linked list\n",
        "train.print()"
      ],
      "execution_count": null,
      "outputs": [
        {
          "output_type": "stream",
          "text": [
            "List is empty\n"
          ],
          "name": "stdout"
        }
      ]
    },
    {
      "cell_type": "markdown",
      "metadata": {
        "id": "JOS6JNZjhGBl"
      },
      "source": [
        "### Demonstration of the append function in the LinkedList class\n",
        "Join the wagons pf a train to another train."
      ]
    },
    {
      "cell_type": "code",
      "metadata": {
        "colab": {
          "base_uri": "https://localhost:8080/"
        },
        "id": "RbqFpSixh92V",
        "outputId": "92909733-ce73-4b1d-9bef-55cbdb25f21a"
      },
      "source": [
        "# Create a train \n",
        "train_1 = LinkedList()\n",
        "train_1.push_last(w0)\n",
        "train_1.push_last(w1)\n",
        "train_1.push_last(w2)\n",
        "print('Train 1:')\n",
        "train_1.print()"
      ],
      "execution_count": null,
      "outputs": [
        {
          "output_type": "stream",
          "text": [
            "Train 1:\n",
            "wagon 0\n",
            "wagon 1\n",
            "wagon 2\n"
          ],
          "name": "stdout"
        }
      ]
    },
    {
      "cell_type": "code",
      "metadata": {
        "colab": {
          "base_uri": "https://localhost:8080/"
        },
        "id": "OJP_L3tAhDxj",
        "outputId": "2b984bed-a423-4b43-9423-b582722c9c38"
      },
      "source": [
        "# Create another train\n",
        "w3 = Wagon(wagon_id=3)\n",
        "w4 = Wagon(wagon_id=4)\n",
        "\n",
        "train_2 = LinkedList()\n",
        "train_2.push_last(w3)\n",
        "train_2.push_last(w4)\n",
        "print('Train 2:')\n",
        "train_2.print()"
      ],
      "execution_count": null,
      "outputs": [
        {
          "output_type": "stream",
          "text": [
            "Train 2:\n",
            "wagon 3\n",
            "wagon 4\n"
          ],
          "name": "stdout"
        }
      ]
    },
    {
      "cell_type": "code",
      "metadata": {
        "colab": {
          "base_uri": "https://localhost:8080/"
        },
        "id": "MzxeRnjHhoTU",
        "outputId": "d20b66f4-348f-4777-838a-4ca53a4c149b"
      },
      "source": [
        "# TASK: Join train_1 and train_2 so that the wagons in train_2 follow those of train_1\n",
        "...\n",
        "\n",
        "# Check elements of the train_1\n",
        "train_1.print()"
      ],
      "execution_count": null,
      "outputs": [
        {
          "output_type": "stream",
          "text": [
            "wagon 0\n",
            "wagon 1\n",
            "wagon 2\n",
            "wagon 3\n",
            "wagon 4\n"
          ],
          "name": "stdout"
        }
      ]
    },
    {
      "cell_type": "markdown",
      "metadata": {
        "id": "ORFStN0iju_H"
      },
      "source": [
        "### Traverse linked list\n",
        "Let's measure the traversal time of a linked list. For this test we can use the print function because it traverses the linked list to print all node.\n",
        "(The actual print functionality is switched off for this test.)"
      ]
    },
    {
      "cell_type": "code",
      "metadata": {
        "id": "MbLSbZI5kIRd"
      },
      "source": [
        "# Create trains with different lengths\n",
        "def create_train(n):\n",
        "  ''' Create a linked list with n node '''\n",
        "  train = LinkedList()\n",
        "\n",
        "  for i in range(n):\n",
        "    train.push_last(Wagon(wagon_id=i))\n",
        "\n",
        "  return train\n",
        "\n",
        "short_train = create_train(5)\n",
        "long_train = create_train(50)\n",
        "super_long_train = create_train(5000)\n",
        "hypotetical_train = create_train(50000)"
      ],
      "execution_count": null,
      "outputs": []
    },
    {
      "cell_type": "code",
      "metadata": {
        "colab": {
          "base_uri": "https://localhost:8080/"
        },
        "id": "cyuwuHXMjx1r",
        "outputId": "d7097b9a-1695-40ad-ff54-7dc9317d2e6e"
      },
      "source": [
        "%%timeit -n 100\n",
        "short_train.print(prints=False)"
      ],
      "execution_count": null,
      "outputs": [
        {
          "output_type": "stream",
          "text": [
            "522 ns ± 13.1 ns per loop (mean ± std. dev. of 7 runs, 100 loops each)\n"
          ],
          "name": "stdout"
        }
      ]
    },
    {
      "cell_type": "code",
      "metadata": {
        "colab": {
          "base_uri": "https://localhost:8080/"
        },
        "id": "x2BbGsS3j6r8",
        "outputId": "ae59397c-24cd-4592-ac41-92160344b068"
      },
      "source": [
        "%%timeit -n 100\n",
        "long_train.print(prints=False)"
      ],
      "execution_count": null,
      "outputs": [
        {
          "output_type": "stream",
          "text": [
            "4.56 µs ± 641 ns per loop (mean ± std. dev. of 7 runs, 100 loops each)\n"
          ],
          "name": "stdout"
        }
      ]
    },
    {
      "cell_type": "code",
      "metadata": {
        "colab": {
          "base_uri": "https://localhost:8080/"
        },
        "id": "yM3MAF7HnJTs",
        "outputId": "468229a6-f191-4ab6-cde4-4c676d60a0b9"
      },
      "source": [
        "%%timeit -n 100\n",
        "super_long_train.print(prints=False)"
      ],
      "execution_count": null,
      "outputs": [
        {
          "output_type": "stream",
          "text": [
            "296 µs ± 40.4 µs per loop (mean ± std. dev. of 7 runs, 100 loops each)\n"
          ],
          "name": "stdout"
        }
      ]
    },
    {
      "cell_type": "code",
      "metadata": {
        "colab": {
          "base_uri": "https://localhost:8080/"
        },
        "id": "6tciJ6HxkpqW",
        "outputId": "30080baf-a384-4961-b195-57e1ec2cd98e"
      },
      "source": [
        "%%timeit -n 100\n",
        "hypotetical_train.print(prints=False)"
      ],
      "execution_count": null,
      "outputs": [
        {
          "output_type": "stream",
          "text": [
            "3.36 ms ± 73.1 µs per loop (mean ± std. dev. of 7 runs, 100 loops each)\n"
          ],
          "name": "stdout"
        }
      ]
    },
    {
      "cell_type": "markdown",
      "metadata": {
        "id": "stz3k9RJpfFb"
      },
      "source": [
        "## Trees"
      ]
    },
    {
      "cell_type": "markdown",
      "metadata": {
        "id": "ouz7W18REiOl"
      },
      "source": [
        "### Tree class implementation"
      ]
    },
    {
      "cell_type": "code",
      "metadata": {
        "id": "-Qi2Kunbpg6b"
      },
      "source": [
        "class TreeNode:\n",
        "  ''' A node for the Tree class '''\n",
        "  def __init__(self, data=None, parent_node=None):\n",
        "    self.data = data\n",
        "    self.parent_node = parent_node\n",
        "    self.child_nodes = []\n",
        "\n",
        "  def __repr__(self):\n",
        "    ''' Returns child nodes instead of the TreeNode object's default printable representation '''\n",
        "    return repr(self.data)\n",
        "\n",
        "class Tree:\n",
        "  ''' Implements Tree funcionalities '''\n",
        "\n",
        "  def __init__(self):\n",
        "    self.root = None\n",
        "\n",
        "  def insert_node(self, data, parent_node=None):\n",
        "    ''' Insert a new node '''\n",
        "    if self.root is None:\n",
        "      self.root = TreeNode(data)\n",
        "    else:\n",
        "      new_node = TreeNode(data, parent_node=parent_node)\n",
        "      parent_node.child_nodes.append(new_node)\n",
        "\n",
        "  def reassign_parent(self, node, new_parent):\n",
        "    ''' Move node under a new parent '''\n",
        "    # TASK: Write the body of the method which moves the given node\n",
        "    # to the specified new parent!\n",
        "    ...\n",
        "\n",
        "\n",
        "  def remove_node(self, node):\n",
        "    ''' Remove node '''\n",
        "    # TASK: Write the body of the method which removes the given node!\n",
        "    ...\n",
        "\n",
        "  def list_nodes(self, level, prints=False):\n",
        "    ''' Return the list of nodes on a certain level. Optionally prints them.'''\n",
        "    if level <= 1:\n",
        "      nodes = [self.root]\n",
        "    else:\n",
        "      nodes = [self.root]\n",
        "\n",
        "      for i in range(1, level):\n",
        "        child_nodes = []\n",
        "        for nd in nodes:\n",
        "          child_nodes += nd.child_nodes\n",
        "\n",
        "        nodes = child_nodes\n",
        "\n",
        "    if prints:\n",
        "      print('Level ' + str(level) + ' : ', nodes)\n",
        "\n",
        "    return nodes\n",
        "\n",
        "  def print_tree(self):\n",
        "    ''' Print levels and parent-child connections of the tree '''\n",
        "    i = 1\n",
        "    while True:\n",
        "      nodes = self.list_nodes(i)\n",
        "      if len(nodes) == 0:\n",
        "        break\n",
        "      else:\n",
        "        print()\n",
        "        self.list_nodes(i, prints=True)\n",
        "\n",
        "        for nd in nodes:\n",
        "          child_nodes_list = [repr(cnd) for cnd in nd.child_nodes]\n",
        "          if len(child_nodes_list) > 0:\n",
        "            print('Child nodes of', nd, ':   ', ', '.join(child_nodes_list))\n",
        "\n",
        "        i += 1"
      ],
      "execution_count": 1,
      "outputs": []
    },
    {
      "cell_type": "markdown",
      "metadata": {
        "id": "vbsxMxI8FraJ"
      },
      "source": [
        "### Create employees"
      ]
    },
    {
      "cell_type": "code",
      "metadata": {
        "id": "p7-6YzniFE-J"
      },
      "source": [
        "# Director\n",
        "e0 = Employee(employee_id=0, salary_class=4)\n",
        "\n",
        "# Division leaders\n",
        "e1 = Employee(employee_id=1, salary_class=3)\n",
        "e2 = Employee(employee_id=2, salary_class=3)\n",
        "\n",
        "# Team leaders\n",
        "e3 = Employee(employee_id=3, salary_class=2)\n",
        "e4 = Employee(employee_id=4, salary_class=2)\n",
        "e5 = Employee(employee_id=5, salary_class=2)\n",
        "\n",
        "# Employees\n",
        "e6 = Employee(employee_id=6, salary_class=1)\n",
        "e7 = Employee(employee_id=7, salary_class=1)\n",
        "e8 = Employee(employee_id=8, salary_class=1)\n",
        "e9 = Employee(employee_id=9, salary_class=1)"
      ],
      "execution_count": 6,
      "outputs": []
    },
    {
      "cell_type": "markdown",
      "metadata": {
        "id": "JbfaR6xfq-a4"
      },
      "source": [
        "### Create organisation\n",
        "![image.png](data:image/png;base64,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)"
      ]
    },
    {
      "cell_type": "code",
      "metadata": {
        "colab": {
          "base_uri": "https://localhost:8080/"
        },
        "id": "5M8x__lkqS5J",
        "outputId": "0b5f84a0-bb61-4f25-8948-393b8b518532"
      },
      "source": [
        "# Create organization\n",
        "organization = Tree()\n",
        "\n",
        "# Insert director as root node\n",
        "organization.insert_node(e0)\n",
        "\n",
        "# Insert division leaders\n",
        "organization.insert_node(e1, parent_node=organization.root)\n",
        "organization.insert_node(e2, parent_node=organization.root)\n",
        "\n",
        "# Insert team leaders\n",
        "divisinion_leader_nodes = organization.list_nodes(level=2)\n",
        "\n",
        "organization.insert_node(e3, parent_node=divisinion_leader_nodes[0])\n",
        "organization.insert_node(e4, parent_node=divisinion_leader_nodes[0])\n",
        "organization.insert_node(e5, parent_node=divisinion_leader_nodes[1])\n",
        "\n",
        "# Insert employees\n",
        "team_leader_nodes = organization.list_nodes(level=3)\n",
        "\n",
        "organization.insert_node(e6, parent_node=team_leader_nodes[0])\n",
        "organization.insert_node(e7, parent_node=team_leader_nodes[0])\n",
        "organization.insert_node(e8, parent_node=team_leader_nodes[1])\n",
        "organization.insert_node(e9, parent_node=team_leader_nodes[2])\n",
        "\n",
        "# Check result\n",
        "organization.print_tree()"
      ],
      "execution_count": 7,
      "outputs": [
        {
          "output_type": "stream",
          "text": [
            "\n",
            "Level 1 :  [employee 0]\n",
            "Child nodes of employee 0 :    employee 1, employee 2\n",
            "\n",
            "Level 2 :  [employee 1, employee 2]\n",
            "Child nodes of employee 1 :    employee 3, employee 4\n",
            "Child nodes of employee 2 :    employee 5\n",
            "\n",
            "Level 3 :  [employee 3, employee 4, employee 5]\n",
            "Child nodes of employee 3 :    employee 6, employee 7\n",
            "Child nodes of employee 4 :    employee 8\n",
            "Child nodes of employee 5 :    employee 9\n",
            "\n",
            "Level 4 :  [employee 6, employee 7, employee 8, employee 9]\n"
          ],
          "name": "stdout"
        }
      ]
    },
    {
      "cell_type": "markdown",
      "metadata": {
        "id": "t14JkkY9HDfJ"
      },
      "source": [
        "### Restructure organization to match the new organizational chart\n",
        "\n",
        "Employee 4 will be the new boss of Employee 9. Don't forget to fire Employee 2 & 5 :)\n",
        "\n",
        "![image.png](data:image/png;base64,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)"
      ]
    },
    {
      "cell_type": "code",
      "metadata": {
        "id": "MtlegyeOyo4l"
      },
      "source": [
        "# Nodes of Employee 2, 4, 5 and 9\n",
        "employee_2_node = divisinion_leader_nodes[1]\n",
        "\n",
        "employee_4_node = team_leader_nodes[1]\n",
        "\n",
        "employee_5_node = team_leader_nodes[2]\n",
        "\n",
        "employee_nodes = organization.list_nodes(level=4)\n",
        "employee_9_node = employee_nodes[3]"
      ],
      "execution_count": null,
      "outputs": []
    },
    {
      "cell_type": "code",
      "metadata": {
        "id": "65LkfQ9ixJr8"
      },
      "source": [
        "# TASK: Make the required changes so that the \n",
        "# organization tree matches the chart using the appropriate\n",
        "# Tree() methods!\n",
        "...\n",
        "\n",
        "# Check result\n",
        "organization.print_tree()"
      ],
      "execution_count": null,
      "outputs": []
    }
  ]
}
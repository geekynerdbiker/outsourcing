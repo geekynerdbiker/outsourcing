{
  "nbformat": 4,
  "nbformat_minor": 0,
  "metadata": {
    "colab": {
      "name": "Chapter4.ipynb",
      "provenance": [],
      "collapsed_sections": [],
      "toc_visible": true
    },
    "kernelspec": {
      "name": "python3",
      "display_name": "Python 3"
    },
    "accelerator": "GPU"
  },
  "cells": [
    {
      "cell_type": "markdown",
      "metadata": {
        "id": "BCq2UCUvEkhh",
        "colab_type": "text"
      },
      "source": [
        "<시작하세요! 텐서플로 2.0 프로그래밍> 예제코드입니다.\n",
        "\n",
        "- 예제 코드를 실행하기 위해서는 [파일] > [드라이브에 사본 저장]으로 본인의 계정에 사본을 만든 다음 실행하면 됩니다.\n",
        "- 예제 코드는 [깃허브 저장소](https://github.com/wikibook/tf2)에서도 동일하게 제공됩니다. 예제에 대한 질문이나 책에 대한 질문은 깃허브 저장소의 [Issues](https://github.com/wikibook/tf2/issues)에 올려주세요.\n",
        "- 각 장의 예제 파일은 처음부터 끝까지 실행하는 상황을 가정하고 작성되었습니다. 혹시 세션이 다운되는 등의 이유로 실행이 되지 않는 경우가 있다면, 필요한 라이브러리를 import 하신 후에 실행하시면 됩니다. (tensorflow, numpy, pandas 등)"
      ]
    },
    {
      "cell_type": "code",
      "metadata": {
        "id": "v6lUugr1JRBt",
        "colab_type": "code",
        "colab": {}
      },
      "source": [
        "# 텐서플로 2 버전 선택\n",
        "try:\n",
        "    # %tensorflow_version only exists in Colab.\n",
        "    %tensorflow_version 2.x\n",
        "except Exception:\n",
        "    pass"
      ],
      "execution_count": 0,
      "outputs": []
    },
    {
      "cell_type": "markdown",
      "metadata": {
        "id": "SzBgd4W8N3Js",
        "colab_type": "text"
      },
      "source": [
        "#  4.1 선형 회귀(Linear Regression)"
      ]
    },
    {
      "cell_type": "code",
      "metadata": {
        "id": "QChWDkRCN_tY",
        "colab_type": "code",
        "outputId": "a82ca076-42c4-4bb8-cf32-0302b794d6b3",
        "colab": {
          "base_uri": "https://localhost:8080/",
          "height": 283
        }
      },
      "source": [
        "# 4.1 지역별 인구증가율과 고령인구비율 시각화\n",
        "import matplotlib.pyplot as plt\n",
        "population_inc = [0.3, -0.78, 1.26, 0.03, 1.11, 15.17, 0.24, -0.24, -0.47, -0.77, -0.37, -0.85, -0.41, -0.27, 0.02, -0.76, 2.66]\n",
        "population_old = [12.27, 14.44, 11.87, 18.75, 17.52, 9.29, 16.37, 19.78, 19.51, 12.65, 14.74, 10.72, 21.94, 12.83, 15.51, 17.14, 14.42]\n",
        "plt.plot(population_inc,population_old,'bo')\n",
        "plt.xlabel('Population Growth Rate (%)')\n",
        "plt.ylabel('Elderly Population Rate (%)')\n",
        "plt.show()"
      ],
      "execution_count": 0,
      "outputs": [
        {
          "output_type": "display_data",
          "data": {
            "image/png": "[encoded data removed]",
            "text/plain": [
              "<Figure size 432x288 with 1 Axes>"
            ]
          },
          "metadata": {
            "tags": []
          }
        }
      ]
    },
    {
      "cell_type": "code",
      "metadata": {
        "id": "RM75JVEDNtKq",
        "colab_type": "code",
        "outputId": "0815d78c-ff90-4b59-b4b3-2600c43ea909",
        "colab": {
          "base_uri": "https://localhost:8080/",
          "height": 283
        }
      },
      "source": [
        "# 4.2 지역별 인구증가율과 고령인구비율 시각화: 극단치 제거\n",
        "import matplotlib.pyplot as plt\n",
        "population_inc = [0.3, -0.78, 1.26, 0.03, 1.11, 15.17, 0.24, -0.24, -0.47, -0.77, -0.37, -0.85, -0.41, -0.27, 0.02, -0.76, 2.66]\n",
        "population_inc = population_inc[:5] + population_inc[6:]\n",
        "population_old = [12.27, 14.44, 11.87, 18.75, 17.52, 9.29, 16.37, 19.78, 19.51, 12.65, 14.74, 10.72, 21.94, 12.83, 15.51, 17.14, 14.42]\n",
        "population_old = population_old[:5] + population_old[6:]\n",
        "plt.plot(population_inc,population_old,'bo')\n",
        "plt.xlabel('Population Growth Rate (%)')\n",
        "plt.ylabel('Elderly Population Rate (%)')\n",
        "plt.show()"
      ],
      "execution_count": 0,
      "outputs": [
        {
          "output_type": "display_data",
          "data": {
            "image/png": "[encoded data removed]",
            "text/plain": [
              "<Figure size 432x288 with 1 Axes>"
            ]
          },
          "metadata": {
            "tags": []
          }
        }
      ]
    },
    {
      "cell_type": "code",
      "metadata": {
        "id": "zjA3y39YnuVf",
        "colab_type": "code",
        "outputId": "93eb5fa0-5be4-4171-8200-aa07d7242b7f",
        "colab": {
          "base_uri": "https://localhost:8080/",
          "height": 301
        }
      },
      "source": [
        "# 4.3 최소제곱법으로 회귀선 구하기\n",
        "import numpy as np\n",
        "import matplotlib.pyplot as plt\n",
        "X = [0.3, -0.78, 1.26, 0.03, 1.11, 0.24, -0.24, -0.47, -0.77, -0.37, -0.85, -0.41, -0.27, 0.02, -0.76, 2.66]\n",
        "Y = [12.27, 14.44, 11.87, 18.75, 17.52, 16.37, 19.78, 19.51, 12.65, 14.74, 10.72, 21.94, 12.83, 15.51, 17.14, 14.42]\n",
        "\n",
        "# X, Y의 평균을 구합니다.\n",
        "x_bar = sum(X) / len(X)\n",
        "y_bar = sum(Y) / len(Y)\n",
        "\n",
        "# 최소제곱법으로 a, b를 구합니다.\n",
        "a = sum([(y - y_bar) * (x - x_bar) for y, x in list(zip(Y, X))])\n",
        "a /= sum([(x - x_bar) ** 2 for x in X])\n",
        "b = y_bar - a * x_bar\n",
        "print('a:', a, 'b:', b)\n",
        "\n",
        "# 그래프를 그리기 위해 회귀선의 x, y 데이터를 구합니다.\n",
        "line_x = np.arange(min(X), max(X), 0.01)\n",
        "line_y = a * line_x + b\n",
        "\n",
        "# 붉은색 실선으로 회귀선을 그립니다.\n",
        "plt.plot(line_x,line_y,'r-')\n",
        "\n",
        "plt.plot(X,Y,'bo')\n",
        "plt.xlabel('Population Growth Rate (%)')\n",
        "plt.ylabel('Elderly Population Rate (%)')\n",
        "plt.show()"
      ],
      "execution_count": 0,
      "outputs": [
        {
          "output_type": "stream",
          "text": [
            "a: -0.355834147915461 b: 15.669317743971302\n"
          ],
          "name": "stdout"
        },
        {
          "output_type": "display_data",
          "data": {
            "image/png": "[encoded data removed]",
            "text/plain": [
              "<Figure size 432x288 with 1 Axes>"
            ]
          },
          "metadata": {
            "tags": []
          }
        }
      ]
    },
    {
      "cell_type": "code",
      "metadata": {
        "id": "mnpySfdvnu2O",
        "colab_type": "code",
        "outputId": "b6a23cee-78d0-425c-e8ac-a79a51fdbc14",
        "colab": {
          "base_uri": "https://localhost:8080/",
          "height": 463
        }
      },
      "source": [
        "# 4.4 텐서플로를 이용해서 회귀선 구하기\n",
        "import tensorflow as tf\n",
        "import numpy as np\n",
        "import matplotlib.pyplot as plt\n",
        "import random\n",
        "X = [0.3, -0.78, 1.26, 0.03, 1.11, 0.24, -0.24, -0.47, -0.77, -0.37, -0.85, -0.41, -0.27, 0.02, -0.76, 2.66]\n",
        "Y = [12.27, 14.44, 11.87, 18.75, 17.52, 16.37, 19.78, 19.51, 12.65, 14.74, 10.72, 21.94, 12.83, 15.51, 17.14, 14.42]\n",
        "\n",
        "# a와 b를 랜덤한 값으로 초기화합니다.\n",
        "a = tf.Variable(random.random())\n",
        "b = tf.Variable(random.random())\n",
        "\n",
        "# 잔차의 제곱의 평균을 반환하는 함수입니다.\n",
        "def compute_loss():\n",
        "    y_pred = a * X + b\n",
        "    loss = tf.reduce_mean((Y - y_pred) ** 2)\n",
        "    return loss\n",
        "\n",
        "optimizer = tf.keras.optimizers.Adam(lr=0.07)\n",
        "for i in range(1000):\n",
        "    # 잔차의 제곱의 평균을 최소화(minimize)합니다.\n",
        "    optimizer.minimize(compute_loss, var_list=[a,b])\n",
        "    \n",
        "    if i % 100 == 99:\n",
        "        print(i, 'a:', a.numpy(), 'b:', b.numpy(), 'loss:', compute_loss().numpy())\n",
        "\n",
        "line_x = np.arange(min(X), max(X), 0.01)\n",
        "line_y = a * line_x + b\n",
        "\n",
        "# 그래프를 그립니다.\n",
        "plt.plot(line_x,line_y,'r-')\n",
        "plt.plot(X,Y,'bo')\n",
        "plt.xlabel('Population Growth Rate (%)')\n",
        "plt.ylabel('Elderly Population Rate (%)')\n",
        "plt.show()"
      ],
      "execution_count": 0,
      "outputs": [
        {
          "output_type": "stream",
          "text": [
            "99 a: 0.089875124 b: 7.3387866 loss: 79.01758\n",
            "199 a: -0.14417 b: 11.697883 loss: 25.516514\n",
            "299 a: -0.27338856 b: 14.122254 loss: 12.168657\n",
            "399 a: -0.32996833 b: 15.183949 loss: 10.015839\n",
            "499 a: -0.349331 b: 15.547286 loss: 9.79566\n",
            "599 a: -0.3545309 b: 15.644867 loss: 9.781401\n",
            "699 a: -0.3556281 b: 15.665455 loss: 9.780819\n",
            "799 a: -0.35580865 b: 15.668843 loss: 9.780804\n",
            "899 a: -0.3558318 b: 15.669272 loss: 9.780804\n",
            "999 a: -0.35583338 b: 15.669303 loss: 9.780804\n"
          ],
          "name": "stdout"
        },
        {
          "output_type": "display_data",
          "data": {
            "image/png": "[encoded data removed]",
            "text/plain": [
              "<Figure size 432x288 with 1 Axes>"
            ]
          },
          "metadata": {
            "tags": []
          }
        }
      ]
    },
    {
      "cell_type": "markdown",
      "metadata": {
        "id": "gkjyJAqnN8Zs",
        "colab_type": "text"
      },
      "source": [
        "# 4.2 다항 회귀(Polynomial Regression)"
      ]
    },
    {
      "cell_type": "code",
      "metadata": {
        "id": "20I8mAhBOAid",
        "colab_type": "code",
        "outputId": "27f112c3-d732-4aef-ba34-175bf0afef9d",
        "colab": {
          "base_uri": "https://localhost:8080/",
          "height": 463
        }
      },
      "source": [
        "# 4.5 텐서플로우를 이용해서 2차 함수 회귀선 구하기\n",
        "import tensorflow as tf\n",
        "import numpy as np\n",
        "import matplotlib.pyplot as plt\n",
        "import random\n",
        "X = [0.3, -0.78, 1.26, 0.03, 1.11, 0.24, -0.24, -0.47, -0.77, -0.37, -0.85, -0.41, -0.27, 0.02, -0.76, 2.66]\n",
        "Y = [12.27, 14.44, 11.87, 18.75, 17.52, 16.37, 19.78, 19.51, 12.65, 14.74, 10.72, 21.94, 12.83, 15.51, 17.14, 14.42]\n",
        "\n",
        "# a, b, c를 랜덤한 값으로 초기화합니다.\n",
        "a = tf.Variable(random.random())\n",
        "b = tf.Variable(random.random())\n",
        "c = tf.Variable(random.random())\n",
        "\n",
        "# 잔차의 제곱의 평균을 반환하는 함수입니다.\n",
        "def compute_loss():\n",
        "    y_pred = a * X*X + b * X + c\n",
        "    loss = tf.reduce_mean((Y - y_pred) ** 2)\n",
        "    return loss\n",
        "\n",
        "optimizer = tf.keras.optimizers.Adam(lr=0.07)\n",
        "for i in range(1000):\n",
        "    # 잔차의 제곱의 평균을 최소화(minimize)합니다.\n",
        "    optimizer.minimize(compute_loss, var_list=[a,b,c])\n",
        "    \n",
        "    if i % 100 == 99:\n",
        "        print(i, 'a:', a.numpy(), 'b:', b.numpy(), 'c:', c.numpy(), 'loss:', compute_loss().numpy())\n",
        "\n",
        "line_x = np.arange(min(X), max(X), 0.01)\n",
        "line_y = a * line_x * line_x + b * line_x + c\n",
        "\n",
        "# 그래프를 그립니다.\n",
        "plt.plot(line_x,line_y,'r-')\n",
        "plt.plot(X,Y,'bo')\n",
        "plt.xlabel('Population Growth Rate (%)')\n",
        "plt.ylabel('Elderly Population Rate (%)')\n",
        "plt.show()"
      ],
      "execution_count": 0,
      "outputs": [
        {
          "output_type": "stream",
          "text": [
            "99 a: 4.1581616 b: -5.953284 c: 6.047485 loss: 73.82266\n",
            "199 a: 2.9474568 b: -4.87065 c: 9.995847 loss: 33.869064\n",
            "299 a: 1.3955072 b: -2.5227528 c: 12.723314 loss: 16.94876\n",
            "399 a: 0.39398676 b: -0.98995125 c: 14.446153 loss: 11.2515135\n",
            "499 a: -0.15033463 b: -0.15734565 c: 15.384374 loss: 9.791604\n",
            "599 a: -0.4066643 b: 0.23469424 c: 15.8263855 loss: 9.5048895\n",
            "699 a: -0.51161045 b: 0.39519957 c: 16.007366 loss: 9.461606\n",
            "799 a: -0.5490208 b: 0.45241547 c: 16.071882 loss: 9.456587\n",
            "899 a: -0.5606211 b: 0.47015625 c: 16.091887 loss: 9.456142\n",
            "999 a: -0.56373876 b: 0.47492516 c: 16.097261 loss: 9.456114\n"
          ],
          "name": "stdout"
        },
        {
          "output_type": "display_data",
          "data": {
            "image/png": "[encoded data removed]",
            "text/plain": [
              "<Figure size 432x288 with 1 Axes>"
            ]
          },
          "metadata": {
            "tags": []
          }
        }
      ]
    },
    {
      "cell_type": "code",
      "metadata": {
        "id": "eEA2cg-mCBOA",
        "colab_type": "code",
        "outputId": "8c7ebc4a-500a-4f0f-f1c2-b8a1064e3205",
        "colab": {
          "base_uri": "https://localhost:8080/",
          "height": 463
        }
      },
      "source": [
        "# 4.6 텐서플로우를 이용해서 3차 함수 회귀선 구하기\n",
        "import tensorflow as tf\n",
        "import numpy as np\n",
        "import matplotlib.pyplot as plt\n",
        "import random\n",
        "X = [0.3, -0.78, 1.26, 0.03, 1.11, 0.24, -0.24, -0.47, -0.77, -0.37, -0.85, -0.41, -0.27, 0.02, -0.76, 2.66]\n",
        "Y = [12.27, 14.44, 11.87, 18.75, 17.52, 16.37, 19.78, 19.51, 12.65, 14.74, 10.72, 21.94, 12.83, 15.51, 17.14, 14.42]\n",
        "\n",
        "# a, b, c, d를 랜덤한 값으로 초기화합니다.\n",
        "a = tf.Variable(random.random())\n",
        "b = tf.Variable(random.random())\n",
        "c = tf.Variable(random.random())\n",
        "d = tf.Variable(random.random())\n",
        "\n",
        "# 잔차의 제곱의 평균을 반환하는 함수입니다.\n",
        "def compute_loss():\n",
        "    y_pred = a * X*X*X + b * X**2 + c * X + d\n",
        "    loss = tf.reduce_mean((Y - y_pred) ** 2)\n",
        "    return loss\n",
        "\n",
        "optimizer = tf.keras.optimizers.Adam(lr=0.07)\n",
        "for i in range(1000):\n",
        "    # 잔차의 제곱의 평균을 최소화(minimize)합니다.\n",
        "    optimizer.minimize(compute_loss, var_list=[a,b,c,d])\n",
        "    \n",
        "    if i % 100 == 99:\n",
        "        print(i, 'a:', a.numpy(), 'b:', b.numpy(), 'c:', c.numpy(), 'd:', d.numpy(), 'loss:', compute_loss().numpy())\n",
        "\n",
        "line_x = np.arange(min(X), max(X), 0.01)\n",
        "line_y = a * line_x * line_x * line_x + b * line_x * line_x + c * line_x + d\n",
        "\n",
        "# 그래프를 그립니다.\n",
        "plt.plot(line_x,line_y,'r-')\n",
        "plt.plot(X,Y,'bo')\n",
        "plt.xlabel('Population Growth Rate (%)')\n",
        "plt.ylabel('Elderly Population Rate (%)')\n",
        "plt.show()"
      ],
      "execution_count": 0,
      "outputs": [
        {
          "output_type": "stream",
          "text": [
            "99 a: -1.2564825 b: 7.2653337 c: -4.759797 d: 0.7626014 loss: 151.67218\n",
            "199 a: -2.8898041 b: 11.835857 c: -5.3980103 d: 0.7626014 loss: 132.65906\n",
            "299 a: -4.171622 b: 14.875216 c: -4.556038 d: 0.7626014 loss: 125.74563\n",
            "399 a: -4.948379 b: 16.676939 c: -3.947625 d: 0.7626014 loss: 123.677315\n",
            "499 a: -5.3436556 b: 17.59378 c: -3.6379592 d: 0.7626014 loss: 123.21343\n",
            "599 a: -5.5156665 b: 17.992847 c: -3.5034103 d: 0.7626014 loss: 123.13554\n",
            "699 a: -5.579892 b: 18.141865 c: -3.4531763 d: 0.7626014 loss: 123.12575\n",
            "799 a: -5.600496 b: 18.189663 c: -3.437067 d: 0.7626014 loss: 123.124825\n",
            "899 a: -5.6061625 b: 18.2028 c: -3.4326386 d: 0.7626014 loss: 123.12475\n",
            "999 a: -5.6074877 b: 18.205883 c: -3.4315991 d: 0.7626014 loss: 123.12474\n"
          ],
          "name": "stdout"
        },
        {
          "output_type": "display_data",
          "data": {
            "image/png": "[encoded data removed]",
            "text/plain": [
              "<Figure size 432x288 with 1 Axes>"
            ]
          },
          "metadata": {
            "tags": []
          }
        }
      ]
    },
    {
      "cell_type": "markdown",
      "metadata": {
        "id": "vifwuMeTOAu0",
        "colab_type": "text"
      },
      "source": [
        "# 4.3 딥러닝 네트워크를 이용한 회귀"
      ]
    },
    {
      "cell_type": "code",
      "metadata": {
        "id": "00-h5uNNOM7V",
        "colab_type": "code",
        "outputId": "f901d014-8163-4fa3-ebb6-8e26dc0c5b12",
        "colab": {
          "base_uri": "https://localhost:8080/",
          "height": 233
        }
      },
      "source": [
        "# 4.7 딥러닝 네트워크를 이용한 회귀\n",
        "import tensorflow as tf\n",
        "import numpy as np\n",
        "\n",
        "X = [0.3, -0.78, 1.26, 0.03, 1.11, 0.24, -0.24, -0.47, -0.77, -0.37, -0.85, -0.41, -0.27, 0.02, -0.76, 2.66]\n",
        "Y = [12.27, 14.44, 11.87, 18.75, 17.52, 16.37, 19.78, 19.51, 12.65, 14.74, 10.72, 21.94, 12.83, 15.51, 17.14, 14.42]\n",
        "\n",
        "model = tf.keras.Sequential([\n",
        "    tf.keras.layers.Dense(units=6, activation='tanh', input_shape=(1,)),\n",
        "    tf.keras.layers.Dense(units=1)\n",
        "])\n",
        "\n",
        "model.compile(optimizer=tf.keras.optimizers.SGD(lr=0.1), loss='mse')\n",
        "\n",
        "model.summary()"
      ],
      "execution_count": 0,
      "outputs": [
        {
          "output_type": "stream",
          "text": [
            "Model: \"sequential\"\n",
            "_________________________________________________________________\n",
            "Layer (type)                 Output Shape              Param #   \n",
            "=================================================================\n",
            "dense (Dense)                (None, 6)                 12        \n",
            "_________________________________________________________________\n",
            "dense_1 (Dense)              (None, 1)                 7         \n",
            "=================================================================\n",
            "Total params: 19\n",
            "Trainable params: 19\n",
            "Non-trainable params: 0\n",
            "_________________________________________________________________\n"
          ],
          "name": "stdout"
        }
      ]
    },
    {
      "cell_type": "code",
      "metadata": {
        "id": "QylCvZXCJ16b",
        "colab_type": "code",
        "outputId": "9cea4b57-272b-40d3-cd09-d2c4ffca5614",
        "colab": {
          "base_uri": "https://localhost:8080/",
          "height": 395
        }
      },
      "source": [
        "# 4.8 딥러닝 네트워크의 학습\n",
        "model.fit(X, Y, epochs=10)"
      ],
      "execution_count": 0,
      "outputs": [
        {
          "output_type": "stream",
          "text": [
            "Epoch 1/10\n",
            "16/16 [==============================] - 0s 22ms/sample - loss: 255.2328\n",
            "Epoch 2/10\n",
            "16/16 [==============================] - 0s 305us/sample - loss: 121.0506\n",
            "Epoch 3/10\n",
            "16/16 [==============================] - 0s 172us/sample - loss: 9.9392\n",
            "Epoch 4/10\n",
            "16/16 [==============================] - 0s 190us/sample - loss: 9.7631\n",
            "Epoch 5/10\n",
            "16/16 [==============================] - 0s 204us/sample - loss: 9.6806\n",
            "Epoch 6/10\n",
            "16/16 [==============================] - 0s 191us/sample - loss: 9.6263\n",
            "Epoch 7/10\n",
            "16/16 [==============================] - 0s 207us/sample - loss: 9.5849\n",
            "Epoch 8/10\n",
            "16/16 [==============================] - 0s 201us/sample - loss: 9.5494\n",
            "Epoch 9/10\n",
            "16/16 [==============================] - 0s 198us/sample - loss: 9.5156\n",
            "Epoch 10/10\n",
            "16/16 [==============================] - 0s 200us/sample - loss: 9.4809\n"
          ],
          "name": "stdout"
        },
        {
          "output_type": "execute_result",
          "data": {
            "text/plain": [
              "<tensorflow.python.keras.callbacks.History at 0x7fa01057d668>"
            ]
          },
          "metadata": {
            "tags": []
          },
          "execution_count": 9
        }
      ]
    },
    {
      "cell_type": "code",
      "metadata": {
        "id": "dKNRgRT-VmNo",
        "colab_type": "code",
        "outputId": "ade404ad-a424-46bb-dff1-c8a912c0ac21",
        "colab": {
          "base_uri": "https://localhost:8080/",
          "height": 305
        }
      },
      "source": [
        "# 4.9 딥러닝 네트워크의 Y값 예측\n",
        "model.predict(X)"
      ],
      "execution_count": 0,
      "outputs": [
        {
          "output_type": "execute_result",
          "data": {
            "text/plain": [
              "array([[15.799347 ],\n",
              "       [15.698468 ],\n",
              "       [15.217406 ],\n",
              "       [15.862815 ],\n",
              "       [15.331142 ],\n",
              "       [15.818269 ],\n",
              "       [15.868111 ],\n",
              "       [15.825095 ],\n",
              "       [15.70375  ],\n",
              "       [15.849195 ],\n",
              "       [15.659354 ],\n",
              "       [15.8405485],\n",
              "       [15.864991 ],\n",
              "       [15.864071 ],\n",
              "       [15.708953 ],\n",
              "       [14.338877 ]], dtype=float32)"
            ]
          },
          "metadata": {
            "tags": []
          },
          "execution_count": 10
        }
      ]
    },
    {
      "cell_type": "code",
      "metadata": {
        "id": "3hOY981DK93b",
        "colab_type": "code",
        "outputId": "ae1087c2-0b96-4800-b8c7-66e5a0f73d16",
        "colab": {
          "base_uri": "https://localhost:8080/",
          "height": 283
        }
      },
      "source": [
        "# 4.10 딥러닝 네트워크의 회귀선 확인\n",
        "import matplotlib.pyplot as plt\n",
        "\n",
        "line_x = np.arange(min(X), max(X), 0.01)\n",
        "line_y = model.predict(line_x)\n",
        "\n",
        "plt.plot(line_x,line_y,'r-')\n",
        "plt.plot(X,Y,'bo')\n",
        "plt.xlabel('Population Growth Rate (%)')\n",
        "plt.ylabel('Elderly Population Rate (%)')\n",
        "plt.show()"
      ],
      "execution_count": 0,
      "outputs": [
        {
          "output_type": "display_data",
          "data": {
            "image/png": "[encoded data removed]",
            "text/plain": [
              "<Figure size 432x288 with 1 Axes>"
            ]
          },
          "metadata": {
            "tags": []
          }
        }
      ]
    },
    {
      "cell_type": "code",
      "metadata": {
        "id": "hXUej2dfYEi3",
        "colab_type": "code",
        "outputId": "879ab97f-8e9d-4592-89eb-e520732e7a1a",
        "colab": {
          "base_uri": "https://localhost:8080/",
          "height": 269
        }
      },
      "source": [
        "# 그림 4.2 출력 코드\n",
        "import math\n",
        "def sigmoid(x):\n",
        "    return 1 / (1 + math.exp(-x))\n",
        "\n",
        "x = np.arange(-5, 5, 0.01)\n",
        "sigmoid_x = [sigmoid(z) for z in x]\n",
        "tanh_x = [math.tanh(z) for z in x]\n",
        "\n",
        "plt.axhline(0, color='gray')\n",
        "plt.axvline(0, color='gray')\n",
        "plt.plot(x, sigmoid_x, 'b-', label='sigmoid')\n",
        "plt.plot(x, tanh_x, 'r--', label='tanh')\n",
        "plt.legend()\n",
        "plt.show()"
      ],
      "execution_count": 0,
      "outputs": [
        {
          "output_type": "display_data",
          "data": {
            "image/png": "[encoded data removed]",
            "text/plain": [
              "<Figure size 432x288 with 1 Axes>"
            ]
          },
          "metadata": {
            "tags": []
          }
        }
      ]
    },
    {
      "cell_type": "markdown",
      "metadata": {
        "id": "raf-pMEBKfmn",
        "colab_type": "text"
      },
      "source": [
        "# 4.4 보스턴 주택 가격 데이터세트(Boston Housing Dataset)"
      ]
    },
    {
      "cell_type": "code",
      "metadata": {
        "id": "nYyev2iFKf-M",
        "colab_type": "code",
        "outputId": "61211ae3-3411-42cc-c1fa-b4e88f72e4ee",
        "colab": {
          "base_uri": "https://localhost:8080/",
          "height": 89
        }
      },
      "source": [
        "# 4.11 데이터 불러오기\n",
        "from tensorflow.keras.datasets import boston_housing\n",
        "(train_X, train_Y), (test_X, test_Y) = boston_housing.load_data()\n",
        "\n",
        "print(len(train_X), len(test_X))\n",
        "print(train_X[0])\n",
        "print(train_Y[0])"
      ],
      "execution_count": 0,
      "outputs": [
        {
          "output_type": "stream",
          "text": [
            "404 102\n",
            "[  1.23247   0.        8.14      0.        0.538     6.142    91.7\n",
            "   3.9769    4.      307.       21.      396.9      18.72   ]\n",
            "15.2\n"
          ],
          "name": "stdout"
        }
      ]
    },
    {
      "cell_type": "code",
      "metadata": {
        "id": "SavRNrV6oVxE",
        "colab_type": "code",
        "outputId": "aa787df6-dfba-4435-f50a-effadcd43cb6",
        "colab": {
          "base_uri": "https://localhost:8080/",
          "height": 89
        }
      },
      "source": [
        "# 4.12 데이터 전처리(정규화)\n",
        "x_mean = train_X.mean()\n",
        "x_std = train_X.std()\n",
        "train_X -= x_mean\n",
        "train_X /= x_std\n",
        "test_X -= x_mean\n",
        "test_X /= x_std\n",
        "\n",
        "y_mean = train_Y.mean()\n",
        "y_std = train_Y.std()\n",
        "train_Y -= y_mean\n",
        "train_Y /= y_std\n",
        "test_Y -= y_mean\n",
        "test_Y /= y_std\n",
        "\n",
        "print(train_X[0])\n",
        "print(train_Y[0])"
      ],
      "execution_count": 0,
      "outputs": [
        {
          "output_type": "stream",
          "text": [
            "[-0.47482083 -0.48335641 -0.42698208 -0.48335641 -0.47963044 -0.44081941\n",
            "  0.15172056 -0.45581402 -0.45565404  1.64280094 -0.33791894  2.26541184\n",
            " -0.35370929]\n",
            "-0.7821526033779157\n"
          ],
          "name": "stdout"
        }
      ]
    },
    {
      "cell_type": "code",
      "metadata": {
        "id": "cwSYzQG0Ych9",
        "colab_type": "code",
        "outputId": "802a47e9-c4a2-4b7e-ef00-1a5380559d72",
        "colab": {
          "base_uri": "https://localhost:8080/",
          "height": 305
        }
      },
      "source": [
        "# 4.13 Boston Housing Dataset 회귀 모델 생성\n",
        "model = tf.keras.Sequential([\n",
        "    tf.keras.layers.Dense(units=52, activation='relu', input_shape=(13,)),\n",
        "    tf.keras.layers.Dense(units=39, activation='relu'),\n",
        "    tf.keras.layers.Dense(units=26, activation='relu'),\n",
        "    tf.keras.layers.Dense(units=1)\n",
        "])\n",
        "\n",
        "model.compile(optimizer=tf.keras.optimizers.Adam(lr=0.07), loss='mse')\n",
        "\n",
        "model.summary()"
      ],
      "execution_count": 0,
      "outputs": [
        {
          "output_type": "stream",
          "text": [
            "Model: \"sequential_1\"\n",
            "_________________________________________________________________\n",
            "Layer (type)                 Output Shape              Param #   \n",
            "=================================================================\n",
            "dense_2 (Dense)              (None, 52)                728       \n",
            "_________________________________________________________________\n",
            "dense_3 (Dense)              (None, 39)                2067      \n",
            "_________________________________________________________________\n",
            "dense_4 (Dense)              (None, 26)                1040      \n",
            "_________________________________________________________________\n",
            "dense_5 (Dense)              (None, 1)                 27        \n",
            "=================================================================\n",
            "Total params: 3,862\n",
            "Trainable params: 3,862\n",
            "Non-trainable params: 0\n",
            "_________________________________________________________________\n"
          ],
          "name": "stdout"
        }
      ]
    },
    {
      "cell_type": "code",
      "metadata": {
        "id": "TnQV-j20JTgI",
        "colab_type": "code",
        "outputId": "15f823cb-c0c7-48d7-f80d-984c3de80699",
        "colab": {
          "base_uri": "https://localhost:8080/",
          "height": 269
        }
      },
      "source": [
        "# 그림 4.5 출력 코드\n",
        "import math\n",
        "def sigmoid(x):\n",
        "    return 1 / (1 + math.exp(-x))\n",
        "\n",
        "x = np.arange(-5, 5, 0.01)\n",
        "sigmoid_x = [sigmoid(z) for z in x]\n",
        "tanh_x = [math.tanh(z) for z in x]\n",
        "relu = [0 if z < 0 else z for z in x]\n",
        "\n",
        "plt.axhline(0, color='gray')\n",
        "plt.axvline(0, color='gray')\n",
        "plt.plot(x, sigmoid_x, 'b-', label='sigmoid')\n",
        "plt.plot(x, tanh_x, 'r--', label='tanh')\n",
        "plt.plot(x, relu, 'g.', label='relu')\n",
        "plt.legend()\n",
        "plt.show()"
      ],
      "execution_count": 0,
      "outputs": [
        {
          "output_type": "display_data",
          "data": {
            "image/png": "[encoded data removed]",
            "text/plain": [
              "<Figure size 432x288 with 1 Axes>"
            ]
          },
          "metadata": {
            "tags": []
          }
        }
      ]
    },
    {
      "cell_type": "code",
      "metadata": {
        "id": "wnXGDmwWYud1",
        "colab_type": "code",
        "outputId": "91f1f9f1-909b-4c63-982d-de49b08b4a11",
        "colab": {
          "base_uri": "https://localhost:8080/",
          "height": 935
        }
      },
      "source": [
        "# 4.14 회귀 모델 학습\n",
        "history = model.fit(train_X, train_Y, epochs=25, batch_size=32, validation_split=0.25)"
      ],
      "execution_count": 0,
      "outputs": [
        {
          "output_type": "stream",
          "text": [
            "Train on 303 samples, validate on 101 samples\n",
            "Epoch 1/25\n",
            "303/303 [==============================] - 0s 681us/sample - loss: 2.2229 - val_loss: 1.0980\n",
            "Epoch 2/25\n",
            "303/303 [==============================] - 0s 129us/sample - loss: 0.9944 - val_loss: 1.1187\n",
            "Epoch 3/25\n",
            "303/303 [==============================] - 0s 130us/sample - loss: 0.7625 - val_loss: 1.0943\n",
            "Epoch 4/25\n",
            "303/303 [==============================] - 0s 126us/sample - loss: 0.7193 - val_loss: 1.0601\n",
            "Epoch 5/25\n",
            "303/303 [==============================] - 0s 121us/sample - loss: 0.6754 - val_loss: 1.0728\n",
            "Epoch 6/25\n",
            "303/303 [==============================] - 0s 128us/sample - loss: 0.6937 - val_loss: 1.0458\n",
            "Epoch 7/25\n",
            "303/303 [==============================] - 0s 133us/sample - loss: 0.6449 - val_loss: 1.1778\n",
            "Epoch 8/25\n",
            "303/303 [==============================] - 0s 133us/sample - loss: 0.6707 - val_loss: 1.1146\n",
            "Epoch 9/25\n",
            "303/303 [==============================] - 0s 144us/sample - loss: 0.6270 - val_loss: 1.0481\n",
            "Epoch 10/25\n",
            "303/303 [==============================] - 0s 133us/sample - loss: 0.6728 - val_loss: 1.1166\n",
            "Epoch 11/25\n",
            "303/303 [==============================] - 0s 127us/sample - loss: 0.6745 - val_loss: 1.0621\n",
            "Epoch 12/25\n",
            "303/303 [==============================] - 0s 130us/sample - loss: 0.6873 - val_loss: 1.0900\n",
            "Epoch 13/25\n",
            "303/303 [==============================] - 0s 129us/sample - loss: 0.6506 - val_loss: 0.9996\n",
            "Epoch 14/25\n",
            "303/303 [==============================] - 0s 131us/sample - loss: 0.6692 - val_loss: 1.0151\n",
            "Epoch 15/25\n",
            "303/303 [==============================] - 0s 130us/sample - loss: 0.6466 - val_loss: 1.1587\n",
            "Epoch 16/25\n",
            "303/303 [==============================] - 0s 122us/sample - loss: 0.6827 - val_loss: 1.0216\n",
            "Epoch 17/25\n",
            "303/303 [==============================] - 0s 132us/sample - loss: 0.6325 - val_loss: 1.0614\n",
            "Epoch 18/25\n",
            "303/303 [==============================] - 0s 140us/sample - loss: 0.5974 - val_loss: 1.1447\n",
            "Epoch 19/25\n",
            "303/303 [==============================] - 0s 125us/sample - loss: 0.6325 - val_loss: 1.1325\n",
            "Epoch 20/25\n",
            "303/303 [==============================] - 0s 124us/sample - loss: 0.6510 - val_loss: 1.1829\n",
            "Epoch 21/25\n",
            "303/303 [==============================] - 0s 125us/sample - loss: 0.6596 - val_loss: 1.0653\n",
            "Epoch 22/25\n",
            "303/303 [==============================] - 0s 119us/sample - loss: 0.6021 - val_loss: 1.0539\n",
            "Epoch 23/25\n",
            "303/303 [==============================] - 0s 134us/sample - loss: 0.6041 - val_loss: 0.9826\n",
            "Epoch 24/25\n",
            "303/303 [==============================] - 0s 126us/sample - loss: 0.6071 - val_loss: 0.9347\n",
            "Epoch 25/25\n",
            "303/303 [==============================] - 0s 131us/sample - loss: 0.6015 - val_loss: 1.1748\n"
          ],
          "name": "stdout"
        }
      ]
    },
    {
      "cell_type": "code",
      "metadata": {
        "id": "oQFhYTeHmkeb",
        "colab_type": "code",
        "outputId": "22173172-8c49-4570-a822-43c44a664208",
        "colab": {
          "base_uri": "https://localhost:8080/",
          "height": 283
        }
      },
      "source": [
        "# 4.15 회귀 모델 학습 결과 시각화\n",
        "import matplotlib.pyplot as plt\n",
        "plt.plot(history.history['loss'], 'b-', label='loss')\n",
        "plt.plot(history.history['val_loss'], 'r--', label='val_loss')\n",
        "plt.xlabel('Epoch')\n",
        "plt.legend()\n",
        "plt.show()"
      ],
      "execution_count": 0,
      "outputs": [
        {
          "output_type": "display_data",
          "data": {
            "image/png": "[encoded data removed]",
            "text/plain": [
              "<Figure size 432x288 with 1 Axes>"
            ]
          },
          "metadata": {
            "tags": []
          }
        }
      ]
    },
    {
      "cell_type": "code",
      "metadata": {
        "id": "FXIL_Isaao_t",
        "colab_type": "code",
        "outputId": "543f3335-5d26-434d-f279-1328042667fb",
        "colab": {
          "base_uri": "https://localhost:8080/",
          "height": 53
        }
      },
      "source": [
        "# 4.16 회귀 모델 평가\n",
        "model.evaluate(test_X, test_Y)"
      ],
      "execution_count": 0,
      "outputs": [
        {
          "output_type": "stream",
          "text": [
            "102/102 [==============================] - 0s 177us/sample - loss: 0.9155\n"
          ],
          "name": "stdout"
        },
        {
          "output_type": "execute_result",
          "data": {
            "text/plain": [
              "0.915519167395199"
            ]
          },
          "metadata": {
            "tags": []
          },
          "execution_count": 18
        }
      ]
    },
    {
      "cell_type": "code",
      "metadata": {
        "id": "JchlHj_HH0cb",
        "colab_type": "code",
        "outputId": "d34c0574-24ae-4d59-b2bc-2b7eded29339",
        "colab": {
          "base_uri": "https://localhost:8080/",
          "height": 339
        }
      },
      "source": [
        "# 4.17 실제 주택 가격과 예측 주택 가격 시각화\n",
        "import matplotlib.pyplot as plt\n",
        "\n",
        "pred_Y = model.predict(test_X)\n",
        "\n",
        "plt.figure(figsize=(5,5))\n",
        "plt.plot(test_Y, pred_Y, 'b.')\n",
        "plt.axis([min(test_Y), max(test_Y), min(test_Y), max(test_Y)])\n",
        "\n",
        "# y=x에 해당하는 대각선\n",
        "plt.plot([min(test_Y), max(test_Y)], [min(test_Y), max(test_Y)], ls=\"--\", c=\".3\")\n",
        "plt.xlabel('test_Y')\n",
        "plt.ylabel('pred_Y')\n",
        "\n",
        "plt.show()"
      ],
      "execution_count": 0,
      "outputs": [
        {
          "output_type": "display_data",
          "data": {
            "image/png": "[encoded data removed]",
            "text/plain": [
              "<Figure size 360x360 with 1 Axes>"
            ]
          },
          "metadata": {
            "tags": []
          }
        }
      ]
    },
    {
      "cell_type": "code",
      "metadata": {
        "id": "m0FujtGj_bg2",
        "colab_type": "code",
        "outputId": "456e4d23-16a4-4b3e-d0b4-abcd24e21eda",
        "colab": {
          "base_uri": "https://localhost:8080/",
          "height": 647
        }
      },
      "source": [
        "# 4.18 모델 재정의 및 학습\n",
        "model = tf.keras.Sequential([\n",
        "    tf.keras.layers.Dense(units=52, activation='relu', input_shape=(13,)),\n",
        "    tf.keras.layers.Dense(units=39, activation='relu'),\n",
        "    tf.keras.layers.Dense(units=26, activation='relu'),\n",
        "    tf.keras.layers.Dense(units=1)\n",
        "])\n",
        "\n",
        "model.compile(optimizer=tf.keras.optimizers.Adam(lr=0.07), loss='mse')\n",
        "\n",
        "history = model.fit(train_X, train_Y, epochs=25, batch_size=32, validation_split=0.25, callbacks=[tf.keras.callbacks.EarlyStopping(patience=3, monitor='val_loss')])"
      ],
      "execution_count": 0,
      "outputs": [
        {
          "output_type": "stream",
          "text": [
            "Train on 303 samples, validate on 101 samples\n",
            "Epoch 1/25\n",
            "303/303 [==============================] - 0s 654us/sample - loss: 1.5011 - val_loss: 2.1811\n",
            "Epoch 2/25\n",
            "303/303 [==============================] - 0s 148us/sample - loss: 1.1262 - val_loss: 1.1940\n",
            "Epoch 3/25\n",
            "303/303 [==============================] - 0s 143us/sample - loss: 0.8875 - val_loss: 1.2449\n",
            "Epoch 4/25\n",
            "303/303 [==============================] - 0s 136us/sample - loss: 0.8060 - val_loss: 1.1181\n",
            "Epoch 5/25\n",
            "303/303 [==============================] - 0s 137us/sample - loss: 0.6860 - val_loss: 1.1039\n",
            "Epoch 6/25\n",
            "303/303 [==============================] - 0s 143us/sample - loss: 0.6621 - val_loss: 1.1341\n",
            "Epoch 7/25\n",
            "303/303 [==============================] - 0s 130us/sample - loss: 0.6662 - val_loss: 1.0400\n",
            "Epoch 8/25\n",
            "303/303 [==============================] - 0s 129us/sample - loss: 0.6746 - val_loss: 1.0295\n",
            "Epoch 9/25\n",
            "303/303 [==============================] - 0s 131us/sample - loss: 0.6333 - val_loss: 1.1250\n",
            "Epoch 10/25\n",
            "303/303 [==============================] - 0s 135us/sample - loss: 0.6753 - val_loss: 1.0541\n",
            "Epoch 11/25\n",
            "303/303 [==============================] - 0s 132us/sample - loss: 0.6690 - val_loss: 0.9958\n",
            "Epoch 12/25\n",
            "303/303 [==============================] - 0s 126us/sample - loss: 0.7173 - val_loss: 1.3129\n",
            "Epoch 13/25\n",
            "303/303 [==============================] - 0s 124us/sample - loss: 0.6517 - val_loss: 1.0197\n",
            "Epoch 14/25\n",
            "303/303 [==============================] - 0s 147us/sample - loss: 0.6379 - val_loss: 0.9575\n",
            "Epoch 15/25\n",
            "303/303 [==============================] - 0s 162us/sample - loss: 0.6195 - val_loss: 1.0007\n",
            "Epoch 16/25\n",
            "303/303 [==============================] - 0s 140us/sample - loss: 0.6234 - val_loss: 1.2270\n",
            "Epoch 17/25\n",
            "303/303 [==============================] - 0s 132us/sample - loss: 0.7142 - val_loss: 1.0276\n"
          ],
          "name": "stdout"
        }
      ]
    },
    {
      "cell_type": "code",
      "metadata": {
        "id": "JRuoLaJM_zIK",
        "colab_type": "code",
        "outputId": "55dea33f-19d8-4359-8619-948b8b49fc0c",
        "colab": {
          "base_uri": "https://localhost:8080/",
          "height": 283
        }
      },
      "source": [
        "# 4.19 회귀 모델 학습 결과 시각화\n",
        "import matplotlib.pyplot as plt\n",
        "plt.plot(history.history['loss'], 'b-', label='loss')\n",
        "plt.plot(history.history['val_loss'], 'r--', label='val_loss')\n",
        "plt.xlabel('Epoch')\n",
        "plt.legend()\n",
        "plt.show()"
      ],
      "execution_count": 0,
      "outputs": [
        {
          "output_type": "display_data",
          "data": {
            "image/png": "[encoded data removed]",
            "text/plain": [
              "<Figure size 432x288 with 1 Axes>"
            ]
          },
          "metadata": {
            "tags": []
          }
        }
      ]
    },
    {
      "cell_type": "code",
      "metadata": {
        "id": "UBTn6vOq_3ar",
        "colab_type": "code",
        "outputId": "0d3df56c-13d3-4568-cbf1-54665d881b03",
        "colab": {
          "base_uri": "https://localhost:8080/",
          "height": 53
        }
      },
      "source": [
        "# 4.20 회귀 모델 평가\n",
        "model.evaluate(test_X, test_Y)"
      ],
      "execution_count": 0,
      "outputs": [
        {
          "output_type": "stream",
          "text": [
            "102/102 [==============================] - 0s 120us/sample - loss: 0.6875\n"
          ],
          "name": "stdout"
        },
        {
          "output_type": "execute_result",
          "data": {
            "text/plain": [
              "0.6875120658500522"
            ]
          },
          "metadata": {
            "tags": []
          },
          "execution_count": 26
        }
      ]
    },
    {
      "cell_type": "code",
      "metadata": {
        "id": "5dBsLf-GDphx",
        "colab_type": "code",
        "outputId": "24ea5138-7421-431c-99d7-4abed88bc1b0",
        "colab": {
          "base_uri": "https://localhost:8080/",
          "height": 339
        }
      },
      "source": [
        "# 4.21 실제 주택 가격과 예측 주택 가격 시각화\n",
        "import matplotlib.pyplot as plt\n",
        "\n",
        "pred_Y = model.predict(test_X)\n",
        "\n",
        "plt.figure(figsize=(5,5))\n",
        "plt.plot(test_Y, pred_Y, 'b.')\n",
        "plt.axis([min(test_Y), max(test_Y), min(test_Y), max(test_Y)])\n",
        "\n",
        "plt.plot([min(test_Y), max(test_Y)], [min(test_Y), max(test_Y)], ls=\"--\", c=\".3\")\n",
        "plt.xlabel('test_Y')\n",
        "plt.ylabel('pred_Y')\n",
        "\n",
        "plt.show()"
      ],
      "execution_count": 0,
      "outputs": [
        {
          "output_type": "display_data",
          "data": {
            "image/png": "[encoded data removed]",
            "text/plain": [
              "<Figure size 360x360 with 1 Axes>"
            ]
          },
          "metadata": {
            "tags": []
          }
        }
      ]
    }
  ]
}
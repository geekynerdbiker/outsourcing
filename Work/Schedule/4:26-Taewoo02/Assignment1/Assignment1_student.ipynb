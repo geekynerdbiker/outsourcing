{
  "cells": [
    {
      "cell_type": "markdown",
      "id": "fe19539d",
      "metadata": {
        "id": "fe19539d"
      },
      "source": [
        "# Assignment 1"
      ]
    },
    {
      "cell_type": "markdown",
      "id": "53bbf670-0353-49a2-8123-44c7501491f0",
      "metadata": {
        "id": "53bbf670-0353-49a2-8123-44c7501491f0"
      },
      "source": [
        "In this assignment, a dataset with monthly stock prices of Berkshire and Hathaway (BH), and index level of S&P 500(SP) is provided. The goal is to perform exploratory data analysis with python basic data structure and pandas and data pre-processing skill. "
      ]
    },
    {
      "cell_type": "markdown",
      "id": "3dbc22ea-9764-416e-a672-035f98b53d70",
      "metadata": {
        "id": "3dbc22ea-9764-416e-a672-035f98b53d70"
      },
      "source": [
        "The stock dataset includes price of BH and level of SP from Jan 2009 to Dec 2022. The attributes are: \n",
        "\n",
        "·     Date: The current date \n",
        "\n",
        "·     SP: The level of S&P 500 index. \n",
        "\n",
        "·     BH: The price of Berkshire and Hathaway’s A share. \n",
        "\n",
        " \n",
        "\n",
        "Complete the following tasks and answer the questions: "
      ]
    },
    {
      "cell_type": "markdown",
      "id": "93d0fd95-9fb9-4908-a9d8-b840aaa20caf",
      "metadata": {
        "tags": [],
        "id": "93d0fd95-9fb9-4908-a9d8-b840aaa20caf"
      },
      "source": [
        "<h1 style=\"color:purple\">Group Members</h1>\n",
        "\n",
        "- Student ID:  \n",
        "- Name:                      \n"
      ]
    },
    {
      "cell_type": "code",
      "execution_count": null,
      "id": "feb8f3da",
      "metadata": {
        "id": "feb8f3da"
      },
      "outputs": [],
      "source": [
        "# Import the necessay packages for data analysis\n",
        "# numpy is for data structure array and efficient scientific computation\n",
        "import numpy as np\n",
        "# pandas is for the data structure data.frame\n",
        "import pandas as pd\n",
        "# graphic packages\n",
        "import matplotlib.pyplot as plt\n",
        "# Stock simulator needed\n",
        "import scipy.stats as sts"
      ]
    },
    {
      "cell_type": "markdown",
      "id": "65a6db22",
      "metadata": {
        "id": "65a6db22"
      },
      "source": [
        "## Part I: Understand the example code. "
      ]
    },
    {
      "cell_type": "markdown",
      "id": "da381c67-f678-4bfc-9b86-a1dfafc6535a",
      "metadata": {
        "tags": [],
        "id": "da381c67-f678-4bfc-9b86-a1dfafc6535a"
      },
      "source": [
        "#### Example 1: import data (Please change the filename to your own filepath.)"
      ]
    },
    {
      "cell_type": "code",
      "execution_count": null,
      "id": "90fadc4c-dc5e-47ec-9e88-05c97afb53e9",
      "metadata": {
        "id": "90fadc4c-dc5e-47ec-9e88-05c97afb53e9"
      },
      "outputs": [],
      "source": [
        "# Import the data by pandas, set index_col = 0 so that the data column could be the index column. \n",
        "filename = 'SP_BH.csv'\n",
        "data_df = pd.read_csv(filename,index_col=0)\n",
        "data_df.index=pd.to_datetime(data_df.index)"
      ]
    },
    {
      "cell_type": "code",
      "execution_count": null,
      "id": "4987a728-c5e8-4a1d-9079-61e82b4674f7",
      "metadata": {
        "id": "4987a728-c5e8-4a1d-9079-61e82b4674f7",
        "outputId": "7bd046c3-4301-43ea-b7b5-00118691cd5e"
      },
      "outputs": [
        {
          "data": {
            "text/html": [
              "<div>\n",
              "<style scoped>\n",
              "    .dataframe tbody tr th:only-of-type {\n",
              "        vertical-align: middle;\n",
              "    }\n",
              "\n",
              "    .dataframe tbody tr th {\n",
              "        vertical-align: top;\n",
              "    }\n",
              "\n",
              "    .dataframe thead th {\n",
              "        text-align: right;\n",
              "    }\n",
              "</style>\n",
              "<table border=\"1\" class=\"dataframe\">\n",
              "  <thead>\n",
              "    <tr style=\"text-align: right;\">\n",
              "      <th></th>\n",
              "      <th>SP</th>\n",
              "      <th>BH</th>\n",
              "    </tr>\n",
              "    <tr>\n",
              "      <th>Date</th>\n",
              "      <th></th>\n",
              "      <th></th>\n",
              "    </tr>\n",
              "  </thead>\n",
              "  <tbody>\n",
              "    <tr>\n",
              "      <th>2009-01-01</th>\n",
              "      <td>825.880005</td>\n",
              "      <td>89502</td>\n",
              "    </tr>\n",
              "    <tr>\n",
              "      <th>2009-02-01</th>\n",
              "      <td>735.090027</td>\n",
              "      <td>78600</td>\n",
              "    </tr>\n",
              "    <tr>\n",
              "      <th>2009-03-01</th>\n",
              "      <td>797.869995</td>\n",
              "      <td>86700</td>\n",
              "    </tr>\n",
              "    <tr>\n",
              "      <th>2009-04-01</th>\n",
              "      <td>872.809998</td>\n",
              "      <td>94000</td>\n",
              "    </tr>\n",
              "    <tr>\n",
              "      <th>2009-05-01</th>\n",
              "      <td>919.140015</td>\n",
              "      <td>91600</td>\n",
              "    </tr>\n",
              "    <tr>\n",
              "      <th>...</th>\n",
              "      <td>...</td>\n",
              "      <td>...</td>\n",
              "    </tr>\n",
              "    <tr>\n",
              "      <th>2022-08-01</th>\n",
              "      <td>3955.000000</td>\n",
              "      <td>421308</td>\n",
              "    </tr>\n",
              "    <tr>\n",
              "      <th>2022-09-01</th>\n",
              "      <td>3585.620117</td>\n",
              "      <td>406470</td>\n",
              "    </tr>\n",
              "    <tr>\n",
              "      <th>2022-10-01</th>\n",
              "      <td>3871.979980</td>\n",
              "      <td>445050</td>\n",
              "    </tr>\n",
              "    <tr>\n",
              "      <th>2022-11-01</th>\n",
              "      <td>4080.110107</td>\n",
              "      <td>480280</td>\n",
              "    </tr>\n",
              "    <tr>\n",
              "      <th>2022-12-01</th>\n",
              "      <td>3839.500000</td>\n",
              "      <td>468711</td>\n",
              "    </tr>\n",
              "  </tbody>\n",
              "</table>\n",
              "<p>168 rows × 2 columns</p>\n",
              "</div>"
            ],
            "text/plain": [
              "                     SP      BH\n",
              "Date                           \n",
              "2009-01-01   825.880005   89502\n",
              "2009-02-01   735.090027   78600\n",
              "2009-03-01   797.869995   86700\n",
              "2009-04-01   872.809998   94000\n",
              "2009-05-01   919.140015   91600\n",
              "...                 ...     ...\n",
              "2022-08-01  3955.000000  421308\n",
              "2022-09-01  3585.620117  406470\n",
              "2022-10-01  3871.979980  445050\n",
              "2022-11-01  4080.110107  480280\n",
              "2022-12-01  3839.500000  468711\n",
              "\n",
              "[168 rows x 2 columns]"
            ]
          },
          "execution_count": 3,
          "metadata": {},
          "output_type": "execute_result"
        }
      ],
      "source": [
        "data_df"
      ]
    },
    {
      "cell_type": "markdown",
      "id": "f1b76c34-0c36-4fa2-a58c-89bcd54cc2ac",
      "metadata": {
        "id": "f1b76c34-0c36-4fa2-a58c-89bcd54cc2ac"
      },
      "source": [
        "#### Example 2: Extract the level of SP from the data_df."
      ]
    },
    {
      "cell_type": "code",
      "execution_count": null,
      "id": "cf12d3c2-158d-4cc6-8742-b38ca75c1a36",
      "metadata": {
        "id": "cf12d3c2-158d-4cc6-8742-b38ca75c1a36"
      },
      "outputs": [],
      "source": [
        "SP=data_df['SP']"
      ]
    },
    {
      "cell_type": "code",
      "execution_count": null,
      "id": "e1e42f95-6c6e-4f45-813b-c47958bcb76a",
      "metadata": {
        "id": "e1e42f95-6c6e-4f45-813b-c47958bcb76a",
        "outputId": "4771f604-098e-4b95-9f6f-956e5b7f1e13"
      },
      "outputs": [
        {
          "data": {
            "text/plain": [
              "Date\n",
              "2009-01-01     825.880005\n",
              "2009-02-01     735.090027\n",
              "2009-03-01     797.869995\n",
              "2009-04-01     872.809998\n",
              "2009-05-01     919.140015\n",
              "                 ...     \n",
              "2022-08-01    3955.000000\n",
              "2022-09-01    3585.620117\n",
              "2022-10-01    3871.979980\n",
              "2022-11-01    4080.110107\n",
              "2022-12-01    3839.500000\n",
              "Name: SP, Length: 168, dtype: float64"
            ]
          },
          "execution_count": 5,
          "metadata": {},
          "output_type": "execute_result"
        }
      ],
      "source": [
        "SP"
      ]
    },
    {
      "cell_type": "markdown",
      "id": "8eec06fa-df6c-49d8-9d08-95330cde8fcb",
      "metadata": {
        "id": "8eec06fa-df6c-49d8-9d08-95330cde8fcb"
      },
      "source": [
        "#### Example 3: Generate a histogram and a line plot of the level of SP. "
      ]
    },
    {
      "cell_type": "code",
      "execution_count": null,
      "id": "8b6ebb84-94e4-4135-9664-3bac46b8fbd4",
      "metadata": {
        "id": "8b6ebb84-94e4-4135-9664-3bac46b8fbd4",
        "outputId": "cf9b3a6a-e39a-436b-f9ab-57b246c625a7"
      },
      "outputs": [
        {
          "data": {
            "image/png": "[encoded data removed]",
            "text/plain": [
              "<Figure size 432x288 with 1 Axes>"
            ]
          },
          "metadata": {
            "needs_background": "light"
          },
          "output_type": "display_data"
        }
      ],
      "source": [
        "plt.hist(SP)\n",
        "plt.title('histogram of the level of SP500')\n",
        "plt.show()"
      ]
    },
    {
      "cell_type": "code",
      "execution_count": null,
      "id": "dedc22d0-043d-4a72-84a7-448f35b498d2",
      "metadata": {
        "id": "dedc22d0-043d-4a72-84a7-448f35b498d2",
        "outputId": "e9032680-653e-48ba-eb4f-7f1f25f9b5c9"
      },
      "outputs": [
        {
          "data": {
            "image/png": "[encoded data removed]",
            "text/plain": [
              "<Figure size 432x288 with 1 Axes>"
            ]
          },
          "metadata": {
            "needs_background": "light"
          },
          "output_type": "display_data"
        }
      ],
      "source": [
        "plt.plot(SP)\n",
        "plt.title('line plot of the level of SP')\n",
        "plt.show()"
      ]
    },
    {
      "cell_type": "markdown",
      "id": "5e46046b-67a9-4205-b19f-c441d434ee2c",
      "metadata": {
        "id": "5e46046b-67a9-4205-b19f-c441d434ee2c"
      },
      "source": [
        "#### Example 4: Calculate the returns of SP500, i.e. (pricet – pricet-1)/pricet-1, name this dataframe as RSP. "
      ]
    },
    {
      "cell_type": "code",
      "execution_count": null,
      "id": "ed6a918f-0ebb-413f-a826-7de5503d460c",
      "metadata": {
        "id": "ed6a918f-0ebb-413f-a826-7de5503d460c"
      },
      "outputs": [],
      "source": [
        "# pct_change function calculates percentage change by (x_t-x_(t-d))/x_(t-d) with parameter periods=d. \n",
        "# Here, to calculate monthly returns, set periods=1.\n",
        "RSP=SP.pct_change(periods=1)\n",
        "# drop first row which doesn't have a return\n",
        "RSP=RSP.drop('2009-01-01')"
      ]
    },
    {
      "cell_type": "code",
      "execution_count": null,
      "id": "ee813e92-0faa-422f-b2c9-04b247256707",
      "metadata": {
        "id": "ee813e92-0faa-422f-b2c9-04b247256707",
        "outputId": "f643f99a-370f-4928-c2b4-2dd0fb108e88"
      },
      "outputs": [
        {
          "data": {
            "text/plain": [
              "Date\n",
              "2009-02-01   -0.109931\n",
              "2009-03-01    0.085404\n",
              "2009-04-01    0.093925\n",
              "2009-05-01    0.053081\n",
              "2009-06-01    0.000196\n",
              "                ...   \n",
              "2022-08-01   -0.042440\n",
              "2022-09-01   -0.093396\n",
              "2022-10-01    0.079863\n",
              "2022-11-01    0.053753\n",
              "2022-12-01   -0.058971\n",
              "Name: SP, Length: 167, dtype: float64"
            ]
          },
          "execution_count": 9,
          "metadata": {},
          "output_type": "execute_result"
        }
      ],
      "source": [
        "RSP"
      ]
    },
    {
      "cell_type": "markdown",
      "id": "d62eb3c9-e2e2-43ba-aaa9-0f65ae845a78",
      "metadata": {
        "id": "d62eb3c9-e2e2-43ba-aaa9-0f65ae845a78"
      },
      "source": [
        "#### Example 5: Generate a histogram and a line plot of RSP. "
      ]
    },
    {
      "cell_type": "code",
      "execution_count": null,
      "id": "16690202-99f9-4d54-a9a8-2b46b9f6fdc5",
      "metadata": {
        "id": "16690202-99f9-4d54-a9a8-2b46b9f6fdc5",
        "outputId": "6f538dba-cf97-420c-b20a-01cf7754ed5e"
      },
      "outputs": [
        {
          "data": {
            "image/png": "[encoded data removed]",
            "text/plain": [
              "<Figure size 432x288 with 1 Axes>"
            ]
          },
          "metadata": {
            "needs_background": "light"
          },
          "output_type": "display_data"
        }
      ],
      "source": [
        "plt.hist(RSP)\n",
        "plt.title('histogram of returns of SP500')\n",
        "plt.show()"
      ]
    },
    {
      "cell_type": "code",
      "execution_count": null,
      "id": "1bc4387a-f895-4a7f-a2c3-dc3d4412389b",
      "metadata": {
        "id": "1bc4387a-f895-4a7f-a2c3-dc3d4412389b",
        "outputId": "8499e9e3-a4f4-466d-920f-3270e025af01"
      },
      "outputs": [
        {
          "data": {
            "image/png": "[encoded data removed]",
            "text/plain": [
              "<Figure size 432x288 with 1 Axes>"
            ]
          },
          "metadata": {
            "needs_background": "light"
          },
          "output_type": "display_data"
        }
      ],
      "source": [
        "plt.plot(RSP)\n",
        "plt.title('line plot of RSP')\n",
        "plt.show()"
      ]
    },
    {
      "cell_type": "markdown",
      "id": "a3afbc20-37f5-4148-a97e-27762150b0ea",
      "metadata": {
        "id": "a3afbc20-37f5-4148-a97e-27762150b0ea"
      },
      "source": [
        "#### Example 6: Calculate the sample mean and sample standard deviation of the RSP, and number of positive returns. "
      ]
    },
    {
      "cell_type": "code",
      "execution_count": null,
      "id": "ee9b6c1d-3f73-48e6-a784-035e52d52deb",
      "metadata": {
        "id": "ee9b6c1d-3f73-48e6-a784-035e52d52deb"
      },
      "outputs": [],
      "source": [
        "sample_mean=RSP.mean()\n",
        "sample_std=RSP.std()\n",
        "num_positive_return=len(RSP[RSP>0])"
      ]
    },
    {
      "cell_type": "code",
      "execution_count": null,
      "id": "74ddff51-39ec-44f9-92da-d46c41c3feb2",
      "metadata": {
        "id": "74ddff51-39ec-44f9-92da-d46c41c3feb2",
        "outputId": "03a53ded-c2d2-45d5-806b-486237cb81ec"
      },
      "outputs": [
        {
          "data": {
            "text/plain": [
              "(0.010213409553521692, 0.04406936384398181, 111)"
            ]
          },
          "execution_count": 13,
          "metadata": {},
          "output_type": "execute_result"
        }
      ],
      "source": [
        "sample_mean,sample_std,num_positive_return"
      ]
    },
    {
      "cell_type": "markdown",
      "id": "839cbf72-d810-40fc-91a0-7a0788a5c1aa",
      "metadata": {
        "id": "839cbf72-d810-40fc-91a0-7a0788a5c1aa"
      },
      "source": [
        "## Part 2: Complete the tasks."
      ]
    },
    {
      "cell_type": "markdown",
      "id": "8b76df48-903c-4870-ae63-fc9466354303",
      "metadata": {
        "id": "8b76df48-903c-4870-ae63-fc9466354303"
      },
      "source": [
        "#### Task 1: Extract the prices of BH from the data_df."
      ]
    },
    {
      "cell_type": "code",
      "execution_count": null,
      "id": "eee25bc1",
      "metadata": {
        "id": "eee25bc1"
      },
      "outputs": [],
      "source": [
        "BH = $$code here$$\n",
        "BH"
      ]
    },
    {
      "cell_type": "markdown",
      "id": "e0369516-cdeb-4456-bca9-560291cb333c",
      "metadata": {
        "id": "e0369516-cdeb-4456-bca9-560291cb333c"
      },
      "source": [
        "#### Task 2: Generate a line plot, and a histogram of BH."
      ]
    },
    {
      "cell_type": "code",
      "execution_count": null,
      "id": "67b47f3b",
      "metadata": {
        "id": "67b47f3b"
      },
      "outputs": [],
      "source": [
        "$$code here$$\n",
        "plt.title('histogram of BH')\n",
        "plt.show()"
      ]
    },
    {
      "cell_type": "code",
      "execution_count": null,
      "id": "1d1a23bc-1401-4740-b1a3-c212e2966eb3",
      "metadata": {
        "id": "1d1a23bc-1401-4740-b1a3-c212e2966eb3"
      },
      "outputs": [],
      "source": [
        "$$code here$$\n",
        "plt.title('line plot of BH')\n",
        "plt.show()"
      ]
    },
    {
      "cell_type": "markdown",
      "id": "bd6c6ebb-f6cb-4da8-a9cf-5b3b71293ac7",
      "metadata": {
        "id": "bd6c6ebb-f6cb-4da8-a9cf-5b3b71293ac7"
      },
      "source": [
        "#### Task 3: Calculate the returns of BH with method in Example 4 and name the dataframe as RBH. "
      ]
    },
    {
      "cell_type": "code",
      "execution_count": null,
      "id": "185992f0",
      "metadata": {
        "id": "185992f0"
      },
      "outputs": [],
      "source": [
        "RBH=$$code here$$\n",
        "RBH=RBH.drop('2009-01-01')\n",
        "RBH"
      ]
    },
    {
      "cell_type": "markdown",
      "id": "12afb0a1-81fa-40e4-b371-f6335d35159a",
      "metadata": {
        "id": "12afb0a1-81fa-40e4-b371-f6335d35159a"
      },
      "source": [
        "#### Task 4: Generate a line plot, and a histogram of RBH. "
      ]
    },
    {
      "cell_type": "code",
      "execution_count": null,
      "id": "ba0870e8-0ffd-40c9-b598-0ad6e04cda31",
      "metadata": {
        "id": "ba0870e8-0ffd-40c9-b598-0ad6e04cda31"
      },
      "outputs": [],
      "source": [
        "$$code here$$\n",
        "plt.title('histogram of BH')\n",
        "plt.show()"
      ]
    },
    {
      "cell_type": "code",
      "execution_count": null,
      "id": "23652f86-900b-4205-a1cb-66fb135cae7a",
      "metadata": {
        "id": "23652f86-900b-4205-a1cb-66fb135cae7a"
      },
      "outputs": [],
      "source": [
        "$$code here$$\n",
        "plt.title('line plot of RBH')\n",
        "plt.show()"
      ]
    },
    {
      "cell_type": "markdown",
      "id": "4cc00d81-e449-46e5-928e-ff9a2d2eb758",
      "metadata": {
        "id": "4cc00d81-e449-46e5-928e-ff9a2d2eb758"
      },
      "source": [
        "#### Task 5: Calculate the sample mean and sample standard deviation of the RBH, and number of negative returns. "
      ]
    },
    {
      "cell_type": "code",
      "execution_count": null,
      "id": "8d545d3a-f936-4aad-9eec-ec27558ecbd3",
      "metadata": {
        "id": "8d545d3a-f936-4aad-9eec-ec27558ecbd3"
      },
      "outputs": [],
      "source": [
        "sample_mean_rbh=$$code here$$\n",
        "sample_std_rbh=$$code here$$\n",
        "num_negative_return_rbh=$$code here$$"
      ]
    },
    {
      "cell_type": "code",
      "execution_count": null,
      "id": "e9d7f18a-41cb-4dcb-9371-e0e3210a4454",
      "metadata": {
        "id": "e9d7f18a-41cb-4dcb-9371-e0e3210a4454"
      },
      "outputs": [],
      "source": [
        "sample_mean_rbh,sample_std_rbh,num_negative_return_rbh"
      ]
    },
    {
      "cell_type": "markdown",
      "id": "8c3a62cd-c184-4259-8a5c-3ba4711985c8",
      "metadata": {
        "id": "8c3a62cd-c184-4259-8a5c-3ba4711985c8"
      },
      "source": [
        "#### Task 6: Generate a scatter plot with RSP as x-axis and RBH as y-axis, calculate their level of correlation. Interpret the level of correlation.  "
      ]
    },
    {
      "cell_type": "code",
      "execution_count": null,
      "id": "2089db65-cca2-4b34-9bd2-740280f04467",
      "metadata": {
        "id": "2089db65-cca2-4b34-9bd2-740280f04467"
      },
      "outputs": [],
      "source": [
        "$$code here$$\n",
        "plt.xlabel('RSP')\n",
        "plt.ylabel('RBH')\n",
        "plt.show()"
      ]
    },
    {
      "cell_type": "code",
      "execution_count": null,
      "id": "c5343081-d866-472d-bdab-7482ea5f8c6a",
      "metadata": {
        "id": "c5343081-d866-472d-bdab-7482ea5f8c6a"
      },
      "outputs": [],
      "source": [
        "correlation=$$code here$$\n",
        "correlation"
      ]
    },
    {
      "cell_type": "markdown",
      "id": "ba9ec571-1272-48c5-a402-68fe06671067",
      "metadata": {
        "id": "ba9ec571-1272-48c5-a402-68fe06671067"
      },
      "source": [
        "#### Interpretaion of the level of correlation"
      ]
    },
    {
      "cell_type": "code",
      "execution_count": null,
      "id": "219581af-4ec6-4098-9555-d9c2e71b6408",
      "metadata": {
        "id": "219581af-4ec6-4098-9555-d9c2e71b6408"
      },
      "outputs": [],
      "source": []
    }
  ],
  "metadata": {
    "kernelspec": {
      "display_name": "Python 3 (ipykernel)",
      "language": "python",
      "name": "python3"
    },
    "language_info": {
      "codemirror_mode": {
        "name": "ipython",
        "version": 3
      },
      "file_extension": ".py",
      "mimetype": "text/x-python",
      "name": "python",
      "nbconvert_exporter": "python",
      "pygments_lexer": "ipython3",
      "version": "3.7.11"
    },
    "colab": {
      "provenance": []
    }
  },
  "nbformat": 4,
  "nbformat_minor": 5
}
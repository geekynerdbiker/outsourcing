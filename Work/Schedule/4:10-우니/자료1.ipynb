{
 "cells": [
  {
   "cell_type": "code",
   "execution_count": 3,
   "id": "10261d89",
   "metadata": {},
   "outputs": [],
   "source": [
    "import numpy as np\n",
    "import matplotlib.pyplot as plt"
   ]
  },
  {
   "cell_type": "markdown",
   "id": "24d400e7",
   "metadata": {},
   "source": [
    "\n",
    "<span style=\"font-family:chalkduster,fantasy;fontsize:90%;color:crimson\">\n",
    "<h1>Randomness and Probabilities</h1>\n"
   ]
  },
  {
   "cell_type": "markdown",
   "id": "a0bc843e",
   "metadata": {},
   "source": [
    "<span style=\"font-family:Trebuchet MS,sans-serif;fontsize:90%\">\n",
    "\n",
    "<h2 style=\"font-family:chalkduster; color:darkviolet\">Introducing the functions</h2>\n",
    "    \n",
    "Numpy has a submodule called `random` that allows us to deal with probabilities and randomeness. There are several functions within this submodule that will be useful to us.\n",
    "    \n",
    "|Function|What it does|\n",
    "|:---:|:---:|\n",
    "|`np.random.rand(nrow,ncol)`|Generates an array of `nrow` rows and `ncol` columns of random floats between 0 and 1 from a uniform distribution|\n",
    "|`np.random.randn(nrow,ncol)`|Generates an array of `nrow` rows and `ncol` columns of random floats<br> between 0 and 1 from a normal distribution|\n",
    "|`np.random.randint(min,max,(nrow,ncol))`|Generates an array of `nrow` rows and `ncol` columns of random integers between `min` (inclusive) and `max` (exclusive) from a uniform distribution|\n",
    "|`np.random.choice(arr,p=p_arr,size=(nrow,ncol),replace=True)`|Generates an array of `nrow` rows and `ncol` columns from the given `arr`|\n",
    "|`np.random.permutation(arr)`|Returns a permuted array of `arr`|\n",
    "    \n",
    "To make things simpler, if you prefer, you can import\n",
    "    \n",
    "`import numpy.random as r`\n",
    "\n",
    "I won't do that however -- I have no idea why, but I just prefer typing out `numpy.random`. And I know it's not sensible. I just prefer it that way."
   ]
  },
  {
   "cell_type": "markdown",
   "id": "9ba98bca",
   "metadata": {},
   "source": [
    "<span style=\"font-family:Trebuchet MS,sans-serif;fontsize:90%\">\n",
    "\n",
    "<h3 style=\"font-family:chalkduster; color:tan\">In-Class Example #1a: Creating random arrays I.</h3>\n",
    "    \n",
    "Create a one dimensional random array of length `N` from the uniform distribution and assign it the name `x_Uni`. Do the same from the normal distribution and assign it the name `x_Norm`. \n",
    "    \n",
    "Then, use the given code to plot a scatter plot of the two arrays to comprehend the difference between them!"
   ]
  },
  {
   "cell_type": "code",
   "execution_count": 3,
   "id": "d703d975",
   "metadata": {},
   "outputs": [],
   "source": [
    "N=10000\n",
    "x_Uni=np.random.rand(N)\n",
    "x_Norm=np.random.randn(N)"
   ]
  },
  {
   "cell_type": "code",
   "execution_count": 4,
   "id": "a651809a",
   "metadata": {},
   "outputs": [
    {
     "data": {
      "image/png": "[encoded data removed]",
      "text/plain": [
       "<Figure size 640x480 with 1 Axes>"
      ]
     },
     "metadata": {},
     "output_type": "display_data"
    }
   ],
   "source": [
    "y=np.ones(N)\n",
    "plt.scatter(x_Uni,y,s=5);"
   ]
  },
  {
   "cell_type": "code",
   "execution_count": 5,
   "id": "a0831352",
   "metadata": {},
   "outputs": [
    {
     "data": {
      "image/png": "[encoded data removed]",
      "text/plain": [
       "<Figure size 640x480 with 1 Axes>"
      ]
     },
     "metadata": {},
     "output_type": "display_data"
    }
   ],
   "source": [
    "plt.scatter(x_Norm,y,s=5);"
   ]
  },
  {
   "cell_type": "markdown",
   "id": "c8e24122",
   "metadata": {},
   "source": [
    "<span style=\"font-family:Trebuchet MS,sans-serif;fontsize:90%\">\n",
    "    \n",
    "Note that although most of the functions create random numbers between $0$ and $1$, we can add a little modification to create a random number $x$ in the range $a<x<b$ by doing the following:\n",
    "- Multiplying by the width of the range $(a-b)$\n",
    "- Shifting the starting point to $a$ by adding $a$ to it. "
   ]
  },
  {
   "cell_type": "markdown",
   "id": "2849cbc0",
   "metadata": {},
   "source": [
    "<span style=\"font-family:Trebuchet MS,sans-serif;fontsize:90%\">\n",
    "    \n",
    "<h3 style=\"font-family:chalkduster; color:tan\">In-Class Example #1b: Creating random arrays II.</h3>\n",
    "    \n",
    "Create a random float $a$ in the range of $-5\\leq a\\leq 5$.<br>\n",
    "Create a random integer $b$ in the range of $-5\\leq b\\leq 5$<br>\n"
   ]
  },
  {
   "cell_type": "code",
   "execution_count": 3,
   "id": "896981f8",
   "metadata": {},
   "outputs": [
    {
     "data": {
      "text/plain": [
       "-4.875360887897236"
      ]
     },
     "execution_count": 3,
     "metadata": {},
     "output_type": "execute_result"
    }
   ],
   "source": [
    "np.random.rand()*10-5"
   ]
  },
  {
   "cell_type": "code",
   "execution_count": 4,
   "id": "c2b8c0af",
   "metadata": {},
   "outputs": [
    {
     "data": {
      "text/plain": [
       "-2"
      ]
     },
     "execution_count": 4,
     "metadata": {},
     "output_type": "execute_result"
    }
   ],
   "source": [
    "np.random.randint(-5,5)"
   ]
  },
  {
   "cell_type": "markdown",
   "id": "c599d4c5",
   "metadata": {},
   "source": [
    "<span style=\"font-family:Trebuchet MS,sans-serif;fontsize:90%\">\n",
    "    \n",
    "<h3 style=\"font-family:chalkduster; color:tan\">In-Class Example #1c: Creating random arrays III.</h3>\n",
    "    \n",
    "Create a random **odd** integer $c$ in the range of $-5\\leq c\\leq 5$ with uniform probability.\n",
    "    \n",
    "- Use `np.random.choice`.\n",
    "- You first have to create a list of odd integers from which the function will choose from."
   ]
  },
  {
   "cell_type": "code",
   "execution_count": 5,
   "id": "2d9b7034",
   "metadata": {},
   "outputs": [
    {
     "data": {
      "text/plain": [
       "5"
      ]
     },
     "execution_count": 5,
     "metadata": {},
     "output_type": "execute_result"
    }
   ],
   "source": [
    "Oddint=np.arange(-5,6,2)\n",
    "np.random.choice(Oddint)"
   ]
  },
  {
   "cell_type": "markdown",
   "id": "8bb5e8f9",
   "metadata": {},
   "source": [
    "<span style=\"font-family:Trebuchet MS,sans-serif;fontsize:90%\">\n",
    "    \n",
    "<h3 style=\"font-family:chalkduster; color:tan\">In-Class Example #1d: Creating random arrays IV.</h3>\n",
    "    \n",
    "Create a random array `d` of positive integers (inclusive of, but not beyond 20) of dimensions `(3,3)`. These integers should be chosen with uniform probability. You are allowed to have repeated numbers in this array.\n",
    "    \n",
    "- Use `np.random.choice`\n",
    "- You first have to create a list of integers from which the function will choose from.\n",
    "- You will have to specify the size of the output array."
   ]
  },
  {
   "cell_type": "code",
   "execution_count": 9,
   "id": "9057d74d",
   "metadata": {},
   "outputs": [
    {
     "data": {
      "text/plain": [
       "array([[ 7.,  8.,  3.],\n",
       "       [ 8., 19., 10.],\n",
       "       [16., 13.,  7.]])"
      ]
     },
     "execution_count": 9,
     "metadata": {},
     "output_type": "execute_result"
    }
   ],
   "source": [
    "numbers=np.linspace(1,20,20)\n",
    "np.random.choice(numbers, (3,3))\n"
   ]
  },
  {
   "cell_type": "markdown",
   "id": "cebab0fe",
   "metadata": {},
   "source": [
    "<span style=\"font-family:Trebuchet MS,sans-serif;fontsize:90%\">\n",
    "    \n",
    "<h3 style=\"font-family:chalkduster; color:tan\">In-Class Example #1e: Creating random arrays V.</h3>\n",
    "    \n",
    "Create a random array `e` of positive integers (inclusive of, but not beyond 20) of dimensions `(3,3)`. These integers should be chosen with uniform probability. You are now NOT allowed to have repeated numbers in this array.\n",
    "    \n",
    "- Use `np.random.choice`\n",
    "- You first have to create a list of integers from which the function will choose from.\n",
    "- You will have to specify the size of the output array.\n",
    "- You will have to set the optional parameter `replace` to `False`."
   ]
  },
  {
   "cell_type": "code",
   "execution_count": 12,
   "id": "a8732d82",
   "metadata": {},
   "outputs": [
    {
     "data": {
      "text/plain": [
       "array([[ 2.,  1.,  5.],\n",
       "       [11., 10.,  3.],\n",
       "       [17.,  4., 16.]])"
      ]
     },
     "execution_count": 12,
     "metadata": {},
     "output_type": "execute_result"
    }
   ],
   "source": [
    "OriList=np.linspace(1,20,20)\n",
    "\n",
    "np.random.choice(OriList,(3,3), replace=False)"
   ]
  },
  {
   "cell_type": "markdown",
   "id": "f5437dcc",
   "metadata": {},
   "source": [
    "    \n",
    "<span style=\"font-family:Trebuchet MS,sans-serif;fontsize:90%\">\n",
    "\n",
    "<h2 style=\"font-family:chalkduster; color:darkviolet\">Monte Carlo Method: Simple examples</h2>\n",
    "    \n",
    "In this section, we will use the Monte Carlo Method on problems of increasing difficulty. Often times it's hard to appreciate the utility of the method when applying the Monte Carto Method to problems that are very simple. "
   ]
  },
  {
   "cell_type": "markdown",
   "id": "e8e9e35a",
   "metadata": {},
   "source": [
    "<span style=\"font-family:Trebuchet MS,sans-serif;fontsize:90%\">\n",
    "\n",
    "<h3 style=\"font-family:chalkduster; color:steelblue\">Example I: Card Game:</h3>\n",
    "    \n",
    "Here we consider two regular deck of 52 cards: Ace to King with four suits. A single-player game is played with this deck according to the following rules:\n",
    "    \n",
    "- A card is dealt from each deck in each round of play (i.e. the player gets two cards).\n",
    "- If the player get a consecutive numbers with the same suit, the player win.\n",
    "    \n",
    "Let us first attempt to do a Monte Carlo Simulation of this problem. To simulate this, we need to:\n",
    "    \n",
    "1. First define the sample space \n",
    "    - How do we model the 52 cards? Note that there are many ways to do this!\n",
    "    - There's no reason to model both decks. One deck is sufficient.\n",
    "    - The only reason I'm giving you two decks is so that you don't have to worry about removing the first card from the deck for the second draw (i.e you can leave the `replace=True` in the `np.random.choice` function)\n",
    "2. Next, define a function that deals out 2 cards randomly.\n",
    "3. Define a function that checks if the hand wins or loses\n",
    "4. Define a function that runs the previous two functions many times and collates the results.\n",
    "    - If we denote the losing result as 0 and winning result as 1, the average of the results will give you the probability of winning in a random run!\n",
    "    \n",
    "It seems rather silly to define functions doing such short steps, but for beginner programmers, this is useful! It helps you breakdown a problem and work on individual steps!\n",
    "    \n",
    "Some of you might be thinking: Goodness, this is so troublesome! We might as well just calculate the probabilities! It's much more straightforward! And... I would agree with you! Recall that in my slides I pointed out that with problems that are too simple, students do not see the utility of Monte Carlo. The point is to get you to see how you can apply this method to a simple problem (although it's much more efficient to solve the simple problem directly without applying this method!). Once you get how the method works, we can move on to more complicated problems that are too difficult to solve directly!\n",
    "    \n",
    "Before we start, I would like you to take some time to think about how YOU would define the sample space -- how would YOU choose to model the 52 cards <b><i>to solve <u>this</u> problem</i></b>? Feel free to discuss this with your friends!"
   ]
  },
  {
   "cell_type": "markdown",
   "id": "f7eb6c81",
   "metadata": {},
   "source": [
    "<span style=\"font-family:Trebuchet MS,sans-serif;fontsize:90%\">\n",
    "    \n",
    "<h3 style=\"font-family:chalkduster; color:tan\">In-Class Example #2a: Defining the sample space.</h3>\n",
    "    \n",
    "I would prefer to model the sample space of the 52 cards by separating the 13 numbers and the 4 suits. That is, I am going to build two 1D arrays:\n",
    "    \n",
    "- The first is a 1D array of 13 numbers, with 1 representing ace, 11 Jack, 12 Queen and 13 King\n",
    "- The second is a 1D Array [1, 2, 3, 4], which represent Spades, Hearts, Clubs and Diamonds accordingly.\n",
    "    \n",
    "In this manner the dealing of the card requires us to combine one from each array.\n",
    "    \n",
    "Go ahead and create the two arrays called `Value` and `Suit` that will define your sample space."
   ]
  },
  {
   "cell_type": "code",
   "execution_count": 6,
   "id": "e85f7e92",
   "metadata": {},
   "outputs": [],
   "source": [
    "Value=np.linspace(1,13,13)\n",
    "Suit=np.linspace(1,4,4)"
   ]
  },
  {
   "attachments": {
    "image.png": {
     "image/png": "[encoded data removed]"
    }
   },
   "cell_type": "markdown",
   "id": "e8ea49a7",
   "metadata": {},
   "source": [
    "<span style=\"font-family:Trebuchet MS,sans-serif;fontsize:90%\">\n",
    "    \n",
    "<h3 style=\"font-family:chalkduster; color:tan\">In-Class Example #2b: Initialization - Randomly dealing out 2 cards.</h3>\n",
    "    \n",
    "Here we define a function called `RandHand()` that does not take in any argument, and deals out 2 cards randomly.\n",
    "    \n",
    "Recall that the dealing of one card requires us to combine one random Value and one random Suit. The way I recommend we do this is:\n",
    "    \n",
    "- The output of this function should be a 2 by 2 array. \n",
    "- For me, each row will represent a card.\n",
    "- The first column will represent the value of the card, and the second column will represent the suit.\n",
    "    \n",
    "Steps:\n",
    "- Start with defining a 2 by 2 array of zeros\n",
    "- For the first row:\n",
    "    - Use `np.random.choice` to initialize the first column to a random Value.\n",
    "    - Use `np.random.choice` to initialize the second column to a random Suit.\n",
    "- Either repeat for the second row, or make that into a `for` loop.\n",
    "- Encapsulate in a function definition.\n",
    "- Test the function. Expected output is something like:\n",
    "    \n",
    "![image.png](attachment:image.png)    "
   ]
  },
  {
   "cell_type": "code",
   "execution_count": 7,
   "id": "607d266c",
   "metadata": {},
   "outputs": [],
   "source": [
    "def RandHand():\n",
    "    out=np.zeros((2,2))\n",
    "    for i in range(2):\n",
    "        out[i,0]=np.random.choice(Value)\n",
    "        out[i,1]=np.random.choice(Suit)\n",
    "    return out"
   ]
  },
  {
   "cell_type": "code",
   "execution_count": 8,
   "id": "461e6153",
   "metadata": {},
   "outputs": [
    {
     "name": "stdout",
     "output_type": "stream",
     "text": [
      "[[9. 1.]\n",
      " [7. 3.]]\n"
     ]
    }
   ],
   "source": [
    "print(RandHand())"
   ]
  },
  {
   "cell_type": "markdown",
   "id": "f260a240",
   "metadata": {},
   "source": [
    "<span style=\"font-family:Trebuchet MS,sans-serif;fontsize:90%\">\n",
    "    \n",
    "<h3 style=\"font-family:chalkduster; color:tan\">In-Class Example #2c: Winning function.</h3>\n",
    "    \n",
    "This is the core function to code. The previous codes were us just setting up the variables and initializing the system. The later portions is just us doing multiple repetitions to take an average. This function however, is the actual function that <b><i>does</i></b> something -- and it is this portion that will be significantly different from problem to problem. Therefore, it is often times the harderst function to code.\n",
    "    \n",
    "This function, called `Win()` should take in the 2 by 2 array from the `Rand_Hand()` function and output either a 0 or 1 depending on whether the array satisfies the winning condition.\n",
    "    \n",
    "In order to code this function, we first determine what do we have to check for? We have to check if \n",
    "- The suits are the same\n",
    "- The values are consecutive -- i.e., is the difference between them 1.\n",
    "    \n",
    "Now, google \"how to check if a numpy array has the same value\".\n",
    "    \n",
    "And, google \"how to find the difference between elements in the array\".\n",
    "    \n",
    "Lastly, think of the logic flow: How would you test this with the `and` and/or `or` operators."
   ]
  },
  {
   "cell_type": "code",
   "execution_count": 40,
   "id": "3497b912",
   "metadata": {},
   "outputs": [],
   "source": [
    "def Win(Hand):\n",
    "    if Hand[0,1]==Hand[1,1] and np.diff(Hand[:, 0])==1:\n",
    "        return 1\n",
    "    else:\n",
    "        return 0"
   ]
  },
  {
   "cell_type": "code",
   "execution_count": 41,
   "id": "00949501",
   "metadata": {
    "scrolled": true
   },
   "outputs": [
    {
     "name": "stdout",
     "output_type": "stream",
     "text": [
      "[[3. 3.]\n",
      " [5. 1.]]\n",
      "0\n"
     ]
    }
   ],
   "source": [
    "Hand=RandHand()\n",
    "print(Hand)\n",
    "print(Win(Hand))"
   ]
  },
  {
   "cell_type": "code",
   "execution_count": 42,
   "id": "67c308e0",
   "metadata": {},
   "outputs": [
    {
     "name": "stdout",
     "output_type": "stream",
     "text": [
      "[ 1.  2.  3.  4.  5.  6.  7.  8.  9. 10.]\n",
      "[1. 1. 1. 1. 1. 1. 1. 1. 1.]\n"
     ]
    }
   ],
   "source": [
    "testarr=np.linspace(1,10,10)\n",
    "print(testarr)\n",
    "print(np.diff(testarr))"
   ]
  },
  {
   "cell_type": "markdown",
   "id": "d245735d",
   "metadata": {},
   "source": [
    "<span style=\"font-family:Trebuchet MS,sans-serif;fontsize:90%\">\n",
    "    \n",
    "<h3 style=\"font-family:chalkduster; color:tan\">In-Class Example #2d: Monte Carlo Simulation!.</h3>\n",
    "    \n",
    "Here we write a function called `MonteCarlo`, that takes in a positive integer `N` and just runs the last two functions `N` times and returns a collated array of 0s and 1s depending on the outcome. The average value of this array (if done sufficient times) should return the probability that one would win this game in one run!\n",
    "    \n",
    "This function should take in the integer `N` and output a float.\n",
    "    \n",
    "Hint: Recall that for Numpy, it is often more sensible to define an output array first and fill it up later.\n",
    "\n",
    "Hint II: This function is basically a `for` loop that runs the previous two functions `N` times."
   ]
  },
  {
   "cell_type": "code",
   "execution_count": 43,
   "id": "e63d61e9",
   "metadata": {},
   "outputs": [],
   "source": [
    "def MonteCarlo(N):\n",
    "    out=np.zeros(N)\n",
    "    for i in range(N):\n",
    "        out[i]=Win(RandHand())\n",
    "    return np.mean(out)"
   ]
  },
  {
   "cell_type": "code",
   "execution_count": 44,
   "id": "e33056e0",
   "metadata": {},
   "outputs": [
    {
     "data": {
      "text/plain": [
       "0.019"
      ]
     },
     "execution_count": 44,
     "metadata": {},
     "output_type": "execute_result"
    }
   ],
   "source": [
    "MonteCarlo(10000)"
   ]
  },
  {
   "cell_type": "markdown",
   "id": "841d31cd",
   "metadata": {},
   "source": [
    "<span style=\"font-family:Trebuchet MS,sans-serif;fontsize:90%\">\n",
    "    \n",
    "<h3 style=\"font-family:chalkduster; color:tan\">In-Class Example #2e: Calculating the probability!</h3>\n",
    "    \n",
    "Here we calculate the probability algebraically to check our answer! Discuss how one can obtain this probability!"
   ]
  },
  {
   "cell_type": "code",
   "execution_count": 45,
   "id": "fe7debe9",
   "metadata": {},
   "outputs": [
    {
     "data": {
      "text/plain": [
       "0.038461538461538464"
      ]
     },
     "execution_count": 45,
     "metadata": {},
     "output_type": "execute_result"
    }
   ],
   "source": [
    "1/4*2/13"
   ]
  }
 ],
 "metadata": {
  "kernelspec": {
   "display_name": "Python 3 (ipykernel)",
   "language": "python",
   "name": "python3"
  },
  "language_info": {
   "codemirror_mode": {
    "name": "ipython",
    "version": 3
   },
   "file_extension": ".py",
   "mimetype": "text/x-python",
   "name": "python",
   "nbconvert_exporter": "python",
   "pygments_lexer": "ipython3",
   "version": "3.9.13"
  }
 },
 "nbformat": 4,
 "nbformat_minor": 5
}
